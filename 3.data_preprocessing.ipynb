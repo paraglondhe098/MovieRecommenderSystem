{
 "cells": [
  {
   "cell_type": "code",
   "execution_count": 83,
   "metadata": {
    "collapsed": true,
    "ExecuteTime": {
     "end_time": "2024-12-16T14:26:49.710812900Z",
     "start_time": "2024-12-16T14:26:49.698931200Z"
    }
   },
   "outputs": [],
   "source": [
    "import os\n",
    "import pandas as pd"
   ]
  },
  {
   "cell_type": "code",
   "execution_count": 84,
   "outputs": [],
   "source": [
    "movies = pd.read_csv('data/cleaned-1/movies.csv').drop(columns='Unnamed: 0')\n",
    "metadata = pd.read_csv('data/cleaned-1/metadata.csv').drop(columns='Unnamed: 0')"
   ],
   "metadata": {
    "collapsed": false,
    "ExecuteTime": {
     "end_time": "2024-12-16T14:26:50.508982300Z",
     "start_time": "2024-12-16T14:26:49.953110200Z"
    }
   }
  },
  {
   "cell_type": "code",
   "execution_count": 85,
   "outputs": [
    {
     "data": {
      "text/plain": "                              genres     id origin_country original_language  \\\n0      Comedy, Drama, Romance, Crime      2             FI                fi   \n1             Comedy, Drama, Romance      3             FI                fi   \n2                             Comedy      5             US                en   \n3            Action, Crime, Thriller      6             US                en   \n4                        Documentary      8             AT                en   \n...                              ...    ...            ...               ...   \n11302                    Documentary  25204             IT                it   \n11303                  Drama, Comedy  25205             FR                fr   \n11304       Drama, Mystery, Thriller  25208             US                en   \n11305                      [MISSING]  25449             US                en   \n11306                         Family  31975             US                en   \n\n                                                overview  \\\n0      After the coal mine he works at closes and his...   \n1      Nikander, a rubbish collector and would-be ent...   \n2      It's Ted the Bellhop's first night on the job....   \n3      Four young friends, while taking a shortcut en...   \n4      Timo Novotny labels his new project an experim...   \n...                                                  ...   \n11302  ZERO: An Investigation into 9/11 has one centr...   \n11303  A former world-famous conductor of the Bolshoï...   \n11304  Romulus, a misunderstood musician turned reclu...   \n11305  Gee Atherton ripping the Worlds course the day...   \n11306  Elmo is making a very, very super special surp...   \n\n                                    production_companies  \\\n0                              Villealfa Filmproductions   \n1                              Villealfa Filmproductions   \n2                                  Miramax, A Band Apart   \n3           Largo Entertainment, JVC, Universal Pictures   \n4                                                inLoops   \n...                                                  ...   \n11302                    Telemaco, TPF Telemaco, theGLAV   \n11303  Wild Bunch, Oï  Oï  Oï Productions, Les Produc...   \n11304                   Jersey Shore, Franchise Pictures   \n11305                                          [MISSING]   \n11306                                          [MISSING]   \n\n                                                 tagline  \\\n0                                              [MISSING]   \n1                                              [MISSING]   \n2      Twelve outrageous guests. Four scandalous requ...   \n3         Don't move. Don't whisper. Don't even breathe.   \n4                                    A Megacities remix.   \n...                                                  ...   \n11302                                          [MISSING]   \n11303  The grand deception that became the performanc...   \n11304  Romulus Ledbetter lives on the edge. The view ...   \n11305                                          [MISSING]   \n11306                                          [MISSING]   \n\n                                    title  \\\n0                                   Ariel   \n1                     Shadows in Paradise   \n2                              Four Rooms   \n3                          Judgment Night   \n4        Life in Loops (A Megacities RMX)   \n...                                   ...   \n11302    Zero: An Investigation Into 9/11   \n11303                         The Concert   \n11304             The Caveman's Valentine   \n11305  New World Disorder 9: Never Enough   \n11306      Sesame Street: Elmo Loves You!   \n\n                                                keywords release_year  \\\n0      prison, underdog, helsinki, finland, factory w...       1988.0   \n1                 helsinki, finland, salesclerk, garbage       1986.0   \n2      hotel, new year's eve, witch, bet, sperm, hote...       1995.0   \n3      drug dealer, chicago, illinois, escape, one ni...       1993.0   \n4                                             megacities       2006.0   \n...                                                  ...          ...   \n11302                                  9/11, twin towers       2008.0   \n11303  concert, orchestra, musical, violin player, gipsy       2009.0   \n11304                                     woman director       2001.0   \n11305                            sports, mountain biking       2008.0   \n11306                                          [MISSING]       2010.0   \n\n                                                 writers  \\\n0                                         Aki Kaurismäki   \n1                                         Aki Kaurismäki   \n2      Allison Anders, Alexandre Rockwell, Robert Rod...   \n3                                              [MISSING]   \n4                                              [MISSING]   \n...                                                  ...   \n11302  Francesco Trento, Giulietto Chiesa, Thomas Tor...   \n11303                                          [MISSING]   \n11304                                          [MISSING]   \n11305                                          [MISSING]   \n11306                                          [MISSING]   \n\n                                               directors  \\\n0                                         Aki Kaurismäki   \n1                                         Aki Kaurismäki   \n2      Allison Anders, Alexandre Rockwell, Robert Rod...   \n3                                        Stephen Hopkins   \n4                                           Timo Novotny   \n...                                                  ...   \n11302                  Francesco Trento, Franco Fracassi   \n11303                                    Radu Mihăileanu   \n11304                                       Kasi Lemmons   \n11305                                   Derek Westerlund   \n11306                                          [MISSING]   \n\n                                                  actors  \n0      Turo Pajala, Susanna Haavisto, Matti Pellonpää...  \n1      Matti Pellonpää, Kati Outinen, Sakari Kuosmane...  \n2      Tim Roth, Jennifer Beals, Antonio Banderas, Va...  \n3      Emilio Estevez, Cuba Gooding Jr., Denis Leary,...  \n4                                              [MISSING]  \n...                                                  ...  \n11302  Tim Sparke, Brian Clark, Louie Cacchioli, Les ...  \n11303  Aleksey Guskov, Mélanie Laurent, Dmitri Nazaro...  \n11304  Samuel L. Jackson, Colm Feore, Ann Magnuson, A...  \n11305  Darren Berrecloth, Cameron McCaul, Paul Basago...  \n11306                                          [MISSING]  \n\n[11307 rows x 13 columns]",
      "text/html": "<div>\n<style scoped>\n    .dataframe tbody tr th:only-of-type {\n        vertical-align: middle;\n    }\n\n    .dataframe tbody tr th {\n        vertical-align: top;\n    }\n\n    .dataframe thead th {\n        text-align: right;\n    }\n</style>\n<table border=\"1\" class=\"dataframe\">\n  <thead>\n    <tr style=\"text-align: right;\">\n      <th></th>\n      <th>genres</th>\n      <th>id</th>\n      <th>origin_country</th>\n      <th>original_language</th>\n      <th>overview</th>\n      <th>production_companies</th>\n      <th>tagline</th>\n      <th>title</th>\n      <th>keywords</th>\n      <th>release_year</th>\n      <th>writers</th>\n      <th>directors</th>\n      <th>actors</th>\n    </tr>\n  </thead>\n  <tbody>\n    <tr>\n      <th>0</th>\n      <td>Comedy, Drama, Romance, Crime</td>\n      <td>2</td>\n      <td>FI</td>\n      <td>fi</td>\n      <td>After the coal mine he works at closes and his...</td>\n      <td>Villealfa Filmproductions</td>\n      <td>[MISSING]</td>\n      <td>Ariel</td>\n      <td>prison, underdog, helsinki, finland, factory w...</td>\n      <td>1988.0</td>\n      <td>Aki Kaurismäki</td>\n      <td>Aki Kaurismäki</td>\n      <td>Turo Pajala, Susanna Haavisto, Matti Pellonpää...</td>\n    </tr>\n    <tr>\n      <th>1</th>\n      <td>Comedy, Drama, Romance</td>\n      <td>3</td>\n      <td>FI</td>\n      <td>fi</td>\n      <td>Nikander, a rubbish collector and would-be ent...</td>\n      <td>Villealfa Filmproductions</td>\n      <td>[MISSING]</td>\n      <td>Shadows in Paradise</td>\n      <td>helsinki, finland, salesclerk, garbage</td>\n      <td>1986.0</td>\n      <td>Aki Kaurismäki</td>\n      <td>Aki Kaurismäki</td>\n      <td>Matti Pellonpää, Kati Outinen, Sakari Kuosmane...</td>\n    </tr>\n    <tr>\n      <th>2</th>\n      <td>Comedy</td>\n      <td>5</td>\n      <td>US</td>\n      <td>en</td>\n      <td>It's Ted the Bellhop's first night on the job....</td>\n      <td>Miramax, A Band Apart</td>\n      <td>Twelve outrageous guests. Four scandalous requ...</td>\n      <td>Four Rooms</td>\n      <td>hotel, new year's eve, witch, bet, sperm, hote...</td>\n      <td>1995.0</td>\n      <td>Allison Anders, Alexandre Rockwell, Robert Rod...</td>\n      <td>Allison Anders, Alexandre Rockwell, Robert Rod...</td>\n      <td>Tim Roth, Jennifer Beals, Antonio Banderas, Va...</td>\n    </tr>\n    <tr>\n      <th>3</th>\n      <td>Action, Crime, Thriller</td>\n      <td>6</td>\n      <td>US</td>\n      <td>en</td>\n      <td>Four young friends, while taking a shortcut en...</td>\n      <td>Largo Entertainment, JVC, Universal Pictures</td>\n      <td>Don't move. Don't whisper. Don't even breathe.</td>\n      <td>Judgment Night</td>\n      <td>drug dealer, chicago, illinois, escape, one ni...</td>\n      <td>1993.0</td>\n      <td>[MISSING]</td>\n      <td>Stephen Hopkins</td>\n      <td>Emilio Estevez, Cuba Gooding Jr., Denis Leary,...</td>\n    </tr>\n    <tr>\n      <th>4</th>\n      <td>Documentary</td>\n      <td>8</td>\n      <td>AT</td>\n      <td>en</td>\n      <td>Timo Novotny labels his new project an experim...</td>\n      <td>inLoops</td>\n      <td>A Megacities remix.</td>\n      <td>Life in Loops (A Megacities RMX)</td>\n      <td>megacities</td>\n      <td>2006.0</td>\n      <td>[MISSING]</td>\n      <td>Timo Novotny</td>\n      <td>[MISSING]</td>\n    </tr>\n    <tr>\n      <th>...</th>\n      <td>...</td>\n      <td>...</td>\n      <td>...</td>\n      <td>...</td>\n      <td>...</td>\n      <td>...</td>\n      <td>...</td>\n      <td>...</td>\n      <td>...</td>\n      <td>...</td>\n      <td>...</td>\n      <td>...</td>\n      <td>...</td>\n    </tr>\n    <tr>\n      <th>11302</th>\n      <td>Documentary</td>\n      <td>25204</td>\n      <td>IT</td>\n      <td>it</td>\n      <td>ZERO: An Investigation into 9/11 has one centr...</td>\n      <td>Telemaco, TPF Telemaco, theGLAV</td>\n      <td>[MISSING]</td>\n      <td>Zero: An Investigation Into 9/11</td>\n      <td>9/11, twin towers</td>\n      <td>2008.0</td>\n      <td>Francesco Trento, Giulietto Chiesa, Thomas Tor...</td>\n      <td>Francesco Trento, Franco Fracassi</td>\n      <td>Tim Sparke, Brian Clark, Louie Cacchioli, Les ...</td>\n    </tr>\n    <tr>\n      <th>11303</th>\n      <td>Drama, Comedy</td>\n      <td>25205</td>\n      <td>FR</td>\n      <td>fr</td>\n      <td>A former world-famous conductor of the Bolshoï...</td>\n      <td>Wild Bunch, Oï  Oï  Oï Productions, Les Produc...</td>\n      <td>The grand deception that became the performanc...</td>\n      <td>The Concert</td>\n      <td>concert, orchestra, musical, violin player, gipsy</td>\n      <td>2009.0</td>\n      <td>[MISSING]</td>\n      <td>Radu Mihăileanu</td>\n      <td>Aleksey Guskov, Mélanie Laurent, Dmitri Nazaro...</td>\n    </tr>\n    <tr>\n      <th>11304</th>\n      <td>Drama, Mystery, Thriller</td>\n      <td>25208</td>\n      <td>US</td>\n      <td>en</td>\n      <td>Romulus, a misunderstood musician turned reclu...</td>\n      <td>Jersey Shore, Franchise Pictures</td>\n      <td>Romulus Ledbetter lives on the edge. The view ...</td>\n      <td>The Caveman's Valentine</td>\n      <td>woman director</td>\n      <td>2001.0</td>\n      <td>[MISSING]</td>\n      <td>Kasi Lemmons</td>\n      <td>Samuel L. Jackson, Colm Feore, Ann Magnuson, A...</td>\n    </tr>\n    <tr>\n      <th>11305</th>\n      <td>[MISSING]</td>\n      <td>25449</td>\n      <td>US</td>\n      <td>en</td>\n      <td>Gee Atherton ripping the Worlds course the day...</td>\n      <td>[MISSING]</td>\n      <td>[MISSING]</td>\n      <td>New World Disorder 9: Never Enough</td>\n      <td>sports, mountain biking</td>\n      <td>2008.0</td>\n      <td>[MISSING]</td>\n      <td>Derek Westerlund</td>\n      <td>Darren Berrecloth, Cameron McCaul, Paul Basago...</td>\n    </tr>\n    <tr>\n      <th>11306</th>\n      <td>Family</td>\n      <td>31975</td>\n      <td>US</td>\n      <td>en</td>\n      <td>Elmo is making a very, very super special surp...</td>\n      <td>[MISSING]</td>\n      <td>[MISSING]</td>\n      <td>Sesame Street: Elmo Loves You!</td>\n      <td>[MISSING]</td>\n      <td>2010.0</td>\n      <td>[MISSING]</td>\n      <td>[MISSING]</td>\n      <td>[MISSING]</td>\n    </tr>\n  </tbody>\n</table>\n<p>11307 rows × 13 columns</p>\n</div>"
     },
     "execution_count": 85,
     "metadata": {},
     "output_type": "execute_result"
    }
   ],
   "source": [
    "movies"
   ],
   "metadata": {
    "collapsed": false,
    "ExecuteTime": {
     "end_time": "2024-12-16T14:26:50.919365Z",
     "start_time": "2024-12-16T14:26:50.903028700Z"
    }
   }
  },
  {
   "cell_type": "code",
   "execution_count": 86,
   "outputs": [],
   "source": [
    "def convert(entry):\n",
    "    elems = entry.split(\", \")\n",
    "    res = []\n",
    "    for elem in elems:\n",
    "        res.append(elem.replace(\" \", \"\"))\n",
    "    return \" \".join(res)\n",
    "def convert2(entry):\n",
    "    return entry.replace(\",\", \"\")"
   ],
   "metadata": {
    "collapsed": false,
    "ExecuteTime": {
     "end_time": "2024-12-16T14:27:01.114724700Z",
     "start_time": "2024-12-16T14:27:01.109202300Z"
    }
   }
  },
  {
   "cell_type": "code",
   "execution_count": 87,
   "outputs": [
    {
     "data": {
      "text/plain": "Index(['genres', 'id', 'origin_country', 'original_language', 'overview',\n       'production_companies', 'tagline', 'title', 'keywords', 'release_year',\n       'writers', 'directors', 'actors'],\n      dtype='object')"
     },
     "execution_count": 87,
     "metadata": {},
     "output_type": "execute_result"
    }
   ],
   "source": [
    "movies.columns"
   ],
   "metadata": {
    "collapsed": false,
    "ExecuteTime": {
     "end_time": "2024-12-16T14:27:02.318177300Z",
     "start_time": "2024-12-16T14:27:02.312504600Z"
    }
   }
  },
  {
   "cell_type": "code",
   "execution_count": 88,
   "outputs": [],
   "source": [
    "movies['keywords'] = movies['keywords'].apply(convert2)\n",
    "movies['genres']  = movies['genres'].apply(convert2)"
   ],
   "metadata": {
    "collapsed": false,
    "ExecuteTime": {
     "end_time": "2024-12-16T14:27:02.755520Z",
     "start_time": "2024-12-16T14:27:02.739000100Z"
    }
   }
  },
  {
   "cell_type": "code",
   "execution_count": 89,
   "outputs": [],
   "source": [
    "movies['production_companies'] = movies['production_companies'].apply(convert)\n",
    "movies['writers'] = movies['writers'].apply(convert)\n",
    "movies['directors'] = movies['directors'].apply(convert)\n",
    "movies['actors'] = movies['actors'].apply(convert)"
   ],
   "metadata": {
    "collapsed": false,
    "ExecuteTime": {
     "end_time": "2024-12-16T14:27:03.328946200Z",
     "start_time": "2024-12-16T14:27:03.266412500Z"
    }
   }
  },
  {
   "cell_type": "code",
   "execution_count": 90,
   "outputs": [
    {
     "data": {
      "text/plain": "                           genres     id origin_country original_language  \\\n0      Comedy Drama Romance Crime      2             FI                fi   \n1            Comedy Drama Romance      3             FI                fi   \n2                          Comedy      5             US                en   \n3           Action Crime Thriller      6             US                en   \n4                     Documentary      8             AT                en   \n...                           ...    ...            ...               ...   \n11302                 Documentary  25204             IT                it   \n11303                Drama Comedy  25205             FR                fr   \n11304      Drama Mystery Thriller  25208             US                en   \n11305                   [MISSING]  25449             US                en   \n11306                      Family  31975             US                en   \n\n                                                overview  \\\n0      After the coal mine he works at closes and his...   \n1      Nikander, a rubbish collector and would-be ent...   \n2      It's Ted the Bellhop's first night on the job....   \n3      Four young friends, while taking a shortcut en...   \n4      Timo Novotny labels his new project an experim...   \n...                                                  ...   \n11302  ZERO: An Investigation into 9/11 has one centr...   \n11303  A former world-famous conductor of the Bolshoï...   \n11304  Romulus, a misunderstood musician turned reclu...   \n11305  Gee Atherton ripping the Worlds course the day...   \n11306  Elmo is making a very, very super special surp...   \n\n                                    production_companies  \\\n0                               VillealfaFilmproductions   \n1                               VillealfaFilmproductions   \n2                                     Miramax ABandApart   \n3               LargoEntertainment JVC UniversalPictures   \n4                                                inLoops   \n...                                                  ...   \n11302                       Telemaco TPFTelemaco theGLAV   \n11303  WildBunch OïOïOïProductions LesProductionsduTr...   \n11304                      JerseyShore FranchisePictures   \n11305                                          [MISSING]   \n11306                                          [MISSING]   \n\n                                                 tagline  \\\n0                                              [MISSING]   \n1                                              [MISSING]   \n2      Twelve outrageous guests. Four scandalous requ...   \n3         Don't move. Don't whisper. Don't even breathe.   \n4                                    A Megacities remix.   \n...                                                  ...   \n11302                                          [MISSING]   \n11303  The grand deception that became the performanc...   \n11304  Romulus Ledbetter lives on the edge. The view ...   \n11305                                          [MISSING]   \n11306                                          [MISSING]   \n\n                                    title  \\\n0                                   Ariel   \n1                     Shadows in Paradise   \n2                              Four Rooms   \n3                          Judgment Night   \n4        Life in Loops (A Megacities RMX)   \n...                                   ...   \n11302    Zero: An Investigation Into 9/11   \n11303                         The Concert   \n11304             The Caveman's Valentine   \n11305  New World Disorder 9: Never Enough   \n11306      Sesame Street: Elmo Loves You!   \n\n                                                keywords release_year  \\\n0      prison underdog helsinki finland factory worke...       1988.0   \n1                    helsinki finland salesclerk garbage       1986.0   \n2      hotel new year's eve witch bet sperm hotel roo...       1995.0   \n3      drug dealer chicago illinois escape one night ...       1993.0   \n4                                             megacities       2006.0   \n...                                                  ...          ...   \n11302                                   9/11 twin towers       2008.0   \n11303      concert orchestra musical violin player gipsy       2009.0   \n11304                                     woman director       2001.0   \n11305                             sports mountain biking       2008.0   \n11306                                          [MISSING]       2010.0   \n\n                                                 writers  \\\n0                                          AkiKaurismäki   \n1                                          AkiKaurismäki   \n2      AllisonAnders AlexandreRockwell RobertRodrigue...   \n3                                              [MISSING]   \n4                                              [MISSING]   \n...                                                  ...   \n11302      FrancescoTrento GiuliettoChiesa ThomasTorelli   \n11303                                          [MISSING]   \n11304                                          [MISSING]   \n11305                                          [MISSING]   \n11306                                          [MISSING]   \n\n                                               directors  \\\n0                                          AkiKaurismäki   \n1                                          AkiKaurismäki   \n2      AllisonAnders AlexandreRockwell RobertRodrigue...   \n3                                         StephenHopkins   \n4                                            TimoNovotny   \n...                                                  ...   \n11302                     FrancescoTrento FrancoFracassi   \n11303                                     RaduMihăileanu   \n11304                                        KasiLemmons   \n11305                                    DerekWesterlund   \n11306                                          [MISSING]   \n\n                                                  actors  \n0      TuroPajala SusannaHaavisto MattiPellonpää Eetu...  \n1      MattiPellonpää KatiOutinen SakariKuosmanen Esk...  \n2      TimRoth JenniferBeals AntonioBanderas ValeriaG...  \n3      EmilioEstevez CubaGoodingJr. DenisLeary Stephe...  \n4                                              [MISSING]  \n...                                                  ...  \n11302  TimSparke BrianClark LouieCacchioli LesJamieso...  \n11303  AlekseyGuskov MélanieLaurent DmitriNazarov Fra...  \n11304  SamuelL.Jackson ColmFeore AnnMagnuson Aunjanue...  \n11305  DarrenBerrecloth CameronMcCaul PaulBasagoitia ...  \n11306                                          [MISSING]  \n\n[11307 rows x 13 columns]",
      "text/html": "<div>\n<style scoped>\n    .dataframe tbody tr th:only-of-type {\n        vertical-align: middle;\n    }\n\n    .dataframe tbody tr th {\n        vertical-align: top;\n    }\n\n    .dataframe thead th {\n        text-align: right;\n    }\n</style>\n<table border=\"1\" class=\"dataframe\">\n  <thead>\n    <tr style=\"text-align: right;\">\n      <th></th>\n      <th>genres</th>\n      <th>id</th>\n      <th>origin_country</th>\n      <th>original_language</th>\n      <th>overview</th>\n      <th>production_companies</th>\n      <th>tagline</th>\n      <th>title</th>\n      <th>keywords</th>\n      <th>release_year</th>\n      <th>writers</th>\n      <th>directors</th>\n      <th>actors</th>\n    </tr>\n  </thead>\n  <tbody>\n    <tr>\n      <th>0</th>\n      <td>Comedy Drama Romance Crime</td>\n      <td>2</td>\n      <td>FI</td>\n      <td>fi</td>\n      <td>After the coal mine he works at closes and his...</td>\n      <td>VillealfaFilmproductions</td>\n      <td>[MISSING]</td>\n      <td>Ariel</td>\n      <td>prison underdog helsinki finland factory worke...</td>\n      <td>1988.0</td>\n      <td>AkiKaurismäki</td>\n      <td>AkiKaurismäki</td>\n      <td>TuroPajala SusannaHaavisto MattiPellonpää Eetu...</td>\n    </tr>\n    <tr>\n      <th>1</th>\n      <td>Comedy Drama Romance</td>\n      <td>3</td>\n      <td>FI</td>\n      <td>fi</td>\n      <td>Nikander, a rubbish collector and would-be ent...</td>\n      <td>VillealfaFilmproductions</td>\n      <td>[MISSING]</td>\n      <td>Shadows in Paradise</td>\n      <td>helsinki finland salesclerk garbage</td>\n      <td>1986.0</td>\n      <td>AkiKaurismäki</td>\n      <td>AkiKaurismäki</td>\n      <td>MattiPellonpää KatiOutinen SakariKuosmanen Esk...</td>\n    </tr>\n    <tr>\n      <th>2</th>\n      <td>Comedy</td>\n      <td>5</td>\n      <td>US</td>\n      <td>en</td>\n      <td>It's Ted the Bellhop's first night on the job....</td>\n      <td>Miramax ABandApart</td>\n      <td>Twelve outrageous guests. Four scandalous requ...</td>\n      <td>Four Rooms</td>\n      <td>hotel new year's eve witch bet sperm hotel roo...</td>\n      <td>1995.0</td>\n      <td>AllisonAnders AlexandreRockwell RobertRodrigue...</td>\n      <td>AllisonAnders AlexandreRockwell RobertRodrigue...</td>\n      <td>TimRoth JenniferBeals AntonioBanderas ValeriaG...</td>\n    </tr>\n    <tr>\n      <th>3</th>\n      <td>Action Crime Thriller</td>\n      <td>6</td>\n      <td>US</td>\n      <td>en</td>\n      <td>Four young friends, while taking a shortcut en...</td>\n      <td>LargoEntertainment JVC UniversalPictures</td>\n      <td>Don't move. Don't whisper. Don't even breathe.</td>\n      <td>Judgment Night</td>\n      <td>drug dealer chicago illinois escape one night ...</td>\n      <td>1993.0</td>\n      <td>[MISSING]</td>\n      <td>StephenHopkins</td>\n      <td>EmilioEstevez CubaGoodingJr. DenisLeary Stephe...</td>\n    </tr>\n    <tr>\n      <th>4</th>\n      <td>Documentary</td>\n      <td>8</td>\n      <td>AT</td>\n      <td>en</td>\n      <td>Timo Novotny labels his new project an experim...</td>\n      <td>inLoops</td>\n      <td>A Megacities remix.</td>\n      <td>Life in Loops (A Megacities RMX)</td>\n      <td>megacities</td>\n      <td>2006.0</td>\n      <td>[MISSING]</td>\n      <td>TimoNovotny</td>\n      <td>[MISSING]</td>\n    </tr>\n    <tr>\n      <th>...</th>\n      <td>...</td>\n      <td>...</td>\n      <td>...</td>\n      <td>...</td>\n      <td>...</td>\n      <td>...</td>\n      <td>...</td>\n      <td>...</td>\n      <td>...</td>\n      <td>...</td>\n      <td>...</td>\n      <td>...</td>\n      <td>...</td>\n    </tr>\n    <tr>\n      <th>11302</th>\n      <td>Documentary</td>\n      <td>25204</td>\n      <td>IT</td>\n      <td>it</td>\n      <td>ZERO: An Investigation into 9/11 has one centr...</td>\n      <td>Telemaco TPFTelemaco theGLAV</td>\n      <td>[MISSING]</td>\n      <td>Zero: An Investigation Into 9/11</td>\n      <td>9/11 twin towers</td>\n      <td>2008.0</td>\n      <td>FrancescoTrento GiuliettoChiesa ThomasTorelli</td>\n      <td>FrancescoTrento FrancoFracassi</td>\n      <td>TimSparke BrianClark LouieCacchioli LesJamieso...</td>\n    </tr>\n    <tr>\n      <th>11303</th>\n      <td>Drama Comedy</td>\n      <td>25205</td>\n      <td>FR</td>\n      <td>fr</td>\n      <td>A former world-famous conductor of the Bolshoï...</td>\n      <td>WildBunch OïOïOïProductions LesProductionsduTr...</td>\n      <td>The grand deception that became the performanc...</td>\n      <td>The Concert</td>\n      <td>concert orchestra musical violin player gipsy</td>\n      <td>2009.0</td>\n      <td>[MISSING]</td>\n      <td>RaduMihăileanu</td>\n      <td>AlekseyGuskov MélanieLaurent DmitriNazarov Fra...</td>\n    </tr>\n    <tr>\n      <th>11304</th>\n      <td>Drama Mystery Thriller</td>\n      <td>25208</td>\n      <td>US</td>\n      <td>en</td>\n      <td>Romulus, a misunderstood musician turned reclu...</td>\n      <td>JerseyShore FranchisePictures</td>\n      <td>Romulus Ledbetter lives on the edge. The view ...</td>\n      <td>The Caveman's Valentine</td>\n      <td>woman director</td>\n      <td>2001.0</td>\n      <td>[MISSING]</td>\n      <td>KasiLemmons</td>\n      <td>SamuelL.Jackson ColmFeore AnnMagnuson Aunjanue...</td>\n    </tr>\n    <tr>\n      <th>11305</th>\n      <td>[MISSING]</td>\n      <td>25449</td>\n      <td>US</td>\n      <td>en</td>\n      <td>Gee Atherton ripping the Worlds course the day...</td>\n      <td>[MISSING]</td>\n      <td>[MISSING]</td>\n      <td>New World Disorder 9: Never Enough</td>\n      <td>sports mountain biking</td>\n      <td>2008.0</td>\n      <td>[MISSING]</td>\n      <td>DerekWesterlund</td>\n      <td>DarrenBerrecloth CameronMcCaul PaulBasagoitia ...</td>\n    </tr>\n    <tr>\n      <th>11306</th>\n      <td>Family</td>\n      <td>31975</td>\n      <td>US</td>\n      <td>en</td>\n      <td>Elmo is making a very, very super special surp...</td>\n      <td>[MISSING]</td>\n      <td>[MISSING]</td>\n      <td>Sesame Street: Elmo Loves You!</td>\n      <td>[MISSING]</td>\n      <td>2010.0</td>\n      <td>[MISSING]</td>\n      <td>[MISSING]</td>\n      <td>[MISSING]</td>\n    </tr>\n  </tbody>\n</table>\n<p>11307 rows × 13 columns</p>\n</div>"
     },
     "execution_count": 90,
     "metadata": {},
     "output_type": "execute_result"
    }
   ],
   "source": [
    "movies"
   ],
   "metadata": {
    "collapsed": false,
    "ExecuteTime": {
     "end_time": "2024-12-16T14:27:03.880697900Z",
     "start_time": "2024-12-16T14:27:03.851511700Z"
    }
   }
  },
  {
   "cell_type": "code",
   "execution_count": 1,
   "outputs": [
    {
     "ename": "NameError",
     "evalue": "name 'movies' is not defined",
     "output_type": "error",
     "traceback": [
      "\u001B[1;31m---------------------------------------------------------------------------\u001B[0m",
      "\u001B[1;31mNameError\u001B[0m                                 Traceback (most recent call last)",
      "Cell \u001B[1;32mIn[1], line 1\u001B[0m\n\u001B[1;32m----> 1\u001B[0m \u001B[43mmovies\u001B[49m\n",
      "\u001B[1;31mNameError\u001B[0m: name 'movies' is not defined"
     ]
    }
   ],
   "source": [
    "movies"
   ],
   "metadata": {
    "collapsed": false,
    "ExecuteTime": {
     "end_time": "2024-12-16T20:22:58.093980600Z",
     "start_time": "2024-12-16T20:22:57.822927500Z"
    }
   }
  },
  {
   "cell_type": "code",
   "execution_count": 91,
   "outputs": [],
   "source": [
    "def get_soup(row):\n",
    "    sep = \". \"\n",
    "    missing = \"[MISSING]\"\n",
    "    res = (f\"Title: {row['title']}\" + sep) if row['title']!=missing else \"\"\n",
    "    res += (f\"Genres: {row['genres']}\" + sep) if row['genres']!=missing else \"\"\n",
    "    res += (f\"Keywords: {row['keywords']}\" + sep) if row['keywords']!=missing else \"\"\n",
    "    res += (f\"Cast: {row['actors']}\" + sep) if row['actors']!=missing else \"\"\n",
    "    res += (f\"Directors: {row['directors']}\" + sep) if row['directors']!=missing else \"\"\n",
    "    res += (f\"Writers: {row['writers']}\" + sep) if row['writers']!=missing else \"\"\n",
    "    res += (f\"Overview: {row['overview']}\" + sep) if row['overview']!=missing else \"\"\n",
    "    res += (f\"Tagline: {row['tagline']}\" + sep) if row['tagline']!=missing else \"\"\n",
    "    res += (f\"Released in: {row['release_year']}\" + sep) if row['release_year']!=missing else \"\"\n",
    "    res += (f\"Productions: {row['production_companies']}\" + sep) if row['production_companies']!=missing else \"\"\n",
    "    res += (f\"Original Language: {row['original_language']}\" + sep) if row['original_language']!=missing else \"\"\n",
    "    return res[:-len(sep)]\n"
   ],
   "metadata": {
    "collapsed": false,
    "ExecuteTime": {
     "end_time": "2024-12-16T14:27:05.126429200Z",
     "start_time": "2024-12-16T14:27:05.121064700Z"
    }
   }
  },
  {
   "cell_type": "code",
   "execution_count": 92,
   "outputs": [],
   "source": [
    "movies['soup'] = movies.apply(get_soup, axis=1)"
   ],
   "metadata": {
    "collapsed": false,
    "ExecuteTime": {
     "end_time": "2024-12-16T14:27:06.749821200Z",
     "start_time": "2024-12-16T14:27:06.240995100Z"
    }
   }
  },
  {
   "cell_type": "code",
   "execution_count": 93,
   "outputs": [
    {
     "data": {
      "text/plain": "                           genres     id origin_country original_language  \\\n0      Comedy Drama Romance Crime      2             FI                fi   \n1            Comedy Drama Romance      3             FI                fi   \n2                          Comedy      5             US                en   \n3           Action Crime Thriller      6             US                en   \n4                     Documentary      8             AT                en   \n...                           ...    ...            ...               ...   \n11302                 Documentary  25204             IT                it   \n11303                Drama Comedy  25205             FR                fr   \n11304      Drama Mystery Thriller  25208             US                en   \n11305                   [MISSING]  25449             US                en   \n11306                      Family  31975             US                en   \n\n                                                overview  \\\n0      After the coal mine he works at closes and his...   \n1      Nikander, a rubbish collector and would-be ent...   \n2      It's Ted the Bellhop's first night on the job....   \n3      Four young friends, while taking a shortcut en...   \n4      Timo Novotny labels his new project an experim...   \n...                                                  ...   \n11302  ZERO: An Investigation into 9/11 has one centr...   \n11303  A former world-famous conductor of the Bolshoï...   \n11304  Romulus, a misunderstood musician turned reclu...   \n11305  Gee Atherton ripping the Worlds course the day...   \n11306  Elmo is making a very, very super special surp...   \n\n                                    production_companies  \\\n0                               VillealfaFilmproductions   \n1                               VillealfaFilmproductions   \n2                                     Miramax ABandApart   \n3               LargoEntertainment JVC UniversalPictures   \n4                                                inLoops   \n...                                                  ...   \n11302                       Telemaco TPFTelemaco theGLAV   \n11303  WildBunch OïOïOïProductions LesProductionsduTr...   \n11304                      JerseyShore FranchisePictures   \n11305                                          [MISSING]   \n11306                                          [MISSING]   \n\n                                                 tagline  \\\n0                                              [MISSING]   \n1                                              [MISSING]   \n2      Twelve outrageous guests. Four scandalous requ...   \n3         Don't move. Don't whisper. Don't even breathe.   \n4                                    A Megacities remix.   \n...                                                  ...   \n11302                                          [MISSING]   \n11303  The grand deception that became the performanc...   \n11304  Romulus Ledbetter lives on the edge. The view ...   \n11305                                          [MISSING]   \n11306                                          [MISSING]   \n\n                                    title  \\\n0                                   Ariel   \n1                     Shadows in Paradise   \n2                              Four Rooms   \n3                          Judgment Night   \n4        Life in Loops (A Megacities RMX)   \n...                                   ...   \n11302    Zero: An Investigation Into 9/11   \n11303                         The Concert   \n11304             The Caveman's Valentine   \n11305  New World Disorder 9: Never Enough   \n11306      Sesame Street: Elmo Loves You!   \n\n                                                keywords release_year  \\\n0      prison underdog helsinki finland factory worke...       1988.0   \n1                    helsinki finland salesclerk garbage       1986.0   \n2      hotel new year's eve witch bet sperm hotel roo...       1995.0   \n3      drug dealer chicago illinois escape one night ...       1993.0   \n4                                             megacities       2006.0   \n...                                                  ...          ...   \n11302                                   9/11 twin towers       2008.0   \n11303      concert orchestra musical violin player gipsy       2009.0   \n11304                                     woman director       2001.0   \n11305                             sports mountain biking       2008.0   \n11306                                          [MISSING]       2010.0   \n\n                                                 writers  \\\n0                                          AkiKaurismäki   \n1                                          AkiKaurismäki   \n2      AllisonAnders AlexandreRockwell RobertRodrigue...   \n3                                              [MISSING]   \n4                                              [MISSING]   \n...                                                  ...   \n11302      FrancescoTrento GiuliettoChiesa ThomasTorelli   \n11303                                          [MISSING]   \n11304                                          [MISSING]   \n11305                                          [MISSING]   \n11306                                          [MISSING]   \n\n                                               directors  \\\n0                                          AkiKaurismäki   \n1                                          AkiKaurismäki   \n2      AllisonAnders AlexandreRockwell RobertRodrigue...   \n3                                         StephenHopkins   \n4                                            TimoNovotny   \n...                                                  ...   \n11302                     FrancescoTrento FrancoFracassi   \n11303                                     RaduMihăileanu   \n11304                                        KasiLemmons   \n11305                                    DerekWesterlund   \n11306                                          [MISSING]   \n\n                                                  actors  \\\n0      TuroPajala SusannaHaavisto MattiPellonpää Eetu...   \n1      MattiPellonpää KatiOutinen SakariKuosmanen Esk...   \n2      TimRoth JenniferBeals AntonioBanderas ValeriaG...   \n3      EmilioEstevez CubaGoodingJr. DenisLeary Stephe...   \n4                                              [MISSING]   \n...                                                  ...   \n11302  TimSparke BrianClark LouieCacchioli LesJamieso...   \n11303  AlekseyGuskov MélanieLaurent DmitriNazarov Fra...   \n11304  SamuelL.Jackson ColmFeore AnnMagnuson Aunjanue...   \n11305  DarrenBerrecloth CameronMcCaul PaulBasagoitia ...   \n11306                                          [MISSING]   \n\n                                                    soup  \n0      Title: Ariel. Genres: Comedy Drama Romance Cri...  \n1      Title: Shadows in Paradise. Genres: Comedy Dra...  \n2      Title: Four Rooms. Genres: Comedy. Keywords: h...  \n3      Title: Judgment Night. Genres: Action Crime Th...  \n4      Title: Life in Loops (A Megacities RMX). Genre...  \n...                                                  ...  \n11302  Title: Zero: An Investigation Into 9/11. Genre...  \n11303  Title: The Concert. Genres: Drama Comedy. Keyw...  \n11304  Title: The Caveman's Valentine. Genres: Drama ...  \n11305  Title: New World Disorder 9: Never Enough. Key...  \n11306  Title: Sesame Street: Elmo Loves You!. Genres:...  \n\n[11307 rows x 14 columns]",
      "text/html": "<div>\n<style scoped>\n    .dataframe tbody tr th:only-of-type {\n        vertical-align: middle;\n    }\n\n    .dataframe tbody tr th {\n        vertical-align: top;\n    }\n\n    .dataframe thead th {\n        text-align: right;\n    }\n</style>\n<table border=\"1\" class=\"dataframe\">\n  <thead>\n    <tr style=\"text-align: right;\">\n      <th></th>\n      <th>genres</th>\n      <th>id</th>\n      <th>origin_country</th>\n      <th>original_language</th>\n      <th>overview</th>\n      <th>production_companies</th>\n      <th>tagline</th>\n      <th>title</th>\n      <th>keywords</th>\n      <th>release_year</th>\n      <th>writers</th>\n      <th>directors</th>\n      <th>actors</th>\n      <th>soup</th>\n    </tr>\n  </thead>\n  <tbody>\n    <tr>\n      <th>0</th>\n      <td>Comedy Drama Romance Crime</td>\n      <td>2</td>\n      <td>FI</td>\n      <td>fi</td>\n      <td>After the coal mine he works at closes and his...</td>\n      <td>VillealfaFilmproductions</td>\n      <td>[MISSING]</td>\n      <td>Ariel</td>\n      <td>prison underdog helsinki finland factory worke...</td>\n      <td>1988.0</td>\n      <td>AkiKaurismäki</td>\n      <td>AkiKaurismäki</td>\n      <td>TuroPajala SusannaHaavisto MattiPellonpää Eetu...</td>\n      <td>Title: Ariel. Genres: Comedy Drama Romance Cri...</td>\n    </tr>\n    <tr>\n      <th>1</th>\n      <td>Comedy Drama Romance</td>\n      <td>3</td>\n      <td>FI</td>\n      <td>fi</td>\n      <td>Nikander, a rubbish collector and would-be ent...</td>\n      <td>VillealfaFilmproductions</td>\n      <td>[MISSING]</td>\n      <td>Shadows in Paradise</td>\n      <td>helsinki finland salesclerk garbage</td>\n      <td>1986.0</td>\n      <td>AkiKaurismäki</td>\n      <td>AkiKaurismäki</td>\n      <td>MattiPellonpää KatiOutinen SakariKuosmanen Esk...</td>\n      <td>Title: Shadows in Paradise. Genres: Comedy Dra...</td>\n    </tr>\n    <tr>\n      <th>2</th>\n      <td>Comedy</td>\n      <td>5</td>\n      <td>US</td>\n      <td>en</td>\n      <td>It's Ted the Bellhop's first night on the job....</td>\n      <td>Miramax ABandApart</td>\n      <td>Twelve outrageous guests. Four scandalous requ...</td>\n      <td>Four Rooms</td>\n      <td>hotel new year's eve witch bet sperm hotel roo...</td>\n      <td>1995.0</td>\n      <td>AllisonAnders AlexandreRockwell RobertRodrigue...</td>\n      <td>AllisonAnders AlexandreRockwell RobertRodrigue...</td>\n      <td>TimRoth JenniferBeals AntonioBanderas ValeriaG...</td>\n      <td>Title: Four Rooms. Genres: Comedy. Keywords: h...</td>\n    </tr>\n    <tr>\n      <th>3</th>\n      <td>Action Crime Thriller</td>\n      <td>6</td>\n      <td>US</td>\n      <td>en</td>\n      <td>Four young friends, while taking a shortcut en...</td>\n      <td>LargoEntertainment JVC UniversalPictures</td>\n      <td>Don't move. Don't whisper. Don't even breathe.</td>\n      <td>Judgment Night</td>\n      <td>drug dealer chicago illinois escape one night ...</td>\n      <td>1993.0</td>\n      <td>[MISSING]</td>\n      <td>StephenHopkins</td>\n      <td>EmilioEstevez CubaGoodingJr. DenisLeary Stephe...</td>\n      <td>Title: Judgment Night. Genres: Action Crime Th...</td>\n    </tr>\n    <tr>\n      <th>4</th>\n      <td>Documentary</td>\n      <td>8</td>\n      <td>AT</td>\n      <td>en</td>\n      <td>Timo Novotny labels his new project an experim...</td>\n      <td>inLoops</td>\n      <td>A Megacities remix.</td>\n      <td>Life in Loops (A Megacities RMX)</td>\n      <td>megacities</td>\n      <td>2006.0</td>\n      <td>[MISSING]</td>\n      <td>TimoNovotny</td>\n      <td>[MISSING]</td>\n      <td>Title: Life in Loops (A Megacities RMX). Genre...</td>\n    </tr>\n    <tr>\n      <th>...</th>\n      <td>...</td>\n      <td>...</td>\n      <td>...</td>\n      <td>...</td>\n      <td>...</td>\n      <td>...</td>\n      <td>...</td>\n      <td>...</td>\n      <td>...</td>\n      <td>...</td>\n      <td>...</td>\n      <td>...</td>\n      <td>...</td>\n      <td>...</td>\n    </tr>\n    <tr>\n      <th>11302</th>\n      <td>Documentary</td>\n      <td>25204</td>\n      <td>IT</td>\n      <td>it</td>\n      <td>ZERO: An Investigation into 9/11 has one centr...</td>\n      <td>Telemaco TPFTelemaco theGLAV</td>\n      <td>[MISSING]</td>\n      <td>Zero: An Investigation Into 9/11</td>\n      <td>9/11 twin towers</td>\n      <td>2008.0</td>\n      <td>FrancescoTrento GiuliettoChiesa ThomasTorelli</td>\n      <td>FrancescoTrento FrancoFracassi</td>\n      <td>TimSparke BrianClark LouieCacchioli LesJamieso...</td>\n      <td>Title: Zero: An Investigation Into 9/11. Genre...</td>\n    </tr>\n    <tr>\n      <th>11303</th>\n      <td>Drama Comedy</td>\n      <td>25205</td>\n      <td>FR</td>\n      <td>fr</td>\n      <td>A former world-famous conductor of the Bolshoï...</td>\n      <td>WildBunch OïOïOïProductions LesProductionsduTr...</td>\n      <td>The grand deception that became the performanc...</td>\n      <td>The Concert</td>\n      <td>concert orchestra musical violin player gipsy</td>\n      <td>2009.0</td>\n      <td>[MISSING]</td>\n      <td>RaduMihăileanu</td>\n      <td>AlekseyGuskov MélanieLaurent DmitriNazarov Fra...</td>\n      <td>Title: The Concert. Genres: Drama Comedy. Keyw...</td>\n    </tr>\n    <tr>\n      <th>11304</th>\n      <td>Drama Mystery Thriller</td>\n      <td>25208</td>\n      <td>US</td>\n      <td>en</td>\n      <td>Romulus, a misunderstood musician turned reclu...</td>\n      <td>JerseyShore FranchisePictures</td>\n      <td>Romulus Ledbetter lives on the edge. The view ...</td>\n      <td>The Caveman's Valentine</td>\n      <td>woman director</td>\n      <td>2001.0</td>\n      <td>[MISSING]</td>\n      <td>KasiLemmons</td>\n      <td>SamuelL.Jackson ColmFeore AnnMagnuson Aunjanue...</td>\n      <td>Title: The Caveman's Valentine. Genres: Drama ...</td>\n    </tr>\n    <tr>\n      <th>11305</th>\n      <td>[MISSING]</td>\n      <td>25449</td>\n      <td>US</td>\n      <td>en</td>\n      <td>Gee Atherton ripping the Worlds course the day...</td>\n      <td>[MISSING]</td>\n      <td>[MISSING]</td>\n      <td>New World Disorder 9: Never Enough</td>\n      <td>sports mountain biking</td>\n      <td>2008.0</td>\n      <td>[MISSING]</td>\n      <td>DerekWesterlund</td>\n      <td>DarrenBerrecloth CameronMcCaul PaulBasagoitia ...</td>\n      <td>Title: New World Disorder 9: Never Enough. Key...</td>\n    </tr>\n    <tr>\n      <th>11306</th>\n      <td>Family</td>\n      <td>31975</td>\n      <td>US</td>\n      <td>en</td>\n      <td>Elmo is making a very, very super special surp...</td>\n      <td>[MISSING]</td>\n      <td>[MISSING]</td>\n      <td>Sesame Street: Elmo Loves You!</td>\n      <td>[MISSING]</td>\n      <td>2010.0</td>\n      <td>[MISSING]</td>\n      <td>[MISSING]</td>\n      <td>[MISSING]</td>\n      <td>Title: Sesame Street: Elmo Loves You!. Genres:...</td>\n    </tr>\n  </tbody>\n</table>\n<p>11307 rows × 14 columns</p>\n</div>"
     },
     "execution_count": 93,
     "metadata": {},
     "output_type": "execute_result"
    }
   ],
   "source": [
    "movies"
   ],
   "metadata": {
    "collapsed": false,
    "ExecuteTime": {
     "end_time": "2024-12-16T14:27:07.396384800Z",
     "start_time": "2024-12-16T14:27:07.380423700Z"
    }
   }
  },
  {
   "cell_type": "code",
   "execution_count": 94,
   "outputs": [
    {
     "data": {
      "text/plain": "                  belongs_to_collection    budget  \\\n0      Kaurismäki's Proletariat Trilogy         0   \n1      Kaurismäki's Proletariat Trilogy         0   \n2                             [MISSING]   4000000   \n3                             [MISSING]  21000000   \n4                             [MISSING]     42000   \n...                                 ...       ...   \n11302                         [MISSING]         0   \n11303                         [MISSING]         0   \n11304                         [MISSING]  13500000   \n11305                New World Disorder         0   \n11306                         [MISSING]         0   \n\n                                        homepage    imdb_id  popularity  \\\n0                                      [MISSING]  tt0094675      11.403   \n1                                      [MISSING]  tt0092149       7.066   \n2      https://www.miramax.com/movie/four-rooms/  tt0113101      15.843   \n3                                      [MISSING]  tt0107286      12.929   \n4                         http://lifeinloops.com  tt0825671       4.073   \n...                                          ...        ...         ...   \n11302                                  [MISSING]  tt1297858       1.733   \n11303                                  [MISSING]  tt1320082       7.251   \n11304                                  [MISSING]  tt0182000       7.220   \n11305                    http://www.nwdfilms.com  [MISSING]       2.102   \n11306                                  [MISSING]  tt1656746       0.003   \n\n                            poster_path   revenue  runtime  vote_average  \\\n0      /ojDg0PGvs6R9xYFodRct2kdI6wC.jpg         0       73         7.100   \n1      /nj01hspawPof0mJmlgfjuLyJuRN.jpg         0       74         7.297   \n2      /75aHn1NOYXh4M7L5shoeQ6NGykP.jpg   4257354       98         5.853   \n3      /3rvvpS9YPM5HB2f4HYiNiJVtdam.jpg  12136938      109         6.500   \n4      /7ln81BRnPR2wqxuITZxEciCe1lc.jpg         0       80         7.300   \n...                                 ...       ...      ...           ...   \n11302  /rZW8WXGyNnzuuPlswcdINVXkBp3.jpg         0      104         6.100   \n11303  /zQHwJk6t6AUBjrQCj2ksiShRy2o.jpg         0      119         7.247   \n11304  /xWjoiGvFZPXuBi93reGblvDHIax.jpg    794481      105         5.729   \n11305  /itQjoIO2e3padeLliHROJVAb7Av.jpg         0       69         6.000   \n11306  /qKWcCmvGr4g0dgXvhqAc4BAMCtk.jpg         0       46         0.000   \n\n       vote_count  ...                                               cast  \\\n0             336  ...  Turo Pajala, Susanna Haavisto, Matti Pellonpää...   \n1             399  ...  Matti Pellonpää, Kati Outinen, Sakari Kuosmane...   \n2            2639  ...  Tim Roth, Jennifer Beals, Antonio Banderas, Va...   \n3             331  ...  Emilio Estevez, Cuba Gooding Jr., Denis Leary,...   \n4              28  ...                                          [MISSING]   \n...           ...  ...                                                ...   \n11302          18  ...  Dario Fo, Gore Vidal, Tim Sparke, Nafeez Mossa...   \n11303         497  ...  Aleksey Guskov, Mélanie Laurent, Dmitri Nazaro...   \n11304         133  ...  Samuel L. Jackson, Colm Feore, Ann Magnuson, A...   \n11305           3  ...  Darren Berrecloth, Cameron McCaul, Paul Basago...   \n11306           0  ...                                          [MISSING]   \n\n                                                    crew  \\\n0      Additional Music: Dmitri Shostakovich, Additio...   \n1      Assistant Camera: Heikki Ortamo, Assistant Cam...   \n2      ADR Editor: Zack Davis, ADR Mixer: Christina T...   \n3      Art Direction: Dan Olexiewicz, Associate Produ...   \n4      Director of Photography: Wolfgang Thaler, Dire...   \n...                                                  ...   \n11302  Cinematography: Christian Di Prinzio, Cinemato...   \n11303  Adaptation: Radu Mihăileanu, Art Direction: Ar...   \n11304  Art Direction: Grant Van Der Slagt, Co-Executi...   \n11305                         Director: Derek Westerlund   \n11306                                          [MISSING]   \n\n                              genres origin_country original_language  \\\n0      Comedy, Drama, Romance, Crime             FI                fi   \n1             Comedy, Drama, Romance             FI                fi   \n2                             Comedy             US                en   \n3            Action, Crime, Thriller             US                en   \n4                        Documentary             AT                en   \n...                              ...            ...               ...   \n11302                    Documentary             IT                it   \n11303                  Drama, Comedy             FR                fr   \n11304       Drama, Mystery, Thriller             US                en   \n11305                      [MISSING]             US                en   \n11306                         Family             US                en   \n\n                                                overview  \\\n0      After the coal mine he works at closes and his...   \n1      Nikander, a rubbish collector and would-be ent...   \n2      It's Ted the Bellhop's first night on the job....   \n3      Four young friends, while taking a shortcut en...   \n4      Timo Novotny labels his new project an experim...   \n...                                                  ...   \n11302  ZERO: An Investigation into 9/11 has one centr...   \n11303  A former world-famous conductor of the Bolshoï...   \n11304  Romulus, a misunderstood musician turned reclu...   \n11305  Gee Atherton ripping the Worlds course the day...   \n11306  Elmo is making a very, very super special surp...   \n\n                                    production_companies  \\\n0                              Villealfa Filmproductions   \n1                              Villealfa Filmproductions   \n2                                  Miramax, A Band Apart   \n3           Largo Entertainment, JVC, Universal Pictures   \n4                                                inLoops   \n...                                                  ...   \n11302                    Telemaco, TPF Telemaco, theGLAV   \n11303  Wild Bunch, Oï  Oï  Oï Productions, Les Produc...   \n11304                   Jersey Shore, Franchise Pictures   \n11305                                          [MISSING]   \n11306                                          [MISSING]   \n\n                                                 tagline  \\\n0                                              [MISSING]   \n1                                              [MISSING]   \n2      Twelve outrageous guests. Four scandalous requ...   \n3         Don't move. Don't whisper. Don't even breathe.   \n4                                    A Megacities remix.   \n...                                                  ...   \n11302                                          [MISSING]   \n11303  The grand deception that became the performanc...   \n11304  Romulus Ledbetter lives on the edge. The view ...   \n11305                                          [MISSING]   \n11306                                          [MISSING]   \n\n                                    title  \\\n0                                   Ariel   \n1                     Shadows in Paradise   \n2                              Four Rooms   \n3                          Judgment Night   \n4        Life in Loops (A Megacities RMX)   \n...                                   ...   \n11302    Zero: An Investigation Into 9/11   \n11303                         The Concert   \n11304             The Caveman's Valentine   \n11305  New World Disorder 9: Never Enough   \n11306      Sesame Street: Elmo Loves You!   \n\n                                                keywords  \n0      prison, underdog, helsinki, finland, factory w...  \n1                 helsinki, finland, salesclerk, garbage  \n2      hotel, new year's eve, witch, bet, sperm, hote...  \n3      drug dealer, chicago, illinois, escape, one ni...  \n4                                             megacities  \n...                                                  ...  \n11302                                  9/11, twin towers  \n11303  concert, orchestra, musical, violin player, gipsy  \n11304                                     woman director  \n11305                            sports, mountain biking  \n11306                                          [MISSING]  \n\n[11307 rows x 24 columns]",
      "text/html": "<div>\n<style scoped>\n    .dataframe tbody tr th:only-of-type {\n        vertical-align: middle;\n    }\n\n    .dataframe tbody tr th {\n        vertical-align: top;\n    }\n\n    .dataframe thead th {\n        text-align: right;\n    }\n</style>\n<table border=\"1\" class=\"dataframe\">\n  <thead>\n    <tr style=\"text-align: right;\">\n      <th></th>\n      <th>belongs_to_collection</th>\n      <th>budget</th>\n      <th>homepage</th>\n      <th>imdb_id</th>\n      <th>popularity</th>\n      <th>poster_path</th>\n      <th>revenue</th>\n      <th>runtime</th>\n      <th>vote_average</th>\n      <th>vote_count</th>\n      <th>...</th>\n      <th>cast</th>\n      <th>crew</th>\n      <th>genres</th>\n      <th>origin_country</th>\n      <th>original_language</th>\n      <th>overview</th>\n      <th>production_companies</th>\n      <th>tagline</th>\n      <th>title</th>\n      <th>keywords</th>\n    </tr>\n  </thead>\n  <tbody>\n    <tr>\n      <th>0</th>\n      <td>Kaurismäki's Proletariat Trilogy</td>\n      <td>0</td>\n      <td>[MISSING]</td>\n      <td>tt0094675</td>\n      <td>11.403</td>\n      <td>/ojDg0PGvs6R9xYFodRct2kdI6wC.jpg</td>\n      <td>0</td>\n      <td>73</td>\n      <td>7.100</td>\n      <td>336</td>\n      <td>...</td>\n      <td>Turo Pajala, Susanna Haavisto, Matti Pellonpää...</td>\n      <td>Additional Music: Dmitri Shostakovich, Additio...</td>\n      <td>Comedy, Drama, Romance, Crime</td>\n      <td>FI</td>\n      <td>fi</td>\n      <td>After the coal mine he works at closes and his...</td>\n      <td>Villealfa Filmproductions</td>\n      <td>[MISSING]</td>\n      <td>Ariel</td>\n      <td>prison, underdog, helsinki, finland, factory w...</td>\n    </tr>\n    <tr>\n      <th>1</th>\n      <td>Kaurismäki's Proletariat Trilogy</td>\n      <td>0</td>\n      <td>[MISSING]</td>\n      <td>tt0092149</td>\n      <td>7.066</td>\n      <td>/nj01hspawPof0mJmlgfjuLyJuRN.jpg</td>\n      <td>0</td>\n      <td>74</td>\n      <td>7.297</td>\n      <td>399</td>\n      <td>...</td>\n      <td>Matti Pellonpää, Kati Outinen, Sakari Kuosmane...</td>\n      <td>Assistant Camera: Heikki Ortamo, Assistant Cam...</td>\n      <td>Comedy, Drama, Romance</td>\n      <td>FI</td>\n      <td>fi</td>\n      <td>Nikander, a rubbish collector and would-be ent...</td>\n      <td>Villealfa Filmproductions</td>\n      <td>[MISSING]</td>\n      <td>Shadows in Paradise</td>\n      <td>helsinki, finland, salesclerk, garbage</td>\n    </tr>\n    <tr>\n      <th>2</th>\n      <td>[MISSING]</td>\n      <td>4000000</td>\n      <td>https://www.miramax.com/movie/four-rooms/</td>\n      <td>tt0113101</td>\n      <td>15.843</td>\n      <td>/75aHn1NOYXh4M7L5shoeQ6NGykP.jpg</td>\n      <td>4257354</td>\n      <td>98</td>\n      <td>5.853</td>\n      <td>2639</td>\n      <td>...</td>\n      <td>Tim Roth, Jennifer Beals, Antonio Banderas, Va...</td>\n      <td>ADR Editor: Zack Davis, ADR Mixer: Christina T...</td>\n      <td>Comedy</td>\n      <td>US</td>\n      <td>en</td>\n      <td>It's Ted the Bellhop's first night on the job....</td>\n      <td>Miramax, A Band Apart</td>\n      <td>Twelve outrageous guests. Four scandalous requ...</td>\n      <td>Four Rooms</td>\n      <td>hotel, new year's eve, witch, bet, sperm, hote...</td>\n    </tr>\n    <tr>\n      <th>3</th>\n      <td>[MISSING]</td>\n      <td>21000000</td>\n      <td>[MISSING]</td>\n      <td>tt0107286</td>\n      <td>12.929</td>\n      <td>/3rvvpS9YPM5HB2f4HYiNiJVtdam.jpg</td>\n      <td>12136938</td>\n      <td>109</td>\n      <td>6.500</td>\n      <td>331</td>\n      <td>...</td>\n      <td>Emilio Estevez, Cuba Gooding Jr., Denis Leary,...</td>\n      <td>Art Direction: Dan Olexiewicz, Associate Produ...</td>\n      <td>Action, Crime, Thriller</td>\n      <td>US</td>\n      <td>en</td>\n      <td>Four young friends, while taking a shortcut en...</td>\n      <td>Largo Entertainment, JVC, Universal Pictures</td>\n      <td>Don't move. Don't whisper. Don't even breathe.</td>\n      <td>Judgment Night</td>\n      <td>drug dealer, chicago, illinois, escape, one ni...</td>\n    </tr>\n    <tr>\n      <th>4</th>\n      <td>[MISSING]</td>\n      <td>42000</td>\n      <td>http://lifeinloops.com</td>\n      <td>tt0825671</td>\n      <td>4.073</td>\n      <td>/7ln81BRnPR2wqxuITZxEciCe1lc.jpg</td>\n      <td>0</td>\n      <td>80</td>\n      <td>7.300</td>\n      <td>28</td>\n      <td>...</td>\n      <td>[MISSING]</td>\n      <td>Director of Photography: Wolfgang Thaler, Dire...</td>\n      <td>Documentary</td>\n      <td>AT</td>\n      <td>en</td>\n      <td>Timo Novotny labels his new project an experim...</td>\n      <td>inLoops</td>\n      <td>A Megacities remix.</td>\n      <td>Life in Loops (A Megacities RMX)</td>\n      <td>megacities</td>\n    </tr>\n    <tr>\n      <th>...</th>\n      <td>...</td>\n      <td>...</td>\n      <td>...</td>\n      <td>...</td>\n      <td>...</td>\n      <td>...</td>\n      <td>...</td>\n      <td>...</td>\n      <td>...</td>\n      <td>...</td>\n      <td>...</td>\n      <td>...</td>\n      <td>...</td>\n      <td>...</td>\n      <td>...</td>\n      <td>...</td>\n      <td>...</td>\n      <td>...</td>\n      <td>...</td>\n      <td>...</td>\n      <td>...</td>\n    </tr>\n    <tr>\n      <th>11302</th>\n      <td>[MISSING]</td>\n      <td>0</td>\n      <td>[MISSING]</td>\n      <td>tt1297858</td>\n      <td>1.733</td>\n      <td>/rZW8WXGyNnzuuPlswcdINVXkBp3.jpg</td>\n      <td>0</td>\n      <td>104</td>\n      <td>6.100</td>\n      <td>18</td>\n      <td>...</td>\n      <td>Dario Fo, Gore Vidal, Tim Sparke, Nafeez Mossa...</td>\n      <td>Cinematography: Christian Di Prinzio, Cinemato...</td>\n      <td>Documentary</td>\n      <td>IT</td>\n      <td>it</td>\n      <td>ZERO: An Investigation into 9/11 has one centr...</td>\n      <td>Telemaco, TPF Telemaco, theGLAV</td>\n      <td>[MISSING]</td>\n      <td>Zero: An Investigation Into 9/11</td>\n      <td>9/11, twin towers</td>\n    </tr>\n    <tr>\n      <th>11303</th>\n      <td>[MISSING]</td>\n      <td>0</td>\n      <td>[MISSING]</td>\n      <td>tt1320082</td>\n      <td>7.251</td>\n      <td>/zQHwJk6t6AUBjrQCj2ksiShRy2o.jpg</td>\n      <td>0</td>\n      <td>119</td>\n      <td>7.247</td>\n      <td>497</td>\n      <td>...</td>\n      <td>Aleksey Guskov, Mélanie Laurent, Dmitri Nazaro...</td>\n      <td>Adaptation: Radu Mihăileanu, Art Direction: Ar...</td>\n      <td>Drama, Comedy</td>\n      <td>FR</td>\n      <td>fr</td>\n      <td>A former world-famous conductor of the Bolshoï...</td>\n      <td>Wild Bunch, Oï  Oï  Oï Productions, Les Produc...</td>\n      <td>The grand deception that became the performanc...</td>\n      <td>The Concert</td>\n      <td>concert, orchestra, musical, violin player, gipsy</td>\n    </tr>\n    <tr>\n      <th>11304</th>\n      <td>[MISSING]</td>\n      <td>13500000</td>\n      <td>[MISSING]</td>\n      <td>tt0182000</td>\n      <td>7.220</td>\n      <td>/xWjoiGvFZPXuBi93reGblvDHIax.jpg</td>\n      <td>794481</td>\n      <td>105</td>\n      <td>5.729</td>\n      <td>133</td>\n      <td>...</td>\n      <td>Samuel L. Jackson, Colm Feore, Ann Magnuson, A...</td>\n      <td>Art Direction: Grant Van Der Slagt, Co-Executi...</td>\n      <td>Drama, Mystery, Thriller</td>\n      <td>US</td>\n      <td>en</td>\n      <td>Romulus, a misunderstood musician turned reclu...</td>\n      <td>Jersey Shore, Franchise Pictures</td>\n      <td>Romulus Ledbetter lives on the edge. The view ...</td>\n      <td>The Caveman's Valentine</td>\n      <td>woman director</td>\n    </tr>\n    <tr>\n      <th>11305</th>\n      <td>New World Disorder</td>\n      <td>0</td>\n      <td>http://www.nwdfilms.com</td>\n      <td>[MISSING]</td>\n      <td>2.102</td>\n      <td>/itQjoIO2e3padeLliHROJVAb7Av.jpg</td>\n      <td>0</td>\n      <td>69</td>\n      <td>6.000</td>\n      <td>3</td>\n      <td>...</td>\n      <td>Darren Berrecloth, Cameron McCaul, Paul Basago...</td>\n      <td>Director: Derek Westerlund</td>\n      <td>[MISSING]</td>\n      <td>US</td>\n      <td>en</td>\n      <td>Gee Atherton ripping the Worlds course the day...</td>\n      <td>[MISSING]</td>\n      <td>[MISSING]</td>\n      <td>New World Disorder 9: Never Enough</td>\n      <td>sports, mountain biking</td>\n    </tr>\n    <tr>\n      <th>11306</th>\n      <td>[MISSING]</td>\n      <td>0</td>\n      <td>[MISSING]</td>\n      <td>tt1656746</td>\n      <td>0.003</td>\n      <td>/qKWcCmvGr4g0dgXvhqAc4BAMCtk.jpg</td>\n      <td>0</td>\n      <td>46</td>\n      <td>0.000</td>\n      <td>0</td>\n      <td>...</td>\n      <td>[MISSING]</td>\n      <td>[MISSING]</td>\n      <td>Family</td>\n      <td>US</td>\n      <td>en</td>\n      <td>Elmo is making a very, very super special surp...</td>\n      <td>[MISSING]</td>\n      <td>[MISSING]</td>\n      <td>Sesame Street: Elmo Loves You!</td>\n      <td>[MISSING]</td>\n    </tr>\n  </tbody>\n</table>\n<p>11307 rows × 24 columns</p>\n</div>"
     },
     "execution_count": 94,
     "metadata": {},
     "output_type": "execute_result"
    }
   ],
   "source": [
    "metadata"
   ],
   "metadata": {
    "collapsed": false,
    "ExecuteTime": {
     "end_time": "2024-12-16T14:27:08.101113800Z",
     "start_time": "2024-12-16T14:27:08.066848600Z"
    }
   }
  },
  {
   "cell_type": "code",
   "execution_count": 95,
   "outputs": [],
   "source": [
    "os.makedirs(\"data/cleaned-2\", exist_ok=True)\n",
    "movies.to_csv(path_or_buf= \"data/cleaned-2/movies.csv\")\n",
    "metadata.to_csv(path_or_buf= \"data/cleaned-2/metadata.csv\")"
   ],
   "metadata": {
    "collapsed": false,
    "ExecuteTime": {
     "end_time": "2024-12-16T14:27:13.237622900Z",
     "start_time": "2024-12-16T14:27:08.961408700Z"
    }
   }
  },
  {
   "cell_type": "code",
   "execution_count": null,
   "outputs": [],
   "source": [],
   "metadata": {
    "collapsed": false
   }
  }
 ],
 "metadata": {
  "kernelspec": {
   "display_name": "Python 3",
   "language": "python",
   "name": "python3"
  },
  "language_info": {
   "codemirror_mode": {
    "name": "ipython",
    "version": 2
   },
   "file_extension": ".py",
   "mimetype": "text/x-python",
   "name": "python",
   "nbconvert_exporter": "python",
   "pygments_lexer": "ipython2",
   "version": "2.7.6"
  }
 },
 "nbformat": 4,
 "nbformat_minor": 0
}
