{
 "cells": [
  {
   "cell_type": "code",
   "execution_count": 1,
   "outputs": [],
   "source": [
    "import pandas as pd\n",
    "from utils.api_keys import fetch_api_key\n",
    "from utils.downloader import TMDBMovieDownloader"
   ],
   "metadata": {
    "collapsed": false,
    "ExecuteTime": {
     "end_time": "2024-12-16T05:41:37.799158900Z",
     "start_time": "2024-12-16T05:41:36.840485100Z"
    }
   }
  },
  {
   "cell_type": "code",
   "execution_count": 2,
   "outputs": [
    {
     "name": "stdout",
     "output_type": "stream",
     "text": [
      "Key loading successful.\n"
     ]
    }
   ],
   "source": [
    "downloader = TMDBMovieDownloader(fetch_api_key(\"tmdb\", False),\n",
    "                            filepath=\"data/movie_data.csv\",\n",
    "                            filepath_creds=\"data/movie_credits.csv\",\n",
    "                            batch_size=50,\n",
    "                            max_batches=10)"
   ],
   "metadata": {
    "collapsed": false,
    "ExecuteTime": {
     "end_time": "2024-12-16T05:41:38.343309800Z",
     "start_time": "2024-12-16T05:41:38.332051400Z"
    }
   }
  },
  {
   "cell_type": "code",
   "execution_count": 11,
   "outputs": [
    {
     "name": "stdout",
     "output_type": "stream",
     "text": [
      "Download started\n",
      "total_ids_found: 1000691\n"
     ]
    },
    {
     "name": "stderr",
     "output_type": "stream",
     "text": [
      "100%|██████████| 10/10 [11:13<00:00, 67.30s/it]\n"
     ]
    }
   ],
   "source": [
    "downloader.download_data()"
   ],
   "metadata": {
    "collapsed": false,
    "ExecuteTime": {
     "end_time": "2024-12-16T05:56:04.974490300Z",
     "start_time": "2024-12-16T05:44:44.656524200Z"
    }
   }
  },
  {
   "cell_type": "code",
   "execution_count": 12,
   "outputs": [],
   "source": [
    "df = pd.read_csv('data/movie_data.csv')"
   ],
   "metadata": {
    "collapsed": false,
    "ExecuteTime": {
     "end_time": "2024-12-16T05:56:26.178306500Z",
     "start_time": "2024-12-16T05:56:26.106700800Z"
    }
   }
  },
  {
   "cell_type": "code",
   "execution_count": 13,
   "outputs": [
    {
     "data": {
      "text/plain": "      adult                     backdrop_path  \\\n0     False  /dvQj1GBZAZirz1skEEZyWH2ZqQP.jpg   \n1     False                               NaN   \n2     False  /uJlc4aNPF3Y8yAqahJTKBwgwPVW.jpg   \n3     False                               NaN   \n4     False                               NaN   \n...     ...                               ...   \n2995  False  /ljnvmogaGydKjw5szgKvYO7MpC8.jpg   \n2996  False   /rY1FcmerUUU32VcDJ4ylZrTkH6.jpg   \n2997  False  /ayVyElr1LmiiVZjAI9fJI9pZlky.jpg   \n2998  False  /hzcwTv5I0vBmzrs6k53e5xuCuqx.jpg   \n2999  False  /whKiywHUvnuzJkGQDG0KlKE8mad.jpg   \n\n                                  belongs_to_collection  budget  \\\n0     {\"id\": 177062, \"name\": \"Blondie Collection\", \"...       0   \n1                                                   NaN       0   \n2                                                   NaN       0   \n3     {\"id\": 425256, \"name\": \"New World Disorder\", \"...       0   \n4                                                   NaN       0   \n...                                                 ...     ...   \n2995                                                NaN       0   \n2996                                                NaN       0   \n2997                                                NaN       0   \n2998                                                NaN       0   \n2999                                                NaN       0   \n\n                                                 genres  \\\n0     [{\"id\": 35, \"name\": \"Comedy\"}, {\"id\": 10751, \"...   \n1                     [{\"id\": 12, \"name\": \"Adventure\"}]   \n2     [{\"id\": 18, \"name\": \"Drama\"}, {\"id\": 10749, \"n...   \n3                                                    []   \n4                     [{\"id\": 10751, \"name\": \"Family\"}]   \n...                                                 ...   \n2995  [{\"id\": 878, \"name\": \"Science Fiction\"}, {\"id\"...   \n2996  [{\"id\": 35, \"name\": \"Comedy\"}, {\"id\": 18, \"nam...   \n2997                     [{\"id\": 35, \"name\": \"Comedy\"}]   \n2998  [{\"id\": 35, \"name\": \"Comedy\"}, {\"id\": 18, \"nam...   \n2999  [{\"id\": 53, \"name\": \"Thriller\"}, {\"id\": 18, \"n...   \n\n                                               homepage     id    imdb_id  \\\n0                                                   NaN   3924  tt0029927   \n1                                                   NaN   6124        NaN   \n2                                                   NaN   8773  tt0055747   \n3                               http://www.nwdfilms.com  25449        NaN   \n4                                                   NaN  31975  tt1656746   \n...                                                 ...    ...        ...   \n2995                                                NaN   5256  tt0316272   \n2996                                                NaN   5257  tt0205873   \n2997                                                NaN   5258  tt0378405   \n2998                       http://www.thebandsvisit.com   5259  tt1032856   \n2999  http://www.sonypictures.de/filme/was-tun-wenns...   5261  tt0207198   \n\n                origin_country original_language  ... revenue runtime  \\\n0                       [\"US\"]                en  ...       0      70   \n1                       [\"DE\"]                de  ...       0     420   \n2     [\"FR\", \"IT\", \"JP\", \"PL\"]                fr  ...       0     120   \n3                       [\"US\"]                en  ...       0      69   \n4                       [\"US\"]                en  ...       0      46   \n...                        ...               ...  ...     ...     ...   \n2995                    [\"US\"]                en  ...       0      88   \n2996              [\"AU\", \"US\"]                en  ...       0     101   \n2997                    [\"DE\"]                de  ...       0      87   \n2998                    [\"IL\"]                he  ...       0      83   \n2999                    [\"DE\"]                de  ...       0     101   \n\n                                       spoken_languages    status  \\\n0     [{\"english_name\": \"English\", \"iso_639_1\": \"en\"...  Released   \n1                                                    []  Released   \n2     [{\"english_name\": \"French\", \"iso_639_1\": \"fr\",...  Released   \n3     [{\"english_name\": \"English\", \"iso_639_1\": \"en\"...  Released   \n4                                                    []  Released   \n...                                                 ...       ...   \n2995  [{\"english_name\": \"English\", \"iso_639_1\": \"en\"...  Released   \n2996  [{\"english_name\": \"French\", \"iso_639_1\": \"fr\",...  Released   \n2997  [{\"english_name\": \"German\", \"iso_639_1\": \"de\",...  Released   \n2998  [{\"english_name\": \"Arabic\", \"iso_639_1\": \"ar\",...  Released   \n2999  [{\"english_name\": \"German\", \"iso_639_1\": \"de\",...  Released   \n\n                                                tagline  \\\n0     The favorite comic strip of millions at last o...   \n1                                                   NaN   \n2                  The Intimate Secrets of Young Lovers   \n3                                                   NaN   \n4                                                   NaN   \n...                                                 ...   \n2995                                                NaN   \n2996  Man's first step on the moon nearly stumbled o...   \n2997                                                NaN   \n2998                                                NaN   \n2999                                                NaN   \n\n                                   title  video  vote_average  vote_count  \\\n0                                Blondie  False         7.100           8   \n1          Peter Voss, Thief of Millions  False         0.000           0   \n2                         Love at Twenty  False         6.700          48   \n3     New World Disorder 9: Never Enough  False         6.000           3   \n4         Sesame Street: Elmo Loves You!   True         0.000           0   \n...                                  ...    ...           ...         ...   \n2995                            Momentum  False         4.800          12   \n2996                            The Dish  False         6.709         191   \n2997               Mutter kommt in Fahrt  False         4.000           1   \n2998                    The Band's Visit  False         7.127         154   \n2999         What to Do in Case of Fire?  False         6.225          51   \n\n                                               keywords  \n0     {\"keywords\": [{\"id\": 190801, \"name\": \"blondie\"}]}  \n1                                      {\"keywords\": []}  \n2                                      {\"keywords\": []}  \n3     {\"keywords\": [{\"id\": 6075, \"name\": \"sports\"}, ...  \n4                                      {\"keywords\": []}  \n...                                                 ...  \n2995  {\"keywords\": [{\"id\": 1812, \"name\": \"fbi\"}, {\"i...  \n2996  {\"keywords\": [{\"id\": 5657, \"name\": \"australia\"...  \n2997                                   {\"keywords\": []}  \n2998  {\"keywords\": [{\"id\": 1160, \"name\": \"egypt\"}, {...  \n2999  {\"keywords\": [{\"id\": 220, \"name\": \"berlin, ger...  \n\n[3000 rows x 27 columns]",
      "text/html": "<div>\n<style scoped>\n    .dataframe tbody tr th:only-of-type {\n        vertical-align: middle;\n    }\n\n    .dataframe tbody tr th {\n        vertical-align: top;\n    }\n\n    .dataframe thead th {\n        text-align: right;\n    }\n</style>\n<table border=\"1\" class=\"dataframe\">\n  <thead>\n    <tr style=\"text-align: right;\">\n      <th></th>\n      <th>adult</th>\n      <th>backdrop_path</th>\n      <th>belongs_to_collection</th>\n      <th>budget</th>\n      <th>genres</th>\n      <th>homepage</th>\n      <th>id</th>\n      <th>imdb_id</th>\n      <th>origin_country</th>\n      <th>original_language</th>\n      <th>...</th>\n      <th>revenue</th>\n      <th>runtime</th>\n      <th>spoken_languages</th>\n      <th>status</th>\n      <th>tagline</th>\n      <th>title</th>\n      <th>video</th>\n      <th>vote_average</th>\n      <th>vote_count</th>\n      <th>keywords</th>\n    </tr>\n  </thead>\n  <tbody>\n    <tr>\n      <th>0</th>\n      <td>False</td>\n      <td>/dvQj1GBZAZirz1skEEZyWH2ZqQP.jpg</td>\n      <td>{\"id\": 177062, \"name\": \"Blondie Collection\", \"...</td>\n      <td>0</td>\n      <td>[{\"id\": 35, \"name\": \"Comedy\"}, {\"id\": 10751, \"...</td>\n      <td>NaN</td>\n      <td>3924</td>\n      <td>tt0029927</td>\n      <td>[\"US\"]</td>\n      <td>en</td>\n      <td>...</td>\n      <td>0</td>\n      <td>70</td>\n      <td>[{\"english_name\": \"English\", \"iso_639_1\": \"en\"...</td>\n      <td>Released</td>\n      <td>The favorite comic strip of millions at last o...</td>\n      <td>Blondie</td>\n      <td>False</td>\n      <td>7.100</td>\n      <td>8</td>\n      <td>{\"keywords\": [{\"id\": 190801, \"name\": \"blondie\"}]}</td>\n    </tr>\n    <tr>\n      <th>1</th>\n      <td>False</td>\n      <td>NaN</td>\n      <td>NaN</td>\n      <td>0</td>\n      <td>[{\"id\": 12, \"name\": \"Adventure\"}]</td>\n      <td>NaN</td>\n      <td>6124</td>\n      <td>NaN</td>\n      <td>[\"DE\"]</td>\n      <td>de</td>\n      <td>...</td>\n      <td>0</td>\n      <td>420</td>\n      <td>[]</td>\n      <td>Released</td>\n      <td>NaN</td>\n      <td>Peter Voss, Thief of Millions</td>\n      <td>False</td>\n      <td>0.000</td>\n      <td>0</td>\n      <td>{\"keywords\": []}</td>\n    </tr>\n    <tr>\n      <th>2</th>\n      <td>False</td>\n      <td>/uJlc4aNPF3Y8yAqahJTKBwgwPVW.jpg</td>\n      <td>NaN</td>\n      <td>0</td>\n      <td>[{\"id\": 18, \"name\": \"Drama\"}, {\"id\": 10749, \"n...</td>\n      <td>NaN</td>\n      <td>8773</td>\n      <td>tt0055747</td>\n      <td>[\"FR\", \"IT\", \"JP\", \"PL\"]</td>\n      <td>fr</td>\n      <td>...</td>\n      <td>0</td>\n      <td>120</td>\n      <td>[{\"english_name\": \"French\", \"iso_639_1\": \"fr\",...</td>\n      <td>Released</td>\n      <td>The Intimate Secrets of Young Lovers</td>\n      <td>Love at Twenty</td>\n      <td>False</td>\n      <td>6.700</td>\n      <td>48</td>\n      <td>{\"keywords\": []}</td>\n    </tr>\n    <tr>\n      <th>3</th>\n      <td>False</td>\n      <td>NaN</td>\n      <td>{\"id\": 425256, \"name\": \"New World Disorder\", \"...</td>\n      <td>0</td>\n      <td>[]</td>\n      <td>http://www.nwdfilms.com</td>\n      <td>25449</td>\n      <td>NaN</td>\n      <td>[\"US\"]</td>\n      <td>en</td>\n      <td>...</td>\n      <td>0</td>\n      <td>69</td>\n      <td>[{\"english_name\": \"English\", \"iso_639_1\": \"en\"...</td>\n      <td>Released</td>\n      <td>NaN</td>\n      <td>New World Disorder 9: Never Enough</td>\n      <td>False</td>\n      <td>6.000</td>\n      <td>3</td>\n      <td>{\"keywords\": [{\"id\": 6075, \"name\": \"sports\"}, ...</td>\n    </tr>\n    <tr>\n      <th>4</th>\n      <td>False</td>\n      <td>NaN</td>\n      <td>NaN</td>\n      <td>0</td>\n      <td>[{\"id\": 10751, \"name\": \"Family\"}]</td>\n      <td>NaN</td>\n      <td>31975</td>\n      <td>tt1656746</td>\n      <td>[\"US\"]</td>\n      <td>en</td>\n      <td>...</td>\n      <td>0</td>\n      <td>46</td>\n      <td>[]</td>\n      <td>Released</td>\n      <td>NaN</td>\n      <td>Sesame Street: Elmo Loves You!</td>\n      <td>True</td>\n      <td>0.000</td>\n      <td>0</td>\n      <td>{\"keywords\": []}</td>\n    </tr>\n    <tr>\n      <th>...</th>\n      <td>...</td>\n      <td>...</td>\n      <td>...</td>\n      <td>...</td>\n      <td>...</td>\n      <td>...</td>\n      <td>...</td>\n      <td>...</td>\n      <td>...</td>\n      <td>...</td>\n      <td>...</td>\n      <td>...</td>\n      <td>...</td>\n      <td>...</td>\n      <td>...</td>\n      <td>...</td>\n      <td>...</td>\n      <td>...</td>\n      <td>...</td>\n      <td>...</td>\n      <td>...</td>\n    </tr>\n    <tr>\n      <th>2995</th>\n      <td>False</td>\n      <td>/ljnvmogaGydKjw5szgKvYO7MpC8.jpg</td>\n      <td>NaN</td>\n      <td>0</td>\n      <td>[{\"id\": 878, \"name\": \"Science Fiction\"}, {\"id\"...</td>\n      <td>NaN</td>\n      <td>5256</td>\n      <td>tt0316272</td>\n      <td>[\"US\"]</td>\n      <td>en</td>\n      <td>...</td>\n      <td>0</td>\n      <td>88</td>\n      <td>[{\"english_name\": \"English\", \"iso_639_1\": \"en\"...</td>\n      <td>Released</td>\n      <td>NaN</td>\n      <td>Momentum</td>\n      <td>False</td>\n      <td>4.800</td>\n      <td>12</td>\n      <td>{\"keywords\": [{\"id\": 1812, \"name\": \"fbi\"}, {\"i...</td>\n    </tr>\n    <tr>\n      <th>2996</th>\n      <td>False</td>\n      <td>/rY1FcmerUUU32VcDJ4ylZrTkH6.jpg</td>\n      <td>NaN</td>\n      <td>0</td>\n      <td>[{\"id\": 35, \"name\": \"Comedy\"}, {\"id\": 18, \"nam...</td>\n      <td>NaN</td>\n      <td>5257</td>\n      <td>tt0205873</td>\n      <td>[\"AU\", \"US\"]</td>\n      <td>en</td>\n      <td>...</td>\n      <td>0</td>\n      <td>101</td>\n      <td>[{\"english_name\": \"French\", \"iso_639_1\": \"fr\",...</td>\n      <td>Released</td>\n      <td>Man's first step on the moon nearly stumbled o...</td>\n      <td>The Dish</td>\n      <td>False</td>\n      <td>6.709</td>\n      <td>191</td>\n      <td>{\"keywords\": [{\"id\": 5657, \"name\": \"australia\"...</td>\n    </tr>\n    <tr>\n      <th>2997</th>\n      <td>False</td>\n      <td>/ayVyElr1LmiiVZjAI9fJI9pZlky.jpg</td>\n      <td>NaN</td>\n      <td>0</td>\n      <td>[{\"id\": 35, \"name\": \"Comedy\"}]</td>\n      <td>NaN</td>\n      <td>5258</td>\n      <td>tt0378405</td>\n      <td>[\"DE\"]</td>\n      <td>de</td>\n      <td>...</td>\n      <td>0</td>\n      <td>87</td>\n      <td>[{\"english_name\": \"German\", \"iso_639_1\": \"de\",...</td>\n      <td>Released</td>\n      <td>NaN</td>\n      <td>Mutter kommt in Fahrt</td>\n      <td>False</td>\n      <td>4.000</td>\n      <td>1</td>\n      <td>{\"keywords\": []}</td>\n    </tr>\n    <tr>\n      <th>2998</th>\n      <td>False</td>\n      <td>/hzcwTv5I0vBmzrs6k53e5xuCuqx.jpg</td>\n      <td>NaN</td>\n      <td>0</td>\n      <td>[{\"id\": 35, \"name\": \"Comedy\"}, {\"id\": 18, \"nam...</td>\n      <td>http://www.thebandsvisit.com</td>\n      <td>5259</td>\n      <td>tt1032856</td>\n      <td>[\"IL\"]</td>\n      <td>he</td>\n      <td>...</td>\n      <td>0</td>\n      <td>83</td>\n      <td>[{\"english_name\": \"Arabic\", \"iso_639_1\": \"ar\",...</td>\n      <td>Released</td>\n      <td>NaN</td>\n      <td>The Band's Visit</td>\n      <td>False</td>\n      <td>7.127</td>\n      <td>154</td>\n      <td>{\"keywords\": [{\"id\": 1160, \"name\": \"egypt\"}, {...</td>\n    </tr>\n    <tr>\n      <th>2999</th>\n      <td>False</td>\n      <td>/whKiywHUvnuzJkGQDG0KlKE8mad.jpg</td>\n      <td>NaN</td>\n      <td>0</td>\n      <td>[{\"id\": 53, \"name\": \"Thriller\"}, {\"id\": 18, \"n...</td>\n      <td>http://www.sonypictures.de/filme/was-tun-wenns...</td>\n      <td>5261</td>\n      <td>tt0207198</td>\n      <td>[\"DE\"]</td>\n      <td>de</td>\n      <td>...</td>\n      <td>0</td>\n      <td>101</td>\n      <td>[{\"english_name\": \"German\", \"iso_639_1\": \"de\",...</td>\n      <td>Released</td>\n      <td>NaN</td>\n      <td>What to Do in Case of Fire?</td>\n      <td>False</td>\n      <td>6.225</td>\n      <td>51</td>\n      <td>{\"keywords\": [{\"id\": 220, \"name\": \"berlin, ger...</td>\n    </tr>\n  </tbody>\n</table>\n<p>3000 rows × 27 columns</p>\n</div>"
     },
     "execution_count": 13,
     "metadata": {},
     "output_type": "execute_result"
    }
   ],
   "source": [
    "df"
   ],
   "metadata": {
    "collapsed": false,
    "ExecuteTime": {
     "end_time": "2024-12-16T05:56:26.980535100Z",
     "start_time": "2024-12-16T05:56:26.959521500Z"
    }
   }
  },
  {
   "cell_type": "code",
   "execution_count": 14,
   "outputs": [
    {
     "data": {
      "text/plain": "(3000, 27)"
     },
     "execution_count": 14,
     "metadata": {},
     "output_type": "execute_result"
    }
   ],
   "source": [
    "df.shape"
   ],
   "metadata": {
    "collapsed": false,
    "ExecuteTime": {
     "end_time": "2024-12-16T05:56:27.960330100Z",
     "start_time": "2024-12-16T05:56:27.952460900Z"
    }
   }
  },
  {
   "cell_type": "code",
   "execution_count": 15,
   "outputs": [
    {
     "data": {
      "text/plain": "Index(['adult', 'backdrop_path', 'belongs_to_collection', 'budget', 'genres',\n       'homepage', 'id', 'imdb_id', 'origin_country', 'original_language',\n       'original_title', 'overview', 'popularity', 'poster_path',\n       'production_companies', 'production_countries', 'release_date',\n       'revenue', 'runtime', 'spoken_languages', 'status', 'tagline', 'title',\n       'video', 'vote_average', 'vote_count', 'keywords'],\n      dtype='object')"
     },
     "execution_count": 15,
     "metadata": {},
     "output_type": "execute_result"
    }
   ],
   "source": [
    "df.columns"
   ],
   "metadata": {
    "collapsed": false,
    "ExecuteTime": {
     "end_time": "2024-12-16T05:56:29.285313700Z",
     "start_time": "2024-12-16T05:56:29.276790600Z"
    }
   }
  },
  {
   "cell_type": "code",
   "execution_count": 16,
   "outputs": [
    {
     "data": {
      "text/plain": "0"
     },
     "execution_count": 16,
     "metadata": {},
     "output_type": "execute_result"
    }
   ],
   "source": [
    "df.duplicated().sum()"
   ],
   "metadata": {
    "collapsed": false,
    "ExecuteTime": {
     "end_time": "2024-12-16T05:56:46.962083Z",
     "start_time": "2024-12-16T05:56:46.933675100Z"
    }
   }
  },
  {
   "cell_type": "code",
   "execution_count": 17,
   "outputs": [
    {
     "data": {
      "text/plain": "adult                       0\nbackdrop_path             346\nbelongs_to_collection    2377\nbudget                      0\ngenres                      0\nhomepage                 2357\nid                          0\nimdb_id                    31\norigin_country              0\noriginal_language           0\noriginal_title              0\noverview                  135\npopularity                  0\nposter_path               114\nproduction_companies        0\nproduction_countries        0\nrelease_date                0\nrevenue                     0\nruntime                     0\nspoken_languages            0\nstatus                      0\ntagline                  1041\ntitle                       0\nvideo                       0\nvote_average                0\nvote_count                  0\nkeywords                    0\ndtype: int64"
     },
     "execution_count": 17,
     "metadata": {},
     "output_type": "execute_result"
    }
   ],
   "source": [
    "df.isnull().sum()"
   ],
   "metadata": {
    "collapsed": false,
    "ExecuteTime": {
     "end_time": "2024-12-16T05:57:02.205305100Z",
     "start_time": "2024-12-16T05:57:02.181944800Z"
    }
   }
  },
  {
   "cell_type": "code",
   "execution_count": null,
   "outputs": [],
   "source": [],
   "metadata": {
    "collapsed": false
   }
  }
 ],
 "metadata": {
  "kernelspec": {
   "display_name": "Python 3",
   "language": "python",
   "name": "python3"
  },
  "language_info": {
   "codemirror_mode": {
    "name": "ipython",
    "version": 2
   },
   "file_extension": ".py",
   "mimetype": "text/x-python",
   "name": "python",
   "nbconvert_exporter": "python",
   "pygments_lexer": "ipython2",
   "version": "2.7.6"
  }
 },
 "nbformat": 4,
 "nbformat_minor": 0
}
