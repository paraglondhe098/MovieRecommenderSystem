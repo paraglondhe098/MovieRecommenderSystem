{
 "cells": [
  {
   "cell_type": "code",
   "execution_count": 146,
   "metadata": {
    "collapsed": true,
    "ExecuteTime": {
     "end_time": "2024-12-03T19:01:59.898546500Z",
     "start_time": "2024-12-03T19:01:59.892863200Z"
    }
   },
   "outputs": [],
   "source": [
    "import numpy as np\n",
    "import requests\n",
    "import json\n",
    "import os\n",
    "import pandas as pd\n",
    "import time\n",
    "from tqdm import tqdm\n",
    "import gzip\n",
    "import time\n",
    "from typing import List, Dict, Optional, Set, Tuple, Callable, Any\n",
    "from datetime import datetime, timedelta\n",
    "from io import BytesIO"
   ]
  },
  {
   "cell_type": "code",
   "execution_count": 212,
   "outputs": [],
   "source": [
    "class TMBDDownloader:\n",
    "    BASE_API_URL = 'https://api.themoviedb.org/3/movie/{entry_id}'\n",
    "    EXPORT_BASE_URL = 'http://files.tmdb.org/p/exports/'\n",
    "\n",
    "    def __init__(self, api_key: str,\n",
    "                 filepath: str,\n",
    "                 filepath_creds: str,\n",
    "                 batch_size: int = 50,\n",
    "                 max_batches: int = float('inf'),\n",
    "                 max_retries:int = 3\n",
    "                 ):\n",
    "        self.api_key = api_key\n",
    "        self.config = {\n",
    "            'max_recurrent_requests' : 1,\n",
    "            'rate_limit_delay': 1,\n",
    "            'max_retries': max_retries,\n",
    "            'batch_size': batch_size\n",
    "        }\n",
    "        self.max_batches = max_batches\n",
    "        self.filepath = filepath\n",
    "        self.filepath_creds = filepath_creds\n",
    "\n",
    "    def fetch_with_retry(self, url: str):\n",
    "        for attempt in range(self.config['max_retries']):\n",
    "            try:\n",
    "                response = requests.get(url)\n",
    "\n",
    "                if response.status_code == 200:\n",
    "                    return response.json()\n",
    "\n",
    "                if response.status_code == 429:\n",
    "                    time.sleep(self.config['rate_limit_delay'])\n",
    "                else:\n",
    "                    break\n",
    "                time.sleep(1)\n",
    "            except Exception as e:\n",
    "                print(f\"Error fetching {url}: {e}\")\n",
    "        return None\n",
    "\n",
    "    def download__ids(self) -> pd.Series:\n",
    "\n",
    "        yesterday = datetime.now() - timedelta(days=1)\n",
    "        filename = f'movie_ids_{yesterday.strftime(\"%m_%d_%Y\")}.json.gz'\n",
    "\n",
    "        url = f'{self.EXPORT_BASE_URL}{filename}'\n",
    "\n",
    "        response = requests.get(url)\n",
    "        if response.status_code != 200:\n",
    "            raise ValueError(f\"Could not download IDs\")\n",
    "\n",
    "        with gzip.open(BytesIO(response.content), 'rt', encoding='utf-8') as f:\n",
    "            ids_data = [json.loads(line) for line in f]\n",
    "\n",
    "        df = pd.DataFrame(ids_data)\n",
    "        return df['id']\n",
    "\n",
    "    def fetch_entry_details(self, entry_id):\n",
    "        url = f\"{self.BASE_API_URL.format(entry_id = entry_id)}\"\n",
    "        url += f\"?api_key={self.api_key}\"\n",
    "        url += f'&append_to_response=credits,keywords'\n",
    "        return self.fetch_with_retry(url)\n",
    "\n",
    "    @staticmethod\n",
    "    def jsonify(entry):\n",
    "        return entry if isinstance(entry, str) else json.dumps(entry)\n",
    "\n",
    "    @staticmethod\n",
    "    def extract_credits(df: pd.DataFrame) -> pd.DataFrame:\n",
    "        credits_data = []\n",
    "        for _, row in df.iterrows():\n",
    "            if 'credits' in row and row['credits']:\n",
    "                movie_credits = {\n",
    "                    'movie_id': row['id'],\n",
    "                    'movie_title': row.get('title', ''),\n",
    "                    'cast': json.dumps([\n",
    "                        {k: v for k, v in cast.items() if k != 'profile_path'}\n",
    "                        for cast in row['credits'].get('cast', [])\n",
    "                    ]),\n",
    "                    'crew': json.dumps([\n",
    "                        {k: v for k, v in crew.items() if k != 'profile_path'}\n",
    "                        for crew in row['credits'].get('crew', [])\n",
    "                    ])\n",
    "                }\n",
    "                credits_data.append(movie_credits)\n",
    "\n",
    "        return pd.DataFrame(credits_data)\n",
    "\n",
    "    def process_and_export(self, entries):\n",
    "        if not entries:\n",
    "            return\n",
    "        df = pd.DataFrame(entries)\n",
    "        df = df[df['id'].notna() & df['id'].astype(str).str.isnumeric()]\n",
    "\n",
    "        creds = self.extract_credits(df)\n",
    "        df = df.drop(columns=['credits'])\n",
    "\n",
    "        for col in df.columns:\n",
    "            df[col] = df[col].apply(self.jsonify)\n",
    "\n",
    "        creds.to_csv(self.filepath_creds, mode='a', header= not os.path.exists(self.filepath_creds), index = False)\n",
    "        df.to_csv(self.filepath, mode='a', header= not os.path.exists(self.filepath), index = False)\n",
    "\n",
    "    def download_entries(self, id_list: List[int]):\n",
    "        if os.path.exists(self.filepath):\n",
    "            existing = set(pd.read_csv(f'movie_data.csv', usecols=['id'], dtype=str)['id'])\n",
    "            id_list = [id for id in id_list if str(id) not in existing]\n",
    "        for i in range(0, min(self.max_batches+1, len(id_list)), self.config['batch_size']):\n",
    "            batch = id_list[i: i+self.config['batch_size']]\n",
    "\n",
    "            results = []\n",
    "            for entry_id in batch:\n",
    "                result = self.fetch_entry_details(entry_id)\n",
    "                if result:\n",
    "                    results.append(result)\n",
    "                time.sleep(self.config['rate_limit_delay'])\n",
    "            self.process_and_export(results)\n",
    "            print(f'Processed batch {i // self.config[\"batch_size\"] + 1}')\n",
    "\n",
    "    def download_data(self):\n",
    "        print(f\"Download started\")\n",
    "\n",
    "        ids = self.download__ids()\n",
    "        ids = ids.tolist()\n",
    "\n",
    "        self.download_entries(ids)"
   ],
   "metadata": {
    "collapsed": false,
    "ExecuteTime": {
     "end_time": "2024-12-03T19:48:08.166135800Z",
     "start_time": "2024-12-03T19:48:08.160546Z"
    }
   }
  },
  {
   "cell_type": "code",
   "execution_count": 216,
   "outputs": [],
   "source": [
    "from utils.api_keys import fetch_api_key"
   ],
   "metadata": {
    "collapsed": false,
    "ExecuteTime": {
     "end_time": "2024-12-03T19:48:27.291362300Z",
     "start_time": "2024-12-03T19:48:27.284952800Z"
    }
   }
  },
  {
   "cell_type": "code",
   "execution_count": 217,
   "outputs": [
    {
     "name": "stdout",
     "output_type": "stream",
     "text": [
      "Key loading successful.\n"
     ]
    }
   ],
   "source": [
    "downloader = TMBDDownloader(api_key=fetch_api_key('tmdb', False), filepath=\"movie_data1.csv\", filepath_creds=\"creds.csv\", max_batches=2)"
   ],
   "metadata": {
    "collapsed": false,
    "ExecuteTime": {
     "end_time": "2024-12-03T19:48:27.520189300Z",
     "start_time": "2024-12-03T19:48:27.513415300Z"
    }
   }
  },
  {
   "cell_type": "code",
   "execution_count": 218,
   "outputs": [
    {
     "name": "stdout",
     "output_type": "stream",
     "text": [
      "Download started\n",
      "Processed batch 1\n"
     ]
    }
   ],
   "source": [
    "df = downloader.download_data()"
   ],
   "metadata": {
    "collapsed": false,
    "ExecuteTime": {
     "end_time": "2024-12-03T19:49:30.005068200Z",
     "start_time": "2024-12-03T19:48:28.088467300Z"
    }
   }
  },
  {
   "cell_type": "code",
   "execution_count": 219,
   "outputs": [],
   "source": [
    "df = pd.read_csv('movie_data1.csv')"
   ],
   "metadata": {
    "collapsed": false,
    "ExecuteTime": {
     "end_time": "2024-12-03T19:49:30.049591400Z",
     "start_time": "2024-12-03T19:49:30.006641500Z"
    }
   }
  },
  {
   "cell_type": "code",
   "execution_count": 220,
   "outputs": [
    {
     "data": {
      "text/plain": "   adult                     backdrop_path  \\\n0  False  /dvQj1GBZAZirz1skEEZyWH2ZqQP.jpg   \n1  False                               NaN   \n2  False  /uJlc4aNPF3Y8yAqahJTKBwgwPVW.jpg   \n3  False                               NaN   \n4  False                               NaN   \n\n                               belongs_to_collection  budget  \\\n0  {\"id\": 177062, \"name\": \"Blondie Collection\", \"...       0   \n1                                                NaN       0   \n2                                                NaN       0   \n3  {\"id\": 425256, \"name\": \"New World Disorder\", \"...       0   \n4                                                NaN       0   \n\n                                              genres                 homepage  \\\n0  [{\"id\": 35, \"name\": \"Comedy\"}, {\"id\": 10751, \"...                      NaN   \n1                  [{\"id\": 12, \"name\": \"Adventure\"}]                      NaN   \n2  [{\"id\": 18, \"name\": \"Drama\"}, {\"id\": 10749, \"n...                      NaN   \n3                                                 []  http://www.nwdfilms.com   \n4                  [{\"id\": 10751, \"name\": \"Family\"}]                      NaN   \n\n      id    imdb_id            origin_country original_language  ... runtime  \\\n0   3924  tt0029927                    [\"US\"]                en  ...      70   \n1   6124        NaN                    [\"DE\"]                de  ...     420   \n2   8773  tt0055747  [\"FR\", \"IT\", \"JP\", \"PL\"]                fr  ...     120   \n3  25449        NaN                    [\"US\"]                en  ...      69   \n4  31975  tt1656746                    [\"US\"]                en  ...      46   \n\n                                    spoken_languages    status  \\\n0  [{\"english_name\": \"English\", \"iso_639_1\": \"en\"...  Released   \n1                                                 []  Released   \n2  [{\"english_name\": \"French\", \"iso_639_1\": \"fr\",...  Released   \n3  [{\"english_name\": \"English\", \"iso_639_1\": \"en\"...  Released   \n4                                                 []  Released   \n\n                                             tagline  \\\n0  The favorite comic strip of millions at last o...   \n1                                                NaN   \n2               The Intimate Secrets of Young Lovers   \n3                                                NaN   \n4                                                NaN   \n\n                                title  video vote_average  vote_count  \\\n0                             Blondie  False          7.1           8   \n1       Peter Voss, Thief of Millions  False          0.0           0   \n2                      Love at Twenty  False          6.7          48   \n3  New World Disorder 9: Never Enough  False          6.0           3   \n4      Sesame Street: Elmo Loves You!   True          0.0           0   \n\n                                             credits  \\\n0  {\"cast\": [{\"adult\": false, \"gender\": 1, \"id\": ...   \n1  {\"cast\": [{\"adult\": false, \"gender\": 2, \"id\": ...   \n2  {\"cast\": [{\"adult\": false, \"gender\": 2, \"id\": ...   \n3  {\"cast\": [{\"adult\": false, \"gender\": 2, \"id\": ...   \n4                           {\"cast\": [], \"crew\": []}   \n\n                                            keywords  \n0  {\"keywords\": [{\"id\": 190801, \"name\": \"blondie\"}]}  \n1                                   {\"keywords\": []}  \n2                                   {\"keywords\": []}  \n3  {\"keywords\": [{\"id\": 6075, \"name\": \"sports\"}, ...  \n4                                   {\"keywords\": []}  \n\n[5 rows x 28 columns]",
      "text/html": "<div>\n<style scoped>\n    .dataframe tbody tr th:only-of-type {\n        vertical-align: middle;\n    }\n\n    .dataframe tbody tr th {\n        vertical-align: top;\n    }\n\n    .dataframe thead th {\n        text-align: right;\n    }\n</style>\n<table border=\"1\" class=\"dataframe\">\n  <thead>\n    <tr style=\"text-align: right;\">\n      <th></th>\n      <th>adult</th>\n      <th>backdrop_path</th>\n      <th>belongs_to_collection</th>\n      <th>budget</th>\n      <th>genres</th>\n      <th>homepage</th>\n      <th>id</th>\n      <th>imdb_id</th>\n      <th>origin_country</th>\n      <th>original_language</th>\n      <th>...</th>\n      <th>runtime</th>\n      <th>spoken_languages</th>\n      <th>status</th>\n      <th>tagline</th>\n      <th>title</th>\n      <th>video</th>\n      <th>vote_average</th>\n      <th>vote_count</th>\n      <th>credits</th>\n      <th>keywords</th>\n    </tr>\n  </thead>\n  <tbody>\n    <tr>\n      <th>0</th>\n      <td>False</td>\n      <td>/dvQj1GBZAZirz1skEEZyWH2ZqQP.jpg</td>\n      <td>{\"id\": 177062, \"name\": \"Blondie Collection\", \"...</td>\n      <td>0</td>\n      <td>[{\"id\": 35, \"name\": \"Comedy\"}, {\"id\": 10751, \"...</td>\n      <td>NaN</td>\n      <td>3924</td>\n      <td>tt0029927</td>\n      <td>[\"US\"]</td>\n      <td>en</td>\n      <td>...</td>\n      <td>70</td>\n      <td>[{\"english_name\": \"English\", \"iso_639_1\": \"en\"...</td>\n      <td>Released</td>\n      <td>The favorite comic strip of millions at last o...</td>\n      <td>Blondie</td>\n      <td>False</td>\n      <td>7.1</td>\n      <td>8</td>\n      <td>{\"cast\": [{\"adult\": false, \"gender\": 1, \"id\": ...</td>\n      <td>{\"keywords\": [{\"id\": 190801, \"name\": \"blondie\"}]}</td>\n    </tr>\n    <tr>\n      <th>1</th>\n      <td>False</td>\n      <td>NaN</td>\n      <td>NaN</td>\n      <td>0</td>\n      <td>[{\"id\": 12, \"name\": \"Adventure\"}]</td>\n      <td>NaN</td>\n      <td>6124</td>\n      <td>NaN</td>\n      <td>[\"DE\"]</td>\n      <td>de</td>\n      <td>...</td>\n      <td>420</td>\n      <td>[]</td>\n      <td>Released</td>\n      <td>NaN</td>\n      <td>Peter Voss, Thief of Millions</td>\n      <td>False</td>\n      <td>0.0</td>\n      <td>0</td>\n      <td>{\"cast\": [{\"adult\": false, \"gender\": 2, \"id\": ...</td>\n      <td>{\"keywords\": []}</td>\n    </tr>\n    <tr>\n      <th>2</th>\n      <td>False</td>\n      <td>/uJlc4aNPF3Y8yAqahJTKBwgwPVW.jpg</td>\n      <td>NaN</td>\n      <td>0</td>\n      <td>[{\"id\": 18, \"name\": \"Drama\"}, {\"id\": 10749, \"n...</td>\n      <td>NaN</td>\n      <td>8773</td>\n      <td>tt0055747</td>\n      <td>[\"FR\", \"IT\", \"JP\", \"PL\"]</td>\n      <td>fr</td>\n      <td>...</td>\n      <td>120</td>\n      <td>[{\"english_name\": \"French\", \"iso_639_1\": \"fr\",...</td>\n      <td>Released</td>\n      <td>The Intimate Secrets of Young Lovers</td>\n      <td>Love at Twenty</td>\n      <td>False</td>\n      <td>6.7</td>\n      <td>48</td>\n      <td>{\"cast\": [{\"adult\": false, \"gender\": 2, \"id\": ...</td>\n      <td>{\"keywords\": []}</td>\n    </tr>\n    <tr>\n      <th>3</th>\n      <td>False</td>\n      <td>NaN</td>\n      <td>{\"id\": 425256, \"name\": \"New World Disorder\", \"...</td>\n      <td>0</td>\n      <td>[]</td>\n      <td>http://www.nwdfilms.com</td>\n      <td>25449</td>\n      <td>NaN</td>\n      <td>[\"US\"]</td>\n      <td>en</td>\n      <td>...</td>\n      <td>69</td>\n      <td>[{\"english_name\": \"English\", \"iso_639_1\": \"en\"...</td>\n      <td>Released</td>\n      <td>NaN</td>\n      <td>New World Disorder 9: Never Enough</td>\n      <td>False</td>\n      <td>6.0</td>\n      <td>3</td>\n      <td>{\"cast\": [{\"adult\": false, \"gender\": 2, \"id\": ...</td>\n      <td>{\"keywords\": [{\"id\": 6075, \"name\": \"sports\"}, ...</td>\n    </tr>\n    <tr>\n      <th>4</th>\n      <td>False</td>\n      <td>NaN</td>\n      <td>NaN</td>\n      <td>0</td>\n      <td>[{\"id\": 10751, \"name\": \"Family\"}]</td>\n      <td>NaN</td>\n      <td>31975</td>\n      <td>tt1656746</td>\n      <td>[\"US\"]</td>\n      <td>en</td>\n      <td>...</td>\n      <td>46</td>\n      <td>[]</td>\n      <td>Released</td>\n      <td>NaN</td>\n      <td>Sesame Street: Elmo Loves You!</td>\n      <td>True</td>\n      <td>0.0</td>\n      <td>0</td>\n      <td>{\"cast\": [], \"crew\": []}</td>\n      <td>{\"keywords\": []}</td>\n    </tr>\n  </tbody>\n</table>\n<p>5 rows × 28 columns</p>\n</div>"
     },
     "execution_count": 220,
     "metadata": {},
     "output_type": "execute_result"
    }
   ],
   "source": [
    "df.head()"
   ],
   "metadata": {
    "collapsed": false,
    "ExecuteTime": {
     "end_time": "2024-12-03T19:49:30.067334200Z",
     "start_time": "2024-12-03T19:49:30.050590500Z"
    }
   }
  },
  {
   "cell_type": "code",
   "execution_count": 221,
   "outputs": [
    {
     "data": {
      "text/plain": "0      {\"id\": 177062, \"name\": \"Blondie Collection\", \"...\n1                                                    NaN\n2                                                    NaN\n3      {\"id\": 425256, \"name\": \"New World Disorder\", \"...\n4                                                    NaN\n                             ...                        \n145                                                  NaN\n146                                                  NaN\n147                                                  NaN\n148                                                  NaN\n149                                                  NaN\nName: belongs_to_collection, Length: 150, dtype: object"
     },
     "execution_count": 221,
     "metadata": {},
     "output_type": "execute_result"
    }
   ],
   "source": [
    "df['belongs_to_collection']"
   ],
   "metadata": {
    "collapsed": false,
    "ExecuteTime": {
     "end_time": "2024-12-03T19:49:30.074751Z",
     "start_time": "2024-12-03T19:49:30.067334200Z"
    }
   }
  },
  {
   "cell_type": "code",
   "execution_count": 222,
   "outputs": [],
   "source": [
    "creds = pd.read_csv('creds.csv')"
   ],
   "metadata": {
    "collapsed": false,
    "ExecuteTime": {
     "end_time": "2024-12-03T19:49:30.178171300Z",
     "start_time": "2024-12-03T19:49:30.074751Z"
    }
   }
  },
  {
   "cell_type": "code",
   "execution_count": 223,
   "outputs": [
    {
     "data": {
      "text/plain": "   movie_id                         movie_title  \\\n0      3924                             Blondie   \n1      6124       Peter Voss, Thief of Millions   \n2      8773                      Love at Twenty   \n3     25449  New World Disorder 9: Never Enough   \n4     31975      Sesame Street: Elmo Loves You!   \n\n                                                cast  \\\n0  [{\"adult\": false, \"gender\": 1, \"id\": 34178, \"k...   \n1  [{\"adult\": false, \"gender\": 2, \"id\": 48038, \"k...   \n2  [{\"adult\": false, \"gender\": 2, \"id\": 1653, \"kn...   \n3  [{\"adult\": false, \"gender\": 2, \"id\": 84130, \"k...   \n4                                                 []   \n\n                                                crew  \n0  [{\"adult\": false, \"gender\": 0, \"id\": 34170, \"k...  \n1  [{\"adult\": false, \"gender\": 2, \"id\": 2902, \"kn...  \n2  [{\"adult\": false, \"gender\": 2, \"id\": 2801, \"kn...  \n3  [{\"adult\": false, \"gender\": 0, \"id\": 112786, \"...  \n4                                                 []  ",
      "text/html": "<div>\n<style scoped>\n    .dataframe tbody tr th:only-of-type {\n        vertical-align: middle;\n    }\n\n    .dataframe tbody tr th {\n        vertical-align: top;\n    }\n\n    .dataframe thead th {\n        text-align: right;\n    }\n</style>\n<table border=\"1\" class=\"dataframe\">\n  <thead>\n    <tr style=\"text-align: right;\">\n      <th></th>\n      <th>movie_id</th>\n      <th>movie_title</th>\n      <th>cast</th>\n      <th>crew</th>\n    </tr>\n  </thead>\n  <tbody>\n    <tr>\n      <th>0</th>\n      <td>3924</td>\n      <td>Blondie</td>\n      <td>[{\"adult\": false, \"gender\": 1, \"id\": 34178, \"k...</td>\n      <td>[{\"adult\": false, \"gender\": 0, \"id\": 34170, \"k...</td>\n    </tr>\n    <tr>\n      <th>1</th>\n      <td>6124</td>\n      <td>Peter Voss, Thief of Millions</td>\n      <td>[{\"adult\": false, \"gender\": 2, \"id\": 48038, \"k...</td>\n      <td>[{\"adult\": false, \"gender\": 2, \"id\": 2902, \"kn...</td>\n    </tr>\n    <tr>\n      <th>2</th>\n      <td>8773</td>\n      <td>Love at Twenty</td>\n      <td>[{\"adult\": false, \"gender\": 2, \"id\": 1653, \"kn...</td>\n      <td>[{\"adult\": false, \"gender\": 2, \"id\": 2801, \"kn...</td>\n    </tr>\n    <tr>\n      <th>3</th>\n      <td>25449</td>\n      <td>New World Disorder 9: Never Enough</td>\n      <td>[{\"adult\": false, \"gender\": 2, \"id\": 84130, \"k...</td>\n      <td>[{\"adult\": false, \"gender\": 0, \"id\": 112786, \"...</td>\n    </tr>\n    <tr>\n      <th>4</th>\n      <td>31975</td>\n      <td>Sesame Street: Elmo Loves You!</td>\n      <td>[]</td>\n      <td>[]</td>\n    </tr>\n  </tbody>\n</table>\n</div>"
     },
     "execution_count": 223,
     "metadata": {},
     "output_type": "execute_result"
    }
   ],
   "source": [
    "creds.head()"
   ],
   "metadata": {
    "collapsed": false,
    "ExecuteTime": {
     "end_time": "2024-12-03T19:49:30.178171300Z",
     "start_time": "2024-12-03T19:49:30.147979900Z"
    }
   }
  },
  {
   "cell_type": "code",
   "execution_count": 155,
   "outputs": [],
   "source": [
    "import numpy as np"
   ],
   "metadata": {
    "collapsed": false,
    "ExecuteTime": {
     "end_time": "2024-12-03T19:03:29.514068500Z",
     "start_time": "2024-12-03T19:03:29.505474800Z"
    }
   }
  },
  {
   "cell_type": "code",
   "execution_count": 156,
   "outputs": [],
   "source": [],
   "metadata": {
    "collapsed": false,
    "ExecuteTime": {
     "end_time": "2024-12-03T19:03:30.729858900Z",
     "start_time": "2024-12-03T19:03:30.720812600Z"
    }
   }
  },
  {
   "cell_type": "code",
   "execution_count": null,
   "outputs": [],
   "source": [],
   "metadata": {
    "collapsed": false
   }
  }
 ],
 "metadata": {
  "kernelspec": {
   "display_name": "Python 3",
   "language": "python",
   "name": "python3"
  },
  "language_info": {
   "codemirror_mode": {
    "name": "ipython",
    "version": 2
   },
   "file_extension": ".py",
   "mimetype": "text/x-python",
   "name": "python",
   "nbconvert_exporter": "python",
   "pygments_lexer": "ipython2",
   "version": "2.7.6"
  }
 },
 "nbformat": 4,
 "nbformat_minor": 0
}
