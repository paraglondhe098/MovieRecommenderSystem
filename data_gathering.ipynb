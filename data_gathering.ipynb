{
 "cells": [
  {
   "cell_type": "code",
   "execution_count": 1,
   "outputs": [],
   "source": [
    "import pandas as pd\n",
    "from utils.api_keys import fetch_api_key\n",
    "from utils.data_downloader import TMDBDataDownloader"
   ],
   "metadata": {
    "collapsed": false,
    "ExecuteTime": {
     "end_time": "2024-12-03T20:20:20.708216600Z",
     "start_time": "2024-12-03T20:20:19.723092900Z"
    }
   }
  },
  {
   "cell_type": "code",
   "execution_count": 2,
   "outputs": [
    {
     "name": "stdout",
     "output_type": "stream",
     "text": [
      "Key loading successful.\n"
     ]
    }
   ],
   "source": [
    "downloader = TMDBDataDownloader(fetch_api_key(\"tmdb\", False))"
   ],
   "metadata": {
    "collapsed": false,
    "ExecuteTime": {
     "end_time": "2024-12-03T20:20:20.713895400Z",
     "start_time": "2024-12-03T20:20:20.710226600Z"
    }
   }
  },
  {
   "cell_type": "code",
   "execution_count": 3,
   "outputs": [
    {
     "name": "stdout",
     "output_type": "stream",
     "text": [
      "Download started\n",
      "total_ids_found: 998657\n"
     ]
    },
    {
     "name": "stderr",
     "output_type": "stream",
     "text": [
      "100%|██████████| 50/50 [53:52<00:00, 64.66s/it]\n"
     ]
    }
   ],
   "source": [
    "downloader.download_all_data()"
   ],
   "metadata": {
    "collapsed": false,
    "ExecuteTime": {
     "end_time": "2024-12-03T21:14:20.992970500Z",
     "start_time": "2024-12-03T20:20:21.072309200Z"
    }
   }
  },
  {
   "cell_type": "code",
   "execution_count": 7,
   "outputs": [],
   "source": [
    "df = pd.read_csv('data/movie_data.csv')"
   ],
   "metadata": {
    "collapsed": false,
    "ExecuteTime": {
     "end_time": "2024-12-03T21:24:51.343019400Z",
     "start_time": "2024-12-03T21:24:51.182697400Z"
    }
   }
  },
  {
   "cell_type": "code",
   "execution_count": 8,
   "outputs": [
    {
     "data": {
      "text/plain": "      adult                     backdrop_path  \\\n0     False  /dvQj1GBZAZirz1skEEZyWH2ZqQP.jpg   \n1     False                               NaN   \n2     False  /uJlc4aNPF3Y8yAqahJTKBwgwPVW.jpg   \n3     False                               NaN   \n4     False                               NaN   \n...     ...                               ...   \n2495  False  /o3NkWyv3kuueLSIKS5h7o0AurR3.jpg   \n2496  False  /j1uBxyZeuQB1vrIfhAOclbSiK1t.jpg   \n2497  False                               NaN   \n2498  False  /8WWGhjpT5eRauWdvZ1ZpMRd7ytR.jpg   \n2499  False  /pNev9Y2MxX0XGGReUpP0H43Zkaj.jpg   \n\n                                  belongs_to_collection  budget  \\\n0     {\"id\": 177062, \"name\": \"Blondie Collection\", \"...       0   \n1                                                   NaN       0   \n2                                                   NaN       0   \n3     {\"id\": 425256, \"name\": \"New World Disorder\", \"...       0   \n4                                                   NaN       0   \n...                                                 ...     ...   \n2495                                                NaN       0   \n2496                                                NaN       0   \n2497                                                NaN       0   \n2498                                                NaN       0   \n2499                                                NaN       0   \n\n                                                 genres  \\\n0     [{\"id\": 35, \"name\": \"Comedy\"}, {\"id\": 10751, \"...   \n1                     [{\"id\": 12, \"name\": \"Adventure\"}]   \n2     [{\"id\": 18, \"name\": \"Drama\"}, {\"id\": 10749, \"n...   \n3                                                    []   \n4                     [{\"id\": 10751, \"name\": \"Family\"}]   \n...                                                 ...   \n2495  [{\"id\": 80, \"name\": \"Crime\"}, {\"id\": 53, \"name...   \n2496                     [{\"id\": 35, \"name\": \"Comedy\"}]   \n2497                      [{\"id\": 18, \"name\": \"Drama\"}]   \n2498                      [{\"id\": 18, \"name\": \"Drama\"}]   \n2499  [{\"id\": 18, \"name\": \"Drama\"}, {\"id\": 27, \"name...   \n\n                     homepage     id    imdb_id            origin_country  \\\n0                         NaN   3924  tt0029927                    [\"US\"]   \n1                         NaN   6124        NaN                    [\"DE\"]   \n2                         NaN   8773  tt0055747  [\"FR\", \"IT\", \"JP\", \"PL\"]   \n3     http://www.nwdfilms.com  25449        NaN                    [\"US\"]   \n4                         NaN  31975  tt1656746                    [\"US\"]   \n...                       ...    ...        ...                       ...   \n2495                      NaN   4311  tt0059050                    [\"FR\"]   \n2496                      NaN   4322  tt0089054                    [\"DE\"]   \n2497                      NaN   4323  tt0057287                    [\"DE\"]   \n2498                      NaN   4324  tt0057640                    [\"DE\"]   \n2499                      NaN   4325  tt0073514              [\"DE\", \"AT\"]   \n\n     original_language  ... revenue runtime  \\\n0                   en  ...       0      70   \n1                   de  ...       0     420   \n2                   fr  ...       0     120   \n3                   en  ...       0      69   \n4                   en  ...       0      46   \n...                ...  ...     ...     ...   \n2495                fr  ...       0      95   \n2496                de  ...       0     105   \n2497                de  ...       0     109   \n2498                de  ...       0      88   \n2499                de  ...       0     105   \n\n                                       spoken_languages    status  \\\n0     [{\"english_name\": \"English\", \"iso_639_1\": \"en\"...  Released   \n1                                                    []  Released   \n2     [{\"english_name\": \"French\", \"iso_639_1\": \"fr\",...  Released   \n3     [{\"english_name\": \"English\", \"iso_639_1\": \"en\"...  Released   \n4                                                    []  Released   \n...                                                 ...       ...   \n2495  [{\"english_name\": \"French\", \"iso_639_1\": \"fr\",...  Released   \n2496  [{\"english_name\": \"German\", \"iso_639_1\": \"de\",...  Released   \n2497  [{\"english_name\": \"German\", \"iso_639_1\": \"de\",...  Released   \n2498  [{\"english_name\": \"German\", \"iso_639_1\": \"de\",...  Released   \n2499  [{\"english_name\": \"German\", \"iso_639_1\": \"de\",...  Released   \n\n                                                tagline  \\\n0     The favorite comic strip of millions at last o...   \n1                                                   NaN   \n2                  The Intimate Secrets of Young Lovers   \n3                                                   NaN   \n4                                                   NaN   \n...                                                 ...   \n2495  Suddenly a scream pierces the air...and you're...   \n2496                                                NaN   \n2497                                                NaN   \n2498                                                NaN   \n2499                                                NaN   \n\n                                   title  video  vote_average  vote_count  \\\n0                                Blondie  False           7.1           8   \n1          Peter Voss, Thief of Millions  False           0.0           0   \n2                         Love at Twenty  False           6.7          48   \n3     New World Disorder 9: Never Enough  False           6.0           3   \n4         Sesame Street: Elmo Loves You!   True           0.0           0   \n...                                  ...    ...           ...         ...   \n2495             The Sleeping Car Murder  False           6.9          75   \n2496                     Drei gegen drei  False           4.2           3   \n2497         Ein Mann im schönsten Alter  False           1.0           1   \n2498                           Venusberg  False           6.2           4   \n2499        Parapsycho: Spectrum of Fear  False           4.5           4   \n\n                                               keywords  \n0     {\"keywords\": [{\"id\": 190801, \"name\": \"blondie\"}]}  \n1                                      {\"keywords\": []}  \n2                                      {\"keywords\": []}  \n3     {\"keywords\": [{\"id\": 6075, \"name\": \"sports\"}, ...  \n4                                      {\"keywords\": []}  \n...                                                 ...  \n2495  {\"keywords\": [{\"id\": 5340, \"name\": \"investigat...  \n2496                                   {\"keywords\": []}  \n2497                                   {\"keywords\": []}  \n2498                                   {\"keywords\": []}  \n2499                                   {\"keywords\": []}  \n\n[2500 rows x 27 columns]",
      "text/html": "<div>\n<style scoped>\n    .dataframe tbody tr th:only-of-type {\n        vertical-align: middle;\n    }\n\n    .dataframe tbody tr th {\n        vertical-align: top;\n    }\n\n    .dataframe thead th {\n        text-align: right;\n    }\n</style>\n<table border=\"1\" class=\"dataframe\">\n  <thead>\n    <tr style=\"text-align: right;\">\n      <th></th>\n      <th>adult</th>\n      <th>backdrop_path</th>\n      <th>belongs_to_collection</th>\n      <th>budget</th>\n      <th>genres</th>\n      <th>homepage</th>\n      <th>id</th>\n      <th>imdb_id</th>\n      <th>origin_country</th>\n      <th>original_language</th>\n      <th>...</th>\n      <th>revenue</th>\n      <th>runtime</th>\n      <th>spoken_languages</th>\n      <th>status</th>\n      <th>tagline</th>\n      <th>title</th>\n      <th>video</th>\n      <th>vote_average</th>\n      <th>vote_count</th>\n      <th>keywords</th>\n    </tr>\n  </thead>\n  <tbody>\n    <tr>\n      <th>0</th>\n      <td>False</td>\n      <td>/dvQj1GBZAZirz1skEEZyWH2ZqQP.jpg</td>\n      <td>{\"id\": 177062, \"name\": \"Blondie Collection\", \"...</td>\n      <td>0</td>\n      <td>[{\"id\": 35, \"name\": \"Comedy\"}, {\"id\": 10751, \"...</td>\n      <td>NaN</td>\n      <td>3924</td>\n      <td>tt0029927</td>\n      <td>[\"US\"]</td>\n      <td>en</td>\n      <td>...</td>\n      <td>0</td>\n      <td>70</td>\n      <td>[{\"english_name\": \"English\", \"iso_639_1\": \"en\"...</td>\n      <td>Released</td>\n      <td>The favorite comic strip of millions at last o...</td>\n      <td>Blondie</td>\n      <td>False</td>\n      <td>7.1</td>\n      <td>8</td>\n      <td>{\"keywords\": [{\"id\": 190801, \"name\": \"blondie\"}]}</td>\n    </tr>\n    <tr>\n      <th>1</th>\n      <td>False</td>\n      <td>NaN</td>\n      <td>NaN</td>\n      <td>0</td>\n      <td>[{\"id\": 12, \"name\": \"Adventure\"}]</td>\n      <td>NaN</td>\n      <td>6124</td>\n      <td>NaN</td>\n      <td>[\"DE\"]</td>\n      <td>de</td>\n      <td>...</td>\n      <td>0</td>\n      <td>420</td>\n      <td>[]</td>\n      <td>Released</td>\n      <td>NaN</td>\n      <td>Peter Voss, Thief of Millions</td>\n      <td>False</td>\n      <td>0.0</td>\n      <td>0</td>\n      <td>{\"keywords\": []}</td>\n    </tr>\n    <tr>\n      <th>2</th>\n      <td>False</td>\n      <td>/uJlc4aNPF3Y8yAqahJTKBwgwPVW.jpg</td>\n      <td>NaN</td>\n      <td>0</td>\n      <td>[{\"id\": 18, \"name\": \"Drama\"}, {\"id\": 10749, \"n...</td>\n      <td>NaN</td>\n      <td>8773</td>\n      <td>tt0055747</td>\n      <td>[\"FR\", \"IT\", \"JP\", \"PL\"]</td>\n      <td>fr</td>\n      <td>...</td>\n      <td>0</td>\n      <td>120</td>\n      <td>[{\"english_name\": \"French\", \"iso_639_1\": \"fr\",...</td>\n      <td>Released</td>\n      <td>The Intimate Secrets of Young Lovers</td>\n      <td>Love at Twenty</td>\n      <td>False</td>\n      <td>6.7</td>\n      <td>48</td>\n      <td>{\"keywords\": []}</td>\n    </tr>\n    <tr>\n      <th>3</th>\n      <td>False</td>\n      <td>NaN</td>\n      <td>{\"id\": 425256, \"name\": \"New World Disorder\", \"...</td>\n      <td>0</td>\n      <td>[]</td>\n      <td>http://www.nwdfilms.com</td>\n      <td>25449</td>\n      <td>NaN</td>\n      <td>[\"US\"]</td>\n      <td>en</td>\n      <td>...</td>\n      <td>0</td>\n      <td>69</td>\n      <td>[{\"english_name\": \"English\", \"iso_639_1\": \"en\"...</td>\n      <td>Released</td>\n      <td>NaN</td>\n      <td>New World Disorder 9: Never Enough</td>\n      <td>False</td>\n      <td>6.0</td>\n      <td>3</td>\n      <td>{\"keywords\": [{\"id\": 6075, \"name\": \"sports\"}, ...</td>\n    </tr>\n    <tr>\n      <th>4</th>\n      <td>False</td>\n      <td>NaN</td>\n      <td>NaN</td>\n      <td>0</td>\n      <td>[{\"id\": 10751, \"name\": \"Family\"}]</td>\n      <td>NaN</td>\n      <td>31975</td>\n      <td>tt1656746</td>\n      <td>[\"US\"]</td>\n      <td>en</td>\n      <td>...</td>\n      <td>0</td>\n      <td>46</td>\n      <td>[]</td>\n      <td>Released</td>\n      <td>NaN</td>\n      <td>Sesame Street: Elmo Loves You!</td>\n      <td>True</td>\n      <td>0.0</td>\n      <td>0</td>\n      <td>{\"keywords\": []}</td>\n    </tr>\n    <tr>\n      <th>...</th>\n      <td>...</td>\n      <td>...</td>\n      <td>...</td>\n      <td>...</td>\n      <td>...</td>\n      <td>...</td>\n      <td>...</td>\n      <td>...</td>\n      <td>...</td>\n      <td>...</td>\n      <td>...</td>\n      <td>...</td>\n      <td>...</td>\n      <td>...</td>\n      <td>...</td>\n      <td>...</td>\n      <td>...</td>\n      <td>...</td>\n      <td>...</td>\n      <td>...</td>\n      <td>...</td>\n    </tr>\n    <tr>\n      <th>2495</th>\n      <td>False</td>\n      <td>/o3NkWyv3kuueLSIKS5h7o0AurR3.jpg</td>\n      <td>NaN</td>\n      <td>0</td>\n      <td>[{\"id\": 80, \"name\": \"Crime\"}, {\"id\": 53, \"name...</td>\n      <td>NaN</td>\n      <td>4311</td>\n      <td>tt0059050</td>\n      <td>[\"FR\"]</td>\n      <td>fr</td>\n      <td>...</td>\n      <td>0</td>\n      <td>95</td>\n      <td>[{\"english_name\": \"French\", \"iso_639_1\": \"fr\",...</td>\n      <td>Released</td>\n      <td>Suddenly a scream pierces the air...and you're...</td>\n      <td>The Sleeping Car Murder</td>\n      <td>False</td>\n      <td>6.9</td>\n      <td>75</td>\n      <td>{\"keywords\": [{\"id\": 5340, \"name\": \"investigat...</td>\n    </tr>\n    <tr>\n      <th>2496</th>\n      <td>False</td>\n      <td>/j1uBxyZeuQB1vrIfhAOclbSiK1t.jpg</td>\n      <td>NaN</td>\n      <td>0</td>\n      <td>[{\"id\": 35, \"name\": \"Comedy\"}]</td>\n      <td>NaN</td>\n      <td>4322</td>\n      <td>tt0089054</td>\n      <td>[\"DE\"]</td>\n      <td>de</td>\n      <td>...</td>\n      <td>0</td>\n      <td>105</td>\n      <td>[{\"english_name\": \"German\", \"iso_639_1\": \"de\",...</td>\n      <td>Released</td>\n      <td>NaN</td>\n      <td>Drei gegen drei</td>\n      <td>False</td>\n      <td>4.2</td>\n      <td>3</td>\n      <td>{\"keywords\": []}</td>\n    </tr>\n    <tr>\n      <th>2497</th>\n      <td>False</td>\n      <td>NaN</td>\n      <td>NaN</td>\n      <td>0</td>\n      <td>[{\"id\": 18, \"name\": \"Drama\"}]</td>\n      <td>NaN</td>\n      <td>4323</td>\n      <td>tt0057287</td>\n      <td>[\"DE\"]</td>\n      <td>de</td>\n      <td>...</td>\n      <td>0</td>\n      <td>109</td>\n      <td>[{\"english_name\": \"German\", \"iso_639_1\": \"de\",...</td>\n      <td>Released</td>\n      <td>NaN</td>\n      <td>Ein Mann im schönsten Alter</td>\n      <td>False</td>\n      <td>1.0</td>\n      <td>1</td>\n      <td>{\"keywords\": []}</td>\n    </tr>\n    <tr>\n      <th>2498</th>\n      <td>False</td>\n      <td>/8WWGhjpT5eRauWdvZ1ZpMRd7ytR.jpg</td>\n      <td>NaN</td>\n      <td>0</td>\n      <td>[{\"id\": 18, \"name\": \"Drama\"}]</td>\n      <td>NaN</td>\n      <td>4324</td>\n      <td>tt0057640</td>\n      <td>[\"DE\"]</td>\n      <td>de</td>\n      <td>...</td>\n      <td>0</td>\n      <td>88</td>\n      <td>[{\"english_name\": \"German\", \"iso_639_1\": \"de\",...</td>\n      <td>Released</td>\n      <td>NaN</td>\n      <td>Venusberg</td>\n      <td>False</td>\n      <td>6.2</td>\n      <td>4</td>\n      <td>{\"keywords\": []}</td>\n    </tr>\n    <tr>\n      <th>2499</th>\n      <td>False</td>\n      <td>/pNev9Y2MxX0XGGReUpP0H43Zkaj.jpg</td>\n      <td>NaN</td>\n      <td>0</td>\n      <td>[{\"id\": 18, \"name\": \"Drama\"}, {\"id\": 27, \"name...</td>\n      <td>NaN</td>\n      <td>4325</td>\n      <td>tt0073514</td>\n      <td>[\"DE\", \"AT\"]</td>\n      <td>de</td>\n      <td>...</td>\n      <td>0</td>\n      <td>105</td>\n      <td>[{\"english_name\": \"German\", \"iso_639_1\": \"de\",...</td>\n      <td>Released</td>\n      <td>NaN</td>\n      <td>Parapsycho: Spectrum of Fear</td>\n      <td>False</td>\n      <td>4.5</td>\n      <td>4</td>\n      <td>{\"keywords\": []}</td>\n    </tr>\n  </tbody>\n</table>\n<p>2500 rows × 27 columns</p>\n</div>"
     },
     "execution_count": 8,
     "metadata": {},
     "output_type": "execute_result"
    }
   ],
   "source": [
    "df"
   ],
   "metadata": {
    "collapsed": false,
    "ExecuteTime": {
     "end_time": "2024-12-03T21:24:52.331726700Z",
     "start_time": "2024-12-03T21:24:52.268366900Z"
    }
   }
  },
  {
   "cell_type": "code",
   "execution_count": 9,
   "outputs": [
    {
     "data": {
      "text/plain": "(2500, 27)"
     },
     "execution_count": 9,
     "metadata": {},
     "output_type": "execute_result"
    }
   ],
   "source": [
    "df.shape"
   ],
   "metadata": {
    "collapsed": false,
    "ExecuteTime": {
     "end_time": "2024-12-03T21:24:53.885455100Z",
     "start_time": "2024-12-03T21:24:53.866401600Z"
    }
   }
  },
  {
   "cell_type": "code",
   "execution_count": null,
   "outputs": [],
   "source": [],
   "metadata": {
    "collapsed": false
   }
  }
 ],
 "metadata": {
  "kernelspec": {
   "display_name": "Python 3",
   "language": "python",
   "name": "python3"
  },
  "language_info": {
   "codemirror_mode": {
    "name": "ipython",
    "version": 2
   },
   "file_extension": ".py",
   "mimetype": "text/x-python",
   "name": "python",
   "nbconvert_exporter": "python",
   "pygments_lexer": "ipython2",
   "version": "2.7.6"
  }
 },
 "nbformat": 4,
 "nbformat_minor": 0
}
