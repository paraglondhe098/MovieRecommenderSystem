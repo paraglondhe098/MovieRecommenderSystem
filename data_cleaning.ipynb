{
 "cells": [
  {
   "cell_type": "code",
   "execution_count": 16,
   "metadata": {
    "collapsed": true,
    "ExecuteTime": {
     "end_time": "2024-12-02T16:47:53.394528100Z",
     "start_time": "2024-12-02T16:47:53.371227600Z"
    }
   },
   "outputs": [],
   "source": [
    "import sys\n",
    "import os\n",
    "import pandas as pd\n",
    "import numpy as np\n",
    "import requests\n",
    "from tmdbv3api import Movie\n",
    "from tqdm import tqdm\n",
    "import json\n",
    "import re"
   ]
  },
  {
   "cell_type": "code",
   "execution_count": 17,
   "outputs": [],
   "source": [
    "df = pd.read_csv('movie_data.csv')"
   ],
   "metadata": {
    "collapsed": false,
    "ExecuteTime": {
     "end_time": "2024-12-02T16:47:53.576567Z",
     "start_time": "2024-12-02T16:47:53.516519200Z"
    }
   }
  },
  {
   "cell_type": "code",
   "execution_count": 18,
   "outputs": [
    {
     "data": {
      "text/plain": "(200, 23)"
     },
     "execution_count": 18,
     "metadata": {},
     "output_type": "execute_result"
    }
   ],
   "source": [
    "df.shape"
   ],
   "metadata": {
    "collapsed": false,
    "ExecuteTime": {
     "end_time": "2024-12-02T16:47:53.742385500Z",
     "start_time": "2024-12-02T16:47:53.705923Z"
    }
   }
  },
  {
   "cell_type": "code",
   "execution_count": 19,
   "outputs": [
    {
     "data": {
      "text/plain": "   budget                                             genres  \\\n0       0  [{\"id\": 35, \"name\": \"Comedy\"}, {\"id\": 10751, \"...   \n1       0                  [{\"id\": 12, \"name\": \"Adventure\"}]   \n2       0  [{\"id\": 18, \"name\": \"Drama\"}, {\"id\": 10749, \"n...   \n3       0                                                 []   \n4       0                  [{\"id\": 10751, \"name\": \"Family\"}]   \n\n                  homepage     id    imdb_id            origin_country  \\\n0                      NaN   3924  tt0029927                    ['US']   \n1                      NaN   6124        NaN                    ['DE']   \n2                      NaN   8773  tt0055747  ['FR', 'IT', 'JP', 'PL']   \n3  http://www.nwdfilms.com  25449        NaN                    ['US']   \n4                      NaN  31975  tt1656746                    ['US']   \n\n  original_language                      original_title  \\\n0                en                             Blondie   \n1                de                 Der Mann ohne Namen   \n2                fr                 L'Amour à vingt ans   \n3                en  New World Disorder 9: Never Enough   \n4                en      Sesame Street: Elmo Loves You!   \n\n                                            overview  popularity  ...  \\\n0  Blondie and Dagwood are about to celebrate the...       3.072  ...   \n1                                                NaN       1.625  ...   \n2  Love at Twenty unites five directors from five...       3.545  ...   \n3  Gee Atherton ripping the Worlds course the day...       3.503  ...   \n4  Elmo is making a very, very super special surp...       0.002  ...   \n\n  release_date revenue runtime  \\\n0   1938-11-30       0      70   \n1   1921-01-01       0     420   \n2   1962-06-22       0     120   \n3   2008-12-08       0      69   \n4   2010-01-05       0      46   \n\n                                    spoken_languages    status  \\\n0  [{\"english_name\": \"English\", \"iso_639_1\": \"en\"...  Released   \n1                                                 []  Released   \n2  [{\"english_name\": \"French\", \"iso_639_1\": \"fr\",...  Released   \n3  [{\"english_name\": \"English\", \"iso_639_1\": \"en\"...  Released   \n4                                                 []  Released   \n\n                                             tagline  \\\n0  The favorite comic strip of millions at last o...   \n1                                                NaN   \n2               The Intimate Secrets of Young Lovers   \n3                                                NaN   \n4                                                NaN   \n\n                                title vote_average vote_count  \\\n0                             Blondie          7.1          8   \n1       Peter Voss, Thief of Millions          0.0          0   \n2                      Love at Twenty          6.7         48   \n3  New World Disorder 9: Never Enough          6.0          3   \n4      Sesame Street: Elmo Loves You!          0.0          0   \n\n                                            keywords  \n0  {\"keywords\": [{\"id\": 190801, \"name\": \"blondie\"}]}  \n1                                   {\"keywords\": []}  \n2                                   {\"keywords\": []}  \n3  {\"keywords\": [{\"id\": 6075, \"name\": \"sports\"}, ...  \n4                                   {\"keywords\": []}  \n\n[5 rows x 23 columns]",
      "text/html": "<div>\n<style scoped>\n    .dataframe tbody tr th:only-of-type {\n        vertical-align: middle;\n    }\n\n    .dataframe tbody tr th {\n        vertical-align: top;\n    }\n\n    .dataframe thead th {\n        text-align: right;\n    }\n</style>\n<table border=\"1\" class=\"dataframe\">\n  <thead>\n    <tr style=\"text-align: right;\">\n      <th></th>\n      <th>budget</th>\n      <th>genres</th>\n      <th>homepage</th>\n      <th>id</th>\n      <th>imdb_id</th>\n      <th>origin_country</th>\n      <th>original_language</th>\n      <th>original_title</th>\n      <th>overview</th>\n      <th>popularity</th>\n      <th>...</th>\n      <th>release_date</th>\n      <th>revenue</th>\n      <th>runtime</th>\n      <th>spoken_languages</th>\n      <th>status</th>\n      <th>tagline</th>\n      <th>title</th>\n      <th>vote_average</th>\n      <th>vote_count</th>\n      <th>keywords</th>\n    </tr>\n  </thead>\n  <tbody>\n    <tr>\n      <th>0</th>\n      <td>0</td>\n      <td>[{\"id\": 35, \"name\": \"Comedy\"}, {\"id\": 10751, \"...</td>\n      <td>NaN</td>\n      <td>3924</td>\n      <td>tt0029927</td>\n      <td>['US']</td>\n      <td>en</td>\n      <td>Blondie</td>\n      <td>Blondie and Dagwood are about to celebrate the...</td>\n      <td>3.072</td>\n      <td>...</td>\n      <td>1938-11-30</td>\n      <td>0</td>\n      <td>70</td>\n      <td>[{\"english_name\": \"English\", \"iso_639_1\": \"en\"...</td>\n      <td>Released</td>\n      <td>The favorite comic strip of millions at last o...</td>\n      <td>Blondie</td>\n      <td>7.1</td>\n      <td>8</td>\n      <td>{\"keywords\": [{\"id\": 190801, \"name\": \"blondie\"}]}</td>\n    </tr>\n    <tr>\n      <th>1</th>\n      <td>0</td>\n      <td>[{\"id\": 12, \"name\": \"Adventure\"}]</td>\n      <td>NaN</td>\n      <td>6124</td>\n      <td>NaN</td>\n      <td>['DE']</td>\n      <td>de</td>\n      <td>Der Mann ohne Namen</td>\n      <td>NaN</td>\n      <td>1.625</td>\n      <td>...</td>\n      <td>1921-01-01</td>\n      <td>0</td>\n      <td>420</td>\n      <td>[]</td>\n      <td>Released</td>\n      <td>NaN</td>\n      <td>Peter Voss, Thief of Millions</td>\n      <td>0.0</td>\n      <td>0</td>\n      <td>{\"keywords\": []}</td>\n    </tr>\n    <tr>\n      <th>2</th>\n      <td>0</td>\n      <td>[{\"id\": 18, \"name\": \"Drama\"}, {\"id\": 10749, \"n...</td>\n      <td>NaN</td>\n      <td>8773</td>\n      <td>tt0055747</td>\n      <td>['FR', 'IT', 'JP', 'PL']</td>\n      <td>fr</td>\n      <td>L'Amour à vingt ans</td>\n      <td>Love at Twenty unites five directors from five...</td>\n      <td>3.545</td>\n      <td>...</td>\n      <td>1962-06-22</td>\n      <td>0</td>\n      <td>120</td>\n      <td>[{\"english_name\": \"French\", \"iso_639_1\": \"fr\",...</td>\n      <td>Released</td>\n      <td>The Intimate Secrets of Young Lovers</td>\n      <td>Love at Twenty</td>\n      <td>6.7</td>\n      <td>48</td>\n      <td>{\"keywords\": []}</td>\n    </tr>\n    <tr>\n      <th>3</th>\n      <td>0</td>\n      <td>[]</td>\n      <td>http://www.nwdfilms.com</td>\n      <td>25449</td>\n      <td>NaN</td>\n      <td>['US']</td>\n      <td>en</td>\n      <td>New World Disorder 9: Never Enough</td>\n      <td>Gee Atherton ripping the Worlds course the day...</td>\n      <td>3.503</td>\n      <td>...</td>\n      <td>2008-12-08</td>\n      <td>0</td>\n      <td>69</td>\n      <td>[{\"english_name\": \"English\", \"iso_639_1\": \"en\"...</td>\n      <td>Released</td>\n      <td>NaN</td>\n      <td>New World Disorder 9: Never Enough</td>\n      <td>6.0</td>\n      <td>3</td>\n      <td>{\"keywords\": [{\"id\": 6075, \"name\": \"sports\"}, ...</td>\n    </tr>\n    <tr>\n      <th>4</th>\n      <td>0</td>\n      <td>[{\"id\": 10751, \"name\": \"Family\"}]</td>\n      <td>NaN</td>\n      <td>31975</td>\n      <td>tt1656746</td>\n      <td>['US']</td>\n      <td>en</td>\n      <td>Sesame Street: Elmo Loves You!</td>\n      <td>Elmo is making a very, very super special surp...</td>\n      <td>0.002</td>\n      <td>...</td>\n      <td>2010-01-05</td>\n      <td>0</td>\n      <td>46</td>\n      <td>[]</td>\n      <td>Released</td>\n      <td>NaN</td>\n      <td>Sesame Street: Elmo Loves You!</td>\n      <td>0.0</td>\n      <td>0</td>\n      <td>{\"keywords\": []}</td>\n    </tr>\n  </tbody>\n</table>\n<p>5 rows × 23 columns</p>\n</div>"
     },
     "execution_count": 19,
     "metadata": {},
     "output_type": "execute_result"
    }
   ],
   "source": [
    "df.head()"
   ],
   "metadata": {
    "collapsed": false,
    "ExecuteTime": {
     "end_time": "2024-12-02T16:47:53.910287900Z",
     "start_time": "2024-12-02T16:47:53.881355600Z"
    }
   }
  },
  {
   "cell_type": "code",
   "execution_count": 20,
   "outputs": [],
   "source": [
    "def process_dicts(entry):\n",
    "    entry = json.loads(entry)\n",
    "    return \" \".join([e['name'] for e in entry])"
   ],
   "metadata": {
    "collapsed": false,
    "ExecuteTime": {
     "end_time": "2024-12-02T16:47:54.165157300Z",
     "start_time": "2024-12-02T16:47:54.083661Z"
    }
   }
  },
  {
   "cell_type": "code",
   "execution_count": 21,
   "outputs": [
    {
     "data": {
      "text/plain": "Index(['budget', 'genres', 'homepage', 'id', 'imdb_id', 'origin_country',\n       'original_language', 'original_title', 'overview', 'popularity',\n       'poster_path', 'production_companies', 'production_countries',\n       'release_date', 'revenue', 'runtime', 'spoken_languages', 'status',\n       'tagline', 'title', 'vote_average', 'vote_count', 'keywords'],\n      dtype='object')"
     },
     "execution_count": 21,
     "metadata": {},
     "output_type": "execute_result"
    }
   ],
   "source": [
    "df.columns"
   ],
   "metadata": {
    "collapsed": false,
    "ExecuteTime": {
     "end_time": "2024-12-02T16:47:54.284125800Z",
     "start_time": "2024-12-02T16:47:54.248094600Z"
    }
   }
  },
  {
   "cell_type": "code",
   "execution_count": 22,
   "outputs": [],
   "source": [
    "df['keywords'] = df['keywords'].apply(json.loads)\n",
    "df['keywords'] = df['keywords'].apply(lambda x: x['keywords'])\n",
    "df['keywords'] = df['keywords'].apply(lambda x: \" \".join([i['name'] for i in x]))\n",
    "for col in ['genres', 'production_countries',\n",
    "            'production_companies', 'spoken_languages']:\n",
    "    df[col] = df[col].apply(process_dicts)"
   ],
   "metadata": {
    "collapsed": false,
    "ExecuteTime": {
     "end_time": "2024-12-02T16:47:54.940886100Z",
     "start_time": "2024-12-02T16:47:54.924400900Z"
    }
   }
  },
  {
   "cell_type": "code",
   "execution_count": 23,
   "outputs": [
    {
     "data": {
      "text/plain": "   budget         genres                 homepage     id    imdb_id  \\\n0       0  Comedy Family                      NaN   3924  tt0029927   \n1       0      Adventure                      NaN   6124        NaN   \n2       0  Drama Romance                      NaN   8773  tt0055747   \n3       0                 http://www.nwdfilms.com  25449        NaN   \n4       0         Family                      NaN  31975  tt1656746   \n\n             origin_country original_language  \\\n0                    ['US']                en   \n1                    ['DE']                de   \n2  ['FR', 'IT', 'JP', 'PL']                fr   \n3                    ['US']                en   \n4                    ['US']                en   \n\n                       original_title  \\\n0                             Blondie   \n1                 Der Mann ohne Namen   \n2                 L'Amour à vingt ans   \n3  New World Disorder 9: Never Enough   \n4      Sesame Street: Elmo Loves You!   \n\n                                            overview  popularity  ...  \\\n0  Blondie and Dagwood are about to celebrate the...       3.072  ...   \n1                                                NaN       1.625  ...   \n2  Love at Twenty unites five directors from five...       3.545  ...   \n3  Gee Atherton ripping the Worlds course the day...       3.503  ...   \n4  Elmo is making a very, very super special surp...       0.002  ...   \n\n  release_date revenue runtime                      spoken_languages  \\\n0   1938-11-30       0      70                               English   \n1   1921-01-01       0     420                                         \n2   1962-06-22       0     120  Français Deutsch Italiano 日本語 Polski   \n3   2008-12-08       0      69                               English   \n4   2010-01-05       0      46                                         \n\n     status                                            tagline  \\\n0  Released  The favorite comic strip of millions at last o...   \n1  Released                                                NaN   \n2  Released               The Intimate Secrets of Young Lovers   \n3  Released                                                NaN   \n4  Released                                                NaN   \n\n                                title vote_average vote_count  \\\n0                             Blondie          7.1          8   \n1       Peter Voss, Thief of Millions          0.0          0   \n2                      Love at Twenty          6.7         48   \n3  New World Disorder 9: Never Enough          6.0          3   \n4      Sesame Street: Elmo Loves You!          0.0          0   \n\n                 keywords  \n0                 blondie  \n1                          \n2                          \n3  sports mountain biking  \n4                          \n\n[5 rows x 23 columns]",
      "text/html": "<div>\n<style scoped>\n    .dataframe tbody tr th:only-of-type {\n        vertical-align: middle;\n    }\n\n    .dataframe tbody tr th {\n        vertical-align: top;\n    }\n\n    .dataframe thead th {\n        text-align: right;\n    }\n</style>\n<table border=\"1\" class=\"dataframe\">\n  <thead>\n    <tr style=\"text-align: right;\">\n      <th></th>\n      <th>budget</th>\n      <th>genres</th>\n      <th>homepage</th>\n      <th>id</th>\n      <th>imdb_id</th>\n      <th>origin_country</th>\n      <th>original_language</th>\n      <th>original_title</th>\n      <th>overview</th>\n      <th>popularity</th>\n      <th>...</th>\n      <th>release_date</th>\n      <th>revenue</th>\n      <th>runtime</th>\n      <th>spoken_languages</th>\n      <th>status</th>\n      <th>tagline</th>\n      <th>title</th>\n      <th>vote_average</th>\n      <th>vote_count</th>\n      <th>keywords</th>\n    </tr>\n  </thead>\n  <tbody>\n    <tr>\n      <th>0</th>\n      <td>0</td>\n      <td>Comedy Family</td>\n      <td>NaN</td>\n      <td>3924</td>\n      <td>tt0029927</td>\n      <td>['US']</td>\n      <td>en</td>\n      <td>Blondie</td>\n      <td>Blondie and Dagwood are about to celebrate the...</td>\n      <td>3.072</td>\n      <td>...</td>\n      <td>1938-11-30</td>\n      <td>0</td>\n      <td>70</td>\n      <td>English</td>\n      <td>Released</td>\n      <td>The favorite comic strip of millions at last o...</td>\n      <td>Blondie</td>\n      <td>7.1</td>\n      <td>8</td>\n      <td>blondie</td>\n    </tr>\n    <tr>\n      <th>1</th>\n      <td>0</td>\n      <td>Adventure</td>\n      <td>NaN</td>\n      <td>6124</td>\n      <td>NaN</td>\n      <td>['DE']</td>\n      <td>de</td>\n      <td>Der Mann ohne Namen</td>\n      <td>NaN</td>\n      <td>1.625</td>\n      <td>...</td>\n      <td>1921-01-01</td>\n      <td>0</td>\n      <td>420</td>\n      <td></td>\n      <td>Released</td>\n      <td>NaN</td>\n      <td>Peter Voss, Thief of Millions</td>\n      <td>0.0</td>\n      <td>0</td>\n      <td></td>\n    </tr>\n    <tr>\n      <th>2</th>\n      <td>0</td>\n      <td>Drama Romance</td>\n      <td>NaN</td>\n      <td>8773</td>\n      <td>tt0055747</td>\n      <td>['FR', 'IT', 'JP', 'PL']</td>\n      <td>fr</td>\n      <td>L'Amour à vingt ans</td>\n      <td>Love at Twenty unites five directors from five...</td>\n      <td>3.545</td>\n      <td>...</td>\n      <td>1962-06-22</td>\n      <td>0</td>\n      <td>120</td>\n      <td>Français Deutsch Italiano 日本語 Polski</td>\n      <td>Released</td>\n      <td>The Intimate Secrets of Young Lovers</td>\n      <td>Love at Twenty</td>\n      <td>6.7</td>\n      <td>48</td>\n      <td></td>\n    </tr>\n    <tr>\n      <th>3</th>\n      <td>0</td>\n      <td></td>\n      <td>http://www.nwdfilms.com</td>\n      <td>25449</td>\n      <td>NaN</td>\n      <td>['US']</td>\n      <td>en</td>\n      <td>New World Disorder 9: Never Enough</td>\n      <td>Gee Atherton ripping the Worlds course the day...</td>\n      <td>3.503</td>\n      <td>...</td>\n      <td>2008-12-08</td>\n      <td>0</td>\n      <td>69</td>\n      <td>English</td>\n      <td>Released</td>\n      <td>NaN</td>\n      <td>New World Disorder 9: Never Enough</td>\n      <td>6.0</td>\n      <td>3</td>\n      <td>sports mountain biking</td>\n    </tr>\n    <tr>\n      <th>4</th>\n      <td>0</td>\n      <td>Family</td>\n      <td>NaN</td>\n      <td>31975</td>\n      <td>tt1656746</td>\n      <td>['US']</td>\n      <td>en</td>\n      <td>Sesame Street: Elmo Loves You!</td>\n      <td>Elmo is making a very, very super special surp...</td>\n      <td>0.002</td>\n      <td>...</td>\n      <td>2010-01-05</td>\n      <td>0</td>\n      <td>46</td>\n      <td></td>\n      <td>Released</td>\n      <td>NaN</td>\n      <td>Sesame Street: Elmo Loves You!</td>\n      <td>0.0</td>\n      <td>0</td>\n      <td></td>\n    </tr>\n  </tbody>\n</table>\n<p>5 rows × 23 columns</p>\n</div>"
     },
     "execution_count": 23,
     "metadata": {},
     "output_type": "execute_result"
    }
   ],
   "source": [
    "df.head()"
   ],
   "metadata": {
    "collapsed": false,
    "ExecuteTime": {
     "end_time": "2024-12-02T16:47:55.430710500Z",
     "start_time": "2024-12-02T16:47:55.389176700Z"
    }
   }
  },
  {
   "cell_type": "code",
   "execution_count": 24,
   "outputs": [],
   "source": [
    "missing = {'', 'NaN', 'nan'}\n",
    "for col in df.columns:\n",
    "    df[col] = df[col].apply(lambda x: np.NAN if x in missing else x)"
   ],
   "metadata": {
    "collapsed": false,
    "ExecuteTime": {
     "end_time": "2024-12-02T16:47:55.926029100Z",
     "start_time": "2024-12-02T16:47:55.863738900Z"
    }
   }
  },
  {
   "cell_type": "code",
   "execution_count": 26,
   "outputs": [
    {
     "data": {
      "text/plain": "budget                    0\ngenres                    1\nhomepage                121\nid                        0\nimdb_id                   3\norigin_country            0\noriginal_language         0\noriginal_title            0\noverview                  2\npopularity                0\nposter_path               2\nproduction_companies      6\nproduction_countries      2\nrelease_date              0\nrevenue                   0\nruntime                   0\nspoken_languages          2\nstatus                    0\ntagline                  38\ntitle                     0\nvote_average              0\nvote_count                0\nkeywords                  3\ndtype: int64"
     },
     "execution_count": 26,
     "metadata": {},
     "output_type": "execute_result"
    }
   ],
   "source": [
    "df.isnull().sum()"
   ],
   "metadata": {
    "collapsed": false,
    "ExecuteTime": {
     "end_time": "2024-12-02T16:48:06.930049Z",
     "start_time": "2024-12-02T16:48:06.889809700Z"
    }
   }
  },
  {
   "cell_type": "code",
   "execution_count": 27,
   "outputs": [
    {
     "data": {
      "text/plain": "   budget         genres                 homepage     id    imdb_id  \\\n0       0  Comedy Family                      NaN   3924  tt0029927   \n1       0      Adventure                      NaN   6124        NaN   \n2       0  Drama Romance                      NaN   8773  tt0055747   \n3       0            NaN  http://www.nwdfilms.com  25449        NaN   \n4       0         Family                      NaN  31975  tt1656746   \n\n             origin_country original_language  \\\n0                    ['US']                en   \n1                    ['DE']                de   \n2  ['FR', 'IT', 'JP', 'PL']                fr   \n3                    ['US']                en   \n4                    ['US']                en   \n\n                       original_title  \\\n0                             Blondie   \n1                 Der Mann ohne Namen   \n2                 L'Amour à vingt ans   \n3  New World Disorder 9: Never Enough   \n4      Sesame Street: Elmo Loves You!   \n\n                                            overview  popularity  ...  \\\n0  Blondie and Dagwood are about to celebrate the...       3.072  ...   \n1                                                NaN       1.625  ...   \n2  Love at Twenty unites five directors from five...       3.545  ...   \n3  Gee Atherton ripping the Worlds course the day...       3.503  ...   \n4  Elmo is making a very, very super special surp...       0.002  ...   \n\n  release_date revenue runtime                      spoken_languages  \\\n0   1938-11-30       0      70                               English   \n1   1921-01-01       0     420                                   NaN   \n2   1962-06-22       0     120  Français Deutsch Italiano 日本語 Polski   \n3   2008-12-08       0      69                               English   \n4   2010-01-05       0      46                                   NaN   \n\n     status                                            tagline  \\\n0  Released  The favorite comic strip of millions at last o...   \n1  Released                                                NaN   \n2  Released               The Intimate Secrets of Young Lovers   \n3  Released                                                NaN   \n4  Released                                                NaN   \n\n                                title vote_average vote_count  \\\n0                             Blondie          7.1          8   \n1       Peter Voss, Thief of Millions          0.0          0   \n2                      Love at Twenty          6.7         48   \n3  New World Disorder 9: Never Enough          6.0          3   \n4      Sesame Street: Elmo Loves You!          0.0          0   \n\n                 keywords  \n0                 blondie  \n1                     NaN  \n2                     NaN  \n3  sports mountain biking  \n4                     NaN  \n\n[5 rows x 23 columns]",
      "text/html": "<div>\n<style scoped>\n    .dataframe tbody tr th:only-of-type {\n        vertical-align: middle;\n    }\n\n    .dataframe tbody tr th {\n        vertical-align: top;\n    }\n\n    .dataframe thead th {\n        text-align: right;\n    }\n</style>\n<table border=\"1\" class=\"dataframe\">\n  <thead>\n    <tr style=\"text-align: right;\">\n      <th></th>\n      <th>budget</th>\n      <th>genres</th>\n      <th>homepage</th>\n      <th>id</th>\n      <th>imdb_id</th>\n      <th>origin_country</th>\n      <th>original_language</th>\n      <th>original_title</th>\n      <th>overview</th>\n      <th>popularity</th>\n      <th>...</th>\n      <th>release_date</th>\n      <th>revenue</th>\n      <th>runtime</th>\n      <th>spoken_languages</th>\n      <th>status</th>\n      <th>tagline</th>\n      <th>title</th>\n      <th>vote_average</th>\n      <th>vote_count</th>\n      <th>keywords</th>\n    </tr>\n  </thead>\n  <tbody>\n    <tr>\n      <th>0</th>\n      <td>0</td>\n      <td>Comedy Family</td>\n      <td>NaN</td>\n      <td>3924</td>\n      <td>tt0029927</td>\n      <td>['US']</td>\n      <td>en</td>\n      <td>Blondie</td>\n      <td>Blondie and Dagwood are about to celebrate the...</td>\n      <td>3.072</td>\n      <td>...</td>\n      <td>1938-11-30</td>\n      <td>0</td>\n      <td>70</td>\n      <td>English</td>\n      <td>Released</td>\n      <td>The favorite comic strip of millions at last o...</td>\n      <td>Blondie</td>\n      <td>7.1</td>\n      <td>8</td>\n      <td>blondie</td>\n    </tr>\n    <tr>\n      <th>1</th>\n      <td>0</td>\n      <td>Adventure</td>\n      <td>NaN</td>\n      <td>6124</td>\n      <td>NaN</td>\n      <td>['DE']</td>\n      <td>de</td>\n      <td>Der Mann ohne Namen</td>\n      <td>NaN</td>\n      <td>1.625</td>\n      <td>...</td>\n      <td>1921-01-01</td>\n      <td>0</td>\n      <td>420</td>\n      <td>NaN</td>\n      <td>Released</td>\n      <td>NaN</td>\n      <td>Peter Voss, Thief of Millions</td>\n      <td>0.0</td>\n      <td>0</td>\n      <td>NaN</td>\n    </tr>\n    <tr>\n      <th>2</th>\n      <td>0</td>\n      <td>Drama Romance</td>\n      <td>NaN</td>\n      <td>8773</td>\n      <td>tt0055747</td>\n      <td>['FR', 'IT', 'JP', 'PL']</td>\n      <td>fr</td>\n      <td>L'Amour à vingt ans</td>\n      <td>Love at Twenty unites five directors from five...</td>\n      <td>3.545</td>\n      <td>...</td>\n      <td>1962-06-22</td>\n      <td>0</td>\n      <td>120</td>\n      <td>Français Deutsch Italiano 日本語 Polski</td>\n      <td>Released</td>\n      <td>The Intimate Secrets of Young Lovers</td>\n      <td>Love at Twenty</td>\n      <td>6.7</td>\n      <td>48</td>\n      <td>NaN</td>\n    </tr>\n    <tr>\n      <th>3</th>\n      <td>0</td>\n      <td>NaN</td>\n      <td>http://www.nwdfilms.com</td>\n      <td>25449</td>\n      <td>NaN</td>\n      <td>['US']</td>\n      <td>en</td>\n      <td>New World Disorder 9: Never Enough</td>\n      <td>Gee Atherton ripping the Worlds course the day...</td>\n      <td>3.503</td>\n      <td>...</td>\n      <td>2008-12-08</td>\n      <td>0</td>\n      <td>69</td>\n      <td>English</td>\n      <td>Released</td>\n      <td>NaN</td>\n      <td>New World Disorder 9: Never Enough</td>\n      <td>6.0</td>\n      <td>3</td>\n      <td>sports mountain biking</td>\n    </tr>\n    <tr>\n      <th>4</th>\n      <td>0</td>\n      <td>Family</td>\n      <td>NaN</td>\n      <td>31975</td>\n      <td>tt1656746</td>\n      <td>['US']</td>\n      <td>en</td>\n      <td>Sesame Street: Elmo Loves You!</td>\n      <td>Elmo is making a very, very super special surp...</td>\n      <td>0.002</td>\n      <td>...</td>\n      <td>2010-01-05</td>\n      <td>0</td>\n      <td>46</td>\n      <td>NaN</td>\n      <td>Released</td>\n      <td>NaN</td>\n      <td>Sesame Street: Elmo Loves You!</td>\n      <td>0.0</td>\n      <td>0</td>\n      <td>NaN</td>\n    </tr>\n  </tbody>\n</table>\n<p>5 rows × 23 columns</p>\n</div>"
     },
     "execution_count": 27,
     "metadata": {},
     "output_type": "execute_result"
    }
   ],
   "source": [
    "df.head()"
   ],
   "metadata": {
    "collapsed": false,
    "ExecuteTime": {
     "end_time": "2024-12-02T16:48:15.254467Z",
     "start_time": "2024-12-02T16:48:15.216035Z"
    }
   }
  },
  {
   "cell_type": "code",
   "execution_count": 28,
   "outputs": [
    {
     "data": {
      "text/plain": "Index(['budget', 'genres', 'homepage', 'id', 'imdb_id', 'origin_country',\n       'original_language', 'original_title', 'overview', 'popularity',\n       'poster_path', 'production_companies', 'production_countries',\n       'release_date', 'revenue', 'runtime', 'spoken_languages', 'status',\n       'tagline', 'title', 'vote_average', 'vote_count', 'keywords'],\n      dtype='object')"
     },
     "execution_count": 28,
     "metadata": {},
     "output_type": "execute_result"
    }
   ],
   "source": [
    "df.columns"
   ],
   "metadata": {
    "collapsed": false,
    "ExecuteTime": {
     "end_time": "2024-12-02T16:49:38.484866200Z",
     "start_time": "2024-12-02T16:49:38.430786900Z"
    }
   }
  },
  {
   "cell_type": "code",
   "execution_count": 34,
   "outputs": [
    {
     "data": {
      "text/plain": "7        4257354\n8       12136938\n11     775398007\n12     940335536\n13     677387716\n         ...    \n195     15119639\n196      2500000\n197    245066411\n198     25000000\n199    102600000\nName: revenue, Length: 152, dtype: int64"
     },
     "execution_count": 34,
     "metadata": {},
     "output_type": "execute_result"
    }
   ],
   "source": [
    "df[df['revenue'] != 0]['revenue']"
   ],
   "metadata": {
    "collapsed": false,
    "ExecuteTime": {
     "end_time": "2024-12-02T16:52:02.223109700Z",
     "start_time": "2024-12-02T16:52:02.198729Z"
    }
   }
  },
  {
   "cell_type": "code",
   "execution_count": 37,
   "outputs": [],
   "source": [
    "df = df.drop(columns= ['budget', 'homepage'])"
   ],
   "metadata": {
    "collapsed": false,
    "ExecuteTime": {
     "end_time": "2024-12-02T16:57:07.974569300Z",
     "start_time": "2024-12-02T16:57:07.948986Z"
    }
   }
  },
  {
   "cell_type": "code",
   "execution_count": 39,
   "outputs": [
    {
     "data": {
      "text/plain": "          genres     id    imdb_id            origin_country  \\\n0  Comedy Family   3924  tt0029927                    ['US']   \n1      Adventure   6124        NaN                    ['DE']   \n2  Drama Romance   8773  tt0055747  ['FR', 'IT', 'JP', 'PL']   \n3            NaN  25449        NaN                    ['US']   \n4         Family  31975  tt1656746                    ['US']   \n\n  original_language                      original_title  \\\n0                en                             Blondie   \n1                de                 Der Mann ohne Namen   \n2                fr                 L'Amour à vingt ans   \n3                en  New World Disorder 9: Never Enough   \n4                en      Sesame Street: Elmo Loves You!   \n\n                                            overview  popularity  \\\n0  Blondie and Dagwood are about to celebrate the...       3.072   \n1                                                NaN       1.625   \n2  Love at Twenty unites five directors from five...       3.545   \n3  Gee Atherton ripping the Worlds course the day...       3.503   \n4  Elmo is making a very, very super special surp...       0.002   \n\n                        poster_path  \\\n0   /zBiHKhXklvTFwj4M1uEUcQGAVJ.jpg   \n1  /6xUbUCvndklbGVYiljHr34NTxSl.jpg   \n2  /aup2QCYCsyEeQfpboXy0f4uj8aE.jpg   \n3  /itQjoIO2e3padeLliHROJVAb7Av.jpg   \n4  /qKWcCmvGr4g0dgXvhqAc4BAMCtk.jpg   \n\n                                production_companies  ... release_date  \\\n0                                  Columbia Pictures  ...   1938-11-30   \n1                                                NaN  ...   1921-01-01   \n2  Ulysse Productions Unitec Films Cinesecolo TOH...  ...   1962-06-22   \n3                                                NaN  ...   2008-12-08   \n4                                                NaN  ...   2010-01-05   \n\n  revenue  runtime                      spoken_languages    status  \\\n0       0       70                               English  Released   \n1       0      420                                   NaN  Released   \n2       0      120  Français Deutsch Italiano 日本語 Polski  Released   \n3       0       69                               English  Released   \n4       0       46                                   NaN  Released   \n\n                                             tagline  \\\n0  The favorite comic strip of millions at last o...   \n1                                                NaN   \n2               The Intimate Secrets of Young Lovers   \n3                                                NaN   \n4                                                NaN   \n\n                                title vote_average  vote_count  \\\n0                             Blondie          7.1           8   \n1       Peter Voss, Thief of Millions          0.0           0   \n2                      Love at Twenty          6.7          48   \n3  New World Disorder 9: Never Enough          6.0           3   \n4      Sesame Street: Elmo Loves You!          0.0           0   \n\n                 keywords  \n0                 blondie  \n1                     NaN  \n2                     NaN  \n3  sports mountain biking  \n4                     NaN  \n\n[5 rows x 21 columns]",
      "text/html": "<div>\n<style scoped>\n    .dataframe tbody tr th:only-of-type {\n        vertical-align: middle;\n    }\n\n    .dataframe tbody tr th {\n        vertical-align: top;\n    }\n\n    .dataframe thead th {\n        text-align: right;\n    }\n</style>\n<table border=\"1\" class=\"dataframe\">\n  <thead>\n    <tr style=\"text-align: right;\">\n      <th></th>\n      <th>genres</th>\n      <th>id</th>\n      <th>imdb_id</th>\n      <th>origin_country</th>\n      <th>original_language</th>\n      <th>original_title</th>\n      <th>overview</th>\n      <th>popularity</th>\n      <th>poster_path</th>\n      <th>production_companies</th>\n      <th>...</th>\n      <th>release_date</th>\n      <th>revenue</th>\n      <th>runtime</th>\n      <th>spoken_languages</th>\n      <th>status</th>\n      <th>tagline</th>\n      <th>title</th>\n      <th>vote_average</th>\n      <th>vote_count</th>\n      <th>keywords</th>\n    </tr>\n  </thead>\n  <tbody>\n    <tr>\n      <th>0</th>\n      <td>Comedy Family</td>\n      <td>3924</td>\n      <td>tt0029927</td>\n      <td>['US']</td>\n      <td>en</td>\n      <td>Blondie</td>\n      <td>Blondie and Dagwood are about to celebrate the...</td>\n      <td>3.072</td>\n      <td>/zBiHKhXklvTFwj4M1uEUcQGAVJ.jpg</td>\n      <td>Columbia Pictures</td>\n      <td>...</td>\n      <td>1938-11-30</td>\n      <td>0</td>\n      <td>70</td>\n      <td>English</td>\n      <td>Released</td>\n      <td>The favorite comic strip of millions at last o...</td>\n      <td>Blondie</td>\n      <td>7.1</td>\n      <td>8</td>\n      <td>blondie</td>\n    </tr>\n    <tr>\n      <th>1</th>\n      <td>Adventure</td>\n      <td>6124</td>\n      <td>NaN</td>\n      <td>['DE']</td>\n      <td>de</td>\n      <td>Der Mann ohne Namen</td>\n      <td>NaN</td>\n      <td>1.625</td>\n      <td>/6xUbUCvndklbGVYiljHr34NTxSl.jpg</td>\n      <td>NaN</td>\n      <td>...</td>\n      <td>1921-01-01</td>\n      <td>0</td>\n      <td>420</td>\n      <td>NaN</td>\n      <td>Released</td>\n      <td>NaN</td>\n      <td>Peter Voss, Thief of Millions</td>\n      <td>0.0</td>\n      <td>0</td>\n      <td>NaN</td>\n    </tr>\n    <tr>\n      <th>2</th>\n      <td>Drama Romance</td>\n      <td>8773</td>\n      <td>tt0055747</td>\n      <td>['FR', 'IT', 'JP', 'PL']</td>\n      <td>fr</td>\n      <td>L'Amour à vingt ans</td>\n      <td>Love at Twenty unites five directors from five...</td>\n      <td>3.545</td>\n      <td>/aup2QCYCsyEeQfpboXy0f4uj8aE.jpg</td>\n      <td>Ulysse Productions Unitec Films Cinesecolo TOH...</td>\n      <td>...</td>\n      <td>1962-06-22</td>\n      <td>0</td>\n      <td>120</td>\n      <td>Français Deutsch Italiano 日本語 Polski</td>\n      <td>Released</td>\n      <td>The Intimate Secrets of Young Lovers</td>\n      <td>Love at Twenty</td>\n      <td>6.7</td>\n      <td>48</td>\n      <td>NaN</td>\n    </tr>\n    <tr>\n      <th>3</th>\n      <td>NaN</td>\n      <td>25449</td>\n      <td>NaN</td>\n      <td>['US']</td>\n      <td>en</td>\n      <td>New World Disorder 9: Never Enough</td>\n      <td>Gee Atherton ripping the Worlds course the day...</td>\n      <td>3.503</td>\n      <td>/itQjoIO2e3padeLliHROJVAb7Av.jpg</td>\n      <td>NaN</td>\n      <td>...</td>\n      <td>2008-12-08</td>\n      <td>0</td>\n      <td>69</td>\n      <td>English</td>\n      <td>Released</td>\n      <td>NaN</td>\n      <td>New World Disorder 9: Never Enough</td>\n      <td>6.0</td>\n      <td>3</td>\n      <td>sports mountain biking</td>\n    </tr>\n    <tr>\n      <th>4</th>\n      <td>Family</td>\n      <td>31975</td>\n      <td>tt1656746</td>\n      <td>['US']</td>\n      <td>en</td>\n      <td>Sesame Street: Elmo Loves You!</td>\n      <td>Elmo is making a very, very super special surp...</td>\n      <td>0.002</td>\n      <td>/qKWcCmvGr4g0dgXvhqAc4BAMCtk.jpg</td>\n      <td>NaN</td>\n      <td>...</td>\n      <td>2010-01-05</td>\n      <td>0</td>\n      <td>46</td>\n      <td>NaN</td>\n      <td>Released</td>\n      <td>NaN</td>\n      <td>Sesame Street: Elmo Loves You!</td>\n      <td>0.0</td>\n      <td>0</td>\n      <td>NaN</td>\n    </tr>\n  </tbody>\n</table>\n<p>5 rows × 21 columns</p>\n</div>"
     },
     "execution_count": 39,
     "metadata": {},
     "output_type": "execute_result"
    }
   ],
   "source": [
    "df.head()"
   ],
   "metadata": {
    "collapsed": false,
    "ExecuteTime": {
     "end_time": "2024-12-02T16:57:15.078814200Z",
     "start_time": "2024-12-02T16:57:15.047032900Z"
    }
   }
  },
  {
   "cell_type": "code",
   "execution_count": 40,
   "outputs": [
    {
     "name": "stdout",
     "output_type": "stream",
     "text": [
      "<class 'pandas.core.frame.DataFrame'>\n",
      "RangeIndex: 200 entries, 0 to 199\n",
      "Data columns (total 21 columns):\n",
      " #   Column                Non-Null Count  Dtype  \n",
      "---  ------                --------------  -----  \n",
      " 0   genres                199 non-null    object \n",
      " 1   id                    200 non-null    int64  \n",
      " 2   imdb_id               197 non-null    object \n",
      " 3   origin_country        200 non-null    object \n",
      " 4   original_language     200 non-null    object \n",
      " 5   original_title        200 non-null    object \n",
      " 6   overview              198 non-null    object \n",
      " 7   popularity            200 non-null    float64\n",
      " 8   poster_path           198 non-null    object \n",
      " 9   production_companies  194 non-null    object \n",
      " 10  production_countries  198 non-null    object \n",
      " 11  release_date          200 non-null    object \n",
      " 12  revenue               200 non-null    int64  \n",
      " 13  runtime               200 non-null    int64  \n",
      " 14  spoken_languages      198 non-null    object \n",
      " 15  status                200 non-null    object \n",
      " 16  tagline               162 non-null    object \n",
      " 17  title                 200 non-null    object \n",
      " 18  vote_average          200 non-null    float64\n",
      " 19  vote_count            200 non-null    int64  \n",
      " 20  keywords              197 non-null    object \n",
      "dtypes: float64(2), int64(4), object(15)\n",
      "memory usage: 32.9+ KB\n"
     ]
    }
   ],
   "source": [
    "df.info()"
   ],
   "metadata": {
    "collapsed": false,
    "ExecuteTime": {
     "end_time": "2024-12-02T16:58:09.754642300Z",
     "start_time": "2024-12-02T16:58:09.681712600Z"
    }
   }
  },
  {
   "cell_type": "code",
   "execution_count": 41,
   "outputs": [],
   "source": [
    "df['release_date'] = pd.to_datetime(df['release_date'])"
   ],
   "metadata": {
    "collapsed": false,
    "ExecuteTime": {
     "end_time": "2024-12-02T16:58:48.746850600Z",
     "start_time": "2024-12-02T16:58:48.689664600Z"
    }
   }
  },
  {
   "cell_type": "code",
   "execution_count": 42,
   "outputs": [
    {
     "data": {
      "text/plain": "          genres     id    imdb_id            origin_country  \\\n0  Comedy Family   3924  tt0029927                    ['US']   \n1      Adventure   6124        NaN                    ['DE']   \n2  Drama Romance   8773  tt0055747  ['FR', 'IT', 'JP', 'PL']   \n3            NaN  25449        NaN                    ['US']   \n4         Family  31975  tt1656746                    ['US']   \n\n  original_language                      original_title  \\\n0                en                             Blondie   \n1                de                 Der Mann ohne Namen   \n2                fr                 L'Amour à vingt ans   \n3                en  New World Disorder 9: Never Enough   \n4                en      Sesame Street: Elmo Loves You!   \n\n                                            overview  popularity  \\\n0  Blondie and Dagwood are about to celebrate the...       3.072   \n1                                                NaN       1.625   \n2  Love at Twenty unites five directors from five...       3.545   \n3  Gee Atherton ripping the Worlds course the day...       3.503   \n4  Elmo is making a very, very super special surp...       0.002   \n\n                        poster_path  \\\n0   /zBiHKhXklvTFwj4M1uEUcQGAVJ.jpg   \n1  /6xUbUCvndklbGVYiljHr34NTxSl.jpg   \n2  /aup2QCYCsyEeQfpboXy0f4uj8aE.jpg   \n3  /itQjoIO2e3padeLliHROJVAb7Av.jpg   \n4  /qKWcCmvGr4g0dgXvhqAc4BAMCtk.jpg   \n\n                                production_companies  ... release_date  \\\n0                                  Columbia Pictures  ...   1938-11-30   \n1                                                NaN  ...   1921-01-01   \n2  Ulysse Productions Unitec Films Cinesecolo TOH...  ...   1962-06-22   \n3                                                NaN  ...   2008-12-08   \n4                                                NaN  ...   2010-01-05   \n\n  revenue  runtime                      spoken_languages    status  \\\n0       0       70                               English  Released   \n1       0      420                                   NaN  Released   \n2       0      120  Français Deutsch Italiano 日本語 Polski  Released   \n3       0       69                               English  Released   \n4       0       46                                   NaN  Released   \n\n                                             tagline  \\\n0  The favorite comic strip of millions at last o...   \n1                                                NaN   \n2               The Intimate Secrets of Young Lovers   \n3                                                NaN   \n4                                                NaN   \n\n                                title vote_average  vote_count  \\\n0                             Blondie          7.1           8   \n1       Peter Voss, Thief of Millions          0.0           0   \n2                      Love at Twenty          6.7          48   \n3  New World Disorder 9: Never Enough          6.0           3   \n4      Sesame Street: Elmo Loves You!          0.0           0   \n\n                 keywords  \n0                 blondie  \n1                     NaN  \n2                     NaN  \n3  sports mountain biking  \n4                     NaN  \n\n[5 rows x 21 columns]",
      "text/html": "<div>\n<style scoped>\n    .dataframe tbody tr th:only-of-type {\n        vertical-align: middle;\n    }\n\n    .dataframe tbody tr th {\n        vertical-align: top;\n    }\n\n    .dataframe thead th {\n        text-align: right;\n    }\n</style>\n<table border=\"1\" class=\"dataframe\">\n  <thead>\n    <tr style=\"text-align: right;\">\n      <th></th>\n      <th>genres</th>\n      <th>id</th>\n      <th>imdb_id</th>\n      <th>origin_country</th>\n      <th>original_language</th>\n      <th>original_title</th>\n      <th>overview</th>\n      <th>popularity</th>\n      <th>poster_path</th>\n      <th>production_companies</th>\n      <th>...</th>\n      <th>release_date</th>\n      <th>revenue</th>\n      <th>runtime</th>\n      <th>spoken_languages</th>\n      <th>status</th>\n      <th>tagline</th>\n      <th>title</th>\n      <th>vote_average</th>\n      <th>vote_count</th>\n      <th>keywords</th>\n    </tr>\n  </thead>\n  <tbody>\n    <tr>\n      <th>0</th>\n      <td>Comedy Family</td>\n      <td>3924</td>\n      <td>tt0029927</td>\n      <td>['US']</td>\n      <td>en</td>\n      <td>Blondie</td>\n      <td>Blondie and Dagwood are about to celebrate the...</td>\n      <td>3.072</td>\n      <td>/zBiHKhXklvTFwj4M1uEUcQGAVJ.jpg</td>\n      <td>Columbia Pictures</td>\n      <td>...</td>\n      <td>1938-11-30</td>\n      <td>0</td>\n      <td>70</td>\n      <td>English</td>\n      <td>Released</td>\n      <td>The favorite comic strip of millions at last o...</td>\n      <td>Blondie</td>\n      <td>7.1</td>\n      <td>8</td>\n      <td>blondie</td>\n    </tr>\n    <tr>\n      <th>1</th>\n      <td>Adventure</td>\n      <td>6124</td>\n      <td>NaN</td>\n      <td>['DE']</td>\n      <td>de</td>\n      <td>Der Mann ohne Namen</td>\n      <td>NaN</td>\n      <td>1.625</td>\n      <td>/6xUbUCvndklbGVYiljHr34NTxSl.jpg</td>\n      <td>NaN</td>\n      <td>...</td>\n      <td>1921-01-01</td>\n      <td>0</td>\n      <td>420</td>\n      <td>NaN</td>\n      <td>Released</td>\n      <td>NaN</td>\n      <td>Peter Voss, Thief of Millions</td>\n      <td>0.0</td>\n      <td>0</td>\n      <td>NaN</td>\n    </tr>\n    <tr>\n      <th>2</th>\n      <td>Drama Romance</td>\n      <td>8773</td>\n      <td>tt0055747</td>\n      <td>['FR', 'IT', 'JP', 'PL']</td>\n      <td>fr</td>\n      <td>L'Amour à vingt ans</td>\n      <td>Love at Twenty unites five directors from five...</td>\n      <td>3.545</td>\n      <td>/aup2QCYCsyEeQfpboXy0f4uj8aE.jpg</td>\n      <td>Ulysse Productions Unitec Films Cinesecolo TOH...</td>\n      <td>...</td>\n      <td>1962-06-22</td>\n      <td>0</td>\n      <td>120</td>\n      <td>Français Deutsch Italiano 日本語 Polski</td>\n      <td>Released</td>\n      <td>The Intimate Secrets of Young Lovers</td>\n      <td>Love at Twenty</td>\n      <td>6.7</td>\n      <td>48</td>\n      <td>NaN</td>\n    </tr>\n    <tr>\n      <th>3</th>\n      <td>NaN</td>\n      <td>25449</td>\n      <td>NaN</td>\n      <td>['US']</td>\n      <td>en</td>\n      <td>New World Disorder 9: Never Enough</td>\n      <td>Gee Atherton ripping the Worlds course the day...</td>\n      <td>3.503</td>\n      <td>/itQjoIO2e3padeLliHROJVAb7Av.jpg</td>\n      <td>NaN</td>\n      <td>...</td>\n      <td>2008-12-08</td>\n      <td>0</td>\n      <td>69</td>\n      <td>English</td>\n      <td>Released</td>\n      <td>NaN</td>\n      <td>New World Disorder 9: Never Enough</td>\n      <td>6.0</td>\n      <td>3</td>\n      <td>sports mountain biking</td>\n    </tr>\n    <tr>\n      <th>4</th>\n      <td>Family</td>\n      <td>31975</td>\n      <td>tt1656746</td>\n      <td>['US']</td>\n      <td>en</td>\n      <td>Sesame Street: Elmo Loves You!</td>\n      <td>Elmo is making a very, very super special surp...</td>\n      <td>0.002</td>\n      <td>/qKWcCmvGr4g0dgXvhqAc4BAMCtk.jpg</td>\n      <td>NaN</td>\n      <td>...</td>\n      <td>2010-01-05</td>\n      <td>0</td>\n      <td>46</td>\n      <td>NaN</td>\n      <td>Released</td>\n      <td>NaN</td>\n      <td>Sesame Street: Elmo Loves You!</td>\n      <td>0.0</td>\n      <td>0</td>\n      <td>NaN</td>\n    </tr>\n  </tbody>\n</table>\n<p>5 rows × 21 columns</p>\n</div>"
     },
     "execution_count": 42,
     "metadata": {},
     "output_type": "execute_result"
    }
   ],
   "source": [
    "df.head()"
   ],
   "metadata": {
    "collapsed": false,
    "ExecuteTime": {
     "end_time": "2024-12-02T16:58:51.724769100Z",
     "start_time": "2024-12-02T16:58:51.644905100Z"
    }
   }
  },
  {
   "cell_type": "code",
   "execution_count": 43,
   "outputs": [],
   "source": [
    "df['year'] = df['release_date'].dt.year.astype('Int64')"
   ],
   "metadata": {
    "collapsed": false,
    "ExecuteTime": {
     "end_time": "2024-12-02T16:59:22.018280800Z",
     "start_time": "2024-12-02T16:59:21.953462200Z"
    }
   }
  },
  {
   "cell_type": "code",
   "execution_count": 45,
   "outputs": [
    {
     "data": {
      "text/plain": "genres                   1\nid                       0\nimdb_id                  3\norigin_country           0\noriginal_language        0\noriginal_title           0\noverview                 2\npopularity               0\nposter_path              2\nproduction_companies     6\nproduction_countries     2\nrelease_date             0\nrevenue                  0\nruntime                  0\nspoken_languages         2\nstatus                   0\ntagline                 38\ntitle                    0\nvote_average             0\nvote_count               0\nkeywords                 3\nyear                     0\ndtype: int64"
     },
     "execution_count": 45,
     "metadata": {},
     "output_type": "execute_result"
    }
   ],
   "source": [
    "df.isnull().sum()"
   ],
   "metadata": {
    "collapsed": false,
    "ExecuteTime": {
     "end_time": "2024-12-02T16:59:38.810301700Z",
     "start_time": "2024-12-02T16:59:38.791312600Z"
    }
   }
  },
  {
   "cell_type": "code",
   "execution_count": 46,
   "outputs": [],
   "source": [
    "df.dropna(inplace=True)"
   ],
   "metadata": {
    "collapsed": false,
    "ExecuteTime": {
     "end_time": "2024-12-02T17:00:07.526338500Z",
     "start_time": "2024-12-02T17:00:07.461209Z"
    }
   }
  },
  {
   "cell_type": "code",
   "execution_count": 47,
   "outputs": [],
   "source": [
    "df = df[df['vote_count'] > 50]"
   ],
   "metadata": {
    "collapsed": false,
    "ExecuteTime": {
     "end_time": "2024-12-02T17:00:26.148045800Z",
     "start_time": "2024-12-02T17:00:26.114564600Z"
    }
   }
  },
  {
   "cell_type": "code",
   "execution_count": 48,
   "outputs": [
    {
     "data": {
      "text/plain": "                               genres   id    imdb_id origin_country  \\\n7                              Comedy    5  tt0113101         ['US']   \n8               Action Crime Thriller    6  tt0107286         ['US']   \n11   Adventure Action Science Fiction   11  tt0076759         ['US']   \n12                   Animation Family   12  tt0266543         ['US']   \n13               Comedy Drama Romance   13  tt0109830         ['US']   \n..                                ...  ...        ...            ...   \n195              Comedy Drama Romance  236  tt0110598         ['AU']   \n196      Drama Thriller Crime Romance  237  tt0289635   ['US', 'GB']   \n197                       Drama Crime  238  tt0068646         ['US']   \n198              Comedy Romance Crime  239  tt0053291         ['US']   \n199                       Drama Crime  240  tt0071562         ['US']   \n\n    original_language         original_title  \\\n7                  en             Four Rooms   \n8                  en         Judgment Night   \n11                 en              Star Wars   \n12                 en           Finding Nemo   \n13                 en           Forrest Gump   \n..                ...                    ...   \n195                en       Muriel's Wedding   \n196                en             Young Adam   \n197                en          The Godfather   \n198                en       Some Like It Hot   \n199                en  The Godfather Part II   \n\n                                              overview  popularity  \\\n7    It's Ted the Bellhop's first night on the job....      13.956   \n8    Four young friends, while taking a shortcut en...      12.859   \n11   Princess Leia is captured and held hostage by ...      97.319   \n12   Nemo, an adventurous young clownfish, is unexp...      99.507   \n13   A man with a low IQ has accomplished great thi...      91.712   \n..                                                 ...         ...   \n195  A young social outcast in Australia steals mon...       7.524   \n196  A young drifter working on a river barge disru...      15.417   \n197  Spanning the years 1945 to 1955, a chronicle o...     179.773   \n198  Two musicians witness a mob hit and struggle t...      25.033   \n199  In the continuing saga of the Corleone crime f...     100.509   \n\n                          poster_path  \\\n7    /75aHn1NOYXh4M7L5shoeQ6NGykP.jpg   \n8    /3rvvpS9YPM5HB2f4HYiNiJVtdam.jpg   \n11   /6FfCtAuVAW8XJjZ7eWeLibRLWTw.jpg   \n12   /eHuGQ10FUzK1mdOY69wF5pGgEf5.jpg   \n13   /arw2vcBveWOVZr6pxd9XTd1TdQa.jpg   \n..                                ...   \n195  /zJyTr8Fo412a2OIfJGXTRAm4IwX.jpg   \n196  /rU5GJ5r4tQbSx9C2ENKbPkD6nr9.jpg   \n197  /3bhkrj58Vtu7enYsRolD1fZdja1.jpg   \n198  /hVIKyTK13AvOGv7ICmJjK44DTzp.jpg   \n199  /hek3koDUyRQk7FIhPXsa6mT2Zc3.jpg   \n\n                                  production_companies  ...    revenue  \\\n7                                 Miramax A Band Apart  ...    4257354   \n8           Largo Entertainment JVC Universal Pictures  ...   12136938   \n11                     Lucasfilm Ltd. 20th Century Fox  ...  775398007   \n12                                               Pixar  ...  940335536   \n13   Paramount Pictures The Steve Tisch Company Wen...  ...  677387716   \n..                                                 ...  ...        ...   \n195  CiBy 2000 Film Victoria House & Moorhouse Film...  ...   15119639   \n196                           Recorded Picture Company  ...    2500000   \n197              Paramount Pictures Alfran Productions  ...  245066411   \n198                                The Mirisch Company  ...   25000000   \n199  Paramount Pictures The Coppola Company America...  ...  102600000   \n\n    runtime                spoken_languages    status  \\\n7        98                         English  Released   \n8       109                         English  Released   \n11      121                         English  Released   \n12      100                         English  Released   \n13      142                         English  Released   \n..      ...                             ...       ...   \n195     106                     English 日本語  Released   \n196      93                         English  Released   \n197     175          English Italiano Latin  Released   \n198     122                         English  Released   \n199     202  English Italiano Latin Español  Released   \n\n                                               tagline                  title  \\\n7    Twelve outrageous guests. Four scandalous requ...             Four Rooms   \n8       Don't move. Don't whisper. Don't even breathe.         Judgment Night   \n11        A long time ago in a galaxy far, far away...              Star Wars   \n12   There are 3.7 trillion fish in the ocean. They...           Finding Nemo   \n13   The world will never be the same once you've s...           Forrest Gump   \n..                                                 ...                    ...   \n195                       Success is the best revenge.       Muriel's Wedding   \n196        Everyone has a past. Everyone has a secret.             Young Adam   \n197                         An offer you can't refuse.          The Godfather   \n198                       The movie too HOT for words!       Some Like It Hot   \n199          The rise and fall of the Corleone empire.  The Godfather Part II   \n\n    vote_average vote_count  \\\n7          5.853       2638   \n8          6.477        331   \n11         8.204      20596   \n12         7.820      19223   \n13         8.470      27465   \n..           ...        ...   \n195        6.800        445   \n196        5.800        167   \n197        8.700      20661   \n198        8.100       3451   \n199        8.600      12462   \n\n                                              keywords  year  \n7    hotel new year's eve witch bet sperm hotel roo...  1995  \n8    drug dealer chicago, illinois escape one night...  1993  \n11   empire galaxy rebellion android hermit smuggli...  1977  \n12   sydney, australia parent child relationship an...  2003  \n13   vietnam war vietnam veteran mentally disabled ...  1994  \n..                                                 ...   ...  \n195  daughter individual friendship dream love of o...  1994  \n196  dying and death adultery individual court case...  2003  \n197  based on novel or book loss of loved one love ...  1972  \n198  chicago, illinois florida transvestism musicia...  1959  \n199  italian american cuba italy gangster praise sy...  1974  \n\n[159 rows x 22 columns]",
      "text/html": "<div>\n<style scoped>\n    .dataframe tbody tr th:only-of-type {\n        vertical-align: middle;\n    }\n\n    .dataframe tbody tr th {\n        vertical-align: top;\n    }\n\n    .dataframe thead th {\n        text-align: right;\n    }\n</style>\n<table border=\"1\" class=\"dataframe\">\n  <thead>\n    <tr style=\"text-align: right;\">\n      <th></th>\n      <th>genres</th>\n      <th>id</th>\n      <th>imdb_id</th>\n      <th>origin_country</th>\n      <th>original_language</th>\n      <th>original_title</th>\n      <th>overview</th>\n      <th>popularity</th>\n      <th>poster_path</th>\n      <th>production_companies</th>\n      <th>...</th>\n      <th>revenue</th>\n      <th>runtime</th>\n      <th>spoken_languages</th>\n      <th>status</th>\n      <th>tagline</th>\n      <th>title</th>\n      <th>vote_average</th>\n      <th>vote_count</th>\n      <th>keywords</th>\n      <th>year</th>\n    </tr>\n  </thead>\n  <tbody>\n    <tr>\n      <th>7</th>\n      <td>Comedy</td>\n      <td>5</td>\n      <td>tt0113101</td>\n      <td>['US']</td>\n      <td>en</td>\n      <td>Four Rooms</td>\n      <td>It's Ted the Bellhop's first night on the job....</td>\n      <td>13.956</td>\n      <td>/75aHn1NOYXh4M7L5shoeQ6NGykP.jpg</td>\n      <td>Miramax A Band Apart</td>\n      <td>...</td>\n      <td>4257354</td>\n      <td>98</td>\n      <td>English</td>\n      <td>Released</td>\n      <td>Twelve outrageous guests. Four scandalous requ...</td>\n      <td>Four Rooms</td>\n      <td>5.853</td>\n      <td>2638</td>\n      <td>hotel new year's eve witch bet sperm hotel roo...</td>\n      <td>1995</td>\n    </tr>\n    <tr>\n      <th>8</th>\n      <td>Action Crime Thriller</td>\n      <td>6</td>\n      <td>tt0107286</td>\n      <td>['US']</td>\n      <td>en</td>\n      <td>Judgment Night</td>\n      <td>Four young friends, while taking a shortcut en...</td>\n      <td>12.859</td>\n      <td>/3rvvpS9YPM5HB2f4HYiNiJVtdam.jpg</td>\n      <td>Largo Entertainment JVC Universal Pictures</td>\n      <td>...</td>\n      <td>12136938</td>\n      <td>109</td>\n      <td>English</td>\n      <td>Released</td>\n      <td>Don't move. Don't whisper. Don't even breathe.</td>\n      <td>Judgment Night</td>\n      <td>6.477</td>\n      <td>331</td>\n      <td>drug dealer chicago, illinois escape one night...</td>\n      <td>1993</td>\n    </tr>\n    <tr>\n      <th>11</th>\n      <td>Adventure Action Science Fiction</td>\n      <td>11</td>\n      <td>tt0076759</td>\n      <td>['US']</td>\n      <td>en</td>\n      <td>Star Wars</td>\n      <td>Princess Leia is captured and held hostage by ...</td>\n      <td>97.319</td>\n      <td>/6FfCtAuVAW8XJjZ7eWeLibRLWTw.jpg</td>\n      <td>Lucasfilm Ltd. 20th Century Fox</td>\n      <td>...</td>\n      <td>775398007</td>\n      <td>121</td>\n      <td>English</td>\n      <td>Released</td>\n      <td>A long time ago in a galaxy far, far away...</td>\n      <td>Star Wars</td>\n      <td>8.204</td>\n      <td>20596</td>\n      <td>empire galaxy rebellion android hermit smuggli...</td>\n      <td>1977</td>\n    </tr>\n    <tr>\n      <th>12</th>\n      <td>Animation Family</td>\n      <td>12</td>\n      <td>tt0266543</td>\n      <td>['US']</td>\n      <td>en</td>\n      <td>Finding Nemo</td>\n      <td>Nemo, an adventurous young clownfish, is unexp...</td>\n      <td>99.507</td>\n      <td>/eHuGQ10FUzK1mdOY69wF5pGgEf5.jpg</td>\n      <td>Pixar</td>\n      <td>...</td>\n      <td>940335536</td>\n      <td>100</td>\n      <td>English</td>\n      <td>Released</td>\n      <td>There are 3.7 trillion fish in the ocean. They...</td>\n      <td>Finding Nemo</td>\n      <td>7.820</td>\n      <td>19223</td>\n      <td>sydney, australia parent child relationship an...</td>\n      <td>2003</td>\n    </tr>\n    <tr>\n      <th>13</th>\n      <td>Comedy Drama Romance</td>\n      <td>13</td>\n      <td>tt0109830</td>\n      <td>['US']</td>\n      <td>en</td>\n      <td>Forrest Gump</td>\n      <td>A man with a low IQ has accomplished great thi...</td>\n      <td>91.712</td>\n      <td>/arw2vcBveWOVZr6pxd9XTd1TdQa.jpg</td>\n      <td>Paramount Pictures The Steve Tisch Company Wen...</td>\n      <td>...</td>\n      <td>677387716</td>\n      <td>142</td>\n      <td>English</td>\n      <td>Released</td>\n      <td>The world will never be the same once you've s...</td>\n      <td>Forrest Gump</td>\n      <td>8.470</td>\n      <td>27465</td>\n      <td>vietnam war vietnam veteran mentally disabled ...</td>\n      <td>1994</td>\n    </tr>\n    <tr>\n      <th>...</th>\n      <td>...</td>\n      <td>...</td>\n      <td>...</td>\n      <td>...</td>\n      <td>...</td>\n      <td>...</td>\n      <td>...</td>\n      <td>...</td>\n      <td>...</td>\n      <td>...</td>\n      <td>...</td>\n      <td>...</td>\n      <td>...</td>\n      <td>...</td>\n      <td>...</td>\n      <td>...</td>\n      <td>...</td>\n      <td>...</td>\n      <td>...</td>\n      <td>...</td>\n      <td>...</td>\n    </tr>\n    <tr>\n      <th>195</th>\n      <td>Comedy Drama Romance</td>\n      <td>236</td>\n      <td>tt0110598</td>\n      <td>['AU']</td>\n      <td>en</td>\n      <td>Muriel's Wedding</td>\n      <td>A young social outcast in Australia steals mon...</td>\n      <td>7.524</td>\n      <td>/zJyTr8Fo412a2OIfJGXTRAm4IwX.jpg</td>\n      <td>CiBy 2000 Film Victoria House &amp; Moorhouse Film...</td>\n      <td>...</td>\n      <td>15119639</td>\n      <td>106</td>\n      <td>English 日本語</td>\n      <td>Released</td>\n      <td>Success is the best revenge.</td>\n      <td>Muriel's Wedding</td>\n      <td>6.800</td>\n      <td>445</td>\n      <td>daughter individual friendship dream love of o...</td>\n      <td>1994</td>\n    </tr>\n    <tr>\n      <th>196</th>\n      <td>Drama Thriller Crime Romance</td>\n      <td>237</td>\n      <td>tt0289635</td>\n      <td>['US', 'GB']</td>\n      <td>en</td>\n      <td>Young Adam</td>\n      <td>A young drifter working on a river barge disru...</td>\n      <td>15.417</td>\n      <td>/rU5GJ5r4tQbSx9C2ENKbPkD6nr9.jpg</td>\n      <td>Recorded Picture Company</td>\n      <td>...</td>\n      <td>2500000</td>\n      <td>93</td>\n      <td>English</td>\n      <td>Released</td>\n      <td>Everyone has a past. Everyone has a secret.</td>\n      <td>Young Adam</td>\n      <td>5.800</td>\n      <td>167</td>\n      <td>dying and death adultery individual court case...</td>\n      <td>2003</td>\n    </tr>\n    <tr>\n      <th>197</th>\n      <td>Drama Crime</td>\n      <td>238</td>\n      <td>tt0068646</td>\n      <td>['US']</td>\n      <td>en</td>\n      <td>The Godfather</td>\n      <td>Spanning the years 1945 to 1955, a chronicle o...</td>\n      <td>179.773</td>\n      <td>/3bhkrj58Vtu7enYsRolD1fZdja1.jpg</td>\n      <td>Paramount Pictures Alfran Productions</td>\n      <td>...</td>\n      <td>245066411</td>\n      <td>175</td>\n      <td>English Italiano Latin</td>\n      <td>Released</td>\n      <td>An offer you can't refuse.</td>\n      <td>The Godfather</td>\n      <td>8.700</td>\n      <td>20661</td>\n      <td>based on novel or book loss of loved one love ...</td>\n      <td>1972</td>\n    </tr>\n    <tr>\n      <th>198</th>\n      <td>Comedy Romance Crime</td>\n      <td>239</td>\n      <td>tt0053291</td>\n      <td>['US']</td>\n      <td>en</td>\n      <td>Some Like It Hot</td>\n      <td>Two musicians witness a mob hit and struggle t...</td>\n      <td>25.033</td>\n      <td>/hVIKyTK13AvOGv7ICmJjK44DTzp.jpg</td>\n      <td>The Mirisch Company</td>\n      <td>...</td>\n      <td>25000000</td>\n      <td>122</td>\n      <td>English</td>\n      <td>Released</td>\n      <td>The movie too HOT for words!</td>\n      <td>Some Like It Hot</td>\n      <td>8.100</td>\n      <td>3451</td>\n      <td>chicago, illinois florida transvestism musicia...</td>\n      <td>1959</td>\n    </tr>\n    <tr>\n      <th>199</th>\n      <td>Drama Crime</td>\n      <td>240</td>\n      <td>tt0071562</td>\n      <td>['US']</td>\n      <td>en</td>\n      <td>The Godfather Part II</td>\n      <td>In the continuing saga of the Corleone crime f...</td>\n      <td>100.509</td>\n      <td>/hek3koDUyRQk7FIhPXsa6mT2Zc3.jpg</td>\n      <td>Paramount Pictures The Coppola Company America...</td>\n      <td>...</td>\n      <td>102600000</td>\n      <td>202</td>\n      <td>English Italiano Latin Español</td>\n      <td>Released</td>\n      <td>The rise and fall of the Corleone empire.</td>\n      <td>The Godfather Part II</td>\n      <td>8.600</td>\n      <td>12462</td>\n      <td>italian american cuba italy gangster praise sy...</td>\n      <td>1974</td>\n    </tr>\n  </tbody>\n</table>\n<p>159 rows × 22 columns</p>\n</div>"
     },
     "execution_count": 48,
     "metadata": {},
     "output_type": "execute_result"
    }
   ],
   "source": [
    "df"
   ],
   "metadata": {
    "collapsed": false,
    "ExecuteTime": {
     "end_time": "2024-12-02T17:00:29.211808500Z",
     "start_time": "2024-12-02T17:00:29.145320600Z"
    }
   }
  },
  {
   "cell_type": "code",
   "execution_count": 50,
   "outputs": [],
   "source": [
    "cre = pd.read_csv('movie_credits.csv')"
   ],
   "metadata": {
    "collapsed": false,
    "ExecuteTime": {
     "end_time": "2024-12-02T17:07:41.737770700Z",
     "start_time": "2024-12-02T17:07:41.253830800Z"
    }
   }
  },
  {
   "cell_type": "code",
   "execution_count": 51,
   "outputs": [
    {
     "data": {
      "text/plain": "   movie_id                         movie_title  \\\n0      3924                             Blondie   \n1      6124       Peter Voss, Thief of Millions   \n2      8773                      Love at Twenty   \n3     25449  New World Disorder 9: Never Enough   \n4     31975      Sesame Street: Elmo Loves You!   \n\n                                                cast  \\\n0  [{\"adult\": false, \"gender\": 1, \"id\": 34178, \"k...   \n1  [{\"adult\": false, \"gender\": 2, \"id\": 48038, \"k...   \n2  [{\"adult\": false, \"gender\": 2, \"id\": 1653, \"kn...   \n3  [{\"adult\": false, \"gender\": 2, \"id\": 84130, \"k...   \n4                                                 []   \n\n                                                crew  \n0  [{\"adult\": false, \"gender\": 0, \"id\": 34170, \"k...  \n1  [{\"adult\": false, \"gender\": 2, \"id\": 48035, \"k...  \n2  [{\"adult\": false, \"gender\": 2, \"id\": 1003232, ...  \n3  [{\"adult\": false, \"gender\": 0, \"id\": 112786, \"...  \n4                                                 []  ",
      "text/html": "<div>\n<style scoped>\n    .dataframe tbody tr th:only-of-type {\n        vertical-align: middle;\n    }\n\n    .dataframe tbody tr th {\n        vertical-align: top;\n    }\n\n    .dataframe thead th {\n        text-align: right;\n    }\n</style>\n<table border=\"1\" class=\"dataframe\">\n  <thead>\n    <tr style=\"text-align: right;\">\n      <th></th>\n      <th>movie_id</th>\n      <th>movie_title</th>\n      <th>cast</th>\n      <th>crew</th>\n    </tr>\n  </thead>\n  <tbody>\n    <tr>\n      <th>0</th>\n      <td>3924</td>\n      <td>Blondie</td>\n      <td>[{\"adult\": false, \"gender\": 1, \"id\": 34178, \"k...</td>\n      <td>[{\"adult\": false, \"gender\": 0, \"id\": 34170, \"k...</td>\n    </tr>\n    <tr>\n      <th>1</th>\n      <td>6124</td>\n      <td>Peter Voss, Thief of Millions</td>\n      <td>[{\"adult\": false, \"gender\": 2, \"id\": 48038, \"k...</td>\n      <td>[{\"adult\": false, \"gender\": 2, \"id\": 48035, \"k...</td>\n    </tr>\n    <tr>\n      <th>2</th>\n      <td>8773</td>\n      <td>Love at Twenty</td>\n      <td>[{\"adult\": false, \"gender\": 2, \"id\": 1653, \"kn...</td>\n      <td>[{\"adult\": false, \"gender\": 2, \"id\": 1003232, ...</td>\n    </tr>\n    <tr>\n      <th>3</th>\n      <td>25449</td>\n      <td>New World Disorder 9: Never Enough</td>\n      <td>[{\"adult\": false, \"gender\": 2, \"id\": 84130, \"k...</td>\n      <td>[{\"adult\": false, \"gender\": 0, \"id\": 112786, \"...</td>\n    </tr>\n    <tr>\n      <th>4</th>\n      <td>31975</td>\n      <td>Sesame Street: Elmo Loves You!</td>\n      <td>[]</td>\n      <td>[]</td>\n    </tr>\n  </tbody>\n</table>\n</div>"
     },
     "execution_count": 51,
     "metadata": {},
     "output_type": "execute_result"
    }
   ],
   "source": [
    "cre.head()"
   ],
   "metadata": {
    "collapsed": false,
    "ExecuteTime": {
     "end_time": "2024-12-02T17:07:46.122135300Z",
     "start_time": "2024-12-02T17:07:46.081951800Z"
    }
   }
  },
  {
   "cell_type": "code",
   "execution_count": null,
   "outputs": [],
   "source": [],
   "metadata": {
    "collapsed": false
   }
  }
 ],
 "metadata": {
  "kernelspec": {
   "display_name": "Python 3",
   "language": "python",
   "name": "python3"
  },
  "language_info": {
   "codemirror_mode": {
    "name": "ipython",
    "version": 2
   },
   "file_extension": ".py",
   "mimetype": "text/x-python",
   "name": "python",
   "nbconvert_exporter": "python",
   "pygments_lexer": "ipython2",
   "version": "2.7.6"
  }
 },
 "nbformat": 4,
 "nbformat_minor": 0
}
