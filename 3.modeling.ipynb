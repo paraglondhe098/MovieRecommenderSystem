{
 "cells": [
  {
   "cell_type": "code",
   "execution_count": 1,
   "outputs": [],
   "source": [
    "import os\n",
    "\n",
    "import pandas as pd"
   ],
   "metadata": {
    "collapsed": false,
    "ExecuteTime": {
     "end_time": "2024-12-16T15:03:55.472751800Z",
     "start_time": "2024-12-16T15:03:54.901713500Z"
    }
   }
  },
  {
   "cell_type": "code",
   "execution_count": 2,
   "outputs": [],
   "source": [
    "movies = pd.read_csv('data/cleaned-2/movies.csv').drop(columns='Unnamed: 0')\n",
    "metadata = pd.read_csv('data/cleaned-2/metadata.csv').drop(columns='Unnamed: 0')"
   ],
   "metadata": {
    "collapsed": false,
    "ExecuteTime": {
     "end_time": "2024-12-16T15:03:56.094432200Z",
     "start_time": "2024-12-16T15:03:55.470585400Z"
    }
   }
  },
  {
   "cell_type": "code",
   "execution_count": 3,
   "outputs": [],
   "source": [
    "from langchain.docstore.document import Document"
   ],
   "metadata": {
    "collapsed": false,
    "ExecuteTime": {
     "end_time": "2024-12-16T15:03:57.384177600Z",
     "start_time": "2024-12-16T15:03:56.095436300Z"
    }
   }
  },
  {
   "cell_type": "code",
   "execution_count": 4,
   "outputs": [],
   "source": [
    "metadata['soup'] = movies['soup']"
   ],
   "metadata": {
    "collapsed": false,
    "ExecuteTime": {
     "end_time": "2024-12-16T15:03:57.388084600Z",
     "start_time": "2024-12-16T15:03:57.385183500Z"
    }
   }
  },
  {
   "cell_type": "code",
   "execution_count": 5,
   "outputs": [
    {
     "data": {
      "text/plain": "Index(['belongs_to_collection', 'budget', 'homepage', 'imdb_id', 'popularity',\n       'poster_path', 'revenue', 'runtime', 'vote_average', 'vote_count',\n       'spoken_languages', 'original_title', 'id', 'release_date', 'cast',\n       'crew', 'genres', 'origin_country', 'original_language', 'overview',\n       'production_companies', 'tagline', 'title', 'keywords', 'soup'],\n      dtype='object')"
     },
     "execution_count": 5,
     "metadata": {},
     "output_type": "execute_result"
    }
   ],
   "source": [
    "metadata.columns"
   ],
   "metadata": {
    "collapsed": false,
    "ExecuteTime": {
     "end_time": "2024-12-16T15:03:57.396886600Z",
     "start_time": "2024-12-16T15:03:57.390088200Z"
    }
   }
  },
  {
   "cell_type": "code",
   "execution_count": 6,
   "outputs": [],
   "source": [
    "movies = []\n",
    "\n",
    "for idx, row in metadata.iterrows():\n",
    "    x = Document(page_content=row['soup'],\n",
    "                 metadata = {\n",
    "                     \"movie\": row['title'],\n",
    "                     \"tmdb_id\": row['id'],\n",
    "                     \"imdb_id\": row['imdb_id'],\n",
    "                     'genres': row['genres'],\n",
    "                     \"release_date\": row['release_date'],\n",
    "                     \"cast\": row['cast'],\n",
    "                     \"crew\": row['crew'],\n",
    "                     \"collection\": row['belongs_to_collection'],\n",
    "                     \"budget\": row['budget'],\n",
    "                     \"revenue\": row['revenue'],\n",
    "                     \"runtime\": row['runtime'],\n",
    "                     \"language\": row['original_language'],\n",
    "                     \"popularity\": row['popularity'],\n",
    "                     \"synopsis\": row['overview'],\n",
    "                     \"poster_path\": row['poster_path'],\n",
    "                     \"homepage\": row['homepage']\n",
    "                 })\n",
    "    movies.append(x)"
   ],
   "metadata": {
    "collapsed": false,
    "ExecuteTime": {
     "end_time": "2024-12-16T15:03:58.326076500Z",
     "start_time": "2024-12-16T15:03:57.399897900Z"
    }
   }
  },
  {
   "cell_type": "code",
   "execution_count": 7,
   "outputs": [
    {
     "data": {
      "text/plain": "Document(metadata={'movie': 'Ariel', 'tmdb_id': 2, 'imdb_id': 'tt0094675', 'genres': 'Comedy, Drama, Romance, Crime', 'release_date': '1988-10-21 00:00:00', 'cast': 'Turo Pajala, Susanna Haavisto, Matti Pellonpää, Eetu Hilkamo, Erkki Pajala, Matti Jaaranen, Hannu Viholainen, Jorma Markkula, Tarja Keinänen, Eino Kuusela, Kauko Laalo, Jyrki Olsonen, Esko Nikkari, Marja Packalén, Mikko Remes, Tomi Salmela, Reijo Marin, Heikki Salomaa, Veikko Uusimäki, Esko Salminen, Hannu Kivisalo, Pekka Wilen, Heikki Anttila, Pentti Auer, Timo Harakka, Kari Helaseppä, Juuso Hirvikangas, Hanna Jokinen, Sakari Kuosmanen, Sami Lanki, Jouko Lumme, Mikko Lyytikäinen, Timo Markko, Merja Pulkkinen, Markku Rantala, Sirkka Rautiainen, Jaakko Talaskivi, Timo Toikka, Olli Varja', 'crew': 'Additional Music: Dmitri Shostakovich, Additional Music: Pyotr Ilyich Tchaikovsky, Assistant Camera: Heikki Ortamo, Assistant Camera: Timo Markko, Assistant Director: Pauli Pentti, Assistant Editor: Outi Hyytinen, Colorist: Pirjo Laivuori, Colorist: Timo Nousiainen, Costume Assistant: Sirkka Rautiainen, Costume Design: Tuula Hilkamo, Director of Photography: Timo Salminen, Director: Aki Kaurismäki, Editor: Raija Talvio, Gaffer: Juuso Hirvikangas, Gaffer: Mikko Mattila, Gaffer: Olli Varja, Location Manager: Erkki Lume, Location Manager: Heikki Ukkonen, Music: Bill Casey, Music: Melrose, Music: Olavi Virta, Music: Rauli Somerjoki, Music: Taisto Tammi, Negative Cutter: Leena Palmu, Producer: Aki Kaurismäki, Production Design: Risto Karhula, Production Manager: Jaakko Talaskivi, Production Secretary: Haije Alanoja, Property Master: Simo Sulva, Publicist: Erkki Astala, Script Supervisor: Malla Hukkanen, Sound Assistant: Veikko Aaltonen, Sound Re-Recording Mixer: Kjell Westman, Sound: Jouko Lumme, Still Photographer: Malla Hukkanen, Writer: Aki Kaurismäki', 'collection': \"Kaurismäki's Proletariat Trilogy\", 'budget': 0, 'revenue': 0, 'runtime': 73, 'language': 'fi', 'popularity': 11.403, 'synopsis': 'After the coal mine he works at closes and his father commits suicide, a Finnish man leaves for the city to make a living but there, he is framed and imprisoned for various crimes.', 'poster_path': '/ojDg0PGvs6R9xYFodRct2kdI6wC.jpg', 'homepage': '[MISSING]'}, page_content='Title: Ariel. Genres: Comedy Drama Romance Crime. Keywords: prison underdog helsinki finland factory worker prisoner falling in love. Cast: TuroPajala SusannaHaavisto MattiPellonpää EetuHilkamo ErkkiPajala MattiJaaranen HannuViholainen JormaMarkkula TarjaKeinänen EinoKuusela. Directors: AkiKaurismäki. Writers: AkiKaurismäki. Overview: After the coal mine he works at closes and his father commits suicide, a Finnish man leaves for the city to make a living but there, he is framed and imprisoned for various crimes.. Released in: 1988.0. Productions: VillealfaFilmproductions. Original Language: fi')"
     },
     "execution_count": 7,
     "metadata": {},
     "output_type": "execute_result"
    }
   ],
   "source": [
    "movies[0]"
   ],
   "metadata": {
    "collapsed": false,
    "ExecuteTime": {
     "end_time": "2024-12-16T15:03:58.331251500Z",
     "start_time": "2024-12-16T15:03:58.327078600Z"
    }
   }
  },
  {
   "cell_type": "code",
   "execution_count": 8,
   "outputs": [
    {
     "data": {
      "text/plain": "11307"
     },
     "execution_count": 8,
     "metadata": {},
     "output_type": "execute_result"
    }
   ],
   "source": [
    "len(movies)"
   ],
   "metadata": {
    "collapsed": false,
    "ExecuteTime": {
     "end_time": "2024-12-16T15:03:58.336324100Z",
     "start_time": "2024-12-16T15:03:58.331251500Z"
    }
   }
  },
  {
   "cell_type": "code",
   "execution_count": 72,
   "outputs": [],
   "source": [
    "import weaviate\n",
    "from utils.api_keys import fetch_api_key, add_api_key"
   ],
   "metadata": {
    "collapsed": false,
    "ExecuteTime": {
     "end_time": "2024-12-16T15:42:02.237748200Z",
     "start_time": "2024-12-16T15:42:02.219719900Z"
    }
   }
  },
  {
   "cell_type": "code",
   "execution_count": 145,
   "outputs": [
    {
     "name": "stdout",
     "output_type": "stream",
     "text": [
      "Key loading successful.\n",
      "Modified existing key\n",
      "Keys and password successfully saved to file.\n"
     ]
    }
   ],
   "source": [
    "add_api_key(\"weaviate2\")"
   ],
   "metadata": {
    "collapsed": false,
    "ExecuteTime": {
     "end_time": "2024-12-16T16:19:07.360366500Z",
     "start_time": "2024-12-16T16:19:00.889490500Z"
    }
   }
  },
  {
   "cell_type": "code",
   "execution_count": 146,
   "outputs": [
    {
     "name": "stderr",
     "output_type": "stream",
     "text": [
      "C:\\Users\\Parag\\anaconda3\\Lib\\site-packages\\weaviate\\__init__.py:144: DeprecationWarning: Dep010: Importing AuthApiKey from weaviate is deprecated. Import AuthApiKey from its module: weaviate.auth\n",
      "  _Warnings.root_module_import(name, map_[name])\n",
      "C:\\Users\\Parag\\AppData\\Local\\Temp\\ipykernel_23152\\2865237510.py:5: DeprecationWarning: \n",
      "Python client v3 `weaviate.Client(...)` connections and methods are deprecated and will\n",
      "            be removed by 2024-11-30.\n",
      "\n",
      "            Upgrade your code to use Python client v4 `weaviate.WeaviateClient` connections and methods.\n",
      "                - For Python Client v4 usage, see: https://weaviate.io/developers/weaviate/client-libraries/python\n",
      "                - For code migration, see: https://weaviate.io/developers/weaviate/client-libraries/python/v3_v4_migration\n",
      "\n",
      "            If you have to use v3 code, install the v3 client and pin the v3 dependency in your requirements file: `weaviate-client>=3.26.7;<4.0.0`\n",
      "  client = weaviate.Client(\n",
      "C:\\Users\\Parag\\anaconda3\\Lib\\site-packages\\weaviate\\warnings.py:162: DeprecationWarning: Dep016: Python client v3 `weaviate.Client(...)` connections and methods are deprecated and will\n",
      "            be removed by 2024-11-30.\n",
      "\n",
      "            Upgrade your code to use Python client v4 `weaviate.WeaviateClient` connections and methods.\n",
      "                - For Python Client v4 usage, see: https://weaviate.io/developers/weaviate/client-libraries/python\n",
      "                - For code migration, see: https://weaviate.io/developers/weaviate/client-libraries/python/v3_v4_migration\n",
      "\n",
      "            If you have to use v3 code, install the v3 client and pin the v3 dependency in your requirements file: `weaviate-client>=3.26.7;<4.0.0`\n",
      "  warnings.warn(\n"
     ]
    },
    {
     "name": "stdout",
     "output_type": "stream",
     "text": [
      "Key loading successful.\n"
     ]
    }
   ],
   "source": [
    "# client = weaviate.Client(\n",
    "#     url=\"https://cjscqn5qa6ddwpdf5ucna.c0.asia-southeast1.gcp.weaviate.cloud\",\n",
    "#     auth_client_secret=weaviate.AuthApiKey(fetch_api_key(\"weaviate\", False))\n",
    "# )\n",
    "client = weaviate.Client(\n",
    "    url=\"https://vz10aml8qwbzfzxohgk7a.c0.asia-southeast1.gcp.weaviate.cloud\",\n",
    "    auth_client_secret=weaviate.AuthApiKey(fetch_api_key(\"weaviate2\", False)))"
   ],
   "metadata": {
    "collapsed": false,
    "ExecuteTime": {
     "end_time": "2024-12-16T16:19:51.758564100Z",
     "start_time": "2024-12-16T16:19:50.553755700Z"
    }
   }
  },
  {
   "cell_type": "code",
   "execution_count": 146,
   "outputs": [],
   "source": [],
   "metadata": {
    "collapsed": false,
    "ExecuteTime": {
     "end_time": "2024-12-16T16:19:57.757407400Z",
     "start_time": "2024-12-16T16:19:57.755399Z"
    }
   }
  },
  {
   "cell_type": "code",
   "execution_count": 147,
   "outputs": [],
   "source": [
    "from langchain_huggingface import HuggingFaceEmbeddings"
   ],
   "metadata": {
    "collapsed": false,
    "ExecuteTime": {
     "end_time": "2024-12-16T16:19:59.922631600Z",
     "start_time": "2024-12-16T16:19:59.912721900Z"
    }
   }
  },
  {
   "cell_type": "code",
   "execution_count": 148,
   "outputs": [],
   "source": [
    "embedding_model_name = \"sentence-transformers/all-MiniLM-L6-v2\"\n",
    "model_kwargs = {\"device\": \"cuda\"}\n",
    "embeddings = HuggingFaceEmbeddings(\n",
    "  model_name=embedding_model_name,\n",
    "  model_kwargs=model_kwargs\n",
    ")"
   ],
   "metadata": {
    "collapsed": false,
    "ExecuteTime": {
     "end_time": "2024-12-16T16:20:03.330426Z",
     "start_time": "2024-12-16T16:20:00.264814100Z"
    }
   }
  },
  {
   "cell_type": "code",
   "execution_count": 149,
   "outputs": [],
   "source": [
    "from langchain.vectorstores import Weaviate"
   ],
   "metadata": {
    "collapsed": false,
    "ExecuteTime": {
     "end_time": "2024-12-16T16:20:03.335226500Z",
     "start_time": "2024-12-16T16:20:03.332426500Z"
    }
   }
  },
  {
   "cell_type": "code",
   "execution_count": null,
   "outputs": [],
   "source": [
    "# Weaviate()"
   ],
   "metadata": {
    "collapsed": false
   }
  },
  {
   "cell_type": "code",
   "execution_count": 150,
   "outputs": [],
   "source": [
    "# vector_db = Weaviate.from_documents(\n",
    "#     movies,\n",
    "#     embeddings,\n",
    "#     client = client,\n",
    "#     by_text = False\n",
    "# )\n",
    "vector_db = Weaviate(client=client,embedding=embeddings,\n",
    "                      index_name=\"Mrsprj\",\n",
    "                      text_key=\"movies\",\n",
    "                      by_text=False,\n",
    "                     attributes=list(movies[0].metadata.keys()),\n",
    "                     )"
   ],
   "metadata": {
    "collapsed": false,
    "ExecuteTime": {
     "end_time": "2024-12-16T16:20:17.262617700Z",
     "start_time": "2024-12-16T16:20:17.255326400Z"
    }
   }
  },
  {
   "cell_type": "code",
   "execution_count": 151,
   "outputs": [
    {
     "data": {
      "text/plain": "['72f34896-b285-4f30-bc28-a923a190e290',\n 'df605bff-fc30-4c51-9371-cb4796909e2a',\n '36767f4a-6d47-4c2b-8691-4678b938ec32',\n '68ca3498-d31c-486c-8034-3f1585455070',\n '6252c68a-8358-451d-b24b-046901cfa791',\n 'd5a1a528-f605-4b75-9e7e-f9d1554ed76f',\n '6ebfe3b1-0319-4ab1-9f3a-c88922e3dcd7',\n 'a9da2fea-f9c2-4832-95e4-802b8db5c6ce',\n '0ddf4a3b-3709-4f31-99d3-a2f00abc01da',\n 'd04f6251-dd7b-482b-bef7-26d06a6c33bb',\n '0eccc638-5dd7-4fe6-8479-9fef1278dfef',\n '99d3e7b4-c808-48ef-b2c9-909e780c11bd',\n '216bdfc9-d20f-449d-ad27-5b403f6bbd17',\n '55180b14-30e1-4210-ac6b-f3bb82d08d71',\n '9353fa84-b6af-4318-ac8d-26240ec76d43',\n '3f655a03-3b2f-4c73-a116-05f8f5f13eb9',\n '391be9de-4484-4e39-b028-a3626800bf30',\n '35d5a7ff-a1ca-44c0-b6f3-fe4bcb8e4a42',\n '4393298e-d8d0-486d-9a92-e72fb0bee253',\n 'dd758861-80a9-4448-b95b-b29cbe29ac26',\n '1173867f-7e40-4599-bfc3-4062a3273316',\n '7e9073f4-1621-44f7-a334-7ec748eb3956',\n '02e4a809-07ed-4bfe-9d78-a6490b42b89b',\n 'ab56fe0b-70df-46d2-97fb-ef3ce26323f8',\n '419a72b4-2cbe-42d9-a816-ef65121680be',\n '7da6c4f4-ad8c-4a61-ad26-f5fd84facb91',\n 'ee763c9c-83bd-44ac-8efd-25564c62e55b',\n '967e8d5d-a4f8-4b6b-a9e0-1377ed761e9f',\n 'c3f158d8-a301-48d2-949c-335f56bfc944',\n '1aa04208-b515-44b0-9069-a6fd81160b3c',\n '9b2dab8e-56a2-46c1-bbde-8284223d2028',\n 'ebf674a4-2800-4f5c-ac76-429dfa1cc4b5',\n 'a6162a36-b42a-4486-8063-2af3b1ea7c47',\n 'b2fb1a97-439a-4bac-a397-a7a8bab9773d',\n '6110f083-6ccb-4a14-aac3-3da88d6d78b9',\n 'ba68b42f-70db-414b-b4f1-4b82e889b48d',\n 'f50d9a9c-41f2-438e-9bd4-f76268fc6d32',\n '327e3942-14cb-4ee5-b97d-08bababd32ae',\n 'a42e9c85-03c8-4a09-ba1e-a5d11bd086be',\n 'a1d61d2d-3167-4e9c-80ea-d761a056dcf5',\n 'ce0a3664-1dd8-420d-b10d-97460983a6cd',\n '85febcac-5e2c-4c75-91f7-1875674b8731',\n '13c56aeb-dc6d-4b52-8315-003cbf37bcf2',\n '8ce513b4-2062-4b7b-89dc-313b44260b83',\n '3e8723a6-dd2c-4fed-b84f-d1c1d2be80bc',\n 'd4602305-ce84-4db9-84d5-972e1890670e',\n '0596b55f-1386-46cb-b096-b6a35f17da4f',\n '838b6243-7070-4a4b-a3bd-2053a2490063',\n '46dd48ef-68f6-49ef-948d-7ab8fbb04790',\n '93cf3091-b082-41e5-a8a0-f4710a9078ef',\n '3acb5991-4380-4066-bd85-4b46adf5eed2',\n '3f2a6651-ee10-4b2e-addc-17477626e46f',\n '8a2f9a09-9d15-4471-ade2-467394947db7',\n 'b49968f2-1767-42ca-b372-58701377eada',\n '18e90088-eef6-478f-ad78-651232d80807',\n '914f39e5-54b7-4b2b-a3e7-20d477364aec',\n '9fd253af-4e97-40d4-b864-5cfca8084369',\n '727793e5-fdae-43e2-bc27-3e8a098f0e45',\n 'ce072132-763d-4704-8c1a-57ed3814d439',\n 'fe0c47f0-aca4-45a3-b763-fb2b4b66b0c5',\n '99f498b9-29a6-449e-8843-323bc3ad64f5',\n 'f8d7016a-cf2f-4b90-868c-20e35f9449bd',\n '52156212-f517-4afa-bd5b-e6ae30138915',\n '74fc91cc-8c50-4b9c-9dd0-81dbd360cf4e',\n '782e114f-7d92-42d3-8258-9a790a5a76a3',\n '28bbbb07-d40e-40f7-8fdc-a0f999349c6f',\n '4290c806-d454-4bbd-9e67-3060d211f173',\n '7999bd29-07cc-4659-a168-37d5d1785185',\n 'be934ede-1157-43dd-9fb4-31229892b278',\n 'cbdb7943-3e81-4988-a504-8cf542a09912',\n 'b26c949a-e76d-411f-b48d-6e0b99be7f7d',\n '1d9e5f5c-b403-468b-a385-4f413fe2f272',\n 'da37a268-1f70-48a6-888d-9c6112ccb97d',\n 'c5a2a563-23a4-4c84-a281-2ce76815dd30',\n 'ab541c25-6c53-489b-a7c6-b5371622b627',\n 'aab8bdda-a2de-44d3-adf3-5b7ee39a585b',\n 'b8303364-cac3-4cd2-8044-8e9327d53065',\n '339b86c1-05aa-4f28-b242-43267d1fd170',\n '82d4c1fa-60a8-4786-ab04-adf14202f816',\n '3fd7b09f-0dbc-4028-98f1-0ba4a65a3f89',\n '2e03d944-15c1-4951-82e1-8bc96df658f1',\n 'e0d04502-7807-44d3-b593-15bea70d2634',\n 'b9939c10-d30e-4c04-983e-925da96cc4d6',\n '363a1c62-8408-45c7-99bd-8a0aa989a874',\n '4e333e2c-eac1-4a30-8d3b-b53e5ae92fd7',\n '6287bad9-8267-4356-b114-90afaf2208f2',\n 'f170b1a5-38a2-44a5-ad08-c7c862b86595',\n 'e0392edc-fee1-4113-a960-5bcef03e67d4',\n '6cb819a1-cb0a-40dc-9bef-8ad6f900c623',\n '46504d95-0638-40cd-9415-abbbd17ce6bf',\n 'ec9c96d8-d35b-4953-a055-6bc5ad5d74a7',\n 'db00b231-e455-45d4-87d5-fa354d29b388',\n '2cfa5f98-710d-44e8-9d9e-baee25c439f3',\n '85d009ba-bba0-4e92-a5e4-87dd8bfee201',\n '002b7fdb-02b6-45b9-8732-d8679d4b4783',\n 'cf054f04-d2fd-4771-8975-134500e132a6',\n 'a8b57aa4-15e9-40b4-ab85-c4d3966942f2',\n '29652aa1-a3d5-44aa-88fc-cefc76d3f277',\n 'de21920d-8515-4c04-95f9-0b84500d8044',\n 'ebe33d6b-944d-4d47-ac16-99964e103295',\n '19cbeb8d-7365-4334-8c50-11f99c620eb6',\n '607364d3-103a-431b-a6b6-5fce862d461b',\n '7c703fc9-4b09-4275-842c-7e225aa05995',\n 'cb16fe6c-6c52-4fdb-9363-32c39f010855',\n 'bb3d9211-f46f-4eb3-bf35-1c13f8946409',\n '930fc6cc-f5be-4392-ad3b-aeb5bcd44fb1',\n '18fb816d-bcab-4926-81f1-f987818e83c8',\n '2024d07f-e58f-4d00-834c-7ac1bda65b0a',\n 'f841becb-cd37-48fa-b58c-691ac555620b',\n 'a449a313-e03d-4521-8d52-ad131cc77071',\n '6eaeb77d-e1a6-41c5-9ec1-8174b7f6ad57',\n '54b8a497-bd4c-4937-979e-b979d227e944',\n '1b519cb6-959f-4e07-8a5a-20bdfb2af15f',\n '0c8fa044-f770-44cd-b7fd-1dc6b509cb5c',\n '93c39296-cd14-46f1-9b02-ab8654cb5449',\n '543d9837-c360-4218-be66-9133e3c1734e',\n 'c95c1b93-f089-48a8-b392-06281e098efc',\n '4d11cb52-10aa-4c80-a9fc-0d1f4933717a',\n 'd48a12a3-4fe5-4af8-9034-9b6085c7f89e',\n '11d98c15-7940-485d-9108-38fa3ce414ad',\n '7b9c16c9-2ed8-456f-810a-a5adae6b4b64',\n '9c556234-1d86-47b1-b642-c2d4c99fae0e',\n '0dbd1148-81cc-4ab8-9425-64725f87b1f5',\n 'a1c27de7-da71-4020-9de2-0391ca9380d4',\n '3b475009-11a4-45ad-ac6c-522c7ffeaeb5',\n '660d7209-f58e-45d1-9d12-c9dc5770f2e0',\n '5d23ca8c-4203-4178-a368-89ab24f5062c',\n 'c099d895-316c-49d2-82b4-284c5a8a20e4',\n '95f8d9b4-35a9-4c81-ad24-8e26245e4987',\n 'acb059a9-8cfc-4dd8-b54b-7cca3cd2e466',\n '9a65d25e-1d64-40c4-a14b-12a5cd237bb5',\n '448078ef-eb4c-4a47-8f46-46cdb6eb5402',\n '623da5a4-8c52-4e78-97b7-4f6bb4214251',\n '1d395bd4-6a67-4820-b012-78dab44461d2',\n '30d4bdad-5c76-4d40-88a6-c75d2e975102',\n 'd20ab9e3-c613-4979-b1fb-16c57bc6dd7e',\n 'afce6d9c-8fe4-44e8-ada5-b01279daf37c',\n 'e77291d9-9d74-493a-9418-40497dbc8234',\n '5273364c-6ae9-47ab-b76a-1c02fbea6413',\n 'ab7370ff-72c4-405f-8a5e-cb2b774f61d3',\n '7f5f2e71-d08a-4639-80eb-91a2da3bf083',\n 'c93b7b1f-7876-42c8-9c9f-318c59716523',\n '01a23bd7-59ec-4c64-b587-1298d5d5a3bc',\n '19b87e4f-6a8f-4629-9246-7382bdb911ac',\n '41a8d00d-3026-4972-8b5e-22ac0afa1ee8',\n 'f2fe902e-5246-4ff6-84e0-59269f65af1e',\n '818fda0f-bc0b-4212-ba17-81b3271174e5',\n 'ca7e2cce-63e2-46c1-85d3-233f27317de3',\n 'caf8a3a4-5b49-44b9-ad4d-94f934b3379e',\n 'df37fd8a-f5c6-4b5e-b3ba-4b388f936a6d',\n '2d1069fd-3eaf-4ea3-98e8-7e71069b5b4a',\n '316089f5-e3ea-4dec-860d-c9e24c394f06',\n 'c6a27d9b-c9ab-4ceb-bcbe-17c6b330f06b',\n 'dedaa168-7df2-447d-a988-c19f6b63a15f',\n '4bea2acd-b159-4e94-8eda-236572a40a1a',\n 'f84fe372-1a00-436f-a8d6-6ce52f6865fe',\n 'e3388ac0-ecde-461a-95d8-40ae94c4951b',\n '626ff301-901d-41a0-8ccf-8a0967b099ca',\n '2488a317-d90a-430e-a835-613008e2462a',\n '8bea1678-f6d0-4c0e-b6ac-6e024eb4d9e3',\n '6813a9e3-7832-4621-b1a8-3f13d435279f',\n '45a8dc63-5ce2-441b-a1c5-cd0594249e1f',\n 'cbeeabef-094a-474f-9b85-4e8f2cd0f2ad',\n '5f22f00c-225c-4690-9afe-5de1f0294214',\n 'efb47ef5-4324-4835-b8c2-e21f2d18c95b',\n '00feda2b-4704-4dc0-8158-ba2abbc54520',\n '0effff65-3b0d-4a85-9338-60fe24abb3a2',\n '9e8067ac-6782-4e77-bc8c-53491bc35cf0',\n '3ed92383-7273-4161-bdec-bcef3a95e1e6',\n 'a3f23a22-1be1-471b-b911-6b1f4b96a8b6',\n 'cddd5e00-90c5-491d-ab40-e644d7d38c07',\n 'cec8eb28-f548-4ad6-bf6d-7cdf11d25c56',\n '20bf21ac-163f-4b2e-89b7-d60e7ccb9a2a',\n 'f2417e71-4d27-47ab-af46-422c5a3d865c',\n 'afc099e6-c2f1-43fa-8f89-48ee567234d4',\n '0eca857b-42ae-4193-a0f3-a6fa6e7a95dd',\n '41265d5c-6c79-4a48-8e9c-5f3ce5ca3b9f',\n 'e009fd7d-a735-4cda-9335-6071e8b3f9c8',\n 'af99a99f-8c8a-405e-b2cf-1c24a7fbb9d1',\n '82ca6671-99da-4190-bcb3-b24dc17c6333',\n '1e2d8b14-071a-4a1e-adc8-1ec1a7d7b844',\n 'fa11a653-8e0f-4408-aa9b-7aa1150699ed',\n '69f73668-4259-47ed-bae7-efd4cf9ede2b',\n 'b2cc77ed-8a39-4b4e-9650-b731f4f65bd2',\n '1c4a706b-f096-45ee-8eb2-36d6fd861682',\n '50612453-f3ed-4307-beb0-03c700ae24d4',\n '1b6367c5-731f-4362-961c-af9123db197d',\n 'fef77604-8c03-4087-a826-f3e53ad81588',\n 'e12c31de-05b5-47d8-a897-d2f82c4f5b34',\n '9904b451-7523-42de-915d-888049af5fbb',\n '3c176603-d953-4573-97fc-43147f697372',\n 'b0b7e0a4-ffd5-4219-9f59-882319e8d312',\n '4be91880-b701-405a-a06d-33bebd3566e4',\n '3765ae37-aead-40c0-a38b-e66597cfc18e',\n '996ac393-cf87-488a-9bb1-0e1df4275ff6',\n 'ba307f45-5375-44c1-a2de-db7c2798bdaf',\n '3cf361d9-f49c-4378-bfa3-d344ce1f0014',\n '639c8a05-beec-44bc-9fd9-57b929a9ca4d',\n 'c41bb8f8-dcbd-417a-abf1-88f9ee0e03c7',\n '5919cb46-fb9b-424d-9e88-76e70f6b82f3',\n '970beeed-3be4-47b1-b32d-f68b06e24532',\n '2bd905ff-b04f-4bcd-8d54-ffe6f8a937b6',\n '2839a416-97f8-4154-8bf3-ab7377a30c89',\n 'eccf2d20-dfc0-4780-a4d5-91d92ebbd20e',\n '3c528c9b-9a61-472b-99b5-ab2fe512777f',\n 'ded40dd1-0660-4be8-9c1a-dc13484d5f8c',\n '6e480d24-5252-4687-b863-2eb7e6487cde',\n '10ca5394-7ffd-4d54-979b-989cfb648223',\n 'e87951c6-25a7-415f-963e-f7701157272f',\n 'e9ce8151-786d-40df-9551-f0dd74926f41',\n '62228b0a-01a6-474d-afbb-a2c2e74d0466',\n '8c775a2a-2c09-479a-85c0-10140fd8ed43',\n '7059756a-e8ec-4b54-bdd3-f0da27a73282',\n '47901e83-646c-4cf4-8e2e-8c5df2484420',\n '9a0d66fc-661a-4655-b61a-e64ff1c00be4',\n '171dcbd8-f20a-4d5c-bebf-620094c3d2e9',\n '63f525a7-2fe3-47b7-a9b9-840f549dfca4',\n 'acd9b8a8-8457-4a26-b5eb-5eae85bcc6a2',\n '93d4aab3-007a-4707-be42-88dfa5eaf5df',\n '7c2b1bd7-a7e0-4dba-91b2-d70e85155b71',\n 'b9e865b5-5bed-4697-8a65-9e89f4972258',\n 'd6779df9-8ba5-4ae2-ab41-07552da1531b',\n '918a2945-4211-4b27-9d00-9f527745f0d2',\n '0fed792f-780c-4e66-9369-2adf37ed23da',\n '9626fecf-dccf-44a0-84ab-2098df443db0',\n 'd68b8a20-46b3-45f8-bcd2-189146b981e6',\n 'd4572686-8b59-4f77-9d4a-b97dccb7d751',\n 'b3726abf-a34d-4b83-abc1-46e101f13295',\n 'afa4d51a-606f-4758-a781-f2b17b3aaa4b',\n 'f0ae1e28-3185-4856-a0c8-ba792362fae9',\n 'a8c1cee3-1f14-4153-944d-85ae0cd7f181',\n '875e66be-e57d-47a9-8c78-181504f2e146',\n '4ab32029-66ba-4197-aaaa-8d0a39e26a6a',\n '4fc1d997-13bc-4d92-bfcf-811aba64314e',\n '4063ac46-a52c-4d5d-a39c-7dbe2c4746b1',\n '57461997-2b3e-435c-98c8-3a8faf84f267',\n '3b0eeb9f-d81c-47a4-868c-e0415f1ee5ab',\n 'a43bbce9-c7a7-4745-9a25-aae164bcf64d',\n '83b09699-f6b6-47ce-9f92-3c373a598383',\n '46582007-1cb1-46a2-a2b2-e8bc9b3a982f',\n '02fcbe5e-43be-40ef-8ac0-66d72855d591',\n '092d50a1-0776-48a3-b3ef-8012d930df03',\n 'a71f18e8-2649-4163-9aa3-a34f562c8e59',\n '9df357e7-d013-4952-a518-9637bfe6b093',\n 'ede352ce-90ec-4161-9d5c-f6087e580536',\n '74c9e86a-cd85-4f77-8015-a49dbe86bf9e',\n 'e55c8281-df97-419b-8e5d-c5e721ffd6f2',\n '5a71f50f-8d7c-47e5-9fe0-a76da99928dd',\n '410116cc-2b9f-41d8-904c-e9228b7b3f87',\n '004705f2-0438-49d1-9263-ebf74c1ea47a',\n '8b628eaf-16c7-4947-b112-6aaf80fa1721',\n '18037fcd-884b-4fd2-800c-217b5523a9a5',\n 'e368ccd7-b8c6-470c-9c54-d5e7c9a32240',\n 'a9f49ff3-867d-45f1-9930-4f57b3b0dc58',\n '1b1511c0-205d-4c20-9303-0244c1b75548',\n '15cf00df-f571-4690-ba18-9a4d34c6021f',\n 'f51cd944-b4bf-4609-b836-d7b36b874d9a',\n '98792753-285f-4303-8a8f-ab8d88b3e4b8',\n '5e6de147-a888-4067-9ff9-d375e857f13f',\n 'a46bec4d-075d-4483-8ab7-1366ccfc8166',\n 'afdbe029-1ae0-4aa3-939d-cdc8de5e7e2a',\n '39b1121d-fca0-4f74-bd09-c2ccda32aa10',\n 'd1fa7938-5c55-44cd-bfe4-4cf2f1f1e491',\n 'e7bc7b06-13be-48b9-889b-b784b7f3b76a',\n '77d69178-a984-4d2a-9d91-c36d1c736619',\n 'b6e29e90-7a83-476a-abd2-2af6dba3fa88',\n '6bb55f03-3ad2-4d72-9540-329d1a109156',\n 'd7b94ed8-0aa4-4193-bccc-730f987728c1',\n '0a8378b6-eb18-4e69-98e3-14aecf0818da',\n '2e9f233c-247d-4d58-917f-c89f621ad3f0',\n '8c8082c8-22b3-40c8-a1a5-7fd8596ae66c',\n '3628e57f-f2c8-44f4-9094-ca9c07ef9d47',\n '33c46496-d128-4629-b197-96e4638cd863',\n '3fee27ab-42d2-46ca-b54c-3d605e46b115',\n 'a6899b63-f588-450d-8ae1-d7977773dee0',\n 'fcc13ce8-7360-4bb3-a1ea-ae3150994ad0',\n 'e049d42f-eca0-4257-81a7-c3d2c8aa422c',\n '94bbb183-05f8-4a81-af83-72bc8a558881',\n '54f1a02b-b9d0-446d-9193-3ff67e6014cf',\n '1e5dd570-d614-436d-8246-d7dc87903076',\n '404246fb-5e35-4ca1-af34-6850df2d95a7',\n 'a19f51fe-2b26-42a2-80cc-64968c2ef74d',\n 'd7bc158c-c907-4f2d-b548-4c98f6aac2b8',\n '11f521db-8e87-4815-8bcb-72dd14ab6ef4',\n '62dcaa04-e526-4502-b10e-ba827e44cda5',\n 'f1c07495-5173-447a-aab0-860e89699237',\n '1bcc57e9-b272-4597-b725-83f889859b47',\n 'abe59e57-d1a3-4581-bb4f-5d4492688e83',\n '7bc5426e-cd12-4ab3-bcad-0a451cee83c3',\n '3c054e87-e76d-4e47-af1c-e619d4e9dafc',\n '6c8cd8bb-ea22-44a4-aef9-4151b4b2f607',\n 'bd084b7d-548f-45c7-8018-561031a0d6b7',\n '90f2180a-c6d5-4402-9889-41045f58bb69',\n '7259e1cf-58d4-425b-a9fa-73789d49fdcd',\n '74d51934-9f11-49b7-aadd-73d0d796f7b3',\n '65e861d5-25f4-4055-9d0d-c79ce5def10e',\n '83ec043f-112c-417d-9561-7636b0c7b7d2',\n 'f4b3ebf6-5c0d-4648-932b-7127fa59a3f1',\n '45e70889-0f0e-4e08-a539-088f49bc2212',\n '25b8c709-000c-4f46-a8d1-ec6999a731ac',\n '0e9b1cc0-b77b-449f-b35c-c38d2a4e355b',\n '1e4171f4-22c4-4e2d-b028-94a26aea68c0',\n '6e614b41-07e2-4d60-b161-f43334ed0afc',\n 'dfec9362-f571-4127-9f80-0bc45d5f4d2b',\n '1981e912-ab2f-4bfa-8e7e-224f3bf9f03c',\n 'c3544e2e-bc8c-4980-b558-fcf4041bd2db',\n 'f71600d2-c94c-46dc-927c-c6efe862522b',\n '39cab8e1-9cb4-4d9b-84cb-55b2d166b32c',\n '995049da-c2d7-4f53-96cc-b14a49d28d03',\n '3f6aba31-46a5-4fb3-be80-b5288f4eddff',\n '412ab90b-4d6e-483a-8fe9-7f2f388ce887',\n '171c21d6-5253-4c4a-b7ee-1d88ca950460',\n 'f1c945fd-9586-4165-aa84-805bc81163a9',\n '3719c3df-5d1d-40f3-88da-9a9117a2afc9',\n '69949470-7ecc-41f1-beac-1294f0911341',\n 'f3e43625-7b95-47a8-a9b2-c643745d4cfc',\n 'a54b950a-e7a5-42bd-bcc3-b730e41e8a95',\n '77372ee4-9fc0-4112-9413-e94e1a6e20df',\n '8608c47f-7a13-4e89-bba1-a8009bd45973',\n '88f31bc4-af68-4871-8187-45c5c6f44966',\n '0b7ab288-7226-49bb-90aa-1292eb6ae8e6',\n '356815ee-a284-4577-af5d-cbc2e93ec162',\n '3f36f82b-6e89-4bbd-99a5-ba7eab114beb',\n '842a5ac8-8606-459e-b71a-a51b5a127154',\n 'f96f6282-359f-4c85-bbb1-9cf0d6a0e267',\n '3d770199-00fc-4c50-8951-6cb7d468ac15',\n '487bc3cd-8d35-48b4-8e81-bcf0986a986c',\n 'd27f62d6-8dee-4ef9-8e31-d08796ada913',\n '0dd5c198-30e7-439c-add7-76f7a0d91b4e',\n 'b4b7bfe5-66d8-4af1-b2a2-3450a49fc348',\n '71258496-5c05-41b4-83ea-335591683ecd',\n '419dde32-c6bb-41a5-b7c7-16920ad2f998',\n '85dd4a91-1b22-4eaf-8463-5a91da873934',\n '7caa9380-7c59-49be-8117-d56f736c40ca',\n '9e4a9a7a-0c52-455b-b28c-80d9d57b1370',\n '6a6ca051-60cf-4342-b2fd-9268c00cb816',\n '460092c3-0585-4ffb-8a2a-fb029a71783a',\n '6e8422bb-4d24-43ba-a0ec-262cf18edce1',\n '3fa81b5a-d6e5-4cc5-a51e-1e06e6bc0f6b',\n '9f2373d6-c02e-4576-9334-6c8146ae39e1',\n '39b877e1-be1b-47bd-860c-871bad801faf',\n '3edf6d6d-ee6f-4f8d-af50-879fa1fa8b47',\n 'a7651e4d-dfd1-4d20-9cde-1809917fbcdf',\n '635712ff-796c-4873-ae1e-d50efdc7f6eb',\n '01279162-43ca-453d-b5a9-213e54a3d550',\n 'b19c3e91-2577-4cb0-9110-570a04e554eb',\n '0bbd251b-a837-4e3d-8065-e86b5ee6956c',\n 'ad45a38e-cec3-4417-bea5-9fdf5604921c',\n 'f07ecbf1-97fd-4437-b448-554785cdc9a3',\n 'b09c668f-9f1d-433c-95b7-ffff42116785',\n 'fb680756-c6ae-4a8f-8084-ceb001ba3e4a',\n '97211a7d-2643-4863-81d7-1cf955b32221',\n '85849540-0b33-4305-99b1-3eba8352f5e8',\n 'dc2901d4-a6b5-4db5-bebc-5f1f1fdb2112',\n '9f438946-af5e-461d-b792-529504353bd5',\n 'c06ab501-0fb0-4a63-b98f-f2cca725a0ed',\n '7cf0aefb-d49f-44c2-bb4e-3ae38ee362f4',\n '23d6eb00-2245-4e5c-b339-aaa5a3f7c6d4',\n 'a6c1bcb3-4370-451f-b57a-51d96b082a77',\n '17ff1da2-5a65-4ee3-bd35-5cc8c18bb90c',\n '71fcd80f-90fe-4538-bfde-427eeedc7cc6',\n '7f9c08e6-4f97-403c-9394-7166ca5e3192',\n '8affd3bd-8788-4e7c-b48d-9439687b1dc6',\n '71a51512-4d62-4c0c-a8d5-c96d9c158619',\n 'a193d557-86b4-4395-aace-4e8dac9818ea',\n '6f89b2c8-b03f-415e-8d53-845a1d8fc437',\n '22f28b4c-431c-45e4-9a55-152fa97fc452',\n '2411b8f1-9c70-4f78-ac1e-3f0af1be97d7',\n 'f3383b40-8699-438a-9989-c1f08100348e',\n 'e4671fa8-0b4a-4dca-92d9-02d31a5099c5',\n 'faf23c73-b946-4d7d-9fcf-da0fe8f97d78',\n '25254ff8-148f-4859-a4a0-7de58380908c',\n 'bef1c4ff-333e-4070-b4ba-5cc52d448339',\n '49f6308b-3bb7-4aaf-ab35-ed61654f54c0',\n 'cc72d0b0-1692-4e8d-ae49-fc71139c9183',\n 'd5741d7c-fdba-4b3f-a5bf-a8bb2596c674',\n 'de7180a5-611c-48c0-9d91-348df1d480df',\n 'ed85c945-e200-47f3-a380-92733317c2fc',\n '7eccf4eb-3e65-4134-98b6-3879c9871784',\n '0e931dbf-1f7c-4f33-8129-2847b49fcbfc',\n '13bf6caa-2c38-4a07-beb9-d32d69ca0231',\n 'cfc72dc7-4c2a-4d19-b427-7ad257563b97',\n 'd74a9d5f-d4fd-4ce1-af02-6be5df801cdb',\n 'bbcb843c-fd84-4cf1-855a-9cd4e6f5385c',\n 'bbf2fa61-b81c-4beb-9d79-69c735f5dadb',\n 'cee342da-5cbf-4629-b861-7814001f2698',\n 'aceb9a1c-b1b7-46c1-be9c-77bc7e16ef8e',\n '9ad88181-ff1a-467d-a2f6-da12022dc40d',\n 'b33cfbd6-745d-4de5-8bb2-8de351f71aad',\n 'c84d5b6d-8ade-4cc0-86f4-a750eaf4bfd4',\n '7d384cdd-76b8-48ad-80d1-6d8f73acf271',\n 'ce4879af-9d0e-44f0-a7e5-f17ed1357751',\n 'cad62b4b-fd0c-4c7d-b0c6-36112568782b',\n 'fa6b58f7-1998-4b09-a997-54c14f78eee7',\n 'd9c37ae9-30d6-4664-b962-5dec0c963f41',\n 'db2c43f0-4259-4f8d-8818-e277df714314',\n 'ecb81641-194f-4b46-ab7e-6e3b8b5bc3d9',\n '86c7e253-5110-45d2-8bb1-7d7d9ec6950e',\n 'fd90193e-6896-411b-b6b8-dcdc48091edd',\n '678696be-8f04-47c6-89eb-947c981f6e02',\n '08ad9d99-7488-4eb0-a965-5bca4611d727',\n '85cfa212-7c77-414e-a3cc-d33832778300',\n 'f72a50d6-1d57-4570-8d41-34d1354bb660',\n '888205d5-cb70-481b-8c0a-2a01f70dda94',\n '8125b2d6-3852-47c7-8008-654efcfd82ea',\n 'e9f5d8da-0b15-446f-81f3-1653bf4efc76',\n '55f843f4-26c2-45be-aa55-aad0f210ab1a',\n 'b32050b7-b0ed-40ac-aef2-4853b9772234',\n 'c946fa70-ff0c-4bf3-9190-8d52ecca1b88',\n 'e8c2d713-6188-4434-8ceb-7ee2050ad7d3',\n '8edf6676-ddd2-4b3c-bc2f-a61c491b7cc8',\n 'fcd8dd48-b5eb-4aca-8a30-f753d7f08ccd',\n '0fe831d5-5e9d-43ca-94a9-5280978b770f',\n 'da2d3257-a16a-451b-8846-23b6b35f757b',\n '2fe93e63-24c9-4bf6-a3da-7ad251f0e905',\n '0ea5852c-ea42-4cd6-9731-1480bc2d8e5f',\n '1f89753c-b096-4d8f-801d-1e0ad4ec368a',\n '6038594e-17cb-4fd7-a67d-8cc4a2c5f538',\n 'effdefa0-f226-408a-8a1e-a9f15f0989c2',\n '8d4d5d9f-b222-4a13-aef5-34ec4026cf5d',\n 'adfb3259-8280-47c9-88eb-7af5b0c87416',\n '3a25458d-fc78-4b40-808b-89f83a71a01e',\n '3cec99ce-ef24-4f09-8b69-4c17da84ac9f',\n 'f4d0950d-2cd6-4965-8e82-5943b521a30a',\n '649bf7c7-a419-425b-bb90-b95522057dec',\n '38e4682d-be3b-499a-82fb-81be9f02aea7',\n '5739e30a-529f-4f03-b127-0b7232cf10a0',\n 'bcb76e51-35c3-4956-97b1-960031aa8d29',\n '26d8b306-0dae-4319-9734-c3863a08e175',\n '505e6a2b-f50d-479f-bad8-c60122db34c8',\n '33216c0f-e696-4947-b0ae-fa1fa5829e02',\n 'a2126d07-30f7-4801-9350-6bcbd4ed89db',\n 'a497e6e2-4f14-4d4a-9af3-e7134f3afc07',\n '2a07beb4-c780-4ecb-9835-fbc3942d0c26',\n 'd5649115-7bc3-42d0-83da-bd5bd2ad8978',\n 'f26154ec-a7ea-4d8b-8d96-b5f53d139920',\n 'f6c7d97e-8a1b-43c3-9cbc-84de89845f4c',\n '3f301904-8763-4e29-ace7-883aa3f81346',\n 'a4980798-e490-4845-9e54-05ea38668da0',\n 'ba22f739-e7c6-43e4-b95f-df566a47a028',\n 'ca427d4a-1d9a-4bf8-bcea-c52b3d8c7268',\n '479f6af8-53af-4eac-bde7-1e5e3a69bc80',\n '92b3b55d-025a-4744-8846-df5acf66fea6',\n 'f3ec35ae-b751-420c-8b00-1f60ea5aded8',\n '8e5ea989-1265-4ab0-b467-b142ff984323',\n 'a4f9374b-9a40-4fe1-8494-391a727283bc',\n '802a1347-d026-475c-babc-984aa4a6c9d4',\n 'b7e12e34-f6b9-4f5b-88c2-d828a48e99b2',\n '49a8ed96-6105-4892-92ab-60c01c1d8375',\n '52fa6276-9070-40b6-9789-5ac97f46a2d0',\n '60667f60-6553-44b8-a983-f4f2477417e1',\n 'f9d99fd1-3d1a-4957-be55-1ec2209e7d25',\n 'c86dfc2c-d238-4031-b1af-26b26b4c7da2',\n 'd72d7cf1-e40f-4269-a34e-0e65ab50868c',\n '852c50bc-62f7-4a37-86af-5e86b58cd554',\n 'a3c2f03e-787d-47c2-8b45-43cacd4a8877',\n '575a5649-332e-4e3d-9f56-5605ac64085c',\n '7f889cb2-a8b5-476b-b7f2-c136bd1b847c',\n '5f33942d-4a39-4547-97e8-9a4a21a108f2',\n '031d15f7-183a-41ce-9925-a1b0d7e25229',\n '95b762a0-1af6-442f-98e7-a48a40200cc0',\n '8b02e94d-6e27-4835-b188-a28792dc12bd',\n '0138301d-1207-4e08-bde4-6c388ed1638c',\n '83ff29f3-53f8-4488-9352-409a8a83dec8',\n 'e00937d1-8c8e-442b-a978-faa68948f505',\n '3e4bf0bd-be44-442f-b5f7-b3ac21b4ae85',\n '37816fca-5060-43e2-a6e1-569059fed97a',\n '80d01310-71ab-41d4-9b3b-3bcb37f24acd',\n '13afec4b-8c36-4b1c-b29c-327d32025510',\n '184c4e10-2949-4938-889a-0b792da3fd4a',\n '6cd7b269-d621-4dc9-812a-d4df145f839b',\n 'd605894c-412a-4801-a7c2-2cf31bf907ed',\n '12b1f1b3-2f25-40e9-ba15-ef7ec07d1edd',\n '00c1a769-a540-427f-8bb7-202f3783d9ca',\n 'f2bb869f-5c40-4ca2-8ad9-7957fbdc80be',\n 'fd01064f-6843-460f-b195-f1617c3418a2',\n '7a2ec9de-975e-45ab-ba4f-a00ae3fb3d46',\n 'c5a76a83-cb1c-4238-a423-40b4afb0a5b8',\n '4ad736c8-9913-452c-8733-85a95851f592',\n '3d1847dd-8bd6-40b3-a377-dd84b9985935',\n '3bf9aabe-11a6-4e8d-aed3-25e24893a700',\n 'c3a484cf-14b5-4de3-beb0-34454b41d12c',\n 'ee545f0b-7fe3-430b-9aa1-bb5c85ab428c',\n 'af08e197-1fc9-4475-9bf9-2738dd982ea9',\n '83c17d11-4857-4d12-a73f-28c861d20a95',\n '028c43f4-ea2c-4934-8d0b-cf90899bf3c4',\n 'a7b94082-a35f-4a16-a6af-9b2ca1d83171',\n '60702597-5093-4465-b5cc-f4a77b3f4317',\n 'f0ff0941-c7db-4abf-bdd6-dcb8b4ce5e6d',\n 'ddc2dde9-93b3-4f87-a0a1-2c4d99598785',\n '4b9f415b-8655-475c-b231-d845ae476dcf',\n '48318ef9-9803-41fc-9582-c15592206876',\n '8dd1a8a3-c3ac-432d-b3eb-b9e79ca5758d',\n 'b78af7a5-8c31-472e-82b2-6cd6dccc2a9e',\n '64b28f26-393a-4ac4-b7b3-c9bee16c1922',\n '563b3f9a-c3f1-48e4-a7d7-3da6fb73403b',\n 'ebc5d84c-ecd6-4b3a-8b77-1feda303bfae',\n '0dbaa148-12c3-4b4d-8c0d-093cf740ffa0',\n 'd20cb045-9a61-449e-bfb0-f6e2ba4b4f12',\n '6a6430ac-156e-4132-ad33-0c29a0bc3ea8',\n '98660744-7eee-4fdc-b570-9d1c4c49a4e1',\n '2dfb6e9c-d566-4882-9cb1-caa7379f037b',\n '5f671396-ef36-45eb-9d92-d1b41aee3a9a',\n '766d4657-f526-45c7-96f0-44ca58d6fea9',\n '2e5eca0b-f12b-4a2b-9bf6-761a0a1bcfc6',\n '7b848c4f-f97f-4723-9fa6-aad1e2208876',\n 'b5c01e0b-2425-4f0e-ad93-e6fe7c23bbab',\n 'e354e6c4-8c3d-4b7e-bafa-779ee9422fb1',\n 'a5d68292-14e7-41e4-b148-66bf7139bfac',\n '992c23f2-eb09-4a8d-bce5-5fba7831b5dd',\n 'c1c14490-f31d-4625-92e4-be856f5df02d',\n 'd4c918f8-1a9e-4a54-ae74-82ddde0010e0',\n '47f99268-4d28-42c0-8d39-17d6b99e5ec0',\n '12742164-c61f-40ea-bbac-5fc08330ceae',\n '04c52977-d1ca-46c6-b284-f2616e32074d',\n '5d2a46e5-109b-43f1-822d-2c005f377637',\n '9fb311df-3ab8-4bce-9c73-90aff104ac4e',\n '7542abfa-93c0-4277-8d55-d618d712b7d4',\n '32c6e4e4-0a40-41b8-a0f2-dbd81518a907',\n 'eff58a2a-b6a2-4729-8ae6-6f45c95420f6',\n 'd6a0834f-9703-465c-891a-cdf049c1ccec',\n 'd5075669-16f2-43c1-9b60-0cc9588a852b',\n '369c4103-abcf-46ce-88a4-504342f06780',\n '2d3f5b82-00c3-4006-b9a3-ac1ae235a6d0',\n 'adb56c9e-df73-4de5-b118-ed9c70e8da8e',\n 'c4b1bfd4-9444-4a30-85c3-439961e2afb8',\n '4da4df52-69ac-4046-94da-1a77a214d5b5',\n '1f3d6000-cbfc-414b-b328-ea4a2ca1302b',\n '63201014-5883-4090-a090-6737b8efa301',\n '1840417e-4105-49dd-83fd-4ae140e6cd40',\n 'b4bab547-793c-4e86-819d-0916dbf215ff',\n '0448de9a-fb21-4c46-a235-5bae89c021e7',\n 'ac830613-88b1-42b2-82da-5e04304d7341',\n '531b503f-7d15-4c18-ac46-4c2f8db67fa5',\n 'cfd48227-ccce-4b21-a071-ae054a45dafa',\n 'a580b59d-7774-4d0f-a6f1-f4f2465755a9',\n 'd41061e8-ff7e-4560-b338-6af942f4d4a1',\n '3c93d6c8-e494-419d-b465-443f328d9a5e',\n '1072a305-f403-41de-829f-8394757bcf26',\n 'd27f3c7d-5d3d-4fc4-b301-4f006fc3e912',\n 'b3b69ea2-ec64-4935-a9f5-3810827e865f',\n '0e7ac28a-f3f5-4939-8ed6-1c5dd338c1df',\n 'f4db08d2-155b-4df7-a61b-3214d07d384f',\n 'f863f8bd-085b-4f60-bbd4-55d2688d6945',\n 'bbb4bf77-c9ef-4829-b913-c593ad6e584c',\n 'd35c5bd6-f655-47da-81d9-c261733f255d',\n '35344d79-f5ec-4572-b4f3-98604dc0bdc2',\n '8e74eb42-df6b-4653-b298-dd88b63bcf93',\n 'bf3c234d-b67b-4a0b-8fd3-251ccdb6910a',\n '2e6e6214-e02e-41ec-8e0b-b1394f6bcbcc',\n '46c08d2e-1e69-4630-8f62-6216e713e863',\n 'edde2cc5-6b96-4ea8-978a-ec507ee4b85d',\n '5ed7254a-1869-4569-b64b-cc061eefab83',\n '72e4faa7-2079-4853-acb6-3914fd254488',\n '8880b6a1-db9c-4557-ac25-f11ba7ab6592',\n '57252c0e-434e-43ab-9d2f-0f8e666ffb5f',\n 'f3cbc4fe-457e-4b61-99ee-a1d0c1c89a26',\n '3b48a040-2c0c-4efd-a25b-81c3e5b4786f',\n 'a928c4eb-292e-4c80-abc2-c8586911ee39',\n '8b9131a8-716f-4885-9e91-3221ff80fc5a',\n '491c0b90-f7b8-4e85-9828-903f5cd0731c',\n '7fecaa9b-5e82-4821-aa5b-40365561202d',\n '6119c113-f432-45cc-9b22-1b941fe191bd',\n 'fb445217-790d-4218-adf0-03e232ef5f35',\n 'ad9f91a2-f06e-45df-b953-c5193c810952',\n 'b4ecf178-47a6-4b8e-9464-de8f69f0d125',\n 'e3ccb813-1f68-4589-95b2-5b73f2e0e2ea',\n '27f0686b-adbf-4982-9169-4e06bdece411',\n 'ec333343-8b19-4bbe-9f2e-df6a0cf0e776',\n '27a3789d-c6b6-4a5b-a954-2b9ef8c489ae',\n '02b2a2be-672c-4809-a4e5-b2ebf5d3ab01',\n '25bb9f62-def3-4422-b58d-64960268105e',\n '63cdc660-2408-4a5c-89f9-05d7cefc040f',\n 'e2ce5ce5-9b62-42db-b136-5cf7b6781672',\n 'ee544452-3c8a-4b1c-9c8d-4be63f3b8c0d',\n '130a9df2-10ce-4bc8-8f6d-23f353e0e595',\n 'c8c47705-07d0-4cb0-9db4-0e78d18148b1',\n '3489672e-1fe4-42d4-b941-86cd333eee16',\n '2a302c54-b667-443e-836f-13acba41e6d6',\n 'd5c6800b-8f8b-4ea8-9ffd-fcc892c9eebe',\n '0492ef07-f5a1-48c3-95c2-fe63d8c2c050',\n '23e94a1c-bab2-464d-9f3d-cdd8eec8ab84',\n '7063d618-7e6d-437e-9f4b-ec50669a54e8',\n 'bec474a7-92dc-4a24-b0d1-fe0252383cdf',\n '3faa0b86-dc85-49b4-b277-47efcc5142d7',\n '8406f7ab-b9cc-4989-99e4-aa222bab560f',\n 'fb75f8a3-d970-4674-957b-6e37c4ea383e',\n '35dfee36-90ca-44e1-b927-2381eca8ace6',\n '008eeed9-f994-4a95-8e0c-0d4be138d8cc',\n '4c16d4db-42a4-4c2a-99ae-b56a7b6e27e6',\n '9308d825-dbaf-4b00-8e2b-c2b05186a954',\n '4f0baa7f-db55-49b8-b7ab-c73893fc2c30',\n 'fa9246cb-d96a-4495-9de7-e6518e2d809c',\n '109d9306-aa1f-4fbe-820f-1c896a5fc916',\n '835e2391-3438-4333-9fa3-29eb84f2a0d3',\n 'df6f8460-5793-4a7a-975a-b6ebf68e943f',\n '30ee0bb9-aa0f-422b-8859-1a908e4217a9',\n '77582062-b9c6-432d-84a5-9bb547cad340',\n '341656e0-46aa-412a-af7f-12b46bbfdcf3',\n '755e9df2-1310-4d56-a60e-68873bcc9c81',\n '78df60b3-0df9-44b3-ae78-8327f506838b',\n '32e8a058-607c-4665-bbcc-bf976cece1d9',\n '0e95b5da-a5a2-4106-80e7-420bbf81f7ab',\n '2b7b0265-64d7-4bc7-b50a-8d5f919aca6a',\n 'd5e765be-5efc-432a-85f1-5810a055dff5',\n '060b36e3-cce8-4103-92dd-6d8c3302e3ca',\n 'b01e3711-2c2e-48ed-be9b-9d0e7e1ca90f',\n '1b05130d-08bd-4768-a1b7-d21db802ea9b',\n 'aa7ac8ac-9ca1-4192-8abe-cb9d52846e8e',\n '79a362a9-435b-40b4-8c6d-7ffcf3bbff64',\n '9edf3189-a2a8-4ed3-afa9-a372ca8dd3e6',\n '0ef60b36-b8ee-447f-846a-b402ec9914c9',\n 'fdc8fd89-ba61-4237-b49b-f682ab832533',\n '77a8c5e4-0cd9-47ff-8f4c-1d5d67951142',\n 'fd9b4909-6637-45fe-bd46-75a6928e8314',\n 'c4082423-d30d-4e5c-bd92-f2c8e08e6cb2',\n '228f0f2a-3beb-41f9-9304-a709db6e194f',\n 'ef1b70cf-0a0e-44b1-9390-bbca8aed647d',\n 'a810d79a-3017-47a6-8fc0-7d114f5408c1',\n 'eff1acb4-2c6e-41e9-984b-aeae80483829',\n '28bd6dd4-8d3f-44cc-b250-c4aef09e852e',\n '5b4d6302-162c-42d2-900c-b0a00272eb73',\n '74e4e7c4-6773-4f19-b369-f4bb76c02afb',\n '860e3a3f-5f13-44fb-9997-819574ada0af',\n '84749c86-90f8-4f11-bb7f-5a6399e176bf',\n '0b852d3d-820f-4144-9875-6447e9beb2e8',\n '0f44064a-0fe9-4777-b62a-d88c91ee92d2',\n '4cd833d2-54e6-43e8-87b7-c9b97f2fe647',\n '5a821d23-4386-4c2f-9e84-00a9dbf59073',\n '3535c7b5-b572-4023-9b10-a38d5a49d662',\n '37575593-d6ee-4005-bac5-74b394d68647',\n 'bbd6f9cd-2b9a-48c2-abed-85ec6fff2e2f',\n 'ab7c453a-b952-40e1-8f82-7f7efd6776cb',\n 'ba0f7c42-0c23-47c5-ab93-9d0fe2ec8257',\n 'bffc5067-5aac-416c-9833-101a40d41e18',\n '5bd830d3-48e3-4440-98b7-a8682dcf7507',\n '52d7b921-a5cd-492c-92de-1b511ee0737b',\n 'dca33d8d-7219-4b57-8472-5d265ba2b4ac',\n '4077b6b2-bc58-4a69-b615-da4d90f4600e',\n '92a87ef3-614e-4c8e-95af-c1ef3993a8b0',\n '3f9ff083-11ac-44f5-b356-cceee42d9653',\n '8a92f6bc-040a-48f3-896e-da0036075ce0',\n '1a8b2cf9-706d-44fd-a14b-6e9262c387ff',\n '121d9778-dd5f-4247-8e01-76b546e3017c',\n 'ce7fec9f-7995-4a6a-be62-ab72333c3cec',\n '1f1858e3-2ef4-4778-baec-f987fe098478',\n 'ad01910e-9d17-49b4-8a7b-485d3874f048',\n '23954bc1-d059-4e1b-9d5d-904011ad6a34',\n 'c492ed52-6c58-4f0a-becd-7b7ae84d22c3',\n 'ba3302c9-22b3-4f43-8066-e625a660c1da',\n '9e4cf560-eab6-432f-b76d-ce32169f76af',\n 'f91a80c0-a9e9-4b4d-9ed2-c902679eae61',\n '32c39acd-d19d-4f1d-9fe5-63e4719b9709',\n '9422460c-45d4-462c-b8ef-e164faea9dd3',\n '79c07a20-867a-4281-8e41-9141e3c00bae',\n '4afc360e-3996-4c72-870b-9ba096ceaf20',\n '74da0fce-1515-4f06-aee9-6c31f0acdff7',\n '946e6e6e-1e83-4687-9673-aef5ae3f0a22',\n '6968e02c-9b55-46ce-84b7-1d3177ebd5c0',\n '778f149e-3330-446b-ac95-edb083adbfa0',\n '65335e29-7c58-40e8-8c48-cba98c9deef4',\n 'b6e33cbf-b2af-4ecf-901f-e63df63fb65a',\n '22e3314b-0c10-4533-a73f-d1c690e3f401',\n '2d7bdd28-a123-4476-995a-64220714ffe1',\n '0ffc1d11-d62f-4406-b061-0d8eb4523c7b',\n 'c55a984c-c7b9-44f1-8afa-edd88780731f',\n '81e16a42-5bf4-49c6-8ada-c2c1bb228f1d',\n '21ab7bcd-971e-4ffd-aed2-34cb960a1ba2',\n '23e8bab9-16f5-4684-89f6-d0d0fbafa669',\n '47db79b8-3a1b-4b2a-b532-3526f09db515',\n 'c1de36f9-8e0d-4603-a416-737008f09bc4',\n '1fc66f0c-71dd-49de-8f88-d70b7246ae9a',\n 'fa895c2e-c430-4609-8d2f-fe5b3e9073fa',\n 'ab8995d3-e22a-4364-9b0c-fb72258c72d9',\n 'e697cf16-c56a-47dd-9163-e92eb1e120cd',\n 'b8f761ba-2476-4134-88ff-8a2da1505786',\n 'e2e97214-4c42-4041-abcf-035edcaa1636',\n '367289f1-7f93-4932-83d0-dbed90278ef0',\n 'a90632c1-c81d-44ed-9d92-9fed5404e142',\n 'd3fe5170-600a-4a19-a67c-204c14703861',\n '92b62bbc-a886-46b0-81f0-a36d920a8cae',\n '26e3e51d-e9a1-4cfd-b8e3-ab71e56d7440',\n 'ae978fa0-8de4-4b7f-9e8c-f4c6f2a210d7',\n '208c6ad7-b195-4d14-b0dd-6ea184d5bb40',\n 'b4d470ad-8d7d-45b3-99bf-449e3f9fa755',\n 'f97c2f79-00b6-4463-9ad3-9f4ec360a724',\n '3e51aaba-5815-495f-9a07-5b17770ab71d',\n '882b8162-e0e9-431d-9d02-d73d867c2595',\n '75859eaf-6bd5-452f-ae50-13c8956dac22',\n '299657cf-c969-48ce-b9db-303844177f52',\n '7310ec48-6981-42c5-9c8e-8b7d6b4e8336',\n '883f4164-4f43-4631-bb20-2c7a8ea8fede',\n '86a2569d-c6d4-4101-95dc-3d7a62e82628',\n '74f0302a-5ae7-4b9a-8a4d-11c479b5d90b',\n '38893a46-4936-412e-b07c-79a67c83656d',\n 'dbdf5ff0-acd8-43da-95bb-6412bd4fb7f8',\n 'fa700819-d429-47c1-8e69-46ae83616d40',\n '89c4f905-0038-4ccf-a6eb-8731c83435fc',\n 'e5b90da9-a53c-4703-88c0-bfe8dc5f2ba5',\n '099128cf-187e-4120-b6dc-8d68ade1bd2d',\n 'df7d1443-caa7-4889-9dce-4b9ffd3ebf49',\n '6c3d3b1f-89ec-4ae3-ad58-eb80cb2af10b',\n '9337fae9-f845-4049-ace9-015706c839f3',\n '82d6baf1-22c4-4475-bcbe-227f0b7ef72c',\n '4e92f991-bddf-4398-a4b0-e7a4da709de6',\n '355e2e7a-72a9-432b-9e64-98c53a89fd0a',\n 'ad86fec3-1835-4bc9-9441-32fd6f53d23d',\n '66c95873-5fed-49f8-817b-1df20b45f22e',\n 'dc9ee14c-f233-4fb4-a5e6-c818876b04f0',\n '4c0d1f58-6d8d-4361-9bf2-d27122617768',\n '547cf274-07c9-4aa6-9e72-7a48932f5446',\n 'fe30a88b-45f4-434e-8144-df66a15ea6a0',\n 'dfc8ce14-1455-4cc8-bb23-793e4a34ec4a',\n '479f62aa-dcd7-4678-8098-76e803f9de5c',\n '81c220ec-cc6e-4d90-accc-3fc06ac4602d',\n 'a83648ab-8473-4061-b464-16d02ab03f45',\n '442addb5-25b8-46b9-8df6-4218ded0b9aa',\n '62529d5e-fcd0-4ebf-b087-ebf695316092',\n '58280b62-78f8-4794-b525-cfd340614e82',\n '1f8ad489-fc41-48ac-9801-8fce988d8867',\n '7246cf9f-922d-4742-a1dd-623908fed99d',\n 'f17fd24a-f67b-43c0-b869-6cb28867c76e',\n '12e04966-556b-4ffb-8e7d-390ee64f672e',\n 'cf99f968-77c4-4b82-acfe-7f637e315763',\n 'b75ee2e4-2044-4941-ba29-8e7175c49f05',\n '3c99cba9-37ac-44c7-aaf1-8def088732d1',\n '470d2a6e-548e-498c-85ee-0fa98a91d63f',\n 'a004085b-ded4-48d1-a32f-e2b8f2366b7f',\n '454ba250-c26e-4a70-92c6-a8b348a4050b',\n '120256a6-0ae5-46eb-8506-1eac80d43b63',\n '596a3dd3-2022-4d10-9d1c-bb5a6c9afdad',\n '1b03b103-53d4-452c-8ad7-e7ffc9777b0f',\n '51013139-3657-41bf-9a9d-af891eaab901',\n 'bfcccbd1-6544-4d9e-ae49-05e707b98866',\n 'ca808760-90d0-4918-98a6-2aa425872b50',\n 'a1e3cd39-145c-4a5a-83e7-27ee34e01810',\n '5b767d1e-dfb0-4f03-bef3-fbe89e7cfd1e',\n '7331e0bb-e08a-4115-a3a5-7025766e588e',\n 'a0398d83-25b3-4b26-be5e-f5a3eb690c8b',\n '82ca8d9b-ce1a-4e9d-ae6d-60252d56e53b',\n 'f5aa91e5-dbe6-406d-9350-bd993075e6d3',\n 'a68cdd89-f08b-46c4-8d6e-60a5553b5cc5',\n '932f1209-a885-4575-bc5b-82cbd848afbe',\n 'a5c79d10-4835-4fcf-a599-1914b495e835',\n 'de6e7ba4-1603-4774-b9ee-59a8bb034f59',\n 'a7a4c075-3273-4a86-bca9-dc79ff29d6d8',\n '7537848e-08ea-4ce5-a989-d0d2de9ceea3',\n '85f0bd60-9e85-41b9-9de7-5d79168fb242',\n 'b69a516d-7017-459a-be01-a1b1d3855c5e',\n '9bb8679d-3080-46ee-b25f-1606d3eec28e',\n 'd876a6ab-6a2f-4a2b-bd25-86b6941f7e52',\n '42f15913-ea43-41f9-b9fe-e62de43d2db7',\n '256dad4e-7c89-4e77-a159-48b9b823e67e',\n 'e89aedbf-b6b9-476f-a04d-13be2dc89d08',\n '8eff5c1d-fe61-4e25-bc4f-627384b66c75',\n '89998ece-3b62-44b5-8b8e-99e4f06fa96f',\n 'c15e59da-6a2b-4702-9c1d-2e733ed3f609',\n '3348ccd7-fd3f-4349-98b7-b6b2d62f28ba',\n '6d1e3bbd-fdbc-4110-910a-31ea2fa44b41',\n '32a8569e-1d12-4f3d-9745-9b391f560024',\n '14f48801-a9fd-4351-b30e-e5b1e1167433',\n 'c4af2efd-71cd-4034-87be-89da3a98eab5',\n '0f6f20fb-e284-44ca-a8b1-98ad4c2eb1be',\n 'f7c47cb4-4040-4a58-8f0c-0e1e17209d40',\n '25ac8366-0409-4a4c-8b08-a7993f278014',\n '9273e079-8331-40a2-a8d6-744ee66f7285',\n 'd6f1c270-034f-4a11-8b9c-72d7d7596770',\n '6910916c-1b82-4425-b579-0e660060befc',\n '45e81361-e0a6-4a5f-8cd1-40b5ed8cafba',\n '3a35ae45-e1e6-41e4-bb1e-9d1bfa06e3d5',\n '89b080af-b1bf-4f12-a8ad-69298bf50083',\n '45da990f-fa51-42a2-aee5-add4edaf16a4',\n 'bd14e061-2444-4abc-bca9-d8a0e2ecdd48',\n '65569800-7fcd-4d9d-8da8-736a6ebc45b4',\n '5aedcdc5-e719-4362-84e1-dbcea1cda1d8',\n 'accc8333-bdac-42e5-86d1-23a87f5ab993',\n 'ace0060f-276d-4510-a782-344dc099adb1',\n '27081590-b855-400c-b657-60887306debc',\n '39fb42f0-643c-44b1-ae33-de4fb5e57497',\n '8baef982-ee22-483f-b89f-ad3663d27ad3',\n '816e0ce3-7024-45f8-b7e3-9e836aa179ab',\n 'a3e5af95-3073-4349-a403-2b5fa37a43a4',\n '50ce6827-7579-46aa-9e10-d3be740c3514',\n 'f1eb013a-0661-4f2c-a59d-49f69704d44b',\n 'a790c2d1-89b1-4559-9e6f-7a51a17b9fa5',\n '2f228e83-4436-4e83-a9dc-e53194e93d5e',\n '606768cf-f335-4ef9-a8f4-b590af4d68f6',\n 'b70188c6-1e0e-48fd-af30-f31b391ea4bb',\n '656c60b1-fadf-4317-87d4-6cfbf7d9c7a5',\n '56ec857a-be82-43b1-bf16-82ba8343a678',\n 'fee0092d-2f9d-47a8-8a7c-8419dc5da0c5',\n '76165ef0-529b-4b7f-bf93-064b0641aed6',\n '6c3cd174-d912-492a-adb9-1f327f6b6999',\n '224739e0-50b1-495f-9b11-3f45b338fde4',\n 'de13552e-759a-4356-9ee1-548302e7b622',\n '1c4cd1ee-e6b2-4152-9b5a-c0f5ace4e0f6',\n 'b6fafcaa-87a1-4eb6-95b5-2941abba572e',\n 'b5b31dea-7663-4d78-b1f6-2b84af6c280f',\n '30f50218-d09d-42fb-b95f-3032e3aea21b',\n 'c8d81cc0-3e16-4d08-9c78-eaa1feac0a5a',\n 'bbbd0d30-4e46-4556-b28d-9c1649ea0cbd',\n '8c52a4a7-cbf3-406b-8864-f893e5165769',\n 'aad1a9b0-0e24-42e8-a775-3ed3cf10a80d',\n 'ac58a8e2-0dfd-4718-aa0a-145b38160511',\n 'fadf183e-d70d-4d89-b1d6-e2c0b89bcd04',\n '8a1f1873-5e35-4ec4-9604-8ff30591e03e',\n '65064c2b-5a07-40cc-b090-49999d3d75c6',\n '28e973c3-2e46-40a6-8f13-ff6366c99330',\n 'a3f1e3af-3721-415b-83f4-420293ad5ecf',\n '06e11550-17a8-4192-a4c6-fe47746966c3',\n '183857ec-ed78-4be6-b93a-f7a83316fd0b',\n '9a0e1933-a56a-4e5d-b08d-855941664eb4',\n '57e138d8-b1b5-450d-a9d9-8a1489ad7f6d',\n '8ad21692-af80-44d5-be4b-2faa25295b45',\n 'f10d7b95-939f-45cb-b997-ca13113377e1',\n '8a87a37a-2980-4b4f-80b2-936bf45b43bf',\n 'bd98b507-a819-4d72-8593-c240bddb9b5f',\n 'c96a3848-d727-4771-9636-2d55c5ce2b0c',\n '2fe39571-18bb-4b70-87e4-51501b8a9bff',\n 'b5c5bc33-6631-4eb4-94c5-5065674bded8',\n 'c30a0a96-9c10-42a7-8ace-750a1a7e95a4',\n '78d3ad6d-f7e7-45cd-90a5-4146016a1cee',\n 'a1814620-ae0e-475c-b6f3-91a4aaad944d',\n 'c0c68fdd-5bd4-435d-9af8-d7b4d7dfb474',\n 'a412966d-63d5-420d-9796-3e9df8e59b76',\n 'c9ba7b3f-e155-45ef-a212-e87f8d35913a',\n '9cf0b6f1-59b5-4017-b460-402c28886839',\n '83226df7-9215-4256-a30b-024f87f62829',\n '72660bbb-6521-4f41-a632-8a42024992ae',\n 'dc44dfab-1e9b-4103-8292-221b6a1cb181',\n '9516b4f2-0517-4557-ae37-1ad97a2481d6',\n '014141c6-a21a-49f7-aaaf-79cd050b7c29',\n '90a6586d-af6b-41a3-96d3-17f2dac5a1b7',\n '99991530-887c-4c3c-95ce-33f46b407eb5',\n '2f172f82-fd71-4846-9eae-5555d4d7a8f0',\n 'a23679c8-2282-4a80-b686-59d00313e26b',\n '3375d9f5-5df7-43dc-b811-b2ea1af782f7',\n '8c2fb572-ffab-4896-9a1b-1be3ac942f68',\n '5317e818-4900-4382-b816-cd284b411607',\n '90960b9b-5e15-4152-b38d-f62243bf521c',\n 'f160f02f-6efb-404d-b5e9-19cc4edda160',\n '4afdcbc5-82d5-427f-bee5-a04277e77479',\n '84eaea9e-f316-4d4e-bfae-72be7d0fb8c2',\n '0e8a4cdf-6fbd-4ec1-bc9f-6eaf7354f37e',\n '1977ec4a-a9d9-4128-b123-28aa9688d611',\n '85cdcac9-1795-4220-9087-a15e92a4917d',\n '16e9ebdc-7085-4c61-a10a-3b10bd379ff8',\n 'e1e12596-9a17-4480-8ae1-ab8c1a51f7ce',\n '33b7547c-d562-434a-ab16-456afa722756',\n 'b5c8d834-5b58-4345-b7fb-4ef39e73a59b',\n '9088f3fa-2a05-471c-8add-b46266ed9810',\n 'f9a54bcc-0ad2-47aa-9f00-ec071332738d',\n 'ba59b82a-efd7-47cc-9341-224729b883ec',\n '89f45748-381f-4d2d-8f68-ed49a17ba2dd',\n '8f5a8109-d628-4de7-8c1c-8e72671f07e5',\n 'e74ea943-765b-4d79-b409-adcb9d4024bc',\n '68b80da8-46ff-4fa2-af37-5ea5bfd97b34',\n '2d1c935c-cb4f-41cf-bc2d-7a9d372b943c',\n '409d50a2-72e6-4cc1-a1d6-42b090d3d575',\n '8c83f70d-e983-4dec-8599-1d2d3f2c6646',\n '8e8d6401-8e8c-4ad3-befd-2f344885d683',\n '915c6947-47cf-4932-8751-50a83a8b429d',\n '56404a41-3033-4193-957b-def1510ac740',\n '24ee88d5-2c73-449f-a7bc-7907b8db37e4',\n 'd5f4d6a4-42b3-4726-9bb2-0b512577b677',\n '5e999811-7667-4cb5-8c4b-972689ff481d',\n '2a85bfa5-b51f-42bd-8885-d65dd676d68e',\n '5d26708f-b46a-46cf-b6a5-b6ca15f2428d',\n 'f4777c83-d011-4e92-9da2-df788af7ee22',\n '0383d20f-defa-4779-817d-1862339e4e9f',\n 'da2f9986-14e8-426e-b05a-adc549363db4',\n '610096ca-9d89-4f95-b4cf-84333f046ed4',\n 'dca85682-6dde-4176-9950-829cfc996584',\n 'e84e7f3e-05ce-48b5-a692-d740e534c28b',\n '990a53af-c344-4a83-8811-a68d91c63887',\n '7e2e91e9-b793-4e29-8d5a-896a212dcfef',\n '19582c52-a3ae-40e6-bcda-2779a2b12b1f',\n '2cae549b-825f-4e23-9854-1148f51b8590',\n '34bbbc77-ab7b-4869-9a30-d157ba1029c4',\n '9c999327-0c96-4a7b-9fb4-72d39d123e23',\n '002da8c0-6cfb-41d6-bf61-abd5eb234baa',\n '84e5b63c-ddf0-4847-b1fb-b2fd0a0a6cfd',\n '827b0409-f032-4187-98f3-f207228dcc90',\n 'f8958dfd-5d47-44c0-81f4-31cb90542235',\n '3b68e201-a53e-4bc4-a7c4-8c6760a5dd43',\n 'fc352d65-5b56-452d-b528-b58174e8c672',\n 'a093650e-dff9-475d-859b-fc0476e48d27',\n '14ec0c6d-1ce2-4b46-92f1-0f437546693e',\n 'df9a82e4-9bab-4ac2-ab0f-c76fcac5f2ac',\n '344b9fd3-76e4-4c26-a9aa-8bbc5a8127b9',\n '123f6ecd-aef5-41df-957f-3b9e8d6b1812',\n 'e5fd6343-ff22-4ed6-ab6f-2777fe40bfd3',\n '6d119639-1d98-4119-98eb-5abc402dc502',\n 'b0d2fddc-b354-409f-8f2a-bcec6d7ea0e4',\n 'bb6b66b7-ec90-4a64-ba28-4a8621b9abaa',\n '2267accc-0fe7-4040-ba2c-4b6dcf4ce5ce',\n 'bc63bb6c-64a0-45cc-aa88-b89f76580164',\n 'ee07a3fc-3e5a-46c1-b4b0-523bdde96db0',\n '175dbbd3-2159-4b7c-bab5-146f6986caf8',\n 'b9cf3c55-eead-48df-b1a2-683ea19a822b',\n '853df5a0-efce-42db-b106-1e14dc20d1e5',\n 'f991481e-308d-40e1-a8f9-0f03baa5cfbc',\n '37699583-4fec-4ce1-a678-387336e3b7db',\n '58b50b07-8307-4dc9-9f83-6639bec5f84d',\n '99d06cc5-e75b-4af7-9dfe-c29b4fdd93c2',\n '89c6516f-6978-4654-9a02-e4f16cfcf076',\n '797fdfe2-c30d-4bf8-afbb-56308a8d16e0',\n '6b85a86f-82b1-4531-ad84-0dc8dd5a58e5',\n 'fdd6a623-6027-4156-a434-978fd97b4da5',\n '54d7554f-560b-4049-971a-d0125c6758d2',\n 'd4034f04-5a7f-4e7d-a752-57bbc7887a54',\n 'e4a73ff1-630d-4b12-969d-c9ff67505904',\n '662d4998-8476-4adc-b987-f2792c2194c9',\n 'dbcf073f-2f68-442b-84d4-f68d7d232b5d',\n '99d116e5-26cb-48ab-b6e2-49b999e961e4',\n '6b39f2a3-4469-4dba-86bd-fa6b856affc2',\n '70bf3841-619f-4fbd-88fe-61373e1ba08c',\n '1f8e0473-7ff6-4613-a6df-4bf424dd8f93',\n 'cd381de2-3f42-487c-b746-ff94e4bd38f3',\n 'bdfc3376-a99c-4370-a48f-772aebcf7e49',\n '9b5e74ae-ef77-4b14-a3e7-e28a7ff5dde8',\n 'cbd23595-8310-45fd-be3b-ab9e92945803',\n 'a1558060-b93c-4c03-99dd-c544c99ac550',\n '964a7e67-80c3-4ce1-9ec7-f6729c90b858',\n '3f11b4dd-be72-4c89-a80f-3cb360539d11',\n '9dc8bea3-51ae-440e-bf36-1f8c29ed38d6',\n 'a7e9ad4e-b12b-498e-b4e8-fa9bce5524a6',\n 'adf6f331-6b19-43dd-b577-1706e86188da',\n '9205a22e-eac2-496e-9039-1a95ba8a800f',\n '3c24a84d-9fe9-4f72-bb6a-cf4414eb0f34',\n '9e93076b-4ed2-4876-a3c8-232f53ab6b15',\n '29042d33-b8bb-4f3d-92fe-078d0f45e10b',\n '12543e04-6a71-4e69-8a17-edac3ecae55c',\n 'dbef3967-c474-4fb2-adb8-6484010e4f54',\n 'ef399d83-ea4c-4b1b-8bb3-97232cf6297b',\n '11098eaf-b1b4-4a09-9051-f991556aadda',\n '5f691f89-582a-4994-9bed-2a97885ca1c4',\n 'a70d72c3-976b-4cca-b300-38c7906ca1bf',\n '2d6c3be5-fd10-4c04-b680-183d44d96304',\n '11656cdf-642b-4ad1-b33b-d5c71391495b',\n 'a40e8662-902b-4615-a460-4a363c0f2cd7',\n '6bd36844-8ce9-4a13-8abc-c471e15fbcd8',\n '12a61aa5-a63b-467d-a84f-b53fc11a152d',\n '89872051-bccb-4de5-9b0f-940648bd8184',\n 'c137e4de-35b7-4315-836e-4e90bdf0a6aa',\n 'f308ecd4-0ca5-4d01-869a-31882c5db213',\n '9e9c00cf-fd8c-489d-8a49-244f2cd01f04',\n '58bfbebf-a448-4f2b-a6c0-b819357f393c',\n '39bdac45-2bc5-4f20-8c45-e558dcc867a9',\n 'cd4bf506-0f75-4a8c-b26d-876cc5d0f28d',\n 'a381f54b-3645-4f2e-8d9c-81559cf15a8e',\n '783fe5b1-781d-4838-b760-e2f9d0ee334a',\n 'fec0257a-1fe4-4eb1-bca9-61963a7b70cb',\n '8be41986-d2ab-4796-90ef-f717717c918e',\n '9fc99f7a-cd2a-412a-8a53-3e0b85440372',\n '1af5e418-ff8c-4377-bedb-3d86524c5a9b',\n '6afeb80e-db0f-4e3b-a1c3-0a414d61d230',\n '51eb2ca0-a720-4bd1-a562-68718e18a476',\n 'f6b292c8-bc8b-4579-b331-d602c72a260f',\n '811992d3-1df7-485e-9e3b-9931fe22187b',\n 'b02376d8-0b94-46b8-9c2b-2c6f7ceeef6a',\n '984b886f-0a1e-46ab-a302-90d644d7c9b2',\n '75a5c5cd-b781-4c05-8be7-f5d0f5f1b8c8',\n '949ff758-1a24-458a-b6c3-eaa125ccfa4f',\n '9fb7160f-542b-43d6-a5d6-70fa43ee905e',\n 'beaabc57-c574-41de-97b9-448969346ac0',\n 'd90a28ea-a51c-4e8c-a9d4-9e40e11f64cf',\n 'b4e2ad18-896a-45cc-b6af-94c13f9cc419',\n '6dcbb9c3-0cfc-4e11-afc3-a33b6f1aeaa5',\n '62778548-db7a-4cdf-b0aa-4a97b9e3106a',\n '07f299c6-5561-4d6d-bfbb-d6f3fe385daf',\n '6a6cbadb-b39a-477c-b0e9-28e03a28c7e3',\n 'b0a76fdc-5d1f-4cdd-8405-53c9de380618',\n '0c53e749-4c32-438f-84bd-2142d15049a1',\n '7c83ee98-001f-490a-8a58-5dfa37fc4ff7',\n 'c121f249-4105-4c49-93b8-06d17654e5a3',\n '1e16d50d-9677-461d-8826-0d9b16edf40f',\n '982ee87c-1bb5-47fe-945e-48339f16d6b7',\n '81e9e68d-4d9a-439d-b809-1e69bcce0fde',\n '381f5e3a-677b-46b1-bf67-2016c0e0dafd',\n 'fc9d5ca5-236f-49e5-89ee-f0a7584c85c0',\n '29555d99-32fa-4255-bee1-e3a7e0c7c196',\n '46a39e91-d688-4760-adb1-63faa22347ea',\n '7220e659-5fb6-4ac2-83ff-779fbda56fa4',\n '389307c1-e3eb-414b-a8ac-11bb595268d9',\n 'fcfc93b4-a613-4d19-9704-3458f0a6acb5',\n '925c7132-3fe5-43e1-ad3b-51fa848e6c51',\n '5416d88b-042f-4931-993c-24456fa0b2a5',\n '1bfb64e3-0fd4-4ee6-9d47-faa42d942421',\n 'd333c678-a47b-463a-96f3-54da8753de58',\n '813d64b7-7426-4959-90aa-79bcaacf9fae',\n '7b1fdcc4-ea41-472b-82ee-29af586cdc4f',\n '338bae26-7e61-40ab-bdb5-8cce2d4ce3b9',\n 'ac384811-5d7e-4c7a-bca1-af2db7e8b198',\n '63867d9e-826a-4822-b48e-c871ef5df2f9',\n 'e0a167cb-b637-453a-af70-f95d19c7ea83',\n 'e093b16e-5aeb-49fb-a20c-7e9a4df4a8e7',\n '3331cf57-b1b2-4648-b90f-db35d466b811',\n '863e8bba-4806-4999-a45c-f0b85124746d',\n 'd2173b16-f481-48b3-b157-f0765543d8d3',\n ...]"
     },
     "execution_count": 151,
     "metadata": {},
     "output_type": "execute_result"
    }
   ],
   "source": [
    "# vector_db.add_documents(movies)"
   ],
   "metadata": {
    "collapsed": false,
    "ExecuteTime": {
     "end_time": "2024-12-16T16:22:06.480210900Z",
     "start_time": "2024-12-16T16:20:20.558300700Z"
    }
   }
  },
  {
   "cell_type": "code",
   "execution_count": 152,
   "outputs": [],
   "source": [
    "soups = pd.Series(metadata['soup'].values, index=metadata['title'])"
   ],
   "metadata": {
    "collapsed": false,
    "ExecuteTime": {
     "end_time": "2024-12-16T16:22:06.483970Z",
     "start_time": "2024-12-16T16:22:06.478161400Z"
    }
   }
  },
  {
   "cell_type": "code",
   "execution_count": 153,
   "outputs": [
    {
     "data": {
      "text/plain": "title\nAriel                                 Title: Ariel. Genres: Comedy Drama Romance Cri...\nShadows in Paradise                   Title: Shadows in Paradise. Genres: Comedy Dra...\nFour Rooms                            Title: Four Rooms. Genres: Comedy. Keywords: h...\nJudgment Night                        Title: Judgment Night. Genres: Action Crime Th...\nLife in Loops (A Megacities RMX)      Title: Life in Loops (A Megacities RMX). Genre...\n                                                            ...                        \nZero: An Investigation Into 9/11      Title: Zero: An Investigation Into 9/11. Genre...\nThe Concert                           Title: The Concert. Genres: Drama Comedy. Keyw...\nThe Caveman's Valentine               Title: The Caveman's Valentine. Genres: Drama ...\nNew World Disorder 9: Never Enough    Title: New World Disorder 9: Never Enough. Key...\nSesame Street: Elmo Loves You!        Title: Sesame Street: Elmo Loves You!. Genres:...\nLength: 11307, dtype: object"
     },
     "execution_count": 153,
     "metadata": {},
     "output_type": "execute_result"
    }
   ],
   "source": [
    "soups"
   ],
   "metadata": {
    "collapsed": false,
    "ExecuteTime": {
     "end_time": "2024-12-16T16:22:06.494834100Z",
     "start_time": "2024-12-16T16:22:06.483970Z"
    }
   }
  },
  {
   "cell_type": "code",
   "execution_count": 160,
   "outputs": [],
   "source": [
    "def get_recommendations(title, vector_db):\n",
    "\n",
    "    if title not in soups:\n",
    "        raise ValueError(f\"Title '{title}' not found in indices\")\n",
    "\n",
    "    query = soups.get(title)\n",
    "\n",
    "    try:\n",
    "        results = vector_db.similarity_search_with_score(query, k=11)\n",
    "\n",
    "        top_ten = []\n",
    "\n",
    "        for x in results[1:]:\n",
    "\n",
    "            movie_metadata = {\n",
    "                'movie': x[0].metadata['movie'],\n",
    "                \"tmdb_id\": x[0].metadata['tmdb_id'],\n",
    "                \"imdb_id\": x[0].metadata['imdb_id'],\n",
    "                'genres': x[0].metadata['genres'],\n",
    "                \"release_date\": x[0].metadata['release_date'],\n",
    "                \"cast\": x[0].metadata['cast'],\n",
    "                \"crew\": x[0].metadata['crew'],\n",
    "                \"collection\": x[0].metadata['collection'],\n",
    "                \"budget\": x[0].metadata['budget'],\n",
    "                \"revenue\": x[0].metadata['revenue'],\n",
    "                \"runtime\": x[0].metadata['runtime'],\n",
    "                \"language\": x[0].metadata['language'],\n",
    "                \"popularity\": x[0].metadata['popularity'],\n",
    "                \"synopsis\": x[0].metadata['synopsis'],\n",
    "                \"poster_path\": x[0].metadata['poster_path'],\n",
    "                \"homepage\": x[0].metadata['homepage'],\n",
    "                'similarity_score': round(x[1], 2),\n",
    "            }\n",
    "            top_ten.append(movie_metadata)\n",
    "\n",
    "        df_top_ten = pd.DataFrame(top_ten)\n",
    "        return df_top_ten\n",
    "\n",
    "    except Exception as e:\n",
    "        print(f\"Error during query: {e}\")\n",
    "        return None"
   ],
   "metadata": {
    "collapsed": false,
    "ExecuteTime": {
     "end_time": "2024-12-16T16:24:07.120445600Z",
     "start_time": "2024-12-16T16:24:07.091605Z"
    }
   }
  },
  {
   "cell_type": "code",
   "execution_count": 161,
   "outputs": [
    {
     "data": {
      "text/plain": "0                                     Ariel\n1                       Shadows in Paradise\n2                                Four Rooms\n3                            Judgment Night\n4          Life in Loops (A Megacities RMX)\n                        ...                \n11302      Zero: An Investigation Into 9/11\n11303                           The Concert\n11304               The Caveman's Valentine\n11305    New World Disorder 9: Never Enough\n11306        Sesame Street: Elmo Loves You!\nName: title, Length: 11307, dtype: object"
     },
     "execution_count": 161,
     "metadata": {},
     "output_type": "execute_result"
    }
   ],
   "source": [
    "metadata.title"
   ],
   "metadata": {
    "collapsed": false,
    "ExecuteTime": {
     "end_time": "2024-12-16T16:24:07.504052400Z",
     "start_time": "2024-12-16T16:24:07.486025200Z"
    }
   }
  },
  {
   "cell_type": "code",
   "execution_count": 183,
   "outputs": [],
   "source": [
    "querry = metadata[metadata['title'].str.contains('Star Wars')]['title'].values[0]\n",
    "rec = get_recommendations(querry, vector_db)"
   ],
   "metadata": {
    "collapsed": false,
    "ExecuteTime": {
     "end_time": "2024-12-16T16:29:59.507464Z",
     "start_time": "2024-12-16T16:29:59.306080900Z"
    }
   }
  },
  {
   "cell_type": "code",
   "execution_count": 184,
   "outputs": [
    {
     "data": {
      "text/plain": "                                          movie  tmdb_id    imdb_id  \\\n0                       The Empire Strikes Back     1891  tt0080684   \n1                            Return of the Jedi     1892  tt0086190   \n2     Star Wars: Episode I - The Phantom Menace     1893  tt0120915   \n3  Star Wars: Episode II - Attack of the Clones     1894  tt0121765   \n4                                     Starcrash    22049  tt0079946   \n5  Star Wars: Episode III - Revenge of the Sith     1895  tt0121766   \n6                                    Spaceballs      957  tt0094012   \n7                                      Serenity    16320  tt0379786   \n8                                   Alien Agent    19279  tt0820466   \n9                                 Battle Planet    17571  tt1016024   \n\n                                         genres         release_date  \\\n0            Adventure, Action, Science Fiction  1980-05-20 00:00:00   \n1            Adventure, Action, Science Fiction  1983-05-25 00:00:00   \n2            Adventure, Action, Science Fiction  1999-05-19 00:00:00   \n3            Adventure, Action, Science Fiction  2002-05-15 00:00:00   \n4                      Fantasy, Science Fiction  1978-12-21 00:00:00   \n5            Adventure, Action, Science Fiction  2005-05-17 00:00:00   \n6                       Comedy, Science Fiction  1987-06-24 00:00:00   \n7  Science Fiction, Action, Adventure, Thriller  2005-09-25 00:00:00   \n8                       Action, Science Fiction  2007-07-17 00:00:00   \n9                       Action, Science Fiction  2008-11-02 00:00:00   \n\n                                                cast  \\\n0  Mark Hamill, Harrison Ford, Carrie Fisher, Bil...   \n1  Mark Hamill, Harrison Ford, Carrie Fisher, Bil...   \n2  Liam Neeson, Ewan McGregor, Natalie Portman, J...   \n3  Hayden Christensen, Ewan McGregor, Natalie Por...   \n4  Marjoe Gortner, Caroline Munro, Christopher Pl...   \n5  Hayden Christensen, Ewan McGregor, Natalie Por...   \n6  Mel Brooks, John Candy, Rick Moranis, Bill Pul...   \n7  Nathan Fillion, Summer Glau, Gina Torres, Alan...   \n8  Mark Dacascos, Amelia Cooke, Emma Lahana, Kim ...   \n9  Zack Ward, Monica May, Colleen Smith, Kevin Th...   \n\n                                                crew             collection  \\\n0  Animation: Phil Tippett, Art Direction: Alan T...   Star Wars Collection   \n1  Assistant Production Manager: Patricia Carr, C...   Star Wars Collection   \n2  ADR Editor: Gwendolyn Yates Whittle, ADR Edito...   Star Wars Collection   \n3  ADR Editor: Marilyn McCoppen, Additional Sound...   Star Wars Collection   \n4  Additional Dialogue: R. A. Dillon, Animation: ...  Star Crash Collection   \n5  ADR Editor: Jeremy Molod, ADR Editor: Steve Sl...   Star Wars Collection   \n6  Additional Editing: Nicholas C. Smith, Art Dir...              [MISSING]   \n7  3D Artist: Mary E. Manning, ADR Editor: Stepha...              [MISSING]   \n8  ADR Supervisor: Chris Ove, Aerial Camera: A.J....              [MISSING]   \n9  Art Direction: Kevin Ivers, Assistant Makeup A...              [MISSING]   \n\n      budget    revenue  runtime language  popularity  \\\n0   18000000  538400000      124       en      35.741   \n1   32350000  572700000      132       en      38.062   \n2  115000000  924317558      136       en      40.345   \n3  120000000  649398328      142       en      35.045   \n4          0          0       94       it       9.243   \n5  113000000  850000000      140       en      38.914   \n6   22700000   38119483       96       en      26.105   \n7   39000000   38869464      119       en      30.552   \n8          0          0       95       en       3.113   \n9          0          0       85       en       2.373   \n\n                                            synopsis  \\\n0  The epic saga continues as Luke Skywalker, in ...   \n1  Luke Skywalker leads a mission to rescue his f...   \n2  Anakin Skywalker, a young slave strong with th...   \n3  Following an assassination attempt on Senator ...   \n4  A pair of smugglers manage to pick up a castaw...   \n5  The evil Darth Sidious enacts his final plan f...   \n6  When the nefarious Dark Helmet hatches a plan ...   \n7  When the renegade crew of Serenity agrees to h...   \n8  A lawman from another galaxy must stop an inva...   \n9  In the not-so-distant future, Captain Jordan S...   \n\n                        poster_path  \\\n0  /nNAeTmF4CtdSgMDplXTDPOpYzsX.jpg   \n1  /jQYlydvHm3kUix1f8prMucrplhm.jpg   \n2  /6wkfovpn7Eq8dYNKaG5PY3q2oq6.jpg   \n3  /oZNPzxqM2s5DyVWab09NTQScDQt.jpg   \n4  /npJt35Q36aGcTYpcg9epbwQIIkz.jpg   \n5  /xfSAoBEm9MNBjmlNcDYLvLSMlnq.jpg   \n6  /aHNeKtkNnyQcietzi2cgiYL8sC9.jpg   \n7  /4sqUOaPFoP2W81mq1UYqZqf5WzA.jpg   \n8  /vdgI2z1waA5NFVtv373AhzPOKaF.jpg   \n9  /bAOhiu2zS1KEEEPBEg1fnUydfrd.jpg   \n\n                                            homepage  similarity_score  \n0  http://www.starwars.com/films/star-wars-episod...              0.73  \n1  http://www.starwars.com/films/star-wars-episod...              0.73  \n2  http://www.starwars.com/films/star-wars-episod...              0.61  \n3                                          [MISSING]              0.59  \n4                                          [MISSING]              0.55  \n5  http://www.starwars.com/films/star-wars-episod...              0.54  \n6     http://www.mgm.com/view/movie/1873/Spaceballs/              0.50  \n7                                          [MISSING]              0.50  \n8                                          [MISSING]              0.48  \n9                  http://www.battleplanetmovie.com/              0.48  ",
      "text/html": "<div>\n<style scoped>\n    .dataframe tbody tr th:only-of-type {\n        vertical-align: middle;\n    }\n\n    .dataframe tbody tr th {\n        vertical-align: top;\n    }\n\n    .dataframe thead th {\n        text-align: right;\n    }\n</style>\n<table border=\"1\" class=\"dataframe\">\n  <thead>\n    <tr style=\"text-align: right;\">\n      <th></th>\n      <th>movie</th>\n      <th>tmdb_id</th>\n      <th>imdb_id</th>\n      <th>genres</th>\n      <th>release_date</th>\n      <th>cast</th>\n      <th>crew</th>\n      <th>collection</th>\n      <th>budget</th>\n      <th>revenue</th>\n      <th>runtime</th>\n      <th>language</th>\n      <th>popularity</th>\n      <th>synopsis</th>\n      <th>poster_path</th>\n      <th>homepage</th>\n      <th>similarity_score</th>\n    </tr>\n  </thead>\n  <tbody>\n    <tr>\n      <th>0</th>\n      <td>The Empire Strikes Back</td>\n      <td>1891</td>\n      <td>tt0080684</td>\n      <td>Adventure, Action, Science Fiction</td>\n      <td>1980-05-20 00:00:00</td>\n      <td>Mark Hamill, Harrison Ford, Carrie Fisher, Bil...</td>\n      <td>Animation: Phil Tippett, Art Direction: Alan T...</td>\n      <td>Star Wars Collection</td>\n      <td>18000000</td>\n      <td>538400000</td>\n      <td>124</td>\n      <td>en</td>\n      <td>35.741</td>\n      <td>The epic saga continues as Luke Skywalker, in ...</td>\n      <td>/nNAeTmF4CtdSgMDplXTDPOpYzsX.jpg</td>\n      <td>http://www.starwars.com/films/star-wars-episod...</td>\n      <td>0.73</td>\n    </tr>\n    <tr>\n      <th>1</th>\n      <td>Return of the Jedi</td>\n      <td>1892</td>\n      <td>tt0086190</td>\n      <td>Adventure, Action, Science Fiction</td>\n      <td>1983-05-25 00:00:00</td>\n      <td>Mark Hamill, Harrison Ford, Carrie Fisher, Bil...</td>\n      <td>Assistant Production Manager: Patricia Carr, C...</td>\n      <td>Star Wars Collection</td>\n      <td>32350000</td>\n      <td>572700000</td>\n      <td>132</td>\n      <td>en</td>\n      <td>38.062</td>\n      <td>Luke Skywalker leads a mission to rescue his f...</td>\n      <td>/jQYlydvHm3kUix1f8prMucrplhm.jpg</td>\n      <td>http://www.starwars.com/films/star-wars-episod...</td>\n      <td>0.73</td>\n    </tr>\n    <tr>\n      <th>2</th>\n      <td>Star Wars: Episode I - The Phantom Menace</td>\n      <td>1893</td>\n      <td>tt0120915</td>\n      <td>Adventure, Action, Science Fiction</td>\n      <td>1999-05-19 00:00:00</td>\n      <td>Liam Neeson, Ewan McGregor, Natalie Portman, J...</td>\n      <td>ADR Editor: Gwendolyn Yates Whittle, ADR Edito...</td>\n      <td>Star Wars Collection</td>\n      <td>115000000</td>\n      <td>924317558</td>\n      <td>136</td>\n      <td>en</td>\n      <td>40.345</td>\n      <td>Anakin Skywalker, a young slave strong with th...</td>\n      <td>/6wkfovpn7Eq8dYNKaG5PY3q2oq6.jpg</td>\n      <td>http://www.starwars.com/films/star-wars-episod...</td>\n      <td>0.61</td>\n    </tr>\n    <tr>\n      <th>3</th>\n      <td>Star Wars: Episode II - Attack of the Clones</td>\n      <td>1894</td>\n      <td>tt0121765</td>\n      <td>Adventure, Action, Science Fiction</td>\n      <td>2002-05-15 00:00:00</td>\n      <td>Hayden Christensen, Ewan McGregor, Natalie Por...</td>\n      <td>ADR Editor: Marilyn McCoppen, Additional Sound...</td>\n      <td>Star Wars Collection</td>\n      <td>120000000</td>\n      <td>649398328</td>\n      <td>142</td>\n      <td>en</td>\n      <td>35.045</td>\n      <td>Following an assassination attempt on Senator ...</td>\n      <td>/oZNPzxqM2s5DyVWab09NTQScDQt.jpg</td>\n      <td>[MISSING]</td>\n      <td>0.59</td>\n    </tr>\n    <tr>\n      <th>4</th>\n      <td>Starcrash</td>\n      <td>22049</td>\n      <td>tt0079946</td>\n      <td>Fantasy, Science Fiction</td>\n      <td>1978-12-21 00:00:00</td>\n      <td>Marjoe Gortner, Caroline Munro, Christopher Pl...</td>\n      <td>Additional Dialogue: R. A. Dillon, Animation: ...</td>\n      <td>Star Crash Collection</td>\n      <td>0</td>\n      <td>0</td>\n      <td>94</td>\n      <td>it</td>\n      <td>9.243</td>\n      <td>A pair of smugglers manage to pick up a castaw...</td>\n      <td>/npJt35Q36aGcTYpcg9epbwQIIkz.jpg</td>\n      <td>[MISSING]</td>\n      <td>0.55</td>\n    </tr>\n    <tr>\n      <th>5</th>\n      <td>Star Wars: Episode III - Revenge of the Sith</td>\n      <td>1895</td>\n      <td>tt0121766</td>\n      <td>Adventure, Action, Science Fiction</td>\n      <td>2005-05-17 00:00:00</td>\n      <td>Hayden Christensen, Ewan McGregor, Natalie Por...</td>\n      <td>ADR Editor: Jeremy Molod, ADR Editor: Steve Sl...</td>\n      <td>Star Wars Collection</td>\n      <td>113000000</td>\n      <td>850000000</td>\n      <td>140</td>\n      <td>en</td>\n      <td>38.914</td>\n      <td>The evil Darth Sidious enacts his final plan f...</td>\n      <td>/xfSAoBEm9MNBjmlNcDYLvLSMlnq.jpg</td>\n      <td>http://www.starwars.com/films/star-wars-episod...</td>\n      <td>0.54</td>\n    </tr>\n    <tr>\n      <th>6</th>\n      <td>Spaceballs</td>\n      <td>957</td>\n      <td>tt0094012</td>\n      <td>Comedy, Science Fiction</td>\n      <td>1987-06-24 00:00:00</td>\n      <td>Mel Brooks, John Candy, Rick Moranis, Bill Pul...</td>\n      <td>Additional Editing: Nicholas C. Smith, Art Dir...</td>\n      <td>[MISSING]</td>\n      <td>22700000</td>\n      <td>38119483</td>\n      <td>96</td>\n      <td>en</td>\n      <td>26.105</td>\n      <td>When the nefarious Dark Helmet hatches a plan ...</td>\n      <td>/aHNeKtkNnyQcietzi2cgiYL8sC9.jpg</td>\n      <td>http://www.mgm.com/view/movie/1873/Spaceballs/</td>\n      <td>0.50</td>\n    </tr>\n    <tr>\n      <th>7</th>\n      <td>Serenity</td>\n      <td>16320</td>\n      <td>tt0379786</td>\n      <td>Science Fiction, Action, Adventure, Thriller</td>\n      <td>2005-09-25 00:00:00</td>\n      <td>Nathan Fillion, Summer Glau, Gina Torres, Alan...</td>\n      <td>3D Artist: Mary E. Manning, ADR Editor: Stepha...</td>\n      <td>[MISSING]</td>\n      <td>39000000</td>\n      <td>38869464</td>\n      <td>119</td>\n      <td>en</td>\n      <td>30.552</td>\n      <td>When the renegade crew of Serenity agrees to h...</td>\n      <td>/4sqUOaPFoP2W81mq1UYqZqf5WzA.jpg</td>\n      <td>[MISSING]</td>\n      <td>0.50</td>\n    </tr>\n    <tr>\n      <th>8</th>\n      <td>Alien Agent</td>\n      <td>19279</td>\n      <td>tt0820466</td>\n      <td>Action, Science Fiction</td>\n      <td>2007-07-17 00:00:00</td>\n      <td>Mark Dacascos, Amelia Cooke, Emma Lahana, Kim ...</td>\n      <td>ADR Supervisor: Chris Ove, Aerial Camera: A.J....</td>\n      <td>[MISSING]</td>\n      <td>0</td>\n      <td>0</td>\n      <td>95</td>\n      <td>en</td>\n      <td>3.113</td>\n      <td>A lawman from another galaxy must stop an inva...</td>\n      <td>/vdgI2z1waA5NFVtv373AhzPOKaF.jpg</td>\n      <td>[MISSING]</td>\n      <td>0.48</td>\n    </tr>\n    <tr>\n      <th>9</th>\n      <td>Battle Planet</td>\n      <td>17571</td>\n      <td>tt1016024</td>\n      <td>Action, Science Fiction</td>\n      <td>2008-11-02 00:00:00</td>\n      <td>Zack Ward, Monica May, Colleen Smith, Kevin Th...</td>\n      <td>Art Direction: Kevin Ivers, Assistant Makeup A...</td>\n      <td>[MISSING]</td>\n      <td>0</td>\n      <td>0</td>\n      <td>85</td>\n      <td>en</td>\n      <td>2.373</td>\n      <td>In the not-so-distant future, Captain Jordan S...</td>\n      <td>/bAOhiu2zS1KEEEPBEg1fnUydfrd.jpg</td>\n      <td>http://www.battleplanetmovie.com/</td>\n      <td>0.48</td>\n    </tr>\n  </tbody>\n</table>\n</div>"
     },
     "execution_count": 184,
     "metadata": {},
     "output_type": "execute_result"
    }
   ],
   "source": [
    "rec"
   ],
   "metadata": {
    "collapsed": false,
    "ExecuteTime": {
     "end_time": "2024-12-16T16:29:59.687170800Z",
     "start_time": "2024-12-16T16:29:59.680098700Z"
    }
   }
  },
  {
   "cell_type": "code",
   "execution_count": 185,
   "outputs": [
    {
     "data": {
      "text/plain": "Index(['movie', 'tmdb_id', 'imdb_id', 'genres', 'release_date', 'cast', 'crew',\n       'collection', 'budget', 'revenue', 'runtime', 'language', 'popularity',\n       'synopsis', 'poster_path', 'homepage', 'similarity_score'],\n      dtype='object')"
     },
     "execution_count": 185,
     "metadata": {},
     "output_type": "execute_result"
    }
   ],
   "source": [
    "rec.columns"
   ],
   "metadata": {
    "collapsed": false,
    "ExecuteTime": {
     "end_time": "2024-12-16T16:30:00.457508600Z",
     "start_time": "2024-12-16T16:30:00.446289100Z"
    }
   }
  },
  {
   "cell_type": "code",
   "execution_count": 186,
   "outputs": [
    {
     "data": {
      "text/plain": "'Interview with the Vampire'"
     },
     "execution_count": 186,
     "metadata": {},
     "output_type": "execute_result"
    }
   ],
   "source": [
    "metadata[metadata['title'].str.contains(\"Vampire\")]['title'].values[0]"
   ],
   "metadata": {
    "collapsed": false,
    "ExecuteTime": {
     "end_time": "2024-12-16T16:30:01.180941100Z",
     "start_time": "2024-12-16T16:30:01.172522300Z"
    }
   }
  },
  {
   "cell_type": "code",
   "execution_count": 188,
   "outputs": [
    {
     "data": {
      "text/plain": "0            2\n1            3\n2            5\n3            6\n4            8\n         ...  \n11302    25204\n11303    25205\n11304    25208\n11305    25449\n11306    31975\nName: id, Length: 11307, dtype: int64"
     },
     "execution_count": 188,
     "metadata": {},
     "output_type": "execute_result"
    }
   ],
   "source": [
    "metadata['id']"
   ],
   "metadata": {
    "collapsed": false,
    "ExecuteTime": {
     "end_time": "2024-12-16T16:31:27.735462Z",
     "start_time": "2024-12-16T16:31:27.721451500Z"
    }
   }
  },
  {
   "cell_type": "code",
   "execution_count": 189,
   "outputs": [
    {
     "data": {
      "text/plain": "0        Title: Ariel. Genres: Comedy Drama Romance Cri...\n1        Title: Shadows in Paradise. Genres: Comedy Dra...\n2        Title: Four Rooms. Genres: Comedy. Keywords: h...\n3        Title: Judgment Night. Genres: Action Crime Th...\n4        Title: Life in Loops (A Megacities RMX). Genre...\n                               ...                        \n11302    Title: Zero: An Investigation Into 9/11. Genre...\n11303    Title: The Concert. Genres: Drama Comedy. Keyw...\n11304    Title: The Caveman's Valentine. Genres: Drama ...\n11305    Title: New World Disorder 9: Never Enough. Key...\n11306    Title: Sesame Street: Elmo Loves You!. Genres:...\nName: soup, Length: 11307, dtype: object"
     },
     "execution_count": 189,
     "metadata": {},
     "output_type": "execute_result"
    }
   ],
   "source": [
    "metadata['soup']"
   ],
   "metadata": {
    "collapsed": false,
    "ExecuteTime": {
     "end_time": "2024-12-16T16:35:29.063955200Z",
     "start_time": "2024-12-16T16:35:29.045957800Z"
    }
   }
  },
  {
   "cell_type": "code",
   "execution_count": 190,
   "outputs": [
    {
     "data": {
      "text/plain": "                  belongs_to_collection    budget  \\\n0      Kaurismäki's Proletariat Trilogy         0   \n1      Kaurismäki's Proletariat Trilogy         0   \n2                             [MISSING]   4000000   \n3                             [MISSING]  21000000   \n4                             [MISSING]     42000   \n...                                 ...       ...   \n11302                         [MISSING]         0   \n11303                         [MISSING]         0   \n11304                         [MISSING]  13500000   \n11305                New World Disorder         0   \n11306                         [MISSING]         0   \n\n                                        homepage    imdb_id  popularity  \\\n0                                      [MISSING]  tt0094675      11.403   \n1                                      [MISSING]  tt0092149       7.066   \n2      https://www.miramax.com/movie/four-rooms/  tt0113101      15.843   \n3                                      [MISSING]  tt0107286      12.929   \n4                         http://lifeinloops.com  tt0825671       4.073   \n...                                          ...        ...         ...   \n11302                                  [MISSING]  tt1297858       1.733   \n11303                                  [MISSING]  tt1320082       7.251   \n11304                                  [MISSING]  tt0182000       7.220   \n11305                    http://www.nwdfilms.com  [MISSING]       2.102   \n11306                                  [MISSING]  tt1656746       0.003   \n\n                            poster_path   revenue  runtime  vote_average  \\\n0      /ojDg0PGvs6R9xYFodRct2kdI6wC.jpg         0       73         7.100   \n1      /nj01hspawPof0mJmlgfjuLyJuRN.jpg         0       74         7.297   \n2      /75aHn1NOYXh4M7L5shoeQ6NGykP.jpg   4257354       98         5.853   \n3      /3rvvpS9YPM5HB2f4HYiNiJVtdam.jpg  12136938      109         6.500   \n4      /7ln81BRnPR2wqxuITZxEciCe1lc.jpg         0       80         7.300   \n...                                 ...       ...      ...           ...   \n11302  /rZW8WXGyNnzuuPlswcdINVXkBp3.jpg         0      104         6.100   \n11303  /zQHwJk6t6AUBjrQCj2ksiShRy2o.jpg         0      119         7.247   \n11304  /xWjoiGvFZPXuBi93reGblvDHIax.jpg    794481      105         5.729   \n11305  /itQjoIO2e3padeLliHROJVAb7Av.jpg         0       69         6.000   \n11306  /qKWcCmvGr4g0dgXvhqAc4BAMCtk.jpg         0       46         0.000   \n\n       vote_count  ...                                               crew  \\\n0             336  ...  Additional Music: Dmitri Shostakovich, Additio...   \n1             399  ...  Assistant Camera: Heikki Ortamo, Assistant Cam...   \n2            2639  ...  ADR Editor: Zack Davis, ADR Mixer: Christina T...   \n3             331  ...  Art Direction: Dan Olexiewicz, Associate Produ...   \n4              28  ...  Director of Photography: Wolfgang Thaler, Dire...   \n...           ...  ...                                                ...   \n11302          18  ...  Cinematography: Christian Di Prinzio, Cinemato...   \n11303         497  ...  Adaptation: Radu Mihăileanu, Art Direction: Ar...   \n11304         133  ...  Art Direction: Grant Van Der Slagt, Co-Executi...   \n11305           3  ...                         Director: Derek Westerlund   \n11306           0  ...                                          [MISSING]   \n\n                              genres  origin_country original_language  \\\n0      Comedy, Drama, Romance, Crime              FI                fi   \n1             Comedy, Drama, Romance              FI                fi   \n2                             Comedy              US                en   \n3            Action, Crime, Thriller              US                en   \n4                        Documentary              AT                en   \n...                              ...             ...               ...   \n11302                    Documentary              IT                it   \n11303                  Drama, Comedy              FR                fr   \n11304       Drama, Mystery, Thriller              US                en   \n11305                      [MISSING]              US                en   \n11306                         Family              US                en   \n\n                                                overview  \\\n0      After the coal mine he works at closes and his...   \n1      Nikander, a rubbish collector and would-be ent...   \n2      It's Ted the Bellhop's first night on the job....   \n3      Four young friends, while taking a shortcut en...   \n4      Timo Novotny labels his new project an experim...   \n...                                                  ...   \n11302  ZERO: An Investigation into 9/11 has one centr...   \n11303  A former world-famous conductor of the Bolshoï...   \n11304  Romulus, a misunderstood musician turned reclu...   \n11305  Gee Atherton ripping the Worlds course the day...   \n11306  Elmo is making a very, very super special surp...   \n\n                                    production_companies  \\\n0                              Villealfa Filmproductions   \n1                              Villealfa Filmproductions   \n2                                  Miramax, A Band Apart   \n3           Largo Entertainment, JVC, Universal Pictures   \n4                                                inLoops   \n...                                                  ...   \n11302                    Telemaco, TPF Telemaco, theGLAV   \n11303  Wild Bunch, Oï  Oï  Oï Productions, Les Produc...   \n11304                   Jersey Shore, Franchise Pictures   \n11305                                          [MISSING]   \n11306                                          [MISSING]   \n\n                                                 tagline  \\\n0                                              [MISSING]   \n1                                              [MISSING]   \n2      Twelve outrageous guests. Four scandalous requ...   \n3         Don't move. Don't whisper. Don't even breathe.   \n4                                    A Megacities remix.   \n...                                                  ...   \n11302                                          [MISSING]   \n11303  The grand deception that became the performanc...   \n11304  Romulus Ledbetter lives on the edge. The view ...   \n11305                                          [MISSING]   \n11306                                          [MISSING]   \n\n                                    title  \\\n0                                   Ariel   \n1                     Shadows in Paradise   \n2                              Four Rooms   \n3                          Judgment Night   \n4        Life in Loops (A Megacities RMX)   \n...                                   ...   \n11302    Zero: An Investigation Into 9/11   \n11303                         The Concert   \n11304             The Caveman's Valentine   \n11305  New World Disorder 9: Never Enough   \n11306      Sesame Street: Elmo Loves You!   \n\n                                                keywords  \\\n0      prison, underdog, helsinki, finland, factory w...   \n1                 helsinki, finland, salesclerk, garbage   \n2      hotel, new year's eve, witch, bet, sperm, hote...   \n3      drug dealer, chicago, illinois, escape, one ni...   \n4                                             megacities   \n...                                                  ...   \n11302                                  9/11, twin towers   \n11303  concert, orchestra, musical, violin player, gipsy   \n11304                                     woman director   \n11305                            sports, mountain biking   \n11306                                          [MISSING]   \n\n                                                    soup  \n0      Title: Ariel. Genres: Comedy Drama Romance Cri...  \n1      Title: Shadows in Paradise. Genres: Comedy Dra...  \n2      Title: Four Rooms. Genres: Comedy. Keywords: h...  \n3      Title: Judgment Night. Genres: Action Crime Th...  \n4      Title: Life in Loops (A Megacities RMX). Genre...  \n...                                                  ...  \n11302  Title: Zero: An Investigation Into 9/11. Genre...  \n11303  Title: The Concert. Genres: Drama Comedy. Keyw...  \n11304  Title: The Caveman's Valentine. Genres: Drama ...  \n11305  Title: New World Disorder 9: Never Enough. Key...  \n11306  Title: Sesame Street: Elmo Loves You!. Genres:...  \n\n[11307 rows x 25 columns]",
      "text/html": "<div>\n<style scoped>\n    .dataframe tbody tr th:only-of-type {\n        vertical-align: middle;\n    }\n\n    .dataframe tbody tr th {\n        vertical-align: top;\n    }\n\n    .dataframe thead th {\n        text-align: right;\n    }\n</style>\n<table border=\"1\" class=\"dataframe\">\n  <thead>\n    <tr style=\"text-align: right;\">\n      <th></th>\n      <th>belongs_to_collection</th>\n      <th>budget</th>\n      <th>homepage</th>\n      <th>imdb_id</th>\n      <th>popularity</th>\n      <th>poster_path</th>\n      <th>revenue</th>\n      <th>runtime</th>\n      <th>vote_average</th>\n      <th>vote_count</th>\n      <th>...</th>\n      <th>crew</th>\n      <th>genres</th>\n      <th>origin_country</th>\n      <th>original_language</th>\n      <th>overview</th>\n      <th>production_companies</th>\n      <th>tagline</th>\n      <th>title</th>\n      <th>keywords</th>\n      <th>soup</th>\n    </tr>\n  </thead>\n  <tbody>\n    <tr>\n      <th>0</th>\n      <td>Kaurismäki's Proletariat Trilogy</td>\n      <td>0</td>\n      <td>[MISSING]</td>\n      <td>tt0094675</td>\n      <td>11.403</td>\n      <td>/ojDg0PGvs6R9xYFodRct2kdI6wC.jpg</td>\n      <td>0</td>\n      <td>73</td>\n      <td>7.100</td>\n      <td>336</td>\n      <td>...</td>\n      <td>Additional Music: Dmitri Shostakovich, Additio...</td>\n      <td>Comedy, Drama, Romance, Crime</td>\n      <td>FI</td>\n      <td>fi</td>\n      <td>After the coal mine he works at closes and his...</td>\n      <td>Villealfa Filmproductions</td>\n      <td>[MISSING]</td>\n      <td>Ariel</td>\n      <td>prison, underdog, helsinki, finland, factory w...</td>\n      <td>Title: Ariel. Genres: Comedy Drama Romance Cri...</td>\n    </tr>\n    <tr>\n      <th>1</th>\n      <td>Kaurismäki's Proletariat Trilogy</td>\n      <td>0</td>\n      <td>[MISSING]</td>\n      <td>tt0092149</td>\n      <td>7.066</td>\n      <td>/nj01hspawPof0mJmlgfjuLyJuRN.jpg</td>\n      <td>0</td>\n      <td>74</td>\n      <td>7.297</td>\n      <td>399</td>\n      <td>...</td>\n      <td>Assistant Camera: Heikki Ortamo, Assistant Cam...</td>\n      <td>Comedy, Drama, Romance</td>\n      <td>FI</td>\n      <td>fi</td>\n      <td>Nikander, a rubbish collector and would-be ent...</td>\n      <td>Villealfa Filmproductions</td>\n      <td>[MISSING]</td>\n      <td>Shadows in Paradise</td>\n      <td>helsinki, finland, salesclerk, garbage</td>\n      <td>Title: Shadows in Paradise. Genres: Comedy Dra...</td>\n    </tr>\n    <tr>\n      <th>2</th>\n      <td>[MISSING]</td>\n      <td>4000000</td>\n      <td>https://www.miramax.com/movie/four-rooms/</td>\n      <td>tt0113101</td>\n      <td>15.843</td>\n      <td>/75aHn1NOYXh4M7L5shoeQ6NGykP.jpg</td>\n      <td>4257354</td>\n      <td>98</td>\n      <td>5.853</td>\n      <td>2639</td>\n      <td>...</td>\n      <td>ADR Editor: Zack Davis, ADR Mixer: Christina T...</td>\n      <td>Comedy</td>\n      <td>US</td>\n      <td>en</td>\n      <td>It's Ted the Bellhop's first night on the job....</td>\n      <td>Miramax, A Band Apart</td>\n      <td>Twelve outrageous guests. Four scandalous requ...</td>\n      <td>Four Rooms</td>\n      <td>hotel, new year's eve, witch, bet, sperm, hote...</td>\n      <td>Title: Four Rooms. Genres: Comedy. Keywords: h...</td>\n    </tr>\n    <tr>\n      <th>3</th>\n      <td>[MISSING]</td>\n      <td>21000000</td>\n      <td>[MISSING]</td>\n      <td>tt0107286</td>\n      <td>12.929</td>\n      <td>/3rvvpS9YPM5HB2f4HYiNiJVtdam.jpg</td>\n      <td>12136938</td>\n      <td>109</td>\n      <td>6.500</td>\n      <td>331</td>\n      <td>...</td>\n      <td>Art Direction: Dan Olexiewicz, Associate Produ...</td>\n      <td>Action, Crime, Thriller</td>\n      <td>US</td>\n      <td>en</td>\n      <td>Four young friends, while taking a shortcut en...</td>\n      <td>Largo Entertainment, JVC, Universal Pictures</td>\n      <td>Don't move. Don't whisper. Don't even breathe.</td>\n      <td>Judgment Night</td>\n      <td>drug dealer, chicago, illinois, escape, one ni...</td>\n      <td>Title: Judgment Night. Genres: Action Crime Th...</td>\n    </tr>\n    <tr>\n      <th>4</th>\n      <td>[MISSING]</td>\n      <td>42000</td>\n      <td>http://lifeinloops.com</td>\n      <td>tt0825671</td>\n      <td>4.073</td>\n      <td>/7ln81BRnPR2wqxuITZxEciCe1lc.jpg</td>\n      <td>0</td>\n      <td>80</td>\n      <td>7.300</td>\n      <td>28</td>\n      <td>...</td>\n      <td>Director of Photography: Wolfgang Thaler, Dire...</td>\n      <td>Documentary</td>\n      <td>AT</td>\n      <td>en</td>\n      <td>Timo Novotny labels his new project an experim...</td>\n      <td>inLoops</td>\n      <td>A Megacities remix.</td>\n      <td>Life in Loops (A Megacities RMX)</td>\n      <td>megacities</td>\n      <td>Title: Life in Loops (A Megacities RMX). Genre...</td>\n    </tr>\n    <tr>\n      <th>...</th>\n      <td>...</td>\n      <td>...</td>\n      <td>...</td>\n      <td>...</td>\n      <td>...</td>\n      <td>...</td>\n      <td>...</td>\n      <td>...</td>\n      <td>...</td>\n      <td>...</td>\n      <td>...</td>\n      <td>...</td>\n      <td>...</td>\n      <td>...</td>\n      <td>...</td>\n      <td>...</td>\n      <td>...</td>\n      <td>...</td>\n      <td>...</td>\n      <td>...</td>\n      <td>...</td>\n    </tr>\n    <tr>\n      <th>11302</th>\n      <td>[MISSING]</td>\n      <td>0</td>\n      <td>[MISSING]</td>\n      <td>tt1297858</td>\n      <td>1.733</td>\n      <td>/rZW8WXGyNnzuuPlswcdINVXkBp3.jpg</td>\n      <td>0</td>\n      <td>104</td>\n      <td>6.100</td>\n      <td>18</td>\n      <td>...</td>\n      <td>Cinematography: Christian Di Prinzio, Cinemato...</td>\n      <td>Documentary</td>\n      <td>IT</td>\n      <td>it</td>\n      <td>ZERO: An Investigation into 9/11 has one centr...</td>\n      <td>Telemaco, TPF Telemaco, theGLAV</td>\n      <td>[MISSING]</td>\n      <td>Zero: An Investigation Into 9/11</td>\n      <td>9/11, twin towers</td>\n      <td>Title: Zero: An Investigation Into 9/11. Genre...</td>\n    </tr>\n    <tr>\n      <th>11303</th>\n      <td>[MISSING]</td>\n      <td>0</td>\n      <td>[MISSING]</td>\n      <td>tt1320082</td>\n      <td>7.251</td>\n      <td>/zQHwJk6t6AUBjrQCj2ksiShRy2o.jpg</td>\n      <td>0</td>\n      <td>119</td>\n      <td>7.247</td>\n      <td>497</td>\n      <td>...</td>\n      <td>Adaptation: Radu Mihăileanu, Art Direction: Ar...</td>\n      <td>Drama, Comedy</td>\n      <td>FR</td>\n      <td>fr</td>\n      <td>A former world-famous conductor of the Bolshoï...</td>\n      <td>Wild Bunch, Oï  Oï  Oï Productions, Les Produc...</td>\n      <td>The grand deception that became the performanc...</td>\n      <td>The Concert</td>\n      <td>concert, orchestra, musical, violin player, gipsy</td>\n      <td>Title: The Concert. Genres: Drama Comedy. Keyw...</td>\n    </tr>\n    <tr>\n      <th>11304</th>\n      <td>[MISSING]</td>\n      <td>13500000</td>\n      <td>[MISSING]</td>\n      <td>tt0182000</td>\n      <td>7.220</td>\n      <td>/xWjoiGvFZPXuBi93reGblvDHIax.jpg</td>\n      <td>794481</td>\n      <td>105</td>\n      <td>5.729</td>\n      <td>133</td>\n      <td>...</td>\n      <td>Art Direction: Grant Van Der Slagt, Co-Executi...</td>\n      <td>Drama, Mystery, Thriller</td>\n      <td>US</td>\n      <td>en</td>\n      <td>Romulus, a misunderstood musician turned reclu...</td>\n      <td>Jersey Shore, Franchise Pictures</td>\n      <td>Romulus Ledbetter lives on the edge. The view ...</td>\n      <td>The Caveman's Valentine</td>\n      <td>woman director</td>\n      <td>Title: The Caveman's Valentine. Genres: Drama ...</td>\n    </tr>\n    <tr>\n      <th>11305</th>\n      <td>New World Disorder</td>\n      <td>0</td>\n      <td>http://www.nwdfilms.com</td>\n      <td>[MISSING]</td>\n      <td>2.102</td>\n      <td>/itQjoIO2e3padeLliHROJVAb7Av.jpg</td>\n      <td>0</td>\n      <td>69</td>\n      <td>6.000</td>\n      <td>3</td>\n      <td>...</td>\n      <td>Director: Derek Westerlund</td>\n      <td>[MISSING]</td>\n      <td>US</td>\n      <td>en</td>\n      <td>Gee Atherton ripping the Worlds course the day...</td>\n      <td>[MISSING]</td>\n      <td>[MISSING]</td>\n      <td>New World Disorder 9: Never Enough</td>\n      <td>sports, mountain biking</td>\n      <td>Title: New World Disorder 9: Never Enough. Key...</td>\n    </tr>\n    <tr>\n      <th>11306</th>\n      <td>[MISSING]</td>\n      <td>0</td>\n      <td>[MISSING]</td>\n      <td>tt1656746</td>\n      <td>0.003</td>\n      <td>/qKWcCmvGr4g0dgXvhqAc4BAMCtk.jpg</td>\n      <td>0</td>\n      <td>46</td>\n      <td>0.000</td>\n      <td>0</td>\n      <td>...</td>\n      <td>[MISSING]</td>\n      <td>Family</td>\n      <td>US</td>\n      <td>en</td>\n      <td>Elmo is making a very, very super special surp...</td>\n      <td>[MISSING]</td>\n      <td>[MISSING]</td>\n      <td>Sesame Street: Elmo Loves You!</td>\n      <td>[MISSING]</td>\n      <td>Title: Sesame Street: Elmo Loves You!. Genres:...</td>\n    </tr>\n  </tbody>\n</table>\n<p>11307 rows × 25 columns</p>\n</div>"
     },
     "execution_count": 190,
     "metadata": {},
     "output_type": "execute_result"
    }
   ],
   "source": [
    "metadata"
   ],
   "metadata": {
    "collapsed": false,
    "ExecuteTime": {
     "end_time": "2024-12-16T16:37:58.966604900Z",
     "start_time": "2024-12-16T16:37:58.932491800Z"
    }
   }
  },
  {
   "cell_type": "code",
   "execution_count": null,
   "outputs": [],
   "source": [
    "def get_recommendations(title, vector_db):\n",
    "\n",
    "    if title not in soups:\n",
    "        raise ValueError(f\"Title '{title}' not found in indices\")\n",
    "\n",
    "    query = soups.get(title)\n",
    "\n",
    "    try:\n",
    "        results = vector_db.similarity_search_with_score(query, k=11)\n",
    "\n",
    "        top_ten = []\n",
    "\n",
    "        for x in results[1:]:\n",
    "\n",
    "            movie_metadata = {\n",
    "                'movie': x[0].metadata['movie'],\n",
    "                \"tmdb_id\": x[0].metadata['tmdb_id'],\n",
    "                \"imdb_id\": x[0].metadata['imdb_id'],\n",
    "                'genres': x[0].metadata['genres'],\n",
    "                \"release_date\": x[0].metadata['release_date'],\n",
    "                \"cast\": x[0].metadata['cast'],\n",
    "                \"crew\": x[0].metadata['crew'],\n",
    "                \"collection\": x[0].metadata['collection'],\n",
    "                \"budget\": x[0].metadata['budget'],\n",
    "                \"revenue\": x[0].metadata['revenue'],\n",
    "                \"runtime\": x[0].metadata['runtime'],\n",
    "                \"language\": x[0].metadata['language'],\n",
    "                \"popularity\": x[0].metadata['popularity'],\n",
    "                \"synopsis\": x[0].metadata['synopsis'],\n",
    "                \"poster_path\": x[0].metadata['poster_path'],\n",
    "                \"homepage\": x[0].metadata['homepage'],\n",
    "                'similarity_score': round(x[1], 2),\n",
    "            }\n",
    "            top_ten.append(movie_metadata)\n",
    "\n",
    "        df_top_ten = pd.DataFrame(top_ten)\n",
    "        return df_top_ten\n",
    "\n",
    "    except Exception as e:\n",
    "        print(f\"Error during query: {e}\")\n",
    "        return None"
   ],
   "metadata": {
    "collapsed": false
   }
  },
  {
   "cell_type": "code",
   "execution_count": 271,
   "outputs": [],
   "source": [
    "import os"
   ],
   "metadata": {
    "collapsed": false,
    "ExecuteTime": {
     "end_time": "2024-12-16T17:11:26.990412800Z",
     "start_time": "2024-12-16T17:11:26.987788Z"
    }
   }
  },
  {
   "cell_type": "code",
   "execution_count": 272,
   "outputs": [],
   "source": [
    "os.makedirs(name=\"data/final\", exist_ok=True)\n",
    "metadata.to_csv(\"data/final/final_metadata.csv\")"
   ],
   "metadata": {
    "collapsed": false,
    "ExecuteTime": {
     "end_time": "2024-12-16T17:11:31.489591900Z",
     "start_time": "2024-12-16T17:11:27.703747300Z"
    }
   }
  },
  {
   "cell_type": "code",
   "execution_count": 292,
   "outputs": [],
   "source": [
    "class Recommender:\n",
    "    def __init__(self, vectorstore, metadata_path):\n",
    "\n",
    "        self.vectorstore = vectorstore\n",
    "        self.metadata = pd.read_csv(metadata_path)\n",
    "\n",
    "    @classmethod\n",
    "    def from_weaviate(cls, metadata_path, embedding_model_args, weaviate_args ):\n",
    "        client = weaviate.Client(\n",
    "            url=weaviate_args['url'],\n",
    "            auth_client_secret=weaviate.AuthApiKey(fetch_api_key(weaviate_args['ak_name'], False))\n",
    "        )\n",
    "        embeddings = HuggingFaceEmbeddings(\n",
    "          model_name=embedding_model_args['model_name'],\n",
    "          model_kwargs=embedding_model_args['model_kwargs']\n",
    "        )\n",
    "        vectorstore = Weaviate(client=client,embedding=embeddings,\n",
    "                      index_name=weaviate_args['index_name'],\n",
    "                      text_key=weaviate_args['text_key'],\n",
    "                      by_text=weaviate_args['by_text'],\n",
    "                     attributes=weaviate_args['attributes'],\n",
    "                     )\n",
    "        rec = cls(metadata_path = metadata_path, vectorstore=vectorstore)\n",
    "        return rec\n",
    "\n",
    "    def guess_movie(self, keyword):\n",
    "        return self.metadata[self.metadata['title'].str.contains(keyword)]['title'].values[0]\n",
    "\n",
    "    def get_recommendations_by_id(self, tmdb_id, k=10):\n",
    "        if tmdb_id not in self.metadata.id:\n",
    "            raise ValueError(f\"Id '{tmdb_id}' not found in indices\")\n",
    "        querry = self.metadata[self.metadata['id'] == tmdb_id][['soup']].values[0]\n",
    "        return self.recommend(querry[0], k)\n",
    "\n",
    "    def get_recommendations_by_title(self, title, k=10):\n",
    "        if title not in list(self.metadata.title):\n",
    "            raise ValueError(f\"title '{title}' not found in indices\")\n",
    "        querry = self.metadata[self.metadata['title'] == title][['soup']].values[0]\n",
    "        return self.recommend(querry[0], k)\n",
    "\n",
    "    def get_recommendations_by_keywords(self, keyword, k = 10):\n",
    "        title = self.guess_movie(keyword)\n",
    "        return self.get_recommendations_by_title(title, k = k)\n",
    "\n",
    "    def recommend(self, query, k):\n",
    "        try:\n",
    "            results = self.vectorstore.similarity_search_with_score(query, k=k+1)\n",
    "\n",
    "            top_k = []\n",
    "\n",
    "            for x in results[1:]:\n",
    "\n",
    "                movie_metadata = {\n",
    "                    'movie': x[0].metadata['movie'],\n",
    "                    \"tmdb_id\": x[0].metadata['tmdb_id'],\n",
    "                    \"imdb_id\": x[0].metadata['imdb_id'],\n",
    "                    'genres': x[0].metadata['genres'],\n",
    "                    \"release_date\": x[0].metadata['release_date'],\n",
    "                    \"cast\": x[0].metadata['cast'],\n",
    "                    \"crew\": x[0].metadata['crew'],\n",
    "                    \"collection\": x[0].metadata['collection'],\n",
    "                    \"budget\": x[0].metadata['budget'],\n",
    "                    \"revenue\": x[0].metadata['revenue'],\n",
    "                    \"runtime\": x[0].metadata['runtime'],\n",
    "                    \"language\": x[0].metadata['language'],\n",
    "                    \"popularity\": x[0].metadata['popularity'],\n",
    "                    \"synopsis\": x[0].metadata['synopsis'],\n",
    "                    \"poster_path\": x[0].metadata['poster_path'],\n",
    "                    \"homepage\": x[0].metadata['homepage'],\n",
    "                    'similarity_score': round(x[1], 2),\n",
    "                }\n",
    "                top_k.append(movie_metadata)\n",
    "\n",
    "            df_top_k = pd.DataFrame(top_k)\n",
    "            return df_top_k\n",
    "\n",
    "        except Exception as e:\n",
    "            print(f\"Error during query: {e}\")\n",
    "            return None\n"
   ],
   "metadata": {
    "collapsed": false,
    "ExecuteTime": {
     "end_time": "2024-12-16T19:48:25.486316900Z",
     "start_time": "2024-12-16T19:48:25.480316800Z"
    }
   }
  },
  {
   "cell_type": "code",
   "execution_count": 293,
   "outputs": [],
   "source": [
    "import yaml"
   ],
   "metadata": {
    "collapsed": false,
    "ExecuteTime": {
     "end_time": "2024-12-16T19:48:25.872174300Z",
     "start_time": "2024-12-16T19:48:25.868376Z"
    }
   }
  },
  {
   "cell_type": "code",
   "execution_count": 294,
   "outputs": [],
   "source": [
    "def load_kwargs(fpath):\n",
    "    with open(fpath, 'r') as file:\n",
    "        config = yaml.safe_load(file)\n",
    "    return config"
   ],
   "metadata": {
    "collapsed": false,
    "ExecuteTime": {
     "end_time": "2024-12-16T19:48:26.242102400Z",
     "start_time": "2024-12-16T19:48:26.240096700Z"
    }
   }
  },
  {
   "cell_type": "code",
   "execution_count": 298,
   "outputs": [
    {
     "name": "stderr",
     "output_type": "stream",
     "text": [
      "C:\\Users\\Parag\\anaconda3\\Lib\\site-packages\\weaviate\\__init__.py:144: DeprecationWarning: Dep010: Importing AuthApiKey from weaviate is deprecated. Import AuthApiKey from its module: weaviate.auth\n",
      "  _Warnings.root_module_import(name, map_[name])\n",
      "C:\\Users\\Parag\\AppData\\Local\\Temp\\ipykernel_23152\\3872837225.py:9: DeprecationWarning: \n",
      "Python client v3 `weaviate.Client(...)` connections and methods are deprecated and will\n",
      "            be removed by 2024-11-30.\n",
      "\n",
      "            Upgrade your code to use Python client v4 `weaviate.WeaviateClient` connections and methods.\n",
      "                - For Python Client v4 usage, see: https://weaviate.io/developers/weaviate/client-libraries/python\n",
      "                - For code migration, see: https://weaviate.io/developers/weaviate/client-libraries/python/v3_v4_migration\n",
      "\n",
      "            If you have to use v3 code, install the v3 client and pin the v3 dependency in your requirements file: `weaviate-client>=3.26.7;<4.0.0`\n",
      "  client = weaviate.Client(\n",
      "C:\\Users\\Parag\\anaconda3\\Lib\\site-packages\\weaviate\\warnings.py:162: DeprecationWarning: Dep016: Python client v3 `weaviate.Client(...)` connections and methods are deprecated and will\n",
      "            be removed by 2024-11-30.\n",
      "\n",
      "            Upgrade your code to use Python client v4 `weaviate.WeaviateClient` connections and methods.\n",
      "                - For Python Client v4 usage, see: https://weaviate.io/developers/weaviate/client-libraries/python\n",
      "                - For code migration, see: https://weaviate.io/developers/weaviate/client-libraries/python/v3_v4_migration\n",
      "\n",
      "            If you have to use v3 code, install the v3 client and pin the v3 dependency in your requirements file: `weaviate-client>=3.26.7;<4.0.0`\n",
      "  warnings.warn(\n"
     ]
    },
    {
     "name": "stdout",
     "output_type": "stream",
     "text": [
      "Key loading successful.\n"
     ]
    }
   ],
   "source": [
    "rec = Recommender.from_weaviate(**load_kwargs(\"config/weaviate.yaml\"))"
   ],
   "metadata": {
    "collapsed": false,
    "ExecuteTime": {
     "end_time": "2024-12-16T19:49:57.339542800Z",
     "start_time": "2024-12-16T19:49:53.960938500Z"
    }
   }
  },
  {
   "cell_type": "code",
   "execution_count": 299,
   "outputs": [
    {
     "data": {
      "text/plain": "                                       movie  tmdb_id    imdb_id  \\\n0                            The Dark Knight      155  tt0468569   \n1                              Batman Begins      272  tt0372784   \n2         Batman Beyond: Return of the Joker    16234  tt0233298   \n3            Batman: Mystery of the Batwoman    21683  tt0346578   \n4                             Batman & Robin      415  tt0118688   \n5  The Batman/Superman Movie: World's Finest    17074  tt0169590   \n6                             Batman Forever      414  tt0112462   \n7                                     Batman     2661  tt0060153   \n8                                    Darkman     9556  tt0099365   \n9                                 Black Dawn    18070  tt0443450   \n\n                                              genres         release_date  \\\n0                     Drama, Action, Crime, Thriller  2008-07-16 00:00:00   \n1                               Action, Crime, Drama  2005-06-10 00:00:00   \n2         Animation, Family, Action, Science Fiction  2000-12-12 00:00:00   \n3  Adventure, Fantasy, Animation, Action, Science...  2003-10-21 00:00:00   \n4                 Action, Science Fiction, Adventure  1997-06-20 00:00:00   \n5       Action, Animation, TV Movie, Science Fiction  1997-10-04 00:00:00   \n6                             Action, Crime, Fantasy  1995-06-16 00:00:00   \n7                              Action, Comedy, Crime  1966-07-30 00:00:00   \n8                  Action, Science Fiction, Thriller  1990-08-24 00:00:00   \n9                                             Action  2006-02-13 00:00:00   \n\n                                                cast  \\\n0  Christian Bale, Heath Ledger, Aaron Eckhart, M...   \n1  Christian Bale, Michael Caine, Liam Neeson, Ka...   \n2  Will Friedle, Kevin Conroy, Mark Hamill, Angie...   \n3  Kevin Conroy, Kimberly Brooks, Kelly Ripa, Eli...   \n4  Arnold Schwarzenegger, George Clooney, Chris O...   \n5  Tim Daly, Kevin Conroy, Dana Delany, Clancy Br...   \n6  Val Kilmer, Tommy Lee Jones, Jim Carrey, Nicol...   \n7  Adam West, Burt Ward, Lee Meriwether, Cesar Ro...   \n8  Liam Neeson, Frances McDormand, Colin Friels, ...   \n9  Steven Seagal, Tamara Davies, John Pyper-Fergu...   \n\n                                                crew  \\\n0  \"A\" Camera Operator: Bob Gorelick, ADR Supervi...   \n1  2D Supervisor: Charlie Noble, 3D Supervisor: D...   \n2  Director of Photography: Yoshihiro Kasahara, D...   \n3  ADR Editor: Kelly Ann Foley, Associate Produce...   \n4  3D Modeller: Domi Piturro, ADR Editor: Bobbi B...   \n5  Additional Music: Lolita Ritmanis, Art Designe...   \n6  ADR Editor: Zack Davis, ADR Mixer: Troy Porter...   \n7  Art Direction: Serge Krizman, Associate Produc...   \n8  ADR Editor: Andrea Horta, ADR Editor: Joseph A...   \n9  Art Direction: Ni Ni Than, Associate Producer:...   \n\n                                   collection     budget     revenue  runtime  \\\n0                  The Dark Knight Collection  185000000  1004558444      152   \n1                  The Dark Knight Collection  150000000   374218673      140   \n2                    Batman Beyond Collection          0           0       77   \n3    Batman (DC Universe Animated) Collection          0           0       74   \n4                           Batman Collection  125000000   238207122      125   \n5  Superman (DC Universe Animated) Collection          0           0       64   \n6                           Batman Collection  100000000   336529144      121   \n7                                   [MISSING]    1377800     3900000      105   \n8                          Darkman Collection   16000000    48900000       95   \n9                    The Foreigner Collection    8000000       63709       96   \n\n  language  popularity                                           synopsis  \\\n0       en     142.909  Batman raises the stakes in his war on crime. ...   \n1       en      54.696  Driven by tragedy, billionaire Bruce Wayne ded...   \n2       en      21.606  The Joker is back with a vengeance, and Neo-Go...   \n3       en      17.572  As if the Penguin wasn't enough to contend wit...   \n4       en      26.257  Batman and Robin deal with relationship issues...   \n5       en       9.883  As the Joker visits Metropolis with a plan to ...   \n6       en      25.674  Batman must battle a disfigured district attor...   \n7       en      15.902  The Dynamic Duo faces four super-villains who ...   \n8       en      14.725  Dr. Peyton Westlake is on the verge of realizi...   \n9       en      11.386  Jonathan Cold returns, this time he goes Under...   \n\n                        poster_path  \\\n0  /qJ2tW6WMUDux911r6m7haRef0WH.jpg   \n1  /4MpN4kIEqUjW8OPtOQJXlTdHiJV.jpg   \n2  /rsqoX8tA6vD8kvJSQwLN8Df55nk.jpg   \n3  /mlmhpUArJdpRPO211v3lETe3uzg.jpg   \n4  /cGRDufDDSrFrv7VI4YnmWnslne0.jpg   \n5  /dQxwNGQ6pQLCUE5vaI9PwIZK6UC.jpg   \n6  /mzzNBVwTiiY94xAXDMWJpNPW2US.jpg   \n7  /zzoPxWHnPa0eyfkMLgwbNvdEcVF.jpg   \n8   /9fxGRzlINIvfPFhizMgbQaDDrK.jpg   \n9  /jUqyNMJQ45fRsIiIqU5TlcJnpif.jpg   \n\n                                           homepage  similarity_score  \n0    https://www.warnerbros.com/movies/dark-knight/              0.79  \n1  https://www.warnerbros.com/movies/batman-begins/              0.72  \n2                                         [MISSING]              0.71  \n3                                         [MISSING]              0.68  \n4                                         [MISSING]              0.66  \n5                                         [MISSING]              0.65  \n6                                         [MISSING]              0.64  \n7                                         [MISSING]              0.63  \n8                                         [MISSING]              0.61  \n9                                         [MISSING]              0.61  ",
      "text/html": "<div>\n<style scoped>\n    .dataframe tbody tr th:only-of-type {\n        vertical-align: middle;\n    }\n\n    .dataframe tbody tr th {\n        vertical-align: top;\n    }\n\n    .dataframe thead th {\n        text-align: right;\n    }\n</style>\n<table border=\"1\" class=\"dataframe\">\n  <thead>\n    <tr style=\"text-align: right;\">\n      <th></th>\n      <th>movie</th>\n      <th>tmdb_id</th>\n      <th>imdb_id</th>\n      <th>genres</th>\n      <th>release_date</th>\n      <th>cast</th>\n      <th>crew</th>\n      <th>collection</th>\n      <th>budget</th>\n      <th>revenue</th>\n      <th>runtime</th>\n      <th>language</th>\n      <th>popularity</th>\n      <th>synopsis</th>\n      <th>poster_path</th>\n      <th>homepage</th>\n      <th>similarity_score</th>\n    </tr>\n  </thead>\n  <tbody>\n    <tr>\n      <th>0</th>\n      <td>The Dark Knight</td>\n      <td>155</td>\n      <td>tt0468569</td>\n      <td>Drama, Action, Crime, Thriller</td>\n      <td>2008-07-16 00:00:00</td>\n      <td>Christian Bale, Heath Ledger, Aaron Eckhart, M...</td>\n      <td>\"A\" Camera Operator: Bob Gorelick, ADR Supervi...</td>\n      <td>The Dark Knight Collection</td>\n      <td>185000000</td>\n      <td>1004558444</td>\n      <td>152</td>\n      <td>en</td>\n      <td>142.909</td>\n      <td>Batman raises the stakes in his war on crime. ...</td>\n      <td>/qJ2tW6WMUDux911r6m7haRef0WH.jpg</td>\n      <td>https://www.warnerbros.com/movies/dark-knight/</td>\n      <td>0.79</td>\n    </tr>\n    <tr>\n      <th>1</th>\n      <td>Batman Begins</td>\n      <td>272</td>\n      <td>tt0372784</td>\n      <td>Action, Crime, Drama</td>\n      <td>2005-06-10 00:00:00</td>\n      <td>Christian Bale, Michael Caine, Liam Neeson, Ka...</td>\n      <td>2D Supervisor: Charlie Noble, 3D Supervisor: D...</td>\n      <td>The Dark Knight Collection</td>\n      <td>150000000</td>\n      <td>374218673</td>\n      <td>140</td>\n      <td>en</td>\n      <td>54.696</td>\n      <td>Driven by tragedy, billionaire Bruce Wayne ded...</td>\n      <td>/4MpN4kIEqUjW8OPtOQJXlTdHiJV.jpg</td>\n      <td>https://www.warnerbros.com/movies/batman-begins/</td>\n      <td>0.72</td>\n    </tr>\n    <tr>\n      <th>2</th>\n      <td>Batman Beyond: Return of the Joker</td>\n      <td>16234</td>\n      <td>tt0233298</td>\n      <td>Animation, Family, Action, Science Fiction</td>\n      <td>2000-12-12 00:00:00</td>\n      <td>Will Friedle, Kevin Conroy, Mark Hamill, Angie...</td>\n      <td>Director of Photography: Yoshihiro Kasahara, D...</td>\n      <td>Batman Beyond Collection</td>\n      <td>0</td>\n      <td>0</td>\n      <td>77</td>\n      <td>en</td>\n      <td>21.606</td>\n      <td>The Joker is back with a vengeance, and Neo-Go...</td>\n      <td>/rsqoX8tA6vD8kvJSQwLN8Df55nk.jpg</td>\n      <td>[MISSING]</td>\n      <td>0.71</td>\n    </tr>\n    <tr>\n      <th>3</th>\n      <td>Batman: Mystery of the Batwoman</td>\n      <td>21683</td>\n      <td>tt0346578</td>\n      <td>Adventure, Fantasy, Animation, Action, Science...</td>\n      <td>2003-10-21 00:00:00</td>\n      <td>Kevin Conroy, Kimberly Brooks, Kelly Ripa, Eli...</td>\n      <td>ADR Editor: Kelly Ann Foley, Associate Produce...</td>\n      <td>Batman (DC Universe Animated) Collection</td>\n      <td>0</td>\n      <td>0</td>\n      <td>74</td>\n      <td>en</td>\n      <td>17.572</td>\n      <td>As if the Penguin wasn't enough to contend wit...</td>\n      <td>/mlmhpUArJdpRPO211v3lETe3uzg.jpg</td>\n      <td>[MISSING]</td>\n      <td>0.68</td>\n    </tr>\n    <tr>\n      <th>4</th>\n      <td>Batman &amp; Robin</td>\n      <td>415</td>\n      <td>tt0118688</td>\n      <td>Action, Science Fiction, Adventure</td>\n      <td>1997-06-20 00:00:00</td>\n      <td>Arnold Schwarzenegger, George Clooney, Chris O...</td>\n      <td>3D Modeller: Domi Piturro, ADR Editor: Bobbi B...</td>\n      <td>Batman Collection</td>\n      <td>125000000</td>\n      <td>238207122</td>\n      <td>125</td>\n      <td>en</td>\n      <td>26.257</td>\n      <td>Batman and Robin deal with relationship issues...</td>\n      <td>/cGRDufDDSrFrv7VI4YnmWnslne0.jpg</td>\n      <td>[MISSING]</td>\n      <td>0.66</td>\n    </tr>\n    <tr>\n      <th>5</th>\n      <td>The Batman/Superman Movie: World's Finest</td>\n      <td>17074</td>\n      <td>tt0169590</td>\n      <td>Action, Animation, TV Movie, Science Fiction</td>\n      <td>1997-10-04 00:00:00</td>\n      <td>Tim Daly, Kevin Conroy, Dana Delany, Clancy Br...</td>\n      <td>Additional Music: Lolita Ritmanis, Art Designe...</td>\n      <td>Superman (DC Universe Animated) Collection</td>\n      <td>0</td>\n      <td>0</td>\n      <td>64</td>\n      <td>en</td>\n      <td>9.883</td>\n      <td>As the Joker visits Metropolis with a plan to ...</td>\n      <td>/dQxwNGQ6pQLCUE5vaI9PwIZK6UC.jpg</td>\n      <td>[MISSING]</td>\n      <td>0.65</td>\n    </tr>\n    <tr>\n      <th>6</th>\n      <td>Batman Forever</td>\n      <td>414</td>\n      <td>tt0112462</td>\n      <td>Action, Crime, Fantasy</td>\n      <td>1995-06-16 00:00:00</td>\n      <td>Val Kilmer, Tommy Lee Jones, Jim Carrey, Nicol...</td>\n      <td>ADR Editor: Zack Davis, ADR Mixer: Troy Porter...</td>\n      <td>Batman Collection</td>\n      <td>100000000</td>\n      <td>336529144</td>\n      <td>121</td>\n      <td>en</td>\n      <td>25.674</td>\n      <td>Batman must battle a disfigured district attor...</td>\n      <td>/mzzNBVwTiiY94xAXDMWJpNPW2US.jpg</td>\n      <td>[MISSING]</td>\n      <td>0.64</td>\n    </tr>\n    <tr>\n      <th>7</th>\n      <td>Batman</td>\n      <td>2661</td>\n      <td>tt0060153</td>\n      <td>Action, Comedy, Crime</td>\n      <td>1966-07-30 00:00:00</td>\n      <td>Adam West, Burt Ward, Lee Meriwether, Cesar Ro...</td>\n      <td>Art Direction: Serge Krizman, Associate Produc...</td>\n      <td>[MISSING]</td>\n      <td>1377800</td>\n      <td>3900000</td>\n      <td>105</td>\n      <td>en</td>\n      <td>15.902</td>\n      <td>The Dynamic Duo faces four super-villains who ...</td>\n      <td>/zzoPxWHnPa0eyfkMLgwbNvdEcVF.jpg</td>\n      <td>[MISSING]</td>\n      <td>0.63</td>\n    </tr>\n    <tr>\n      <th>8</th>\n      <td>Darkman</td>\n      <td>9556</td>\n      <td>tt0099365</td>\n      <td>Action, Science Fiction, Thriller</td>\n      <td>1990-08-24 00:00:00</td>\n      <td>Liam Neeson, Frances McDormand, Colin Friels, ...</td>\n      <td>ADR Editor: Andrea Horta, ADR Editor: Joseph A...</td>\n      <td>Darkman Collection</td>\n      <td>16000000</td>\n      <td>48900000</td>\n      <td>95</td>\n      <td>en</td>\n      <td>14.725</td>\n      <td>Dr. Peyton Westlake is on the verge of realizi...</td>\n      <td>/9fxGRzlINIvfPFhizMgbQaDDrK.jpg</td>\n      <td>[MISSING]</td>\n      <td>0.61</td>\n    </tr>\n    <tr>\n      <th>9</th>\n      <td>Black Dawn</td>\n      <td>18070</td>\n      <td>tt0443450</td>\n      <td>Action</td>\n      <td>2006-02-13 00:00:00</td>\n      <td>Steven Seagal, Tamara Davies, John Pyper-Fergu...</td>\n      <td>Art Direction: Ni Ni Than, Associate Producer:...</td>\n      <td>The Foreigner Collection</td>\n      <td>8000000</td>\n      <td>63709</td>\n      <td>96</td>\n      <td>en</td>\n      <td>11.386</td>\n      <td>Jonathan Cold returns, this time he goes Under...</td>\n      <td>/jUqyNMJQ45fRsIiIqU5TlcJnpif.jpg</td>\n      <td>[MISSING]</td>\n      <td>0.61</td>\n    </tr>\n  </tbody>\n</table>\n</div>"
     },
     "execution_count": 299,
     "metadata": {},
     "output_type": "execute_result"
    }
   ],
   "source": [
    "rec.get_recommendations_by_keywords(\"Batman\")"
   ],
   "metadata": {
    "collapsed": false,
    "ExecuteTime": {
     "end_time": "2024-12-16T19:50:01.268029100Z",
     "start_time": "2024-12-16T19:50:00.920220100Z"
    }
   }
  },
  {
   "cell_type": "code",
   "execution_count": 300,
   "outputs": [
    {
     "data": {
      "text/plain": "Index(['belongs_to_collection', 'budget', 'homepage', 'imdb_id', 'popularity',\n       'poster_path', 'revenue', 'runtime', 'vote_average', 'vote_count',\n       'spoken_languages', 'original_title', 'id', 'release_date', 'cast',\n       'crew', 'genres', 'origin_country', 'original_language', 'overview',\n       'production_companies', 'tagline', 'title', 'keywords', 'soup'],\n      dtype='object')"
     },
     "execution_count": 300,
     "metadata": {},
     "output_type": "execute_result"
    }
   ],
   "source": [
    "metadata.columns"
   ],
   "metadata": {
    "collapsed": false,
    "ExecuteTime": {
     "end_time": "2024-12-16T20:00:03.857741900Z",
     "start_time": "2024-12-16T20:00:03.811375400Z"
    }
   }
  },
  {
   "cell_type": "code",
   "execution_count": null,
   "outputs": [],
   "source": [],
   "metadata": {
    "collapsed": false
   }
  }
 ],
 "metadata": {
  "kernelspec": {
   "display_name": "Python 3",
   "language": "python",
   "name": "python3"
  },
  "language_info": {
   "codemirror_mode": {
    "name": "ipython",
    "version": 2
   },
   "file_extension": ".py",
   "mimetype": "text/x-python",
   "name": "python",
   "nbconvert_exporter": "python",
   "pygments_lexer": "ipython2",
   "version": "2.7.6"
  }
 },
 "nbformat": 4,
 "nbformat_minor": 0
}
