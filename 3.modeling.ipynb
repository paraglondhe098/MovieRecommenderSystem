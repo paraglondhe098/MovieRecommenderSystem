{
 "cells": [
  {
   "cell_type": "code",
   "execution_count": 67,
   "outputs": [],
   "source": [
    "import pandas as pd"
   ],
   "metadata": {
    "collapsed": false,
    "ExecuteTime": {
     "end_time": "2024-12-16T10:09:09.441959400Z",
     "start_time": "2024-12-16T10:09:09.369553900Z"
    }
   }
  },
  {
   "cell_type": "code",
   "execution_count": 68,
   "outputs": [],
   "source": [
    "movies = pd.read_csv('data/cleaned-2/movies.csv').drop(columns='Unnamed: 0')\n",
    "metadata = pd.read_csv('data/cleaned-2/metadata.csv').drop(columns='Unnamed: 0')"
   ],
   "metadata": {
    "collapsed": false,
    "ExecuteTime": {
     "end_time": "2024-12-16T10:09:09.829848500Z",
     "start_time": "2024-12-16T10:09:09.385849900Z"
    }
   }
  },
  {
   "cell_type": "code",
   "execution_count": 69,
   "outputs": [],
   "source": [
    "from langchain.docstore.document import Document"
   ],
   "metadata": {
    "collapsed": false,
    "ExecuteTime": {
     "end_time": "2024-12-16T10:09:09.838380800Z",
     "start_time": "2024-12-16T10:09:09.829848500Z"
    }
   }
  },
  {
   "cell_type": "code",
   "execution_count": 70,
   "outputs": [],
   "source": [
    "metadata['soup'] = movies['soup']"
   ],
   "metadata": {
    "collapsed": false,
    "ExecuteTime": {
     "end_time": "2024-12-16T10:09:09.851385100Z",
     "start_time": "2024-12-16T10:09:09.842655600Z"
    }
   }
  },
  {
   "cell_type": "code",
   "execution_count": 71,
   "outputs": [],
   "source": [
    "movies = []\n",
    "\n",
    "for idx, row in metadata.iterrows():\n",
    "    x = Document(page_content=row['soup'],\n",
    "                 metadata = {\n",
    "                     \"movie\": row['title'],\n",
    "                     \"language\": row['original_language'],\n",
    "                     \"popularity\": row['popularity'],\n",
    "                     \"synopsis\": row['overview'],\n",
    "                     \"poster_path\": row['poster_path']\n",
    "                 })\n",
    "    movies.append(x)"
   ],
   "metadata": {
    "collapsed": false,
    "ExecuteTime": {
     "end_time": "2024-12-16T10:09:10.440206500Z",
     "start_time": "2024-12-16T10:09:09.858928300Z"
    }
   }
  },
  {
   "cell_type": "code",
   "execution_count": 72,
   "outputs": [
    {
     "data": {
      "text/plain": "Document(metadata={'movie': 'Ariel', 'language': 'fi', 'popularity': 11.403, 'synopsis': 'After the coal mine he works at closes and his father commits suicide, a Finnish man leaves for the city to make a living but there, he is framed and imprisoned for various crimes.', 'poster_path': '/ojDg0PGvs6R9xYFodRct2kdI6wC.jpg'}, page_content='Title: Ariel. Genres: Comedy Drama Romance Crime. Keywords: prison underdog helsinki finland factory worker prisoner falling in love. Cast: TuroPajala SusannaHaavisto MattiPellonpää EetuHilkamo ErkkiPajala MattiJaaranen HannuViholainen JormaMarkkula TarjaKeinänen EinoKuusela. Directors: AkiKaurismäki. Writers: AkiKaurismäki. Overview: After the coal mine he works at closes and his father commits suicide, a Finnish man leaves for the city to make a living but there, he is framed and imprisoned for various crimes.. Released in: 1988. Productions: VillealfaFilmproductions. Original Language: fi')"
     },
     "execution_count": 72,
     "metadata": {},
     "output_type": "execute_result"
    }
   ],
   "source": [
    "movies[0]"
   ],
   "metadata": {
    "collapsed": false,
    "ExecuteTime": {
     "end_time": "2024-12-16T10:09:10.452444200Z",
     "start_time": "2024-12-16T10:09:10.444491100Z"
    }
   }
  },
  {
   "cell_type": "code",
   "execution_count": 73,
   "outputs": [
    {
     "data": {
      "text/plain": "3000"
     },
     "execution_count": 73,
     "metadata": {},
     "output_type": "execute_result"
    }
   ],
   "source": [
    "len(movies)"
   ],
   "metadata": {
    "collapsed": false,
    "ExecuteTime": {
     "end_time": "2024-12-16T10:09:10.460855200Z",
     "start_time": "2024-12-16T10:09:10.452444200Z"
    }
   }
  },
  {
   "cell_type": "code",
   "execution_count": 74,
   "outputs": [],
   "source": [
    "import weaviate"
   ],
   "metadata": {
    "collapsed": false,
    "ExecuteTime": {
     "end_time": "2024-12-16T10:09:10.471111800Z",
     "start_time": "2024-12-16T10:09:10.464892700Z"
    }
   }
  },
  {
   "cell_type": "code",
   "execution_count": 75,
   "outputs": [
    {
     "name": "stderr",
     "output_type": "stream",
     "text": [
      "C:\\Users\\Parag\\anaconda3\\Lib\\site-packages\\weaviate\\__init__.py:144: DeprecationWarning: Dep010: Importing AuthApiKey from weaviate is deprecated. Import AuthApiKey from its module: weaviate.auth\n",
      "  _Warnings.root_module_import(name, map_[name])\n",
      "C:\\Users\\Parag\\AppData\\Local\\Temp\\ipykernel_8688\\2194345016.py:2: DeprecationWarning: \n",
      "Python client v3 `weaviate.Client(...)` connections and methods are deprecated and will\n",
      "            be removed by 2024-11-30.\n",
      "\n",
      "            Upgrade your code to use Python client v4 `weaviate.WeaviateClient` connections and methods.\n",
      "                - For Python Client v4 usage, see: https://weaviate.io/developers/weaviate/client-libraries/python\n",
      "                - For code migration, see: https://weaviate.io/developers/weaviate/client-libraries/python/v3_v4_migration\n",
      "\n",
      "            If you have to use v3 code, install the v3 client and pin the v3 dependency in your requirements file: `weaviate-client>=3.26.7;<4.0.0`\n",
      "  client = weaviate.Client(\n",
      "C:\\Users\\Parag\\anaconda3\\Lib\\site-packages\\weaviate\\warnings.py:162: DeprecationWarning: Dep016: Python client v3 `weaviate.Client(...)` connections and methods are deprecated and will\n",
      "            be removed by 2024-11-30.\n",
      "\n",
      "            Upgrade your code to use Python client v4 `weaviate.WeaviateClient` connections and methods.\n",
      "                - For Python Client v4 usage, see: https://weaviate.io/developers/weaviate/client-libraries/python\n",
      "                - For code migration, see: https://weaviate.io/developers/weaviate/client-libraries/python/v3_v4_migration\n",
      "\n",
      "            If you have to use v3 code, install the v3 client and pin the v3 dependency in your requirements file: `weaviate-client>=3.26.7;<4.0.0`\n",
      "  warnings.warn(\n"
     ]
    }
   ],
   "source": [
    "WEAVIATE_API_KEY = \"y6KjOx9MDHF0lCUOt7XSPL8p3ZPtiPeBFmdC\"\n",
    "client = weaviate.Client(\n",
    "    url=\"https://cjscqn5qa6ddwpdf5ucna.c0.asia-southeast1.gcp.weaviate.cloud\",\n",
    "    auth_client_secret=weaviate.AuthApiKey(WEAVIATE_API_KEY)\n",
    ")"
   ],
   "metadata": {
    "collapsed": false,
    "ExecuteTime": {
     "end_time": "2024-12-16T10:09:10.892786300Z",
     "start_time": "2024-12-16T10:09:10.473136100Z"
    }
   }
  },
  {
   "cell_type": "code",
   "execution_count": 75,
   "outputs": [],
   "source": [],
   "metadata": {
    "collapsed": false,
    "ExecuteTime": {
     "end_time": "2024-12-16T10:09:10.899933200Z",
     "start_time": "2024-12-16T10:09:10.892786300Z"
    }
   }
  },
  {
   "cell_type": "code",
   "execution_count": 76,
   "outputs": [],
   "source": [
    "from langchain_huggingface import HuggingFaceEmbeddings"
   ],
   "metadata": {
    "collapsed": false,
    "ExecuteTime": {
     "end_time": "2024-12-16T10:09:10.911545400Z",
     "start_time": "2024-12-16T10:09:10.902428500Z"
    }
   }
  },
  {
   "cell_type": "code",
   "execution_count": 77,
   "outputs": [],
   "source": [
    "embedding_model_name = \"sentence-transformers/all-MiniLM-L6-v2\"\n",
    "model_kwargs = {\"device\": \"cuda\"}\n",
    "embeddings = HuggingFaceEmbeddings(\n",
    "  model_name=embedding_model_name,\n",
    "  model_kwargs=model_kwargs\n",
    ")"
   ],
   "metadata": {
    "collapsed": false,
    "ExecuteTime": {
     "end_time": "2024-12-16T10:09:13.743326300Z",
     "start_time": "2024-12-16T10:09:10.911545400Z"
    }
   }
  },
  {
   "cell_type": "code",
   "execution_count": 78,
   "outputs": [],
   "source": [
    "from langchain.vectorstores import Weaviate"
   ],
   "metadata": {
    "collapsed": false,
    "ExecuteTime": {
     "end_time": "2024-12-16T10:09:13.754570300Z",
     "start_time": "2024-12-16T10:09:13.747829Z"
    }
   }
  },
  {
   "cell_type": "code",
   "execution_count": 79,
   "outputs": [],
   "source": [
    "vector_db = Weaviate.from_documents(\n",
    "    movies,\n",
    "    embeddings,\n",
    "    client = client,\n",
    "    by_text = False\n",
    ")"
   ],
   "metadata": {
    "collapsed": false,
    "ExecuteTime": {
     "end_time": "2024-12-16T10:09:57.198839Z",
     "start_time": "2024-12-16T10:09:15.879217800Z"
    }
   }
  },
  {
   "cell_type": "code",
   "execution_count": 80,
   "outputs": [],
   "source": [
    "soups = pd.Series(metadata['soup'].values, index=metadata['title'])"
   ],
   "metadata": {
    "collapsed": false,
    "ExecuteTime": {
     "end_time": "2024-12-16T10:09:57.214444900Z",
     "start_time": "2024-12-16T10:09:57.198839Z"
    }
   }
  },
  {
   "cell_type": "code",
   "execution_count": 81,
   "outputs": [
    {
     "data": {
      "text/plain": "title\nAriel                                 Title: Ariel. Genres: Comedy Drama Romance Cri...\nShadows in Paradise                   Title: Shadows in Paradise. Genres: Comedy Dra...\nFour Rooms                            Title: Four Rooms. Genres: Comedy. Keywords: h...\nJudgment Night                        Title: Judgment Night. Genres: Action Crime Th...\nLife in Loops (A Megacities RMX)      Title: Life in Loops (A Megacities RMX). Genre...\n                                                            ...                        \nWhat to Do in Case of Fire?           Title: What to Do in Case of Fire?. Genres: Th...\nPeter Voss, Thief of Millions         Title: Peter Voss, Thief of Millions. Genres: ...\nLove at Twenty                        Title: Love at Twenty. Genres: Drama Romance. ...\nNew World Disorder 9: Never Enough    Title: New World Disorder 9: Never Enough. Key...\nSesame Street: Elmo Loves You!        Title: Sesame Street: Elmo Loves You!. Genres:...\nLength: 3000, dtype: object"
     },
     "execution_count": 81,
     "metadata": {},
     "output_type": "execute_result"
    }
   ],
   "source": [
    "soups"
   ],
   "metadata": {
    "collapsed": false,
    "ExecuteTime": {
     "end_time": "2024-12-16T10:09:57.228966900Z",
     "start_time": "2024-12-16T10:09:57.214444900Z"
    }
   }
  },
  {
   "cell_type": "code",
   "execution_count": 87,
   "outputs": [],
   "source": [
    "def get_recommendations(title):\n",
    "\n",
    "    if title not in soups:\n",
    "        raise ValueError(f\"Title '{title}' not found in indices\")\n",
    "\n",
    "    query = soups.get(title)\n",
    "\n",
    "    try:\n",
    "        results = vector_db.similarity_search_with_score(query, k=11)\n",
    "\n",
    "        top_ten = []\n",
    "\n",
    "        for x in results[1:]:\n",
    "            movie_metadata = {\n",
    "                'movie': x[0].metadata['movie'],\n",
    "                'language': x[0].metadata['language'],\n",
    "                'popularity': x[0].metadata['popularity'],\n",
    "                'synopsis': x[0].metadata['synopsis'],\n",
    "                'similarity_score': round(x[1], 2),\n",
    "\n",
    "            }\n",
    "            top_ten.append(movie_metadata)\n",
    "\n",
    "        df_top_ten = pd.DataFrame(top_ten)\n",
    "        return df_top_ten\n",
    "\n",
    "    except Exception as e:\n",
    "        print(f\"Error during query: {e}\")\n",
    "        return None"
   ],
   "metadata": {
    "collapsed": false,
    "ExecuteTime": {
     "end_time": "2024-12-16T10:12:11.506243300Z",
     "start_time": "2024-12-16T10:12:11.483661900Z"
    }
   }
  },
  {
   "cell_type": "code",
   "execution_count": 88,
   "outputs": [
    {
     "data": {
      "text/plain": "0                                    Ariel\n1                      Shadows in Paradise\n2                               Four Rooms\n3                           Judgment Night\n4         Life in Loops (A Megacities RMX)\n                       ...                \n2995           What to Do in Case of Fire?\n2996         Peter Voss, Thief of Millions\n2997                        Love at Twenty\n2998    New World Disorder 9: Never Enough\n2999        Sesame Street: Elmo Loves You!\nName: title, Length: 3000, dtype: object"
     },
     "execution_count": 88,
     "metadata": {},
     "output_type": "execute_result"
    }
   ],
   "source": [
    "metadata.title"
   ],
   "metadata": {
    "collapsed": false,
    "ExecuteTime": {
     "end_time": "2024-12-16T10:12:11.856428600Z",
     "start_time": "2024-12-16T10:12:11.819991600Z"
    }
   }
  },
  {
   "cell_type": "code",
   "execution_count": 92,
   "outputs": [
    {
     "data": {
      "text/plain": "                                         movie language  popularity  \\\n0  Pirates of the Caribbean: On Stranger Tides       en      91.486   \n1     Pirates of the Caribbean: At World's End       en      90.361   \n2   Pirates of the Caribbean: Dead Man's Chest       en     101.473   \n3                             Cutthroat Island       en      13.394   \n4                                     Poseidon       en      22.958   \n5                      Speed 2: Cruise Control       en      16.481   \n6                       The Poseidon Adventure       en      17.533   \n7                           The Lost Continent       en       5.821   \n8                                   The Bounty       en      14.614   \n9                                Pleasurecraft       en       1.001   \n\n                                            synopsis  similarity_score  \n0  Captain Jack Sparrow crosses paths with a woma...              0.74  \n1  Will Turner and Elizabeth Swann join forces wi...              0.74  \n2  Captain Jack Sparrow works his way out of a bl...              0.72  \n3  Morgan Adams and her slave, William Shaw, are ...              0.58  \n4  A packed cruise ship traveling the Atlantic is...              0.50  \n5  A disgruntled former employee hijacks the Seab...              0.49  \n6  When their ocean liner capsizes, a group of pa...              0.48  \n7  An eclectic group of characters set sail on Ca...              0.48  \n8  The familiar story of Lieutenant  Bligh, whose...              0.47  \n9  A crew of astronauts are tasked with deliverin...              0.45  ",
      "text/html": "<div>\n<style scoped>\n    .dataframe tbody tr th:only-of-type {\n        vertical-align: middle;\n    }\n\n    .dataframe tbody tr th {\n        vertical-align: top;\n    }\n\n    .dataframe thead th {\n        text-align: right;\n    }\n</style>\n<table border=\"1\" class=\"dataframe\">\n  <thead>\n    <tr style=\"text-align: right;\">\n      <th></th>\n      <th>movie</th>\n      <th>language</th>\n      <th>popularity</th>\n      <th>synopsis</th>\n      <th>similarity_score</th>\n    </tr>\n  </thead>\n  <tbody>\n    <tr>\n      <th>0</th>\n      <td>Pirates of the Caribbean: On Stranger Tides</td>\n      <td>en</td>\n      <td>91.486</td>\n      <td>Captain Jack Sparrow crosses paths with a woma...</td>\n      <td>0.74</td>\n    </tr>\n    <tr>\n      <th>1</th>\n      <td>Pirates of the Caribbean: At World's End</td>\n      <td>en</td>\n      <td>90.361</td>\n      <td>Will Turner and Elizabeth Swann join forces wi...</td>\n      <td>0.74</td>\n    </tr>\n    <tr>\n      <th>2</th>\n      <td>Pirates of the Caribbean: Dead Man's Chest</td>\n      <td>en</td>\n      <td>101.473</td>\n      <td>Captain Jack Sparrow works his way out of a bl...</td>\n      <td>0.72</td>\n    </tr>\n    <tr>\n      <th>3</th>\n      <td>Cutthroat Island</td>\n      <td>en</td>\n      <td>13.394</td>\n      <td>Morgan Adams and her slave, William Shaw, are ...</td>\n      <td>0.58</td>\n    </tr>\n    <tr>\n      <th>4</th>\n      <td>Poseidon</td>\n      <td>en</td>\n      <td>22.958</td>\n      <td>A packed cruise ship traveling the Atlantic is...</td>\n      <td>0.50</td>\n    </tr>\n    <tr>\n      <th>5</th>\n      <td>Speed 2: Cruise Control</td>\n      <td>en</td>\n      <td>16.481</td>\n      <td>A disgruntled former employee hijacks the Seab...</td>\n      <td>0.49</td>\n    </tr>\n    <tr>\n      <th>6</th>\n      <td>The Poseidon Adventure</td>\n      <td>en</td>\n      <td>17.533</td>\n      <td>When their ocean liner capsizes, a group of pa...</td>\n      <td>0.48</td>\n    </tr>\n    <tr>\n      <th>7</th>\n      <td>The Lost Continent</td>\n      <td>en</td>\n      <td>5.821</td>\n      <td>An eclectic group of characters set sail on Ca...</td>\n      <td>0.48</td>\n    </tr>\n    <tr>\n      <th>8</th>\n      <td>The Bounty</td>\n      <td>en</td>\n      <td>14.614</td>\n      <td>The familiar story of Lieutenant  Bligh, whose...</td>\n      <td>0.47</td>\n    </tr>\n    <tr>\n      <th>9</th>\n      <td>Pleasurecraft</td>\n      <td>en</td>\n      <td>1.001</td>\n      <td>A crew of astronauts are tasked with deliverin...</td>\n      <td>0.45</td>\n    </tr>\n  </tbody>\n</table>\n</div>"
     },
     "execution_count": 92,
     "metadata": {},
     "output_type": "execute_result"
    }
   ],
   "source": [
    "querry = metadata[metadata['title'].str.contains('Pirate')]['title'].values[0]\n",
    "get_recommendations(querry)"
   ],
   "metadata": {
    "collapsed": false,
    "ExecuteTime": {
     "end_time": "2024-12-16T10:14:16.022098600Z",
     "start_time": "2024-12-16T10:14:15.798056Z"
    }
   }
  },
  {
   "cell_type": "code",
   "execution_count": null,
   "outputs": [],
   "source": [],
   "metadata": {
    "collapsed": false
   }
  }
 ],
 "metadata": {
  "kernelspec": {
   "display_name": "Python 3",
   "language": "python",
   "name": "python3"
  },
  "language_info": {
   "codemirror_mode": {
    "name": "ipython",
    "version": 2
   },
   "file_extension": ".py",
   "mimetype": "text/x-python",
   "name": "python",
   "nbconvert_exporter": "python",
   "pygments_lexer": "ipython2",
   "version": "2.7.6"
  }
 },
 "nbformat": 4,
 "nbformat_minor": 0
}
