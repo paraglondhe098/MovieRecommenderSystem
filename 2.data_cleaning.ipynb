{
 "cells": [
  {
   "cell_type": "code",
   "execution_count": 403,
   "metadata": {
    "collapsed": true,
    "ExecuteTime": {
     "end_time": "2024-12-16T14:25:45.026311100Z",
     "start_time": "2024-12-16T14:25:45.011908900Z"
    }
   },
   "outputs": [],
   "source": [
    "import os\n",
    "import pandas as pd\n",
    "import json\n",
    "from datetime import datetime"
   ]
  },
  {
   "cell_type": "code",
   "execution_count": 404,
   "outputs": [],
   "source": [
    "movies = pd.read_csv('data/movie_data.csv')\n",
    "creds = pd.read_csv(\"data/movie_credits.csv\")"
   ],
   "metadata": {
    "collapsed": false,
    "ExecuteTime": {
     "end_time": "2024-12-16T14:25:47.678385400Z",
     "start_time": "2024-12-16T14:25:45.742804700Z"
    }
   }
  },
  {
   "cell_type": "code",
   "execution_count": 405,
   "outputs": [
    {
     "data": {
      "text/plain": "((11307, 27), (11307, 4))"
     },
     "execution_count": 405,
     "metadata": {},
     "output_type": "execute_result"
    }
   ],
   "source": [
    "movies.shape, creds.shape"
   ],
   "metadata": {
    "collapsed": false,
    "ExecuteTime": {
     "end_time": "2024-12-16T14:25:47.684786700Z",
     "start_time": "2024-12-16T14:25:47.681395100Z"
    }
   }
  },
  {
   "cell_type": "code",
   "execution_count": 406,
   "outputs": [
    {
     "data": {
      "text/plain": "   adult                     backdrop_path  \\\n0  False  /dvQj1GBZAZirz1skEEZyWH2ZqQP.jpg   \n1  False                               NaN   \n2  False  /uJlc4aNPF3Y8yAqahJTKBwgwPVW.jpg   \n3  False                               NaN   \n4  False                               NaN   \n\n                               belongs_to_collection  budget  \\\n0  {\"id\": 177062, \"name\": \"Blondie Collection\", \"...       0   \n1                                                NaN       0   \n2                                                NaN       0   \n3  {\"id\": 425256, \"name\": \"New World Disorder\", \"...       0   \n4                                                NaN       0   \n\n                                              genres                 homepage  \\\n0  [{\"id\": 35, \"name\": \"Comedy\"}, {\"id\": 10751, \"...                      NaN   \n1                  [{\"id\": 12, \"name\": \"Adventure\"}]                      NaN   \n2  [{\"id\": 18, \"name\": \"Drama\"}, {\"id\": 10749, \"n...                      NaN   \n3                                                 []  http://www.nwdfilms.com   \n4                  [{\"id\": 10751, \"name\": \"Family\"}]                      NaN   \n\n      id    imdb_id            origin_country original_language  ... revenue  \\\n0   3924  tt0029927                    [\"US\"]                en  ...       0   \n1   6124        NaN                    [\"DE\"]                de  ...       0   \n2   8773  tt0055747  [\"FR\", \"IT\", \"JP\", \"PL\"]                fr  ...       0   \n3  25449        NaN                    [\"US\"]                en  ...       0   \n4  31975  tt1656746                    [\"US\"]                en  ...       0   \n\n  runtime                                   spoken_languages    status  \\\n0      70  [{\"english_name\": \"English\", \"iso_639_1\": \"en\"...  Released   \n1     420                                                 []  Released   \n2     120  [{\"english_name\": \"French\", \"iso_639_1\": \"fr\",...  Released   \n3      69  [{\"english_name\": \"English\", \"iso_639_1\": \"en\"...  Released   \n4      46                                                 []  Released   \n\n                                             tagline  \\\n0  The favorite comic strip of millions at last o...   \n1                                                NaN   \n2               The Intimate Secrets of Young Lovers   \n3                                                NaN   \n4                                                NaN   \n\n                                title  video  vote_average  vote_count  \\\n0                             Blondie  False           7.1           8   \n1       Peter Voss, Thief of Millions  False           0.0           0   \n2                      Love at Twenty  False           6.7          48   \n3  New World Disorder 9: Never Enough  False           6.0           3   \n4      Sesame Street: Elmo Loves You!   True           0.0           0   \n\n                                            keywords  \n0  {\"keywords\": [{\"id\": 190801, \"name\": \"blondie\"}]}  \n1                                   {\"keywords\": []}  \n2                                   {\"keywords\": []}  \n3  {\"keywords\": [{\"id\": 6075, \"name\": \"sports\"}, ...  \n4                                   {\"keywords\": []}  \n\n[5 rows x 27 columns]",
      "text/html": "<div>\n<style scoped>\n    .dataframe tbody tr th:only-of-type {\n        vertical-align: middle;\n    }\n\n    .dataframe tbody tr th {\n        vertical-align: top;\n    }\n\n    .dataframe thead th {\n        text-align: right;\n    }\n</style>\n<table border=\"1\" class=\"dataframe\">\n  <thead>\n    <tr style=\"text-align: right;\">\n      <th></th>\n      <th>adult</th>\n      <th>backdrop_path</th>\n      <th>belongs_to_collection</th>\n      <th>budget</th>\n      <th>genres</th>\n      <th>homepage</th>\n      <th>id</th>\n      <th>imdb_id</th>\n      <th>origin_country</th>\n      <th>original_language</th>\n      <th>...</th>\n      <th>revenue</th>\n      <th>runtime</th>\n      <th>spoken_languages</th>\n      <th>status</th>\n      <th>tagline</th>\n      <th>title</th>\n      <th>video</th>\n      <th>vote_average</th>\n      <th>vote_count</th>\n      <th>keywords</th>\n    </tr>\n  </thead>\n  <tbody>\n    <tr>\n      <th>0</th>\n      <td>False</td>\n      <td>/dvQj1GBZAZirz1skEEZyWH2ZqQP.jpg</td>\n      <td>{\"id\": 177062, \"name\": \"Blondie Collection\", \"...</td>\n      <td>0</td>\n      <td>[{\"id\": 35, \"name\": \"Comedy\"}, {\"id\": 10751, \"...</td>\n      <td>NaN</td>\n      <td>3924</td>\n      <td>tt0029927</td>\n      <td>[\"US\"]</td>\n      <td>en</td>\n      <td>...</td>\n      <td>0</td>\n      <td>70</td>\n      <td>[{\"english_name\": \"English\", \"iso_639_1\": \"en\"...</td>\n      <td>Released</td>\n      <td>The favorite comic strip of millions at last o...</td>\n      <td>Blondie</td>\n      <td>False</td>\n      <td>7.1</td>\n      <td>8</td>\n      <td>{\"keywords\": [{\"id\": 190801, \"name\": \"blondie\"}]}</td>\n    </tr>\n    <tr>\n      <th>1</th>\n      <td>False</td>\n      <td>NaN</td>\n      <td>NaN</td>\n      <td>0</td>\n      <td>[{\"id\": 12, \"name\": \"Adventure\"}]</td>\n      <td>NaN</td>\n      <td>6124</td>\n      <td>NaN</td>\n      <td>[\"DE\"]</td>\n      <td>de</td>\n      <td>...</td>\n      <td>0</td>\n      <td>420</td>\n      <td>[]</td>\n      <td>Released</td>\n      <td>NaN</td>\n      <td>Peter Voss, Thief of Millions</td>\n      <td>False</td>\n      <td>0.0</td>\n      <td>0</td>\n      <td>{\"keywords\": []}</td>\n    </tr>\n    <tr>\n      <th>2</th>\n      <td>False</td>\n      <td>/uJlc4aNPF3Y8yAqahJTKBwgwPVW.jpg</td>\n      <td>NaN</td>\n      <td>0</td>\n      <td>[{\"id\": 18, \"name\": \"Drama\"}, {\"id\": 10749, \"n...</td>\n      <td>NaN</td>\n      <td>8773</td>\n      <td>tt0055747</td>\n      <td>[\"FR\", \"IT\", \"JP\", \"PL\"]</td>\n      <td>fr</td>\n      <td>...</td>\n      <td>0</td>\n      <td>120</td>\n      <td>[{\"english_name\": \"French\", \"iso_639_1\": \"fr\",...</td>\n      <td>Released</td>\n      <td>The Intimate Secrets of Young Lovers</td>\n      <td>Love at Twenty</td>\n      <td>False</td>\n      <td>6.7</td>\n      <td>48</td>\n      <td>{\"keywords\": []}</td>\n    </tr>\n    <tr>\n      <th>3</th>\n      <td>False</td>\n      <td>NaN</td>\n      <td>{\"id\": 425256, \"name\": \"New World Disorder\", \"...</td>\n      <td>0</td>\n      <td>[]</td>\n      <td>http://www.nwdfilms.com</td>\n      <td>25449</td>\n      <td>NaN</td>\n      <td>[\"US\"]</td>\n      <td>en</td>\n      <td>...</td>\n      <td>0</td>\n      <td>69</td>\n      <td>[{\"english_name\": \"English\", \"iso_639_1\": \"en\"...</td>\n      <td>Released</td>\n      <td>NaN</td>\n      <td>New World Disorder 9: Never Enough</td>\n      <td>False</td>\n      <td>6.0</td>\n      <td>3</td>\n      <td>{\"keywords\": [{\"id\": 6075, \"name\": \"sports\"}, ...</td>\n    </tr>\n    <tr>\n      <th>4</th>\n      <td>False</td>\n      <td>NaN</td>\n      <td>NaN</td>\n      <td>0</td>\n      <td>[{\"id\": 10751, \"name\": \"Family\"}]</td>\n      <td>NaN</td>\n      <td>31975</td>\n      <td>tt1656746</td>\n      <td>[\"US\"]</td>\n      <td>en</td>\n      <td>...</td>\n      <td>0</td>\n      <td>46</td>\n      <td>[]</td>\n      <td>Released</td>\n      <td>NaN</td>\n      <td>Sesame Street: Elmo Loves You!</td>\n      <td>True</td>\n      <td>0.0</td>\n      <td>0</td>\n      <td>{\"keywords\": []}</td>\n    </tr>\n  </tbody>\n</table>\n<p>5 rows × 27 columns</p>\n</div>"
     },
     "execution_count": 406,
     "metadata": {},
     "output_type": "execute_result"
    }
   ],
   "source": [
    "movies.head()"
   ],
   "metadata": {
    "collapsed": false,
    "ExecuteTime": {
     "end_time": "2024-12-16T14:25:48.252207400Z",
     "start_time": "2024-12-16T14:25:48.237633700Z"
    }
   }
  },
  {
   "cell_type": "code",
   "execution_count": 407,
   "outputs": [
    {
     "data": {
      "text/plain": "Index(['adult', 'backdrop_path', 'belongs_to_collection', 'budget', 'genres',\n       'homepage', 'id', 'imdb_id', 'origin_country', 'original_language',\n       'original_title', 'overview', 'popularity', 'poster_path',\n       'production_companies', 'production_countries', 'release_date',\n       'revenue', 'runtime', 'spoken_languages', 'status', 'tagline', 'title',\n       'video', 'vote_average', 'vote_count', 'keywords'],\n      dtype='object')"
     },
     "execution_count": 407,
     "metadata": {},
     "output_type": "execute_result"
    }
   ],
   "source": [
    "movies.columns"
   ],
   "metadata": {
    "collapsed": false,
    "ExecuteTime": {
     "end_time": "2024-12-16T14:25:48.795094600Z",
     "start_time": "2024-12-16T14:25:48.791311700Z"
    }
   }
  },
  {
   "cell_type": "code",
   "execution_count": 408,
   "outputs": [
    {
     "data": {
      "text/plain": "adult                       0\nbackdrop_path            1628\nbelongs_to_collection    9285\nbudget                      0\ngenres                      0\nhomepage                 9284\nid                          0\nimdb_id                   253\norigin_country              0\noriginal_language           0\noriginal_title              0\noverview                  448\npopularity                  0\nposter_path               412\nproduction_companies        0\nproduction_countries        0\nrelease_date                6\nrevenue                     0\nruntime                     0\nspoken_languages            0\nstatus                      0\ntagline                  4602\ntitle                       0\nvideo                       0\nvote_average                0\nvote_count                  0\nkeywords                    0\ndtype: int64"
     },
     "execution_count": 408,
     "metadata": {},
     "output_type": "execute_result"
    }
   ],
   "source": [
    "movies.isnull().sum()"
   ],
   "metadata": {
    "collapsed": false,
    "ExecuteTime": {
     "end_time": "2024-12-16T14:25:49.416211700Z",
     "start_time": "2024-12-16T14:25:49.385190Z"
    }
   }
  },
  {
   "cell_type": "code",
   "execution_count": 409,
   "outputs": [
    {
     "data": {
      "text/plain": "(6937, 27)"
     },
     "execution_count": 409,
     "metadata": {},
     "output_type": "execute_result"
    }
   ],
   "source": [
    "movies[movies['budget']==0].shape"
   ],
   "metadata": {
    "collapsed": false,
    "ExecuteTime": {
     "end_time": "2024-12-16T14:25:50.496496300Z",
     "start_time": "2024-12-16T14:25:50.485282200Z"
    }
   }
  },
  {
   "cell_type": "code",
   "execution_count": 410,
   "outputs": [
    {
     "data": {
      "text/plain": "Index(['adult', 'backdrop_path', 'belongs_to_collection', 'budget', 'genres',\n       'homepage', 'id', 'imdb_id', 'origin_country', 'original_language',\n       'original_title', 'overview', 'popularity', 'poster_path',\n       'production_companies', 'production_countries', 'release_date',\n       'revenue', 'runtime', 'spoken_languages', 'status', 'tagline', 'title',\n       'video', 'vote_average', 'vote_count', 'keywords'],\n      dtype='object')"
     },
     "execution_count": 410,
     "metadata": {},
     "output_type": "execute_result"
    }
   ],
   "source": [
    "movies.columns"
   ],
   "metadata": {
    "collapsed": false,
    "ExecuteTime": {
     "end_time": "2024-12-16T14:25:50.939807100Z",
     "start_time": "2024-12-16T14:25:50.933567Z"
    }
   }
  },
  {
   "cell_type": "code",
   "execution_count": 411,
   "outputs": [],
   "source": [
    "metadata_cols = ['adult', 'backdrop_path', 'belongs_to_collection', 'budget', 'homepage', 'imdb_id', 'popularity', 'poster_path', 'production_countries', 'revenue', 'runtime', 'status', 'video', 'vote_average', 'vote_count', 'spoken_languages', 'original_title']"
   ],
   "metadata": {
    "collapsed": false,
    "ExecuteTime": {
     "end_time": "2024-12-16T14:25:51.647496100Z",
     "start_time": "2024-12-16T14:25:51.643971900Z"
    }
   }
  },
  {
   "cell_type": "code",
   "execution_count": 412,
   "outputs": [],
   "source": [
    "metadata = movies[metadata_cols+['id']]\n",
    "movies = movies.drop(columns=metadata_cols)"
   ],
   "metadata": {
    "collapsed": false,
    "ExecuteTime": {
     "end_time": "2024-12-16T14:25:52.080103900Z",
     "start_time": "2024-12-16T14:25:52.065538300Z"
    }
   }
  },
  {
   "cell_type": "code",
   "execution_count": 412,
   "outputs": [],
   "source": [],
   "metadata": {
    "collapsed": false,
    "ExecuteTime": {
     "end_time": "2024-12-16T14:25:52.472598Z",
     "start_time": "2024-12-16T14:25:52.468592600Z"
    }
   }
  },
  {
   "cell_type": "code",
   "execution_count": 413,
   "outputs": [
    {
     "data": {
      "text/plain": "                                                  genres     id  \\\n0      [{\"id\": 35, \"name\": \"Comedy\"}, {\"id\": 10751, \"...   3924   \n1                      [{\"id\": 12, \"name\": \"Adventure\"}]   6124   \n2      [{\"id\": 18, \"name\": \"Drama\"}, {\"id\": 10749, \"n...   8773   \n3                                                     []  25449   \n4                      [{\"id\": 10751, \"name\": \"Family\"}]  31975   \n...                                                  ...    ...   \n11302  [{\"id\": 10402, \"name\": \"Music\"}, {\"id\": 99, \"n...  25202   \n11303  [{\"id\": 18, \"name\": \"Drama\"}, {\"id\": 10749, \"n...  25203   \n11304                [{\"id\": 99, \"name\": \"Documentary\"}]  25204   \n11305  [{\"id\": 18, \"name\": \"Drama\"}, {\"id\": 35, \"name...  25205   \n11306  [{\"id\": 18, \"name\": \"Drama\"}, {\"id\": 9648, \"na...  25208   \n\n                 origin_country original_language  \\\n0                        [\"US\"]                en   \n1                        [\"DE\"]                de   \n2      [\"FR\", \"IT\", \"JP\", \"PL\"]                fr   \n3                        [\"US\"]                en   \n4                        [\"US\"]                en   \n...                         ...               ...   \n11302                    [\"US\"]                en   \n11303                    [\"MY\"]                ms   \n11304                    [\"IT\"]                it   \n11305                    [\"FR\"]                fr   \n11306                    [\"US\"]                en   \n\n                                                overview  \\\n0      Blondie and Dagwood are about to celebrate the...   \n1                                                    NaN   \n2      Love at Twenty unites five directors from five...   \n3      Gee Atherton ripping the Worlds course the day...   \n4      Elmo is making a very, very super special surp...   \n...                                                  ...   \n11302  Rob Sheridan and other members of the band's c...   \n11303  In five interwoven stories, couples and famili...   \n11304  ZERO: An Investigation into 9/11 has one centr...   \n11305  A former world-famous conductor of the Bolshoï...   \n11306  Romulus, a misunderstood musician turned reclu...   \n\n                                    production_companies release_date  \\\n0      [{\"id\": 5, \"logo_path\": \"/71BqEFAF4V3qjjMPCpLu...   1938-11-30   \n1                                                     []   1921-01-01   \n2      [{\"id\": 38936, \"logo_path\": \"/ypvTqUeQOxORhFEF...   1962-06-22   \n3                                                     []   2008-12-08   \n4                                                     []   2010-01-05   \n...                                                  ...          ...   \n11302                                                 []   2002-01-22   \n11303  [{\"id\": 187851, \"logo_path\": null, \"name\": \"Al...   2006-11-30   \n11304  [{\"id\": 14141, \"logo_path\": null, \"name\": \"Tel...   2008-06-15   \n11305  [{\"id\": 856, \"logo_path\": \"/3tfzS2CrX6Ntbu927X...   2009-11-04   \n11306  [{\"id\": 37497, \"logo_path\": null, \"name\": \"Jer...   2001-01-19   \n\n                                                 tagline  \\\n0      The favorite comic strip of millions at last o...   \n1                                                    NaN   \n2                   The Intimate Secrets of Young Lovers   \n3                                                    NaN   \n4                                                    NaN   \n...                                                  ...   \n11302                                                NaN   \n11303                                                NaN   \n11304                                                NaN   \n11305  The grand deception that became the performanc...   \n11306  Romulus Ledbetter lives on the edge. The view ...   \n\n                                    title  \\\n0                                 Blondie   \n1           Peter Voss, Thief of Millions   \n2                          Love at Twenty   \n3      New World Disorder 9: Never Enough   \n4          Sesame Street: Elmo Loves You!   \n...                                   ...   \n11302        And All That Could Have Been   \n11303                               Cinta   \n11304    Zero: An Investigation Into 9/11   \n11305                         The Concert   \n11306             The Caveman's Valentine   \n\n                                                keywords  \n0      {\"keywords\": [{\"id\": 190801, \"name\": \"blondie\"}]}  \n1                                       {\"keywords\": []}  \n2                                       {\"keywords\": []}  \n3      {\"keywords\": [{\"id\": 6075, \"name\": \"sports\"}, ...  \n4                                       {\"keywords\": []}  \n...                                                  ...  \n11302                                   {\"keywords\": []}  \n11303                                   {\"keywords\": []}  \n11304  {\"keywords\": [{\"id\": 161304, \"name\": \"9/11\"}, ...  \n11305  {\"keywords\": [{\"id\": 6029, \"name\": \"concert\"},...  \n11306  {\"keywords\": [{\"id\": 187056, \"name\": \"woman di...  \n\n[11307 rows x 10 columns]",
      "text/html": "<div>\n<style scoped>\n    .dataframe tbody tr th:only-of-type {\n        vertical-align: middle;\n    }\n\n    .dataframe tbody tr th {\n        vertical-align: top;\n    }\n\n    .dataframe thead th {\n        text-align: right;\n    }\n</style>\n<table border=\"1\" class=\"dataframe\">\n  <thead>\n    <tr style=\"text-align: right;\">\n      <th></th>\n      <th>genres</th>\n      <th>id</th>\n      <th>origin_country</th>\n      <th>original_language</th>\n      <th>overview</th>\n      <th>production_companies</th>\n      <th>release_date</th>\n      <th>tagline</th>\n      <th>title</th>\n      <th>keywords</th>\n    </tr>\n  </thead>\n  <tbody>\n    <tr>\n      <th>0</th>\n      <td>[{\"id\": 35, \"name\": \"Comedy\"}, {\"id\": 10751, \"...</td>\n      <td>3924</td>\n      <td>[\"US\"]</td>\n      <td>en</td>\n      <td>Blondie and Dagwood are about to celebrate the...</td>\n      <td>[{\"id\": 5, \"logo_path\": \"/71BqEFAF4V3qjjMPCpLu...</td>\n      <td>1938-11-30</td>\n      <td>The favorite comic strip of millions at last o...</td>\n      <td>Blondie</td>\n      <td>{\"keywords\": [{\"id\": 190801, \"name\": \"blondie\"}]}</td>\n    </tr>\n    <tr>\n      <th>1</th>\n      <td>[{\"id\": 12, \"name\": \"Adventure\"}]</td>\n      <td>6124</td>\n      <td>[\"DE\"]</td>\n      <td>de</td>\n      <td>NaN</td>\n      <td>[]</td>\n      <td>1921-01-01</td>\n      <td>NaN</td>\n      <td>Peter Voss, Thief of Millions</td>\n      <td>{\"keywords\": []}</td>\n    </tr>\n    <tr>\n      <th>2</th>\n      <td>[{\"id\": 18, \"name\": \"Drama\"}, {\"id\": 10749, \"n...</td>\n      <td>8773</td>\n      <td>[\"FR\", \"IT\", \"JP\", \"PL\"]</td>\n      <td>fr</td>\n      <td>Love at Twenty unites five directors from five...</td>\n      <td>[{\"id\": 38936, \"logo_path\": \"/ypvTqUeQOxORhFEF...</td>\n      <td>1962-06-22</td>\n      <td>The Intimate Secrets of Young Lovers</td>\n      <td>Love at Twenty</td>\n      <td>{\"keywords\": []}</td>\n    </tr>\n    <tr>\n      <th>3</th>\n      <td>[]</td>\n      <td>25449</td>\n      <td>[\"US\"]</td>\n      <td>en</td>\n      <td>Gee Atherton ripping the Worlds course the day...</td>\n      <td>[]</td>\n      <td>2008-12-08</td>\n      <td>NaN</td>\n      <td>New World Disorder 9: Never Enough</td>\n      <td>{\"keywords\": [{\"id\": 6075, \"name\": \"sports\"}, ...</td>\n    </tr>\n    <tr>\n      <th>4</th>\n      <td>[{\"id\": 10751, \"name\": \"Family\"}]</td>\n      <td>31975</td>\n      <td>[\"US\"]</td>\n      <td>en</td>\n      <td>Elmo is making a very, very super special surp...</td>\n      <td>[]</td>\n      <td>2010-01-05</td>\n      <td>NaN</td>\n      <td>Sesame Street: Elmo Loves You!</td>\n      <td>{\"keywords\": []}</td>\n    </tr>\n    <tr>\n      <th>...</th>\n      <td>...</td>\n      <td>...</td>\n      <td>...</td>\n      <td>...</td>\n      <td>...</td>\n      <td>...</td>\n      <td>...</td>\n      <td>...</td>\n      <td>...</td>\n      <td>...</td>\n    </tr>\n    <tr>\n      <th>11302</th>\n      <td>[{\"id\": 10402, \"name\": \"Music\"}, {\"id\": 99, \"n...</td>\n      <td>25202</td>\n      <td>[\"US\"]</td>\n      <td>en</td>\n      <td>Rob Sheridan and other members of the band's c...</td>\n      <td>[]</td>\n      <td>2002-01-22</td>\n      <td>NaN</td>\n      <td>And All That Could Have Been</td>\n      <td>{\"keywords\": []}</td>\n    </tr>\n    <tr>\n      <th>11303</th>\n      <td>[{\"id\": 18, \"name\": \"Drama\"}, {\"id\": 10749, \"n...</td>\n      <td>25203</td>\n      <td>[\"MY\"]</td>\n      <td>ms</td>\n      <td>In five interwoven stories, couples and famili...</td>\n      <td>[{\"id\": 187851, \"logo_path\": null, \"name\": \"Al...</td>\n      <td>2006-11-30</td>\n      <td>NaN</td>\n      <td>Cinta</td>\n      <td>{\"keywords\": []}</td>\n    </tr>\n    <tr>\n      <th>11304</th>\n      <td>[{\"id\": 99, \"name\": \"Documentary\"}]</td>\n      <td>25204</td>\n      <td>[\"IT\"]</td>\n      <td>it</td>\n      <td>ZERO: An Investigation into 9/11 has one centr...</td>\n      <td>[{\"id\": 14141, \"logo_path\": null, \"name\": \"Tel...</td>\n      <td>2008-06-15</td>\n      <td>NaN</td>\n      <td>Zero: An Investigation Into 9/11</td>\n      <td>{\"keywords\": [{\"id\": 161304, \"name\": \"9/11\"}, ...</td>\n    </tr>\n    <tr>\n      <th>11305</th>\n      <td>[{\"id\": 18, \"name\": \"Drama\"}, {\"id\": 35, \"name...</td>\n      <td>25205</td>\n      <td>[\"FR\"]</td>\n      <td>fr</td>\n      <td>A former world-famous conductor of the Bolshoï...</td>\n      <td>[{\"id\": 856, \"logo_path\": \"/3tfzS2CrX6Ntbu927X...</td>\n      <td>2009-11-04</td>\n      <td>The grand deception that became the performanc...</td>\n      <td>The Concert</td>\n      <td>{\"keywords\": [{\"id\": 6029, \"name\": \"concert\"},...</td>\n    </tr>\n    <tr>\n      <th>11306</th>\n      <td>[{\"id\": 18, \"name\": \"Drama\"}, {\"id\": 9648, \"na...</td>\n      <td>25208</td>\n      <td>[\"US\"]</td>\n      <td>en</td>\n      <td>Romulus, a misunderstood musician turned reclu...</td>\n      <td>[{\"id\": 37497, \"logo_path\": null, \"name\": \"Jer...</td>\n      <td>2001-01-19</td>\n      <td>Romulus Ledbetter lives on the edge. The view ...</td>\n      <td>The Caveman's Valentine</td>\n      <td>{\"keywords\": [{\"id\": 187056, \"name\": \"woman di...</td>\n    </tr>\n  </tbody>\n</table>\n<p>11307 rows × 10 columns</p>\n</div>"
     },
     "execution_count": 413,
     "metadata": {},
     "output_type": "execute_result"
    }
   ],
   "source": [
    "movies"
   ],
   "metadata": {
    "collapsed": false,
    "ExecuteTime": {
     "end_time": "2024-12-16T14:25:52.763540800Z",
     "start_time": "2024-12-16T14:25:52.748257300Z"
    }
   }
  },
  {
   "cell_type": "code",
   "execution_count": 414,
   "outputs": [],
   "source": [
    "def process_list_dict(entry, jload=True):\n",
    "    if isinstance(entry, float):\n",
    "        return entry\n",
    "    entry = json.loads(entry) if jload else entry\n",
    "    res = []\n",
    "    for d in entry:\n",
    "        res.append(d['name'])\n",
    "    return \", \".join(res)\n",
    "def process_list(entry, jload=True):\n",
    "    if isinstance(entry, float):\n",
    "        return entry\n",
    "    entry = json.loads(entry) if jload else entry\n",
    "    return \", \".join(entry)\n",
    "def process_dict_list_dict(entry, jload=True):\n",
    "    if isinstance(entry, float):\n",
    "        return entry\n",
    "    entry = json.loads(entry)['keywords'] if jload else entry\n",
    "    return process_list_dict(entry, False)\n",
    "def process_date(entry):\n",
    "    if isinstance(entry, float):\n",
    "        return entry\n",
    "    return datetime.strptime(entry, \"%Y-%m-%d\")\n",
    "def process_dict(entry, jload=True):\n",
    "    if isinstance(entry, float):\n",
    "        return entry\n",
    "    entry = json.loads(entry) if jload else entry\n",
    "    return entry['name']"
   ],
   "metadata": {
    "collapsed": false,
    "ExecuteTime": {
     "end_time": "2024-12-16T14:25:53.791969600Z",
     "start_time": "2024-12-16T14:25:53.789688600Z"
    }
   }
  },
  {
   "cell_type": "code",
   "execution_count": 415,
   "outputs": [],
   "source": [
    "movies['keywords'] = movies['keywords'].apply(process_dict_list_dict)\n",
    "movies['production_companies'] = movies['production_companies'].apply(process_list_dict)\n",
    "movies['origin_country'] = movies['origin_country'].apply(process_list)\n",
    "movies['genres'] = movies['genres'].apply(process_list_dict)\n",
    "movies['release_date'] = movies['release_date'].apply(process_date)"
   ],
   "metadata": {
    "collapsed": false,
    "ExecuteTime": {
     "end_time": "2024-12-16T14:25:54.665288300Z",
     "start_time": "2024-12-16T14:25:54.410817400Z"
    }
   }
  },
  {
   "cell_type": "code",
   "execution_count": 416,
   "outputs": [],
   "source": [
    "movies['release_year'] = movies['release_date'].dt.year\n",
    "metadata['release_date'] = movies['release_date']\n",
    "movies = movies.drop(columns=['release_date'])"
   ],
   "metadata": {
    "collapsed": false,
    "ExecuteTime": {
     "end_time": "2024-12-16T14:25:56.270461700Z",
     "start_time": "2024-12-16T14:25:56.255501300Z"
    }
   }
  },
  {
   "cell_type": "code",
   "execution_count": 417,
   "outputs": [
    {
     "data": {
      "text/plain": "           genres     id  origin_country original_language  \\\n0  Comedy, Family   3924              US                en   \n1       Adventure   6124              DE                de   \n2  Drama, Romance   8773  FR, IT, JP, PL                fr   \n3                  25449              US                en   \n4          Family  31975              US                en   \n\n                                            overview  \\\n0  Blondie and Dagwood are about to celebrate the...   \n1                                                NaN   \n2  Love at Twenty unites five directors from five...   \n3  Gee Atherton ripping the Worlds course the day...   \n4  Elmo is making a very, very super special surp...   \n\n                                production_companies  \\\n0                                  Columbia Pictures   \n1                                                      \n2  Ulysse Productions, Unitec Films, Cinesecolo, ...   \n3                                                      \n4                                                      \n\n                                             tagline  \\\n0  The favorite comic strip of millions at last o...   \n1                                                NaN   \n2               The Intimate Secrets of Young Lovers   \n3                                                NaN   \n4                                                NaN   \n\n                                title                 keywords  release_year  \n0                             Blondie                  blondie        1938.0  \n1       Peter Voss, Thief of Millions                                 1921.0  \n2                      Love at Twenty                                 1962.0  \n3  New World Disorder 9: Never Enough  sports, mountain biking        2008.0  \n4      Sesame Street: Elmo Loves You!                                 2010.0  ",
      "text/html": "<div>\n<style scoped>\n    .dataframe tbody tr th:only-of-type {\n        vertical-align: middle;\n    }\n\n    .dataframe tbody tr th {\n        vertical-align: top;\n    }\n\n    .dataframe thead th {\n        text-align: right;\n    }\n</style>\n<table border=\"1\" class=\"dataframe\">\n  <thead>\n    <tr style=\"text-align: right;\">\n      <th></th>\n      <th>genres</th>\n      <th>id</th>\n      <th>origin_country</th>\n      <th>original_language</th>\n      <th>overview</th>\n      <th>production_companies</th>\n      <th>tagline</th>\n      <th>title</th>\n      <th>keywords</th>\n      <th>release_year</th>\n    </tr>\n  </thead>\n  <tbody>\n    <tr>\n      <th>0</th>\n      <td>Comedy, Family</td>\n      <td>3924</td>\n      <td>US</td>\n      <td>en</td>\n      <td>Blondie and Dagwood are about to celebrate the...</td>\n      <td>Columbia Pictures</td>\n      <td>The favorite comic strip of millions at last o...</td>\n      <td>Blondie</td>\n      <td>blondie</td>\n      <td>1938.0</td>\n    </tr>\n    <tr>\n      <th>1</th>\n      <td>Adventure</td>\n      <td>6124</td>\n      <td>DE</td>\n      <td>de</td>\n      <td>NaN</td>\n      <td></td>\n      <td>NaN</td>\n      <td>Peter Voss, Thief of Millions</td>\n      <td></td>\n      <td>1921.0</td>\n    </tr>\n    <tr>\n      <th>2</th>\n      <td>Drama, Romance</td>\n      <td>8773</td>\n      <td>FR, IT, JP, PL</td>\n      <td>fr</td>\n      <td>Love at Twenty unites five directors from five...</td>\n      <td>Ulysse Productions, Unitec Films, Cinesecolo, ...</td>\n      <td>The Intimate Secrets of Young Lovers</td>\n      <td>Love at Twenty</td>\n      <td></td>\n      <td>1962.0</td>\n    </tr>\n    <tr>\n      <th>3</th>\n      <td></td>\n      <td>25449</td>\n      <td>US</td>\n      <td>en</td>\n      <td>Gee Atherton ripping the Worlds course the day...</td>\n      <td></td>\n      <td>NaN</td>\n      <td>New World Disorder 9: Never Enough</td>\n      <td>sports, mountain biking</td>\n      <td>2008.0</td>\n    </tr>\n    <tr>\n      <th>4</th>\n      <td>Family</td>\n      <td>31975</td>\n      <td>US</td>\n      <td>en</td>\n      <td>Elmo is making a very, very super special surp...</td>\n      <td></td>\n      <td>NaN</td>\n      <td>Sesame Street: Elmo Loves You!</td>\n      <td></td>\n      <td>2010.0</td>\n    </tr>\n  </tbody>\n</table>\n</div>"
     },
     "execution_count": 417,
     "metadata": {},
     "output_type": "execute_result"
    }
   ],
   "source": [
    "movies.head()"
   ],
   "metadata": {
    "collapsed": false,
    "ExecuteTime": {
     "end_time": "2024-12-16T14:25:57.092610200Z",
     "start_time": "2024-12-16T14:25:57.061484300Z"
    }
   }
  },
  {
   "cell_type": "code",
   "execution_count": 417,
   "outputs": [],
   "source": [],
   "metadata": {
    "collapsed": false,
    "ExecuteTime": {
     "end_time": "2024-12-16T14:25:57.771713900Z",
     "start_time": "2024-12-16T14:25:57.767931Z"
    }
   }
  },
  {
   "cell_type": "code",
   "execution_count": 417,
   "outputs": [],
   "source": [],
   "metadata": {
    "collapsed": false,
    "ExecuteTime": {
     "end_time": "2024-12-16T14:25:58.100392100Z",
     "start_time": "2024-12-16T14:25:58.096385500Z"
    }
   }
  },
  {
   "cell_type": "code",
   "execution_count": 418,
   "outputs": [],
   "source": [
    "metadata['production_countries'] = metadata['production_countries'].apply(process_list_dict)\n",
    "metadata['belongs_to_collection'] = metadata['belongs_to_collection'].apply(process_dict)\n",
    "metadata['spoken_languages'] = metadata['spoken_languages'].apply(process_list_dict)"
   ],
   "metadata": {
    "collapsed": false,
    "ExecuteTime": {
     "end_time": "2024-12-16T14:25:58.532524600Z",
     "start_time": "2024-12-16T14:25:58.460449500Z"
    }
   }
  },
  {
   "cell_type": "code",
   "execution_count": 419,
   "outputs": [
    {
     "data": {
      "text/plain": "   adult                     backdrop_path belongs_to_collection  budget  \\\n0  False  /dvQj1GBZAZirz1skEEZyWH2ZqQP.jpg    Blondie Collection       0   \n1  False                               NaN                   NaN       0   \n2  False  /uJlc4aNPF3Y8yAqahJTKBwgwPVW.jpg                   NaN       0   \n3  False                               NaN    New World Disorder       0   \n4  False                               NaN                   NaN       0   \n\n                  homepage    imdb_id  popularity  \\\n0                      NaN  tt0029927       2.702   \n1                      NaN        NaN       2.275   \n2                      NaN  tt0055747       3.223   \n3  http://www.nwdfilms.com        NaN       2.102   \n4                      NaN  tt1656746       0.003   \n\n                        poster_path                   production_countries  \\\n0   /zBiHKhXklvTFwj4M1uEUcQGAVJ.jpg               United States of America   \n1  /6xUbUCvndklbGVYiljHr34NTxSl.jpg                                Germany   \n2  /aup2QCYCsyEeQfpboXy0f4uj8aE.jpg  Germany, France, Italy, Japan, Poland   \n3  /itQjoIO2e3padeLliHROJVAb7Av.jpg                                          \n4  /qKWcCmvGr4g0dgXvhqAc4BAMCtk.jpg                                          \n\n   revenue  runtime    status  video  vote_average  vote_count  \\\n0        0       70  Released  False           7.1           8   \n1        0      420  Released  False           0.0           0   \n2        0      120  Released  False           6.7          48   \n3        0       69  Released  False           6.0           3   \n4        0       46  Released   True           0.0           0   \n\n                           spoken_languages  \\\n0                                   English   \n1                                             \n2  Français, Deutsch, Italiano, 日本語, Polski   \n3                                   English   \n4                                             \n\n                       original_title     id release_date  \n0                             Blondie   3924   1938-11-30  \n1                 Der Mann ohne Namen   6124   1921-01-01  \n2                 L'Amour à vingt ans   8773   1962-06-22  \n3  New World Disorder 9: Never Enough  25449   2008-12-08  \n4      Sesame Street: Elmo Loves You!  31975   2010-01-05  ",
      "text/html": "<div>\n<style scoped>\n    .dataframe tbody tr th:only-of-type {\n        vertical-align: middle;\n    }\n\n    .dataframe tbody tr th {\n        vertical-align: top;\n    }\n\n    .dataframe thead th {\n        text-align: right;\n    }\n</style>\n<table border=\"1\" class=\"dataframe\">\n  <thead>\n    <tr style=\"text-align: right;\">\n      <th></th>\n      <th>adult</th>\n      <th>backdrop_path</th>\n      <th>belongs_to_collection</th>\n      <th>budget</th>\n      <th>homepage</th>\n      <th>imdb_id</th>\n      <th>popularity</th>\n      <th>poster_path</th>\n      <th>production_countries</th>\n      <th>revenue</th>\n      <th>runtime</th>\n      <th>status</th>\n      <th>video</th>\n      <th>vote_average</th>\n      <th>vote_count</th>\n      <th>spoken_languages</th>\n      <th>original_title</th>\n      <th>id</th>\n      <th>release_date</th>\n    </tr>\n  </thead>\n  <tbody>\n    <tr>\n      <th>0</th>\n      <td>False</td>\n      <td>/dvQj1GBZAZirz1skEEZyWH2ZqQP.jpg</td>\n      <td>Blondie Collection</td>\n      <td>0</td>\n      <td>NaN</td>\n      <td>tt0029927</td>\n      <td>2.702</td>\n      <td>/zBiHKhXklvTFwj4M1uEUcQGAVJ.jpg</td>\n      <td>United States of America</td>\n      <td>0</td>\n      <td>70</td>\n      <td>Released</td>\n      <td>False</td>\n      <td>7.1</td>\n      <td>8</td>\n      <td>English</td>\n      <td>Blondie</td>\n      <td>3924</td>\n      <td>1938-11-30</td>\n    </tr>\n    <tr>\n      <th>1</th>\n      <td>False</td>\n      <td>NaN</td>\n      <td>NaN</td>\n      <td>0</td>\n      <td>NaN</td>\n      <td>NaN</td>\n      <td>2.275</td>\n      <td>/6xUbUCvndklbGVYiljHr34NTxSl.jpg</td>\n      <td>Germany</td>\n      <td>0</td>\n      <td>420</td>\n      <td>Released</td>\n      <td>False</td>\n      <td>0.0</td>\n      <td>0</td>\n      <td></td>\n      <td>Der Mann ohne Namen</td>\n      <td>6124</td>\n      <td>1921-01-01</td>\n    </tr>\n    <tr>\n      <th>2</th>\n      <td>False</td>\n      <td>/uJlc4aNPF3Y8yAqahJTKBwgwPVW.jpg</td>\n      <td>NaN</td>\n      <td>0</td>\n      <td>NaN</td>\n      <td>tt0055747</td>\n      <td>3.223</td>\n      <td>/aup2QCYCsyEeQfpboXy0f4uj8aE.jpg</td>\n      <td>Germany, France, Italy, Japan, Poland</td>\n      <td>0</td>\n      <td>120</td>\n      <td>Released</td>\n      <td>False</td>\n      <td>6.7</td>\n      <td>48</td>\n      <td>Français, Deutsch, Italiano, 日本語, Polski</td>\n      <td>L'Amour à vingt ans</td>\n      <td>8773</td>\n      <td>1962-06-22</td>\n    </tr>\n    <tr>\n      <th>3</th>\n      <td>False</td>\n      <td>NaN</td>\n      <td>New World Disorder</td>\n      <td>0</td>\n      <td>http://www.nwdfilms.com</td>\n      <td>NaN</td>\n      <td>2.102</td>\n      <td>/itQjoIO2e3padeLliHROJVAb7Av.jpg</td>\n      <td></td>\n      <td>0</td>\n      <td>69</td>\n      <td>Released</td>\n      <td>False</td>\n      <td>6.0</td>\n      <td>3</td>\n      <td>English</td>\n      <td>New World Disorder 9: Never Enough</td>\n      <td>25449</td>\n      <td>2008-12-08</td>\n    </tr>\n    <tr>\n      <th>4</th>\n      <td>False</td>\n      <td>NaN</td>\n      <td>NaN</td>\n      <td>0</td>\n      <td>NaN</td>\n      <td>tt1656746</td>\n      <td>0.003</td>\n      <td>/qKWcCmvGr4g0dgXvhqAc4BAMCtk.jpg</td>\n      <td></td>\n      <td>0</td>\n      <td>46</td>\n      <td>Released</td>\n      <td>True</td>\n      <td>0.0</td>\n      <td>0</td>\n      <td></td>\n      <td>Sesame Street: Elmo Loves You!</td>\n      <td>31975</td>\n      <td>2010-01-05</td>\n    </tr>\n  </tbody>\n</table>\n</div>"
     },
     "execution_count": 419,
     "metadata": {},
     "output_type": "execute_result"
    }
   ],
   "source": [
    "metadata.head()"
   ],
   "metadata": {
    "collapsed": false,
    "ExecuteTime": {
     "end_time": "2024-12-16T14:25:59.012189100Z",
     "start_time": "2024-12-16T14:25:58.974455900Z"
    }
   }
  },
  {
   "cell_type": "code",
   "execution_count": 419,
   "outputs": [],
   "source": [],
   "metadata": {
    "collapsed": false,
    "ExecuteTime": {
     "end_time": "2024-12-16T14:25:59.784370700Z",
     "start_time": "2024-12-16T14:25:59.780504600Z"
    }
   }
  },
  {
   "cell_type": "code",
   "execution_count": 420,
   "outputs": [
    {
     "data": {
      "text/plain": "           genres     id  origin_country original_language  \\\n0  Comedy, Family   3924              US                en   \n1       Adventure   6124              DE                de   \n2  Drama, Romance   8773  FR, IT, JP, PL                fr   \n3                  25449              US                en   \n4          Family  31975              US                en   \n\n                                            overview  \\\n0  Blondie and Dagwood are about to celebrate the...   \n1                                                NaN   \n2  Love at Twenty unites five directors from five...   \n3  Gee Atherton ripping the Worlds course the day...   \n4  Elmo is making a very, very super special surp...   \n\n                                production_companies  \\\n0                                  Columbia Pictures   \n1                                                      \n2  Ulysse Productions, Unitec Films, Cinesecolo, ...   \n3                                                      \n4                                                      \n\n                                             tagline  \\\n0  The favorite comic strip of millions at last o...   \n1                                                NaN   \n2               The Intimate Secrets of Young Lovers   \n3                                                NaN   \n4                                                NaN   \n\n                                title                 keywords  release_year  \n0                             Blondie                  blondie        1938.0  \n1       Peter Voss, Thief of Millions                                 1921.0  \n2                      Love at Twenty                                 1962.0  \n3  New World Disorder 9: Never Enough  sports, mountain biking        2008.0  \n4      Sesame Street: Elmo Loves You!                                 2010.0  ",
      "text/html": "<div>\n<style scoped>\n    .dataframe tbody tr th:only-of-type {\n        vertical-align: middle;\n    }\n\n    .dataframe tbody tr th {\n        vertical-align: top;\n    }\n\n    .dataframe thead th {\n        text-align: right;\n    }\n</style>\n<table border=\"1\" class=\"dataframe\">\n  <thead>\n    <tr style=\"text-align: right;\">\n      <th></th>\n      <th>genres</th>\n      <th>id</th>\n      <th>origin_country</th>\n      <th>original_language</th>\n      <th>overview</th>\n      <th>production_companies</th>\n      <th>tagline</th>\n      <th>title</th>\n      <th>keywords</th>\n      <th>release_year</th>\n    </tr>\n  </thead>\n  <tbody>\n    <tr>\n      <th>0</th>\n      <td>Comedy, Family</td>\n      <td>3924</td>\n      <td>US</td>\n      <td>en</td>\n      <td>Blondie and Dagwood are about to celebrate the...</td>\n      <td>Columbia Pictures</td>\n      <td>The favorite comic strip of millions at last o...</td>\n      <td>Blondie</td>\n      <td>blondie</td>\n      <td>1938.0</td>\n    </tr>\n    <tr>\n      <th>1</th>\n      <td>Adventure</td>\n      <td>6124</td>\n      <td>DE</td>\n      <td>de</td>\n      <td>NaN</td>\n      <td></td>\n      <td>NaN</td>\n      <td>Peter Voss, Thief of Millions</td>\n      <td></td>\n      <td>1921.0</td>\n    </tr>\n    <tr>\n      <th>2</th>\n      <td>Drama, Romance</td>\n      <td>8773</td>\n      <td>FR, IT, JP, PL</td>\n      <td>fr</td>\n      <td>Love at Twenty unites five directors from five...</td>\n      <td>Ulysse Productions, Unitec Films, Cinesecolo, ...</td>\n      <td>The Intimate Secrets of Young Lovers</td>\n      <td>Love at Twenty</td>\n      <td></td>\n      <td>1962.0</td>\n    </tr>\n    <tr>\n      <th>3</th>\n      <td></td>\n      <td>25449</td>\n      <td>US</td>\n      <td>en</td>\n      <td>Gee Atherton ripping the Worlds course the day...</td>\n      <td></td>\n      <td>NaN</td>\n      <td>New World Disorder 9: Never Enough</td>\n      <td>sports, mountain biking</td>\n      <td>2008.0</td>\n    </tr>\n    <tr>\n      <th>4</th>\n      <td>Family</td>\n      <td>31975</td>\n      <td>US</td>\n      <td>en</td>\n      <td>Elmo is making a very, very super special surp...</td>\n      <td></td>\n      <td>NaN</td>\n      <td>Sesame Street: Elmo Loves You!</td>\n      <td></td>\n      <td>2010.0</td>\n    </tr>\n  </tbody>\n</table>\n</div>"
     },
     "execution_count": 420,
     "metadata": {},
     "output_type": "execute_result"
    }
   ],
   "source": [
    "movies.head()"
   ],
   "metadata": {
    "collapsed": false,
    "ExecuteTime": {
     "end_time": "2024-12-16T14:26:00.210414400Z",
     "start_time": "2024-12-16T14:26:00.189513700Z"
    }
   }
  },
  {
   "cell_type": "code",
   "execution_count": 420,
   "outputs": [],
   "source": [],
   "metadata": {
    "collapsed": false,
    "ExecuteTime": {
     "end_time": "2024-12-16T14:26:01.333893100Z",
     "start_time": "2024-12-16T14:26:01.329885400Z"
    }
   }
  },
  {
   "cell_type": "code",
   "execution_count": 421,
   "outputs": [
    {
     "name": "stdout",
     "output_type": "stream",
     "text": [
      "genres                     0\n",
      "id                         0\n",
      "origin_country             0\n",
      "original_language          0\n",
      "overview                 448\n",
      "production_companies       0\n",
      "tagline                 4602\n",
      "title                      0\n",
      "keywords                   0\n",
      "release_year               6\n",
      "dtype: int64\n"
     ]
    }
   ],
   "source": [
    "missing = \"[MISSING]\"\n",
    "print(movies.isnull().sum())\n",
    "movies = movies.fillna(value=missing)"
   ],
   "metadata": {
    "collapsed": false,
    "ExecuteTime": {
     "end_time": "2024-12-16T14:26:01.756887900Z",
     "start_time": "2024-12-16T14:26:01.722929900Z"
    }
   }
  },
  {
   "cell_type": "code",
   "execution_count": 422,
   "outputs": [],
   "source": [
    "def get_na(df):\n",
    "    res = {}\n",
    "    for col in df.columns:\n",
    "        if isinstance(df[col][0], str):\n",
    "            res[col] = len(df[df[col].apply(len)==0])\n",
    "    return res"
   ],
   "metadata": {
    "collapsed": false,
    "ExecuteTime": {
     "end_time": "2024-12-16T14:26:03.410446500Z",
     "start_time": "2024-12-16T14:26:03.397379800Z"
    }
   }
  },
  {
   "cell_type": "code",
   "execution_count": 423,
   "outputs": [
    {
     "name": "stdout",
     "output_type": "stream",
     "text": [
      "{'genres': 269, 'origin_country': 4, 'original_language': 0, 'overview': 0, 'production_companies': 1383, 'tagline': 0, 'title': 0, 'keywords': 1643}\n"
     ]
    }
   ],
   "source": [
    "print(get_na(movies))"
   ],
   "metadata": {
    "collapsed": false,
    "ExecuteTime": {
     "end_time": "2024-12-16T14:26:04.573714600Z",
     "start_time": "2024-12-16T14:26:04.522737800Z"
    }
   }
  },
  {
   "cell_type": "code",
   "execution_count": 424,
   "outputs": [],
   "source": [
    "def set_na(df):\n",
    "    for col in df.columns:\n",
    "        if isinstance(df[col][0], str):\n",
    "            df[col] = df[col].apply(lambda x: missing if len(x)==0 else x)"
   ],
   "metadata": {
    "collapsed": false,
    "ExecuteTime": {
     "end_time": "2024-12-16T14:26:09.456791600Z",
     "start_time": "2024-12-16T14:26:09.453775100Z"
    }
   }
  },
  {
   "cell_type": "code",
   "execution_count": 425,
   "outputs": [],
   "source": [
    "set_na(movies)"
   ],
   "metadata": {
    "collapsed": false,
    "ExecuteTime": {
     "end_time": "2024-12-16T14:26:10.712051700Z",
     "start_time": "2024-12-16T14:26:10.680172200Z"
    }
   }
  },
  {
   "cell_type": "code",
   "execution_count": 426,
   "outputs": [
    {
     "data": {
      "text/plain": "           genres     id  origin_country original_language  \\\n0  Comedy, Family   3924              US                en   \n1       Adventure   6124              DE                de   \n2  Drama, Romance   8773  FR, IT, JP, PL                fr   \n3       [MISSING]  25449              US                en   \n4          Family  31975              US                en   \n\n                                            overview  \\\n0  Blondie and Dagwood are about to celebrate the...   \n1                                          [MISSING]   \n2  Love at Twenty unites five directors from five...   \n3  Gee Atherton ripping the Worlds course the day...   \n4  Elmo is making a very, very super special surp...   \n\n                                production_companies  \\\n0                                  Columbia Pictures   \n1                                          [MISSING]   \n2  Ulysse Productions, Unitec Films, Cinesecolo, ...   \n3                                          [MISSING]   \n4                                          [MISSING]   \n\n                                             tagline  \\\n0  The favorite comic strip of millions at last o...   \n1                                          [MISSING]   \n2               The Intimate Secrets of Young Lovers   \n3                                          [MISSING]   \n4                                          [MISSING]   \n\n                                title                 keywords release_year  \n0                             Blondie                  blondie       1938.0  \n1       Peter Voss, Thief of Millions                [MISSING]       1921.0  \n2                      Love at Twenty                [MISSING]       1962.0  \n3  New World Disorder 9: Never Enough  sports, mountain biking       2008.0  \n4      Sesame Street: Elmo Loves You!                [MISSING]       2010.0  ",
      "text/html": "<div>\n<style scoped>\n    .dataframe tbody tr th:only-of-type {\n        vertical-align: middle;\n    }\n\n    .dataframe tbody tr th {\n        vertical-align: top;\n    }\n\n    .dataframe thead th {\n        text-align: right;\n    }\n</style>\n<table border=\"1\" class=\"dataframe\">\n  <thead>\n    <tr style=\"text-align: right;\">\n      <th></th>\n      <th>genres</th>\n      <th>id</th>\n      <th>origin_country</th>\n      <th>original_language</th>\n      <th>overview</th>\n      <th>production_companies</th>\n      <th>tagline</th>\n      <th>title</th>\n      <th>keywords</th>\n      <th>release_year</th>\n    </tr>\n  </thead>\n  <tbody>\n    <tr>\n      <th>0</th>\n      <td>Comedy, Family</td>\n      <td>3924</td>\n      <td>US</td>\n      <td>en</td>\n      <td>Blondie and Dagwood are about to celebrate the...</td>\n      <td>Columbia Pictures</td>\n      <td>The favorite comic strip of millions at last o...</td>\n      <td>Blondie</td>\n      <td>blondie</td>\n      <td>1938.0</td>\n    </tr>\n    <tr>\n      <th>1</th>\n      <td>Adventure</td>\n      <td>6124</td>\n      <td>DE</td>\n      <td>de</td>\n      <td>[MISSING]</td>\n      <td>[MISSING]</td>\n      <td>[MISSING]</td>\n      <td>Peter Voss, Thief of Millions</td>\n      <td>[MISSING]</td>\n      <td>1921.0</td>\n    </tr>\n    <tr>\n      <th>2</th>\n      <td>Drama, Romance</td>\n      <td>8773</td>\n      <td>FR, IT, JP, PL</td>\n      <td>fr</td>\n      <td>Love at Twenty unites five directors from five...</td>\n      <td>Ulysse Productions, Unitec Films, Cinesecolo, ...</td>\n      <td>The Intimate Secrets of Young Lovers</td>\n      <td>Love at Twenty</td>\n      <td>[MISSING]</td>\n      <td>1962.0</td>\n    </tr>\n    <tr>\n      <th>3</th>\n      <td>[MISSING]</td>\n      <td>25449</td>\n      <td>US</td>\n      <td>en</td>\n      <td>Gee Atherton ripping the Worlds course the day...</td>\n      <td>[MISSING]</td>\n      <td>[MISSING]</td>\n      <td>New World Disorder 9: Never Enough</td>\n      <td>sports, mountain biking</td>\n      <td>2008.0</td>\n    </tr>\n    <tr>\n      <th>4</th>\n      <td>Family</td>\n      <td>31975</td>\n      <td>US</td>\n      <td>en</td>\n      <td>Elmo is making a very, very super special surp...</td>\n      <td>[MISSING]</td>\n      <td>[MISSING]</td>\n      <td>Sesame Street: Elmo Loves You!</td>\n      <td>[MISSING]</td>\n      <td>2010.0</td>\n    </tr>\n  </tbody>\n</table>\n</div>"
     },
     "execution_count": 426,
     "metadata": {},
     "output_type": "execute_result"
    }
   ],
   "source": [
    "movies.head()"
   ],
   "metadata": {
    "collapsed": false,
    "ExecuteTime": {
     "end_time": "2024-12-16T14:26:11.396127300Z",
     "start_time": "2024-12-16T14:26:11.376040600Z"
    }
   }
  },
  {
   "cell_type": "code",
   "execution_count": 427,
   "outputs": [
    {
     "data": {
      "text/plain": "   adult                     backdrop_path belongs_to_collection  budget  \\\n0  False  /dvQj1GBZAZirz1skEEZyWH2ZqQP.jpg    Blondie Collection       0   \n1  False                               NaN                   NaN       0   \n2  False  /uJlc4aNPF3Y8yAqahJTKBwgwPVW.jpg                   NaN       0   \n3  False                               NaN    New World Disorder       0   \n4  False                               NaN                   NaN       0   \n\n                  homepage    imdb_id  popularity  \\\n0                      NaN  tt0029927       2.702   \n1                      NaN        NaN       2.275   \n2                      NaN  tt0055747       3.223   \n3  http://www.nwdfilms.com        NaN       2.102   \n4                      NaN  tt1656746       0.003   \n\n                        poster_path                   production_countries  \\\n0   /zBiHKhXklvTFwj4M1uEUcQGAVJ.jpg               United States of America   \n1  /6xUbUCvndklbGVYiljHr34NTxSl.jpg                                Germany   \n2  /aup2QCYCsyEeQfpboXy0f4uj8aE.jpg  Germany, France, Italy, Japan, Poland   \n3  /itQjoIO2e3padeLliHROJVAb7Av.jpg                                          \n4  /qKWcCmvGr4g0dgXvhqAc4BAMCtk.jpg                                          \n\n   revenue  runtime    status  video  vote_average  vote_count  \\\n0        0       70  Released  False           7.1           8   \n1        0      420  Released  False           0.0           0   \n2        0      120  Released  False           6.7          48   \n3        0       69  Released  False           6.0           3   \n4        0       46  Released   True           0.0           0   \n\n                           spoken_languages  \\\n0                                   English   \n1                                             \n2  Français, Deutsch, Italiano, 日本語, Polski   \n3                                   English   \n4                                             \n\n                       original_title     id release_date  \n0                             Blondie   3924   1938-11-30  \n1                 Der Mann ohne Namen   6124   1921-01-01  \n2                 L'Amour à vingt ans   8773   1962-06-22  \n3  New World Disorder 9: Never Enough  25449   2008-12-08  \n4      Sesame Street: Elmo Loves You!  31975   2010-01-05  ",
      "text/html": "<div>\n<style scoped>\n    .dataframe tbody tr th:only-of-type {\n        vertical-align: middle;\n    }\n\n    .dataframe tbody tr th {\n        vertical-align: top;\n    }\n\n    .dataframe thead th {\n        text-align: right;\n    }\n</style>\n<table border=\"1\" class=\"dataframe\">\n  <thead>\n    <tr style=\"text-align: right;\">\n      <th></th>\n      <th>adult</th>\n      <th>backdrop_path</th>\n      <th>belongs_to_collection</th>\n      <th>budget</th>\n      <th>homepage</th>\n      <th>imdb_id</th>\n      <th>popularity</th>\n      <th>poster_path</th>\n      <th>production_countries</th>\n      <th>revenue</th>\n      <th>runtime</th>\n      <th>status</th>\n      <th>video</th>\n      <th>vote_average</th>\n      <th>vote_count</th>\n      <th>spoken_languages</th>\n      <th>original_title</th>\n      <th>id</th>\n      <th>release_date</th>\n    </tr>\n  </thead>\n  <tbody>\n    <tr>\n      <th>0</th>\n      <td>False</td>\n      <td>/dvQj1GBZAZirz1skEEZyWH2ZqQP.jpg</td>\n      <td>Blondie Collection</td>\n      <td>0</td>\n      <td>NaN</td>\n      <td>tt0029927</td>\n      <td>2.702</td>\n      <td>/zBiHKhXklvTFwj4M1uEUcQGAVJ.jpg</td>\n      <td>United States of America</td>\n      <td>0</td>\n      <td>70</td>\n      <td>Released</td>\n      <td>False</td>\n      <td>7.1</td>\n      <td>8</td>\n      <td>English</td>\n      <td>Blondie</td>\n      <td>3924</td>\n      <td>1938-11-30</td>\n    </tr>\n    <tr>\n      <th>1</th>\n      <td>False</td>\n      <td>NaN</td>\n      <td>NaN</td>\n      <td>0</td>\n      <td>NaN</td>\n      <td>NaN</td>\n      <td>2.275</td>\n      <td>/6xUbUCvndklbGVYiljHr34NTxSl.jpg</td>\n      <td>Germany</td>\n      <td>0</td>\n      <td>420</td>\n      <td>Released</td>\n      <td>False</td>\n      <td>0.0</td>\n      <td>0</td>\n      <td></td>\n      <td>Der Mann ohne Namen</td>\n      <td>6124</td>\n      <td>1921-01-01</td>\n    </tr>\n    <tr>\n      <th>2</th>\n      <td>False</td>\n      <td>/uJlc4aNPF3Y8yAqahJTKBwgwPVW.jpg</td>\n      <td>NaN</td>\n      <td>0</td>\n      <td>NaN</td>\n      <td>tt0055747</td>\n      <td>3.223</td>\n      <td>/aup2QCYCsyEeQfpboXy0f4uj8aE.jpg</td>\n      <td>Germany, France, Italy, Japan, Poland</td>\n      <td>0</td>\n      <td>120</td>\n      <td>Released</td>\n      <td>False</td>\n      <td>6.7</td>\n      <td>48</td>\n      <td>Français, Deutsch, Italiano, 日本語, Polski</td>\n      <td>L'Amour à vingt ans</td>\n      <td>8773</td>\n      <td>1962-06-22</td>\n    </tr>\n    <tr>\n      <th>3</th>\n      <td>False</td>\n      <td>NaN</td>\n      <td>New World Disorder</td>\n      <td>0</td>\n      <td>http://www.nwdfilms.com</td>\n      <td>NaN</td>\n      <td>2.102</td>\n      <td>/itQjoIO2e3padeLliHROJVAb7Av.jpg</td>\n      <td></td>\n      <td>0</td>\n      <td>69</td>\n      <td>Released</td>\n      <td>False</td>\n      <td>6.0</td>\n      <td>3</td>\n      <td>English</td>\n      <td>New World Disorder 9: Never Enough</td>\n      <td>25449</td>\n      <td>2008-12-08</td>\n    </tr>\n    <tr>\n      <th>4</th>\n      <td>False</td>\n      <td>NaN</td>\n      <td>NaN</td>\n      <td>0</td>\n      <td>NaN</td>\n      <td>tt1656746</td>\n      <td>0.003</td>\n      <td>/qKWcCmvGr4g0dgXvhqAc4BAMCtk.jpg</td>\n      <td></td>\n      <td>0</td>\n      <td>46</td>\n      <td>Released</td>\n      <td>True</td>\n      <td>0.0</td>\n      <td>0</td>\n      <td></td>\n      <td>Sesame Street: Elmo Loves You!</td>\n      <td>31975</td>\n      <td>2010-01-05</td>\n    </tr>\n  </tbody>\n</table>\n</div>"
     },
     "execution_count": 427,
     "metadata": {},
     "output_type": "execute_result"
    }
   ],
   "source": [
    "metadata.head()"
   ],
   "metadata": {
    "collapsed": false,
    "ExecuteTime": {
     "end_time": "2024-12-16T14:26:14.655871200Z",
     "start_time": "2024-12-16T14:26:14.648844Z"
    }
   }
  },
  {
   "cell_type": "code",
   "execution_count": 428,
   "outputs": [
    {
     "data": {
      "text/plain": "adult                       0\nbackdrop_path            1628\nbelongs_to_collection    9285\nbudget                      0\nhomepage                 9284\nimdb_id                   253\npopularity                  0\nposter_path               412\nproduction_countries        0\nrevenue                     0\nruntime                     0\nstatus                      0\nvideo                       0\nvote_average                0\nvote_count                  0\nspoken_languages            0\noriginal_title              0\nid                          0\nrelease_date                6\ndtype: int64"
     },
     "execution_count": 428,
     "metadata": {},
     "output_type": "execute_result"
    }
   ],
   "source": [
    "metadata.isnull().sum()"
   ],
   "metadata": {
    "collapsed": false,
    "ExecuteTime": {
     "end_time": "2024-12-16T14:26:15.486694800Z",
     "start_time": "2024-12-16T14:26:15.468557600Z"
    }
   }
  },
  {
   "cell_type": "code",
   "execution_count": 429,
   "outputs": [],
   "source": [
    "metadata = metadata.fillna(value=missing)"
   ],
   "metadata": {
    "collapsed": false,
    "ExecuteTime": {
     "end_time": "2024-12-16T14:26:16.055471200Z",
     "start_time": "2024-12-16T14:26:16.021556200Z"
    }
   }
  },
  {
   "cell_type": "code",
   "execution_count": 430,
   "outputs": [
    {
     "data": {
      "text/plain": "{'backdrop_path': 0,\n 'belongs_to_collection': 0,\n 'homepage': 0,\n 'imdb_id': 0,\n 'poster_path': 0,\n 'production_countries': 447,\n 'status': 0,\n 'spoken_languages': 287,\n 'original_title': 0}"
     },
     "execution_count": 430,
     "metadata": {},
     "output_type": "execute_result"
    }
   ],
   "source": [
    "get_na(metadata)"
   ],
   "metadata": {
    "collapsed": false,
    "ExecuteTime": {
     "end_time": "2024-12-16T14:26:16.595512Z",
     "start_time": "2024-12-16T14:26:16.561785600Z"
    }
   }
  },
  {
   "cell_type": "code",
   "execution_count": 431,
   "outputs": [],
   "source": [
    "set_na(metadata)"
   ],
   "metadata": {
    "collapsed": false,
    "ExecuteTime": {
     "end_time": "2024-12-16T14:26:17.286374500Z",
     "start_time": "2024-12-16T14:26:17.266381400Z"
    }
   }
  },
  {
   "cell_type": "code",
   "execution_count": 432,
   "outputs": [
    {
     "data": {
      "text/plain": "       adult                     backdrop_path belongs_to_collection  \\\n0      False  /dvQj1GBZAZirz1skEEZyWH2ZqQP.jpg    Blondie Collection   \n1      False                         [MISSING]             [MISSING]   \n2      False  /uJlc4aNPF3Y8yAqahJTKBwgwPVW.jpg             [MISSING]   \n3      False                         [MISSING]    New World Disorder   \n4      False                         [MISSING]             [MISSING]   \n...      ...                               ...                   ...   \n11302  False  /qIR0uwgZBA9gnSvTuqL1waDIbfe.jpg             [MISSING]   \n11303  False  /3b4A09adbZD4LdymN2rJbVYNZA6.jpg             [MISSING]   \n11304  False                         [MISSING]             [MISSING]   \n11305  False   /Ng3bVep7dL8qQiWhWQlSo2OvpZ.jpg             [MISSING]   \n11306  False  /hEbXPZSxbcMZtUxoArrnc96vgHL.jpg             [MISSING]   \n\n         budget                 homepage    imdb_id  popularity  \\\n0             0                [MISSING]  tt0029927       2.702   \n1             0                [MISSING]  [MISSING]       2.275   \n2             0                [MISSING]  tt0055747       3.223   \n3             0  http://www.nwdfilms.com  [MISSING]       2.102   \n4             0                [MISSING]  tt1656746       0.003   \n...         ...                      ...        ...         ...   \n11302         0       http://www.nin.com  tt0287594       1.158   \n11303         0                [MISSING]  tt0945328       0.334   \n11304         0                [MISSING]  tt1297858       1.733   \n11305         0                [MISSING]  tt1320082       7.251   \n11306  13500000                [MISSING]  tt0182000       7.220   \n\n                            poster_path  \\\n0       /zBiHKhXklvTFwj4M1uEUcQGAVJ.jpg   \n1      /6xUbUCvndklbGVYiljHr34NTxSl.jpg   \n2      /aup2QCYCsyEeQfpboXy0f4uj8aE.jpg   \n3      /itQjoIO2e3padeLliHROJVAb7Av.jpg   \n4      /qKWcCmvGr4g0dgXvhqAc4BAMCtk.jpg   \n...                                 ...   \n11302  /jJlJv0wMRiZyBQbISJAI67EFkKk.jpg   \n11303  /rOGM3MjucetBZTB0AeNZmtfbI8E.jpg   \n11304  /rZW8WXGyNnzuuPlswcdINVXkBp3.jpg   \n11305  /zQHwJk6t6AUBjrQCj2ksiShRy2o.jpg   \n11306  /xWjoiGvFZPXuBi93reGblvDHIax.jpg   \n\n                        production_countries  revenue  runtime    status  \\\n0                   United States of America        0       70  Released   \n1                                    Germany        0      420  Released   \n2      Germany, France, Italy, Japan, Poland        0      120  Released   \n3                                  [MISSING]        0       69  Released   \n4                                  [MISSING]        0       46  Released   \n...                                      ...      ...      ...       ...   \n11302               United States of America        0       86  Released   \n11303                               Malaysia        0      108  Released   \n11304                                  Italy        0      104  Released   \n11305        Belgium, Italy, Romania, France        0      119  Released   \n11306               United States of America   794481      105  Released   \n\n       video  vote_average  vote_count  \\\n0      False         7.100           8   \n1      False         0.000           0   \n2      False         6.700          48   \n3      False         6.000           3   \n4       True         0.000           0   \n...      ...           ...         ...   \n11302  False         7.559          17   \n11303  False         0.000           0   \n11304  False         6.100          18   \n11305  False         7.247         497   \n11306  False         5.729         133   \n\n                               spoken_languages  \\\n0                                       English   \n1                                     [MISSING]   \n2      Français, Deutsch, Italiano, 日本語, Polski   \n3                                       English   \n4                                     [MISSING]   \n...                                         ...   \n11302                                   English   \n11303                             Bahasa melayu   \n11304                         English, Italiano   \n11305               Français, Italiano, Pусский   \n11306                                   English   \n\n                           original_title     id         release_date  \n0                                 Blondie   3924  1938-11-30 00:00:00  \n1                     Der Mann ohne Namen   6124  1921-01-01 00:00:00  \n2                     L'Amour à vingt ans   8773  1962-06-22 00:00:00  \n3      New World Disorder 9: Never Enough  25449  2008-12-08 00:00:00  \n4          Sesame Street: Elmo Loves You!  31975  2010-01-05 00:00:00  \n...                                   ...    ...                  ...  \n11302        And All That Could Have Been  25202  2002-01-22 00:00:00  \n11303                               Cinta  25203  2006-11-30 00:00:00  \n11304    Zero: An Investigation Into 9/11  25204  2008-06-15 00:00:00  \n11305                          Le Concert  25205  2009-11-04 00:00:00  \n11306             The Caveman's Valentine  25208  2001-01-19 00:00:00  \n\n[11307 rows x 19 columns]",
      "text/html": "<div>\n<style scoped>\n    .dataframe tbody tr th:only-of-type {\n        vertical-align: middle;\n    }\n\n    .dataframe tbody tr th {\n        vertical-align: top;\n    }\n\n    .dataframe thead th {\n        text-align: right;\n    }\n</style>\n<table border=\"1\" class=\"dataframe\">\n  <thead>\n    <tr style=\"text-align: right;\">\n      <th></th>\n      <th>adult</th>\n      <th>backdrop_path</th>\n      <th>belongs_to_collection</th>\n      <th>budget</th>\n      <th>homepage</th>\n      <th>imdb_id</th>\n      <th>popularity</th>\n      <th>poster_path</th>\n      <th>production_countries</th>\n      <th>revenue</th>\n      <th>runtime</th>\n      <th>status</th>\n      <th>video</th>\n      <th>vote_average</th>\n      <th>vote_count</th>\n      <th>spoken_languages</th>\n      <th>original_title</th>\n      <th>id</th>\n      <th>release_date</th>\n    </tr>\n  </thead>\n  <tbody>\n    <tr>\n      <th>0</th>\n      <td>False</td>\n      <td>/dvQj1GBZAZirz1skEEZyWH2ZqQP.jpg</td>\n      <td>Blondie Collection</td>\n      <td>0</td>\n      <td>[MISSING]</td>\n      <td>tt0029927</td>\n      <td>2.702</td>\n      <td>/zBiHKhXklvTFwj4M1uEUcQGAVJ.jpg</td>\n      <td>United States of America</td>\n      <td>0</td>\n      <td>70</td>\n      <td>Released</td>\n      <td>False</td>\n      <td>7.100</td>\n      <td>8</td>\n      <td>English</td>\n      <td>Blondie</td>\n      <td>3924</td>\n      <td>1938-11-30 00:00:00</td>\n    </tr>\n    <tr>\n      <th>1</th>\n      <td>False</td>\n      <td>[MISSING]</td>\n      <td>[MISSING]</td>\n      <td>0</td>\n      <td>[MISSING]</td>\n      <td>[MISSING]</td>\n      <td>2.275</td>\n      <td>/6xUbUCvndklbGVYiljHr34NTxSl.jpg</td>\n      <td>Germany</td>\n      <td>0</td>\n      <td>420</td>\n      <td>Released</td>\n      <td>False</td>\n      <td>0.000</td>\n      <td>0</td>\n      <td>[MISSING]</td>\n      <td>Der Mann ohne Namen</td>\n      <td>6124</td>\n      <td>1921-01-01 00:00:00</td>\n    </tr>\n    <tr>\n      <th>2</th>\n      <td>False</td>\n      <td>/uJlc4aNPF3Y8yAqahJTKBwgwPVW.jpg</td>\n      <td>[MISSING]</td>\n      <td>0</td>\n      <td>[MISSING]</td>\n      <td>tt0055747</td>\n      <td>3.223</td>\n      <td>/aup2QCYCsyEeQfpboXy0f4uj8aE.jpg</td>\n      <td>Germany, France, Italy, Japan, Poland</td>\n      <td>0</td>\n      <td>120</td>\n      <td>Released</td>\n      <td>False</td>\n      <td>6.700</td>\n      <td>48</td>\n      <td>Français, Deutsch, Italiano, 日本語, Polski</td>\n      <td>L'Amour à vingt ans</td>\n      <td>8773</td>\n      <td>1962-06-22 00:00:00</td>\n    </tr>\n    <tr>\n      <th>3</th>\n      <td>False</td>\n      <td>[MISSING]</td>\n      <td>New World Disorder</td>\n      <td>0</td>\n      <td>http://www.nwdfilms.com</td>\n      <td>[MISSING]</td>\n      <td>2.102</td>\n      <td>/itQjoIO2e3padeLliHROJVAb7Av.jpg</td>\n      <td>[MISSING]</td>\n      <td>0</td>\n      <td>69</td>\n      <td>Released</td>\n      <td>False</td>\n      <td>6.000</td>\n      <td>3</td>\n      <td>English</td>\n      <td>New World Disorder 9: Never Enough</td>\n      <td>25449</td>\n      <td>2008-12-08 00:00:00</td>\n    </tr>\n    <tr>\n      <th>4</th>\n      <td>False</td>\n      <td>[MISSING]</td>\n      <td>[MISSING]</td>\n      <td>0</td>\n      <td>[MISSING]</td>\n      <td>tt1656746</td>\n      <td>0.003</td>\n      <td>/qKWcCmvGr4g0dgXvhqAc4BAMCtk.jpg</td>\n      <td>[MISSING]</td>\n      <td>0</td>\n      <td>46</td>\n      <td>Released</td>\n      <td>True</td>\n      <td>0.000</td>\n      <td>0</td>\n      <td>[MISSING]</td>\n      <td>Sesame Street: Elmo Loves You!</td>\n      <td>31975</td>\n      <td>2010-01-05 00:00:00</td>\n    </tr>\n    <tr>\n      <th>...</th>\n      <td>...</td>\n      <td>...</td>\n      <td>...</td>\n      <td>...</td>\n      <td>...</td>\n      <td>...</td>\n      <td>...</td>\n      <td>...</td>\n      <td>...</td>\n      <td>...</td>\n      <td>...</td>\n      <td>...</td>\n      <td>...</td>\n      <td>...</td>\n      <td>...</td>\n      <td>...</td>\n      <td>...</td>\n      <td>...</td>\n      <td>...</td>\n    </tr>\n    <tr>\n      <th>11302</th>\n      <td>False</td>\n      <td>/qIR0uwgZBA9gnSvTuqL1waDIbfe.jpg</td>\n      <td>[MISSING]</td>\n      <td>0</td>\n      <td>http://www.nin.com</td>\n      <td>tt0287594</td>\n      <td>1.158</td>\n      <td>/jJlJv0wMRiZyBQbISJAI67EFkKk.jpg</td>\n      <td>United States of America</td>\n      <td>0</td>\n      <td>86</td>\n      <td>Released</td>\n      <td>False</td>\n      <td>7.559</td>\n      <td>17</td>\n      <td>English</td>\n      <td>And All That Could Have Been</td>\n      <td>25202</td>\n      <td>2002-01-22 00:00:00</td>\n    </tr>\n    <tr>\n      <th>11303</th>\n      <td>False</td>\n      <td>/3b4A09adbZD4LdymN2rJbVYNZA6.jpg</td>\n      <td>[MISSING]</td>\n      <td>0</td>\n      <td>[MISSING]</td>\n      <td>tt0945328</td>\n      <td>0.334</td>\n      <td>/rOGM3MjucetBZTB0AeNZmtfbI8E.jpg</td>\n      <td>Malaysia</td>\n      <td>0</td>\n      <td>108</td>\n      <td>Released</td>\n      <td>False</td>\n      <td>0.000</td>\n      <td>0</td>\n      <td>Bahasa melayu</td>\n      <td>Cinta</td>\n      <td>25203</td>\n      <td>2006-11-30 00:00:00</td>\n    </tr>\n    <tr>\n      <th>11304</th>\n      <td>False</td>\n      <td>[MISSING]</td>\n      <td>[MISSING]</td>\n      <td>0</td>\n      <td>[MISSING]</td>\n      <td>tt1297858</td>\n      <td>1.733</td>\n      <td>/rZW8WXGyNnzuuPlswcdINVXkBp3.jpg</td>\n      <td>Italy</td>\n      <td>0</td>\n      <td>104</td>\n      <td>Released</td>\n      <td>False</td>\n      <td>6.100</td>\n      <td>18</td>\n      <td>English, Italiano</td>\n      <td>Zero: An Investigation Into 9/11</td>\n      <td>25204</td>\n      <td>2008-06-15 00:00:00</td>\n    </tr>\n    <tr>\n      <th>11305</th>\n      <td>False</td>\n      <td>/Ng3bVep7dL8qQiWhWQlSo2OvpZ.jpg</td>\n      <td>[MISSING]</td>\n      <td>0</td>\n      <td>[MISSING]</td>\n      <td>tt1320082</td>\n      <td>7.251</td>\n      <td>/zQHwJk6t6AUBjrQCj2ksiShRy2o.jpg</td>\n      <td>Belgium, Italy, Romania, France</td>\n      <td>0</td>\n      <td>119</td>\n      <td>Released</td>\n      <td>False</td>\n      <td>7.247</td>\n      <td>497</td>\n      <td>Français, Italiano, Pусский</td>\n      <td>Le Concert</td>\n      <td>25205</td>\n      <td>2009-11-04 00:00:00</td>\n    </tr>\n    <tr>\n      <th>11306</th>\n      <td>False</td>\n      <td>/hEbXPZSxbcMZtUxoArrnc96vgHL.jpg</td>\n      <td>[MISSING]</td>\n      <td>13500000</td>\n      <td>[MISSING]</td>\n      <td>tt0182000</td>\n      <td>7.220</td>\n      <td>/xWjoiGvFZPXuBi93reGblvDHIax.jpg</td>\n      <td>United States of America</td>\n      <td>794481</td>\n      <td>105</td>\n      <td>Released</td>\n      <td>False</td>\n      <td>5.729</td>\n      <td>133</td>\n      <td>English</td>\n      <td>The Caveman's Valentine</td>\n      <td>25208</td>\n      <td>2001-01-19 00:00:00</td>\n    </tr>\n  </tbody>\n</table>\n<p>11307 rows × 19 columns</p>\n</div>"
     },
     "execution_count": 432,
     "metadata": {},
     "output_type": "execute_result"
    }
   ],
   "source": [
    "metadata"
   ],
   "metadata": {
    "collapsed": false,
    "ExecuteTime": {
     "end_time": "2024-12-16T14:26:17.932028700Z",
     "start_time": "2024-12-16T14:26:17.907147100Z"
    }
   }
  },
  {
   "cell_type": "code",
   "execution_count": 432,
   "outputs": [],
   "source": [],
   "metadata": {
    "collapsed": false,
    "ExecuteTime": {
     "end_time": "2024-12-16T14:26:18.663020400Z",
     "start_time": "2024-12-16T14:26:18.659675100Z"
    }
   }
  },
  {
   "cell_type": "code",
   "execution_count": 433,
   "outputs": [
    {
     "data": {
      "text/plain": "       movie_id                         movie_title  \\\n0          3924                             Blondie   \n1          6124       Peter Voss, Thief of Millions   \n2          8773                      Love at Twenty   \n3         25449  New World Disorder 9: Never Enough   \n4         31975      Sesame Street: Elmo Loves You!   \n...         ...                                 ...   \n11302     25202        And All That Could Have Been   \n11303     25203                               Cinta   \n11304     25204    Zero: An Investigation Into 9/11   \n11305     25205                         The Concert   \n11306     25208             The Caveman's Valentine   \n\n                                                    cast  \\\n0      [{\"adult\": false, \"gender\": 1, \"id\": 34178, \"k...   \n1      [{\"adult\": false, \"gender\": 2, \"id\": 48038, \"k...   \n2      [{\"adult\": false, \"gender\": 2, \"id\": 1653, \"kn...   \n3      [{\"adult\": false, \"gender\": 2, \"id\": 84130, \"k...   \n4                                                     []   \n...                                                  ...   \n11302  [{\"adult\": false, \"gender\": 2, \"id\": 2148, \"kn...   \n11303  [{\"adult\": false, \"gender\": 0, \"id\": 1288188, ...   \n11304  [{\"adult\": false, \"gender\": 2, \"id\": 147003, \"...   \n11305  [{\"adult\": false, \"gender\": 2, \"id\": 236749, \"...   \n11306  [{\"adult\": false, \"gender\": 2, \"id\": 2231, \"kn...   \n\n                                                    crew  \n0      [{\"adult\": false, \"gender\": 0, \"id\": 34170, \"k...  \n1      [{\"adult\": false, \"gender\": 2, \"id\": 2902, \"kn...  \n2      [{\"adult\": false, \"gender\": 2, \"id\": 2801, \"kn...  \n3      [{\"adult\": false, \"gender\": 0, \"id\": 112786, \"...  \n4                                                     []  \n...                                                  ...  \n11302  [{\"adult\": false, \"gender\": 2, \"id\": 209147, \"...  \n11303  [{\"adult\": false, \"gender\": 2, \"id\": 1288187, ...  \n11304  [{\"adult\": false, \"gender\": 0, \"id\": 131622, \"...  \n11305  [{\"adult\": false, \"gender\": 2, \"id\": 20430, \"k...  \n11306  [{\"adult\": false, \"gender\": 1, \"id\": 51864, \"k...  \n\n[11307 rows x 4 columns]",
      "text/html": "<div>\n<style scoped>\n    .dataframe tbody tr th:only-of-type {\n        vertical-align: middle;\n    }\n\n    .dataframe tbody tr th {\n        vertical-align: top;\n    }\n\n    .dataframe thead th {\n        text-align: right;\n    }\n</style>\n<table border=\"1\" class=\"dataframe\">\n  <thead>\n    <tr style=\"text-align: right;\">\n      <th></th>\n      <th>movie_id</th>\n      <th>movie_title</th>\n      <th>cast</th>\n      <th>crew</th>\n    </tr>\n  </thead>\n  <tbody>\n    <tr>\n      <th>0</th>\n      <td>3924</td>\n      <td>Blondie</td>\n      <td>[{\"adult\": false, \"gender\": 1, \"id\": 34178, \"k...</td>\n      <td>[{\"adult\": false, \"gender\": 0, \"id\": 34170, \"k...</td>\n    </tr>\n    <tr>\n      <th>1</th>\n      <td>6124</td>\n      <td>Peter Voss, Thief of Millions</td>\n      <td>[{\"adult\": false, \"gender\": 2, \"id\": 48038, \"k...</td>\n      <td>[{\"adult\": false, \"gender\": 2, \"id\": 2902, \"kn...</td>\n    </tr>\n    <tr>\n      <th>2</th>\n      <td>8773</td>\n      <td>Love at Twenty</td>\n      <td>[{\"adult\": false, \"gender\": 2, \"id\": 1653, \"kn...</td>\n      <td>[{\"adult\": false, \"gender\": 2, \"id\": 2801, \"kn...</td>\n    </tr>\n    <tr>\n      <th>3</th>\n      <td>25449</td>\n      <td>New World Disorder 9: Never Enough</td>\n      <td>[{\"adult\": false, \"gender\": 2, \"id\": 84130, \"k...</td>\n      <td>[{\"adult\": false, \"gender\": 0, \"id\": 112786, \"...</td>\n    </tr>\n    <tr>\n      <th>4</th>\n      <td>31975</td>\n      <td>Sesame Street: Elmo Loves You!</td>\n      <td>[]</td>\n      <td>[]</td>\n    </tr>\n    <tr>\n      <th>...</th>\n      <td>...</td>\n      <td>...</td>\n      <td>...</td>\n      <td>...</td>\n    </tr>\n    <tr>\n      <th>11302</th>\n      <td>25202</td>\n      <td>And All That Could Have Been</td>\n      <td>[{\"adult\": false, \"gender\": 2, \"id\": 2148, \"kn...</td>\n      <td>[{\"adult\": false, \"gender\": 2, \"id\": 209147, \"...</td>\n    </tr>\n    <tr>\n      <th>11303</th>\n      <td>25203</td>\n      <td>Cinta</td>\n      <td>[{\"adult\": false, \"gender\": 0, \"id\": 1288188, ...</td>\n      <td>[{\"adult\": false, \"gender\": 2, \"id\": 1288187, ...</td>\n    </tr>\n    <tr>\n      <th>11304</th>\n      <td>25204</td>\n      <td>Zero: An Investigation Into 9/11</td>\n      <td>[{\"adult\": false, \"gender\": 2, \"id\": 147003, \"...</td>\n      <td>[{\"adult\": false, \"gender\": 0, \"id\": 131622, \"...</td>\n    </tr>\n    <tr>\n      <th>11305</th>\n      <td>25205</td>\n      <td>The Concert</td>\n      <td>[{\"adult\": false, \"gender\": 2, \"id\": 236749, \"...</td>\n      <td>[{\"adult\": false, \"gender\": 2, \"id\": 20430, \"k...</td>\n    </tr>\n    <tr>\n      <th>11306</th>\n      <td>25208</td>\n      <td>The Caveman's Valentine</td>\n      <td>[{\"adult\": false, \"gender\": 2, \"id\": 2231, \"kn...</td>\n      <td>[{\"adult\": false, \"gender\": 1, \"id\": 51864, \"k...</td>\n    </tr>\n  </tbody>\n</table>\n<p>11307 rows × 4 columns</p>\n</div>"
     },
     "execution_count": 433,
     "metadata": {},
     "output_type": "execute_result"
    }
   ],
   "source": [
    "creds"
   ],
   "metadata": {
    "collapsed": false,
    "ExecuteTime": {
     "end_time": "2024-12-16T14:26:18.993850600Z",
     "start_time": "2024-12-16T14:26:18.965048600Z"
    }
   }
  },
  {
   "cell_type": "code",
   "execution_count": 434,
   "outputs": [],
   "source": [
    "def extract_actors(cast, jload = True):\n",
    "    cast = json.loads(cast) if jload else cast\n",
    "    res = []\n",
    "    for d in cast:\n",
    "        if d['known_for_department'] == \"Acting\":\n",
    "            res.append(d['name'])\n",
    "    res = res[:10]\n",
    "    return \", \".join(res).strip()\n",
    "def extract_director(crew, jload = True):\n",
    "    crew = json.loads(crew) if jload else crew\n",
    "    res = []\n",
    "    for d in crew:\n",
    "        if d['job'] == 'Director':\n",
    "            res.append(d['name'])\n",
    "    res = res[:10]\n",
    "    return \", \".join(res).strip()\n",
    "def extract_writer(crew, jload = True):\n",
    "    crew = json.loads(crew) if jload else crew\n",
    "    res = []\n",
    "    for d in crew:\n",
    "        if d['job'] == 'Writer':\n",
    "            res.append(d['name'])\n",
    "    res = res[:10]\n",
    "    return \", \".join(res).strip()\n",
    "def get_crew(entry, jload = True):\n",
    "    entry = json.loads(entry) if jload else entry\n",
    "    res = []\n",
    "    for d in entry:\n",
    "        res.append(f\"{d['job']}: {d['name']}\")\n",
    "    res.sort()\n",
    "    return \", \".join(res)"
   ],
   "metadata": {
    "collapsed": false,
    "ExecuteTime": {
     "end_time": "2024-12-16T14:26:19.414925900Z",
     "start_time": "2024-12-16T14:26:19.405694Z"
    }
   }
  },
  {
   "cell_type": "code",
   "execution_count": 435,
   "outputs": [],
   "source": [
    "creds['writers'] = creds['crew'].apply(extract_writer)\n",
    "creds['directors'] = creds['crew'].apply(extract_director)\n",
    "creds['actors'] = creds['cast'].apply(extract_actors)\n",
    "creds['cast'] = creds['cast'].apply(process_list_dict)\n",
    "creds['crew'] = creds['crew'].apply(get_crew)"
   ],
   "metadata": {
    "collapsed": false,
    "ExecuteTime": {
     "end_time": "2024-12-16T14:26:24.035781300Z",
     "start_time": "2024-12-16T14:26:19.955050100Z"
    }
   }
  },
  {
   "cell_type": "code",
   "execution_count": 436,
   "outputs": [],
   "source": [
    "set_na(creds)"
   ],
   "metadata": {
    "collapsed": false,
    "ExecuteTime": {
     "end_time": "2024-12-16T14:26:24.079203700Z",
     "start_time": "2024-12-16T14:26:24.037921700Z"
    }
   }
  },
  {
   "cell_type": "code",
   "execution_count": 437,
   "outputs": [
    {
     "data": {
      "text/plain": "       movie_id                         movie_title  \\\n0          3924                             Blondie   \n1          6124       Peter Voss, Thief of Millions   \n2          8773                      Love at Twenty   \n3         25449  New World Disorder 9: Never Enough   \n4         31975      Sesame Street: Elmo Loves You!   \n...         ...                                 ...   \n11302     25202        And All That Could Have Been   \n11303     25203                               Cinta   \n11304     25204    Zero: An Investigation Into 9/11   \n11305     25205                         The Concert   \n11306     25208             The Caveman's Valentine   \n\n                                                    cast  \\\n0      Penny Singleton, Arthur Lake, Larry Simms, Dai...   \n1      Harry Liedtke, Georg Alexander, Mady Christian...   \n2      Jean-Pierre Léaud, Marie-France Pisier, Patric...   \n3      Darren Berrecloth, Cameron McCaul, Paul Basago...   \n4                                              [MISSING]   \n...                                                  ...   \n11302  Charlie Clouser, Robin Finck, Jerome Dillon, D...   \n11303  Fatimah Abu Bakar, Sharifah Amani, Pierre Andr...   \n11304  Dario Fo, Gore Vidal, Tim Sparke, Nafeez Mossa...   \n11305  Aleksey Guskov, Mélanie Laurent, Dmitri Nazaro...   \n11306  Samuel L. Jackson, Colm Feore, Ann Magnuson, A...   \n\n                                                    crew  \\\n0      Director: Frank R. Strayer, Screenplay: Richar...   \n1      Director of Photography: Frederik Fuglsang, Di...   \n2      Assistant Camera: Charles L. Bitsch, Assistant...   \n3                             Director: Derek Westerlund   \n4                                              [MISSING]   \n...                                                  ...   \n11302  Art Direction: David Carson, Director: Rob She...   \n11303  Director of Photography: Madnor Kassim, Direct...   \n11304  Cinematography: Christian Di Prinzio, Cinemato...   \n11305  Adaptation: Radu Mihăileanu, Art Direction: Ar...   \n11306  Art Direction: Grant Van Der Slagt, Co-Executi...   \n\n                                                 writers  \\\n0                                              [MISSING]   \n1                                              [MISSING]   \n2      Jerzy Stefan Stawiński, François Truffaut, Yvo...   \n3                                              [MISSING]   \n4                                              [MISSING]   \n...                                                  ...   \n11302                                          [MISSING]   \n11303                                          [MISSING]   \n11304  Francesco Trento, Giulietto Chiesa, Thomas Tor...   \n11305                                          [MISSING]   \n11306                                          [MISSING]   \n\n                                               directors  \\\n0                                       Frank R. Strayer   \n1                                           Georg Jacoby   \n2      Andrzej Wajda, François Truffaut, Marcel Ophül...   \n3                                       Derek Westerlund   \n4                                              [MISSING]   \n...                                                  ...   \n11302                                       Rob Sheridan   \n11303                                       Kabir Bhatia   \n11304                  Francesco Trento, Franco Fracassi   \n11305                                    Radu Mihăileanu   \n11306                                       Kasi Lemmons   \n\n                                                  actors  \n0      Penny Singleton, Arthur Lake, Larry Simms, Dai...  \n1      Harry Liedtke, Georg Alexander, Mady Christian...  \n2      Jean-Pierre Léaud, Marie-France Pisier, Patric...  \n3      Darren Berrecloth, Cameron McCaul, Paul Basago...  \n4                                              [MISSING]  \n...                                                  ...  \n11302                          Robin Finck, Danny Lohner  \n11303  Fatimah Abu Bakar, Sharifah Amani, Pierre Andr...  \n11304  Tim Sparke, Brian Clark, Louie Cacchioli, Les ...  \n11305  Aleksey Guskov, Mélanie Laurent, Dmitri Nazaro...  \n11306  Samuel L. Jackson, Colm Feore, Ann Magnuson, A...  \n\n[11307 rows x 7 columns]",
      "text/html": "<div>\n<style scoped>\n    .dataframe tbody tr th:only-of-type {\n        vertical-align: middle;\n    }\n\n    .dataframe tbody tr th {\n        vertical-align: top;\n    }\n\n    .dataframe thead th {\n        text-align: right;\n    }\n</style>\n<table border=\"1\" class=\"dataframe\">\n  <thead>\n    <tr style=\"text-align: right;\">\n      <th></th>\n      <th>movie_id</th>\n      <th>movie_title</th>\n      <th>cast</th>\n      <th>crew</th>\n      <th>writers</th>\n      <th>directors</th>\n      <th>actors</th>\n    </tr>\n  </thead>\n  <tbody>\n    <tr>\n      <th>0</th>\n      <td>3924</td>\n      <td>Blondie</td>\n      <td>Penny Singleton, Arthur Lake, Larry Simms, Dai...</td>\n      <td>Director: Frank R. Strayer, Screenplay: Richar...</td>\n      <td>[MISSING]</td>\n      <td>Frank R. Strayer</td>\n      <td>Penny Singleton, Arthur Lake, Larry Simms, Dai...</td>\n    </tr>\n    <tr>\n      <th>1</th>\n      <td>6124</td>\n      <td>Peter Voss, Thief of Millions</td>\n      <td>Harry Liedtke, Georg Alexander, Mady Christian...</td>\n      <td>Director of Photography: Frederik Fuglsang, Di...</td>\n      <td>[MISSING]</td>\n      <td>Georg Jacoby</td>\n      <td>Harry Liedtke, Georg Alexander, Mady Christian...</td>\n    </tr>\n    <tr>\n      <th>2</th>\n      <td>8773</td>\n      <td>Love at Twenty</td>\n      <td>Jean-Pierre Léaud, Marie-France Pisier, Patric...</td>\n      <td>Assistant Camera: Charles L. Bitsch, Assistant...</td>\n      <td>Jerzy Stefan Stawiński, François Truffaut, Yvo...</td>\n      <td>Andrzej Wajda, François Truffaut, Marcel Ophül...</td>\n      <td>Jean-Pierre Léaud, Marie-France Pisier, Patric...</td>\n    </tr>\n    <tr>\n      <th>3</th>\n      <td>25449</td>\n      <td>New World Disorder 9: Never Enough</td>\n      <td>Darren Berrecloth, Cameron McCaul, Paul Basago...</td>\n      <td>Director: Derek Westerlund</td>\n      <td>[MISSING]</td>\n      <td>Derek Westerlund</td>\n      <td>Darren Berrecloth, Cameron McCaul, Paul Basago...</td>\n    </tr>\n    <tr>\n      <th>4</th>\n      <td>31975</td>\n      <td>Sesame Street: Elmo Loves You!</td>\n      <td>[MISSING]</td>\n      <td>[MISSING]</td>\n      <td>[MISSING]</td>\n      <td>[MISSING]</td>\n      <td>[MISSING]</td>\n    </tr>\n    <tr>\n      <th>...</th>\n      <td>...</td>\n      <td>...</td>\n      <td>...</td>\n      <td>...</td>\n      <td>...</td>\n      <td>...</td>\n      <td>...</td>\n    </tr>\n    <tr>\n      <th>11302</th>\n      <td>25202</td>\n      <td>And All That Could Have Been</td>\n      <td>Charlie Clouser, Robin Finck, Jerome Dillon, D...</td>\n      <td>Art Direction: David Carson, Director: Rob She...</td>\n      <td>[MISSING]</td>\n      <td>Rob Sheridan</td>\n      <td>Robin Finck, Danny Lohner</td>\n    </tr>\n    <tr>\n      <th>11303</th>\n      <td>25203</td>\n      <td>Cinta</td>\n      <td>Fatimah Abu Bakar, Sharifah Amani, Pierre Andr...</td>\n      <td>Director of Photography: Madnor Kassim, Direct...</td>\n      <td>[MISSING]</td>\n      <td>Kabir Bhatia</td>\n      <td>Fatimah Abu Bakar, Sharifah Amani, Pierre Andr...</td>\n    </tr>\n    <tr>\n      <th>11304</th>\n      <td>25204</td>\n      <td>Zero: An Investigation Into 9/11</td>\n      <td>Dario Fo, Gore Vidal, Tim Sparke, Nafeez Mossa...</td>\n      <td>Cinematography: Christian Di Prinzio, Cinemato...</td>\n      <td>Francesco Trento, Giulietto Chiesa, Thomas Tor...</td>\n      <td>Francesco Trento, Franco Fracassi</td>\n      <td>Tim Sparke, Brian Clark, Louie Cacchioli, Les ...</td>\n    </tr>\n    <tr>\n      <th>11305</th>\n      <td>25205</td>\n      <td>The Concert</td>\n      <td>Aleksey Guskov, Mélanie Laurent, Dmitri Nazaro...</td>\n      <td>Adaptation: Radu Mihăileanu, Art Direction: Ar...</td>\n      <td>[MISSING]</td>\n      <td>Radu Mihăileanu</td>\n      <td>Aleksey Guskov, Mélanie Laurent, Dmitri Nazaro...</td>\n    </tr>\n    <tr>\n      <th>11306</th>\n      <td>25208</td>\n      <td>The Caveman's Valentine</td>\n      <td>Samuel L. Jackson, Colm Feore, Ann Magnuson, A...</td>\n      <td>Art Direction: Grant Van Der Slagt, Co-Executi...</td>\n      <td>[MISSING]</td>\n      <td>Kasi Lemmons</td>\n      <td>Samuel L. Jackson, Colm Feore, Ann Magnuson, A...</td>\n    </tr>\n  </tbody>\n</table>\n<p>11307 rows × 7 columns</p>\n</div>"
     },
     "execution_count": 437,
     "metadata": {},
     "output_type": "execute_result"
    }
   ],
   "source": [
    "creds"
   ],
   "metadata": {
    "collapsed": false,
    "ExecuteTime": {
     "end_time": "2024-12-16T14:26:24.866184400Z",
     "start_time": "2024-12-16T14:26:24.837117900Z"
    }
   }
  },
  {
   "cell_type": "code",
   "execution_count": 438,
   "outputs": [],
   "source": [
    "metadata = pd.merge(metadata, creds[['movie_id', 'cast', 'crew']], left_on='id', right_on='movie_id', how='outer')"
   ],
   "metadata": {
    "collapsed": false,
    "ExecuteTime": {
     "end_time": "2024-12-16T14:26:25.627944700Z",
     "start_time": "2024-12-16T14:26:25.606331800Z"
    }
   }
  },
  {
   "cell_type": "code",
   "execution_count": 439,
   "outputs": [
    {
     "data": {
      "text/plain": "   adult                     backdrop_path             belongs_to_collection  \\\n0  False  /hQ4pYsIbP22TMXOUdSfC2mjWrO0.jpg  Kaurismäki's Proletariat Trilogy   \n1  False  /l94l89eMmFKh7na2a1u5q67VgNx.jpg  Kaurismäki's Proletariat Trilogy   \n2  False  /f2t4JbUvQIjUF5FstG1zZFAp02N.jpg                         [MISSING]   \n3  False  /bGMqHn0H2UY6SPZ5Vch4YJM2jDO.jpg                         [MISSING]   \n4  False                         [MISSING]                         [MISSING]   \n\n     budget                                   homepage    imdb_id  popularity  \\\n0         0                                  [MISSING]  tt0094675      11.403   \n1         0                                  [MISSING]  tt0092149       7.066   \n2   4000000  https://www.miramax.com/movie/four-rooms/  tt0113101      15.843   \n3  21000000                                  [MISSING]  tt0107286      12.929   \n4     42000                     http://lifeinloops.com  tt0825671       4.073   \n\n                        poster_path      production_countries   revenue  ...  \\\n0  /ojDg0PGvs6R9xYFodRct2kdI6wC.jpg                   Finland         0  ...   \n1  /nj01hspawPof0mJmlgfjuLyJuRN.jpg                   Finland         0  ...   \n2  /75aHn1NOYXh4M7L5shoeQ6NGykP.jpg  United States of America   4257354  ...   \n3  /3rvvpS9YPM5HB2f4HYiNiJVtdam.jpg  United States of America  12136938  ...   \n4  /7ln81BRnPR2wqxuITZxEciCe1lc.jpg                   Austria         0  ...   \n\n   video vote_average  vote_count                        spoken_languages  \\\n0  False        7.100         336                                   suomi   \n1  False        7.297         399                 suomi, English, svenska   \n2  False        5.853        2639                                 English   \n3  False        6.500         331                                 English   \n4  False        7.300          28  English, हिन्दी, 日本語, Pусский, Español   \n\n                     original_title id         release_date  movie_id  \\\n0                             Ariel  2  1988-10-21 00:00:00         2   \n1              Varjoja paratiisissa  3  1986-10-17 00:00:00         3   \n2                        Four Rooms  5  1995-12-09 00:00:00         5   \n3                    Judgment Night  6  1993-10-15 00:00:00         6   \n4  Life in Loops (A Megacities RMX)  8  2006-01-01 00:00:00         8   \n\n                                                cast  \\\n0  Turo Pajala, Susanna Haavisto, Matti Pellonpää...   \n1  Matti Pellonpää, Kati Outinen, Sakari Kuosmane...   \n2  Tim Roth, Jennifer Beals, Antonio Banderas, Va...   \n3  Emilio Estevez, Cuba Gooding Jr., Denis Leary,...   \n4                                          [MISSING]   \n\n                                                crew  \n0  Additional Music: Dmitri Shostakovich, Additio...  \n1  Assistant Camera: Heikki Ortamo, Assistant Cam...  \n2  ADR Editor: Zack Davis, ADR Mixer: Christina T...  \n3  Art Direction: Dan Olexiewicz, Associate Produ...  \n4  Director of Photography: Wolfgang Thaler, Dire...  \n\n[5 rows x 22 columns]",
      "text/html": "<div>\n<style scoped>\n    .dataframe tbody tr th:only-of-type {\n        vertical-align: middle;\n    }\n\n    .dataframe tbody tr th {\n        vertical-align: top;\n    }\n\n    .dataframe thead th {\n        text-align: right;\n    }\n</style>\n<table border=\"1\" class=\"dataframe\">\n  <thead>\n    <tr style=\"text-align: right;\">\n      <th></th>\n      <th>adult</th>\n      <th>backdrop_path</th>\n      <th>belongs_to_collection</th>\n      <th>budget</th>\n      <th>homepage</th>\n      <th>imdb_id</th>\n      <th>popularity</th>\n      <th>poster_path</th>\n      <th>production_countries</th>\n      <th>revenue</th>\n      <th>...</th>\n      <th>video</th>\n      <th>vote_average</th>\n      <th>vote_count</th>\n      <th>spoken_languages</th>\n      <th>original_title</th>\n      <th>id</th>\n      <th>release_date</th>\n      <th>movie_id</th>\n      <th>cast</th>\n      <th>crew</th>\n    </tr>\n  </thead>\n  <tbody>\n    <tr>\n      <th>0</th>\n      <td>False</td>\n      <td>/hQ4pYsIbP22TMXOUdSfC2mjWrO0.jpg</td>\n      <td>Kaurismäki's Proletariat Trilogy</td>\n      <td>0</td>\n      <td>[MISSING]</td>\n      <td>tt0094675</td>\n      <td>11.403</td>\n      <td>/ojDg0PGvs6R9xYFodRct2kdI6wC.jpg</td>\n      <td>Finland</td>\n      <td>0</td>\n      <td>...</td>\n      <td>False</td>\n      <td>7.100</td>\n      <td>336</td>\n      <td>suomi</td>\n      <td>Ariel</td>\n      <td>2</td>\n      <td>1988-10-21 00:00:00</td>\n      <td>2</td>\n      <td>Turo Pajala, Susanna Haavisto, Matti Pellonpää...</td>\n      <td>Additional Music: Dmitri Shostakovich, Additio...</td>\n    </tr>\n    <tr>\n      <th>1</th>\n      <td>False</td>\n      <td>/l94l89eMmFKh7na2a1u5q67VgNx.jpg</td>\n      <td>Kaurismäki's Proletariat Trilogy</td>\n      <td>0</td>\n      <td>[MISSING]</td>\n      <td>tt0092149</td>\n      <td>7.066</td>\n      <td>/nj01hspawPof0mJmlgfjuLyJuRN.jpg</td>\n      <td>Finland</td>\n      <td>0</td>\n      <td>...</td>\n      <td>False</td>\n      <td>7.297</td>\n      <td>399</td>\n      <td>suomi, English, svenska</td>\n      <td>Varjoja paratiisissa</td>\n      <td>3</td>\n      <td>1986-10-17 00:00:00</td>\n      <td>3</td>\n      <td>Matti Pellonpää, Kati Outinen, Sakari Kuosmane...</td>\n      <td>Assistant Camera: Heikki Ortamo, Assistant Cam...</td>\n    </tr>\n    <tr>\n      <th>2</th>\n      <td>False</td>\n      <td>/f2t4JbUvQIjUF5FstG1zZFAp02N.jpg</td>\n      <td>[MISSING]</td>\n      <td>4000000</td>\n      <td>https://www.miramax.com/movie/four-rooms/</td>\n      <td>tt0113101</td>\n      <td>15.843</td>\n      <td>/75aHn1NOYXh4M7L5shoeQ6NGykP.jpg</td>\n      <td>United States of America</td>\n      <td>4257354</td>\n      <td>...</td>\n      <td>False</td>\n      <td>5.853</td>\n      <td>2639</td>\n      <td>English</td>\n      <td>Four Rooms</td>\n      <td>5</td>\n      <td>1995-12-09 00:00:00</td>\n      <td>5</td>\n      <td>Tim Roth, Jennifer Beals, Antonio Banderas, Va...</td>\n      <td>ADR Editor: Zack Davis, ADR Mixer: Christina T...</td>\n    </tr>\n    <tr>\n      <th>3</th>\n      <td>False</td>\n      <td>/bGMqHn0H2UY6SPZ5Vch4YJM2jDO.jpg</td>\n      <td>[MISSING]</td>\n      <td>21000000</td>\n      <td>[MISSING]</td>\n      <td>tt0107286</td>\n      <td>12.929</td>\n      <td>/3rvvpS9YPM5HB2f4HYiNiJVtdam.jpg</td>\n      <td>United States of America</td>\n      <td>12136938</td>\n      <td>...</td>\n      <td>False</td>\n      <td>6.500</td>\n      <td>331</td>\n      <td>English</td>\n      <td>Judgment Night</td>\n      <td>6</td>\n      <td>1993-10-15 00:00:00</td>\n      <td>6</td>\n      <td>Emilio Estevez, Cuba Gooding Jr., Denis Leary,...</td>\n      <td>Art Direction: Dan Olexiewicz, Associate Produ...</td>\n    </tr>\n    <tr>\n      <th>4</th>\n      <td>False</td>\n      <td>[MISSING]</td>\n      <td>[MISSING]</td>\n      <td>42000</td>\n      <td>http://lifeinloops.com</td>\n      <td>tt0825671</td>\n      <td>4.073</td>\n      <td>/7ln81BRnPR2wqxuITZxEciCe1lc.jpg</td>\n      <td>Austria</td>\n      <td>0</td>\n      <td>...</td>\n      <td>False</td>\n      <td>7.300</td>\n      <td>28</td>\n      <td>English, हिन्दी, 日本語, Pусский, Español</td>\n      <td>Life in Loops (A Megacities RMX)</td>\n      <td>8</td>\n      <td>2006-01-01 00:00:00</td>\n      <td>8</td>\n      <td>[MISSING]</td>\n      <td>Director of Photography: Wolfgang Thaler, Dire...</td>\n    </tr>\n  </tbody>\n</table>\n<p>5 rows × 22 columns</p>\n</div>"
     },
     "execution_count": 439,
     "metadata": {},
     "output_type": "execute_result"
    }
   ],
   "source": [
    "metadata.head()"
   ],
   "metadata": {
    "collapsed": false,
    "ExecuteTime": {
     "end_time": "2024-12-16T14:26:26.098981800Z",
     "start_time": "2024-12-16T14:26:26.061156800Z"
    }
   }
  },
  {
   "cell_type": "code",
   "execution_count": 440,
   "outputs": [
    {
     "data": {
      "text/plain": "   movie_id                         movie_title  \\\n0      3924                             Blondie   \n1      6124       Peter Voss, Thief of Millions   \n2      8773                      Love at Twenty   \n3     25449  New World Disorder 9: Never Enough   \n4     31975      Sesame Street: Elmo Loves You!   \n\n                                             writers  \\\n0                                          [MISSING]   \n1                                          [MISSING]   \n2  Jerzy Stefan Stawiński, François Truffaut, Yvo...   \n3                                          [MISSING]   \n4                                          [MISSING]   \n\n                                           directors  \\\n0                                   Frank R. Strayer   \n1                                       Georg Jacoby   \n2  Andrzej Wajda, François Truffaut, Marcel Ophül...   \n3                                   Derek Westerlund   \n4                                          [MISSING]   \n\n                                              actors  \n0  Penny Singleton, Arthur Lake, Larry Simms, Dai...  \n1  Harry Liedtke, Georg Alexander, Mady Christian...  \n2  Jean-Pierre Léaud, Marie-France Pisier, Patric...  \n3  Darren Berrecloth, Cameron McCaul, Paul Basago...  \n4                                          [MISSING]  ",
      "text/html": "<div>\n<style scoped>\n    .dataframe tbody tr th:only-of-type {\n        vertical-align: middle;\n    }\n\n    .dataframe tbody tr th {\n        vertical-align: top;\n    }\n\n    .dataframe thead th {\n        text-align: right;\n    }\n</style>\n<table border=\"1\" class=\"dataframe\">\n  <thead>\n    <tr style=\"text-align: right;\">\n      <th></th>\n      <th>movie_id</th>\n      <th>movie_title</th>\n      <th>writers</th>\n      <th>directors</th>\n      <th>actors</th>\n    </tr>\n  </thead>\n  <tbody>\n    <tr>\n      <th>0</th>\n      <td>3924</td>\n      <td>Blondie</td>\n      <td>[MISSING]</td>\n      <td>Frank R. Strayer</td>\n      <td>Penny Singleton, Arthur Lake, Larry Simms, Dai...</td>\n    </tr>\n    <tr>\n      <th>1</th>\n      <td>6124</td>\n      <td>Peter Voss, Thief of Millions</td>\n      <td>[MISSING]</td>\n      <td>Georg Jacoby</td>\n      <td>Harry Liedtke, Georg Alexander, Mady Christian...</td>\n    </tr>\n    <tr>\n      <th>2</th>\n      <td>8773</td>\n      <td>Love at Twenty</td>\n      <td>Jerzy Stefan Stawiński, François Truffaut, Yvo...</td>\n      <td>Andrzej Wajda, François Truffaut, Marcel Ophül...</td>\n      <td>Jean-Pierre Léaud, Marie-France Pisier, Patric...</td>\n    </tr>\n    <tr>\n      <th>3</th>\n      <td>25449</td>\n      <td>New World Disorder 9: Never Enough</td>\n      <td>[MISSING]</td>\n      <td>Derek Westerlund</td>\n      <td>Darren Berrecloth, Cameron McCaul, Paul Basago...</td>\n    </tr>\n    <tr>\n      <th>4</th>\n      <td>31975</td>\n      <td>Sesame Street: Elmo Loves You!</td>\n      <td>[MISSING]</td>\n      <td>[MISSING]</td>\n      <td>[MISSING]</td>\n    </tr>\n  </tbody>\n</table>\n</div>"
     },
     "execution_count": 440,
     "metadata": {},
     "output_type": "execute_result"
    }
   ],
   "source": [
    "creds = creds.drop(columns=['crew', 'cast'])\n",
    "creds.head()"
   ],
   "metadata": {
    "collapsed": false,
    "ExecuteTime": {
     "end_time": "2024-12-16T14:26:26.788822300Z",
     "start_time": "2024-12-16T14:26:26.775013300Z"
    }
   }
  },
  {
   "cell_type": "code",
   "execution_count": 441,
   "outputs": [],
   "source": [
    "movies = pd.merge(movies, creds.drop(columns=['movie_title']), left_on='id', right_on='movie_id', how='outer' ).drop(columns='movie_id')"
   ],
   "metadata": {
    "collapsed": false,
    "ExecuteTime": {
     "end_time": "2024-12-16T14:26:27.574504600Z",
     "start_time": "2024-12-16T14:26:27.537375300Z"
    }
   }
  },
  {
   "cell_type": "code",
   "execution_count": 442,
   "outputs": [
    {
     "data": {
      "text/plain": "                          genres  id origin_country original_language  \\\n0  Comedy, Drama, Romance, Crime   2             FI                fi   \n1         Comedy, Drama, Romance   3             FI                fi   \n2                         Comedy   5             US                en   \n3        Action, Crime, Thriller   6             US                en   \n4                    Documentary   8             AT                en   \n\n                                            overview  \\\n0  After the coal mine he works at closes and his...   \n1  Nikander, a rubbish collector and would-be ent...   \n2  It's Ted the Bellhop's first night on the job....   \n3  Four young friends, while taking a shortcut en...   \n4  Timo Novotny labels his new project an experim...   \n\n                           production_companies  \\\n0                     Villealfa Filmproductions   \n1                     Villealfa Filmproductions   \n2                         Miramax, A Band Apart   \n3  Largo Entertainment, JVC, Universal Pictures   \n4                                       inLoops   \n\n                                             tagline  \\\n0                                          [MISSING]   \n1                                          [MISSING]   \n2  Twelve outrageous guests. Four scandalous requ...   \n3     Don't move. Don't whisper. Don't even breathe.   \n4                                A Megacities remix.   \n\n                              title  \\\n0                             Ariel   \n1               Shadows in Paradise   \n2                        Four Rooms   \n3                    Judgment Night   \n4  Life in Loops (A Megacities RMX)   \n\n                                            keywords release_year  \\\n0  prison, underdog, helsinki, finland, factory w...       1988.0   \n1             helsinki, finland, salesclerk, garbage       1986.0   \n2  hotel, new year's eve, witch, bet, sperm, hote...       1995.0   \n3  drug dealer, chicago, illinois, escape, one ni...       1993.0   \n4                                         megacities       2006.0   \n\n                                             writers  \\\n0                                     Aki Kaurismäki   \n1                                     Aki Kaurismäki   \n2  Allison Anders, Alexandre Rockwell, Robert Rod...   \n3                                          [MISSING]   \n4                                          [MISSING]   \n\n                                           directors  \\\n0                                     Aki Kaurismäki   \n1                                     Aki Kaurismäki   \n2  Allison Anders, Alexandre Rockwell, Robert Rod...   \n3                                    Stephen Hopkins   \n4                                       Timo Novotny   \n\n                                              actors  \n0  Turo Pajala, Susanna Haavisto, Matti Pellonpää...  \n1  Matti Pellonpää, Kati Outinen, Sakari Kuosmane...  \n2  Tim Roth, Jennifer Beals, Antonio Banderas, Va...  \n3  Emilio Estevez, Cuba Gooding Jr., Denis Leary,...  \n4                                          [MISSING]  ",
      "text/html": "<div>\n<style scoped>\n    .dataframe tbody tr th:only-of-type {\n        vertical-align: middle;\n    }\n\n    .dataframe tbody tr th {\n        vertical-align: top;\n    }\n\n    .dataframe thead th {\n        text-align: right;\n    }\n</style>\n<table border=\"1\" class=\"dataframe\">\n  <thead>\n    <tr style=\"text-align: right;\">\n      <th></th>\n      <th>genres</th>\n      <th>id</th>\n      <th>origin_country</th>\n      <th>original_language</th>\n      <th>overview</th>\n      <th>production_companies</th>\n      <th>tagline</th>\n      <th>title</th>\n      <th>keywords</th>\n      <th>release_year</th>\n      <th>writers</th>\n      <th>directors</th>\n      <th>actors</th>\n    </tr>\n  </thead>\n  <tbody>\n    <tr>\n      <th>0</th>\n      <td>Comedy, Drama, Romance, Crime</td>\n      <td>2</td>\n      <td>FI</td>\n      <td>fi</td>\n      <td>After the coal mine he works at closes and his...</td>\n      <td>Villealfa Filmproductions</td>\n      <td>[MISSING]</td>\n      <td>Ariel</td>\n      <td>prison, underdog, helsinki, finland, factory w...</td>\n      <td>1988.0</td>\n      <td>Aki Kaurismäki</td>\n      <td>Aki Kaurismäki</td>\n      <td>Turo Pajala, Susanna Haavisto, Matti Pellonpää...</td>\n    </tr>\n    <tr>\n      <th>1</th>\n      <td>Comedy, Drama, Romance</td>\n      <td>3</td>\n      <td>FI</td>\n      <td>fi</td>\n      <td>Nikander, a rubbish collector and would-be ent...</td>\n      <td>Villealfa Filmproductions</td>\n      <td>[MISSING]</td>\n      <td>Shadows in Paradise</td>\n      <td>helsinki, finland, salesclerk, garbage</td>\n      <td>1986.0</td>\n      <td>Aki Kaurismäki</td>\n      <td>Aki Kaurismäki</td>\n      <td>Matti Pellonpää, Kati Outinen, Sakari Kuosmane...</td>\n    </tr>\n    <tr>\n      <th>2</th>\n      <td>Comedy</td>\n      <td>5</td>\n      <td>US</td>\n      <td>en</td>\n      <td>It's Ted the Bellhop's first night on the job....</td>\n      <td>Miramax, A Band Apart</td>\n      <td>Twelve outrageous guests. Four scandalous requ...</td>\n      <td>Four Rooms</td>\n      <td>hotel, new year's eve, witch, bet, sperm, hote...</td>\n      <td>1995.0</td>\n      <td>Allison Anders, Alexandre Rockwell, Robert Rod...</td>\n      <td>Allison Anders, Alexandre Rockwell, Robert Rod...</td>\n      <td>Tim Roth, Jennifer Beals, Antonio Banderas, Va...</td>\n    </tr>\n    <tr>\n      <th>3</th>\n      <td>Action, Crime, Thriller</td>\n      <td>6</td>\n      <td>US</td>\n      <td>en</td>\n      <td>Four young friends, while taking a shortcut en...</td>\n      <td>Largo Entertainment, JVC, Universal Pictures</td>\n      <td>Don't move. Don't whisper. Don't even breathe.</td>\n      <td>Judgment Night</td>\n      <td>drug dealer, chicago, illinois, escape, one ni...</td>\n      <td>1993.0</td>\n      <td>[MISSING]</td>\n      <td>Stephen Hopkins</td>\n      <td>Emilio Estevez, Cuba Gooding Jr., Denis Leary,...</td>\n    </tr>\n    <tr>\n      <th>4</th>\n      <td>Documentary</td>\n      <td>8</td>\n      <td>AT</td>\n      <td>en</td>\n      <td>Timo Novotny labels his new project an experim...</td>\n      <td>inLoops</td>\n      <td>A Megacities remix.</td>\n      <td>Life in Loops (A Megacities RMX)</td>\n      <td>megacities</td>\n      <td>2006.0</td>\n      <td>[MISSING]</td>\n      <td>Timo Novotny</td>\n      <td>[MISSING]</td>\n    </tr>\n  </tbody>\n</table>\n</div>"
     },
     "execution_count": 442,
     "metadata": {},
     "output_type": "execute_result"
    }
   ],
   "source": [
    "movies.head()"
   ],
   "metadata": {
    "collapsed": false,
    "ExecuteTime": {
     "end_time": "2024-12-16T14:26:28.173688300Z",
     "start_time": "2024-12-16T14:26:28.151518600Z"
    }
   }
  },
  {
   "cell_type": "code",
   "execution_count": 443,
   "outputs": [
    {
     "data": {
      "text/plain": "Index(['genres', 'id', 'origin_country', 'original_language', 'overview',\n       'production_companies', 'tagline', 'title', 'keywords', 'release_year',\n       'writers', 'directors', 'actors'],\n      dtype='object')"
     },
     "execution_count": 443,
     "metadata": {},
     "output_type": "execute_result"
    }
   ],
   "source": [
    "movies.columns"
   ],
   "metadata": {
    "collapsed": false,
    "ExecuteTime": {
     "end_time": "2024-12-16T14:26:28.968270Z",
     "start_time": "2024-12-16T14:26:28.964951500Z"
    }
   }
  },
  {
   "cell_type": "code",
   "execution_count": 444,
   "outputs": [
    {
     "data": {
      "text/plain": "                          genres  id origin_country original_language  \\\n0  Comedy, Drama, Romance, Crime   2             FI                fi   \n1         Comedy, Drama, Romance   3             FI                fi   \n2                         Comedy   5             US                en   \n3        Action, Crime, Thriller   6             US                en   \n4                    Documentary   8             AT                en   \n\n                                            overview  \\\n0  After the coal mine he works at closes and his...   \n1  Nikander, a rubbish collector and would-be ent...   \n2  It's Ted the Bellhop's first night on the job....   \n3  Four young friends, while taking a shortcut en...   \n4  Timo Novotny labels his new project an experim...   \n\n                           production_companies  \\\n0                     Villealfa Filmproductions   \n1                     Villealfa Filmproductions   \n2                         Miramax, A Band Apart   \n3  Largo Entertainment, JVC, Universal Pictures   \n4                                       inLoops   \n\n                                             tagline  \\\n0                                          [MISSING]   \n1                                          [MISSING]   \n2  Twelve outrageous guests. Four scandalous requ...   \n3     Don't move. Don't whisper. Don't even breathe.   \n4                                A Megacities remix.   \n\n                              title  \\\n0                             Ariel   \n1               Shadows in Paradise   \n2                        Four Rooms   \n3                    Judgment Night   \n4  Life in Loops (A Megacities RMX)   \n\n                                            keywords release_year  \\\n0  prison, underdog, helsinki, finland, factory w...       1988.0   \n1             helsinki, finland, salesclerk, garbage       1986.0   \n2  hotel, new year's eve, witch, bet, sperm, hote...       1995.0   \n3  drug dealer, chicago, illinois, escape, one ni...       1993.0   \n4                                         megacities       2006.0   \n\n                                             writers  \\\n0                                     Aki Kaurismäki   \n1                                     Aki Kaurismäki   \n2  Allison Anders, Alexandre Rockwell, Robert Rod...   \n3                                          [MISSING]   \n4                                          [MISSING]   \n\n                                           directors  \\\n0                                     Aki Kaurismäki   \n1                                     Aki Kaurismäki   \n2  Allison Anders, Alexandre Rockwell, Robert Rod...   \n3                                    Stephen Hopkins   \n4                                       Timo Novotny   \n\n                                              actors  \n0  Turo Pajala, Susanna Haavisto, Matti Pellonpää...  \n1  Matti Pellonpää, Kati Outinen, Sakari Kuosmane...  \n2  Tim Roth, Jennifer Beals, Antonio Banderas, Va...  \n3  Emilio Estevez, Cuba Gooding Jr., Denis Leary,...  \n4                                          [MISSING]  ",
      "text/html": "<div>\n<style scoped>\n    .dataframe tbody tr th:only-of-type {\n        vertical-align: middle;\n    }\n\n    .dataframe tbody tr th {\n        vertical-align: top;\n    }\n\n    .dataframe thead th {\n        text-align: right;\n    }\n</style>\n<table border=\"1\" class=\"dataframe\">\n  <thead>\n    <tr style=\"text-align: right;\">\n      <th></th>\n      <th>genres</th>\n      <th>id</th>\n      <th>origin_country</th>\n      <th>original_language</th>\n      <th>overview</th>\n      <th>production_companies</th>\n      <th>tagline</th>\n      <th>title</th>\n      <th>keywords</th>\n      <th>release_year</th>\n      <th>writers</th>\n      <th>directors</th>\n      <th>actors</th>\n    </tr>\n  </thead>\n  <tbody>\n    <tr>\n      <th>0</th>\n      <td>Comedy, Drama, Romance, Crime</td>\n      <td>2</td>\n      <td>FI</td>\n      <td>fi</td>\n      <td>After the coal mine he works at closes and his...</td>\n      <td>Villealfa Filmproductions</td>\n      <td>[MISSING]</td>\n      <td>Ariel</td>\n      <td>prison, underdog, helsinki, finland, factory w...</td>\n      <td>1988.0</td>\n      <td>Aki Kaurismäki</td>\n      <td>Aki Kaurismäki</td>\n      <td>Turo Pajala, Susanna Haavisto, Matti Pellonpää...</td>\n    </tr>\n    <tr>\n      <th>1</th>\n      <td>Comedy, Drama, Romance</td>\n      <td>3</td>\n      <td>FI</td>\n      <td>fi</td>\n      <td>Nikander, a rubbish collector and would-be ent...</td>\n      <td>Villealfa Filmproductions</td>\n      <td>[MISSING]</td>\n      <td>Shadows in Paradise</td>\n      <td>helsinki, finland, salesclerk, garbage</td>\n      <td>1986.0</td>\n      <td>Aki Kaurismäki</td>\n      <td>Aki Kaurismäki</td>\n      <td>Matti Pellonpää, Kati Outinen, Sakari Kuosmane...</td>\n    </tr>\n    <tr>\n      <th>2</th>\n      <td>Comedy</td>\n      <td>5</td>\n      <td>US</td>\n      <td>en</td>\n      <td>It's Ted the Bellhop's first night on the job....</td>\n      <td>Miramax, A Band Apart</td>\n      <td>Twelve outrageous guests. Four scandalous requ...</td>\n      <td>Four Rooms</td>\n      <td>hotel, new year's eve, witch, bet, sperm, hote...</td>\n      <td>1995.0</td>\n      <td>Allison Anders, Alexandre Rockwell, Robert Rod...</td>\n      <td>Allison Anders, Alexandre Rockwell, Robert Rod...</td>\n      <td>Tim Roth, Jennifer Beals, Antonio Banderas, Va...</td>\n    </tr>\n    <tr>\n      <th>3</th>\n      <td>Action, Crime, Thriller</td>\n      <td>6</td>\n      <td>US</td>\n      <td>en</td>\n      <td>Four young friends, while taking a shortcut en...</td>\n      <td>Largo Entertainment, JVC, Universal Pictures</td>\n      <td>Don't move. Don't whisper. Don't even breathe.</td>\n      <td>Judgment Night</td>\n      <td>drug dealer, chicago, illinois, escape, one ni...</td>\n      <td>1993.0</td>\n      <td>[MISSING]</td>\n      <td>Stephen Hopkins</td>\n      <td>Emilio Estevez, Cuba Gooding Jr., Denis Leary,...</td>\n    </tr>\n    <tr>\n      <th>4</th>\n      <td>Documentary</td>\n      <td>8</td>\n      <td>AT</td>\n      <td>en</td>\n      <td>Timo Novotny labels his new project an experim...</td>\n      <td>inLoops</td>\n      <td>A Megacities remix.</td>\n      <td>Life in Loops (A Megacities RMX)</td>\n      <td>megacities</td>\n      <td>2006.0</td>\n      <td>[MISSING]</td>\n      <td>Timo Novotny</td>\n      <td>[MISSING]</td>\n    </tr>\n  </tbody>\n</table>\n</div>"
     },
     "execution_count": 444,
     "metadata": {},
     "output_type": "execute_result"
    }
   ],
   "source": [
    "movies.head()"
   ],
   "metadata": {
    "collapsed": false,
    "ExecuteTime": {
     "end_time": "2024-12-16T14:26:29.556393400Z",
     "start_time": "2024-12-16T14:26:29.524936400Z"
    }
   }
  },
  {
   "cell_type": "code",
   "execution_count": 445,
   "outputs": [],
   "source": [
    "os.makedirs(\"data/cleaned-1\", exist_ok=True)\n",
    "movies.to_csv(path_or_buf= \"data/cleaned-1/movies.csv\")"
   ],
   "metadata": {
    "collapsed": false,
    "ExecuteTime": {
     "end_time": "2024-12-16T14:26:30.747910500Z",
     "start_time": "2024-12-16T14:26:29.966920Z"
    }
   }
  },
  {
   "cell_type": "code",
   "execution_count": 446,
   "outputs": [],
   "source": [
    "metadata = pd.merge(metadata.drop(columns=['backdrop_path', 'production_countries', 'video', 'movie_id', 'adult', \"status\"]),\n",
    "         movies.drop(columns=['writers', 'directors', 'actors', 'release_year']), on='id', how='outer' )"
   ],
   "metadata": {
    "collapsed": false,
    "ExecuteTime": {
     "end_time": "2024-12-16T14:26:31.909849800Z",
     "start_time": "2024-12-16T14:26:31.893690400Z"
    }
   }
  },
  {
   "cell_type": "code",
   "execution_count": 447,
   "outputs": [],
   "source": [
    "metadata.to_csv(path_or_buf= \"data/cleaned-1/metadata.csv\")"
   ],
   "metadata": {
    "collapsed": false,
    "ExecuteTime": {
     "end_time": "2024-12-16T14:26:35.523801300Z",
     "start_time": "2024-12-16T14:26:32.823522Z"
    }
   }
  },
  {
   "cell_type": "code",
   "execution_count": null,
   "outputs": [],
   "source": [],
   "metadata": {
    "collapsed": false
   }
  }
 ],
 "metadata": {
  "kernelspec": {
   "display_name": "Python 3",
   "language": "python",
   "name": "python3"
  },
  "language_info": {
   "codemirror_mode": {
    "name": "ipython",
    "version": 2
   },
   "file_extension": ".py",
   "mimetype": "text/x-python",
   "name": "python",
   "nbconvert_exporter": "python",
   "pygments_lexer": "ipython2",
   "version": "2.7.6"
  }
 },
 "nbformat": 4,
 "nbformat_minor": 0
}
