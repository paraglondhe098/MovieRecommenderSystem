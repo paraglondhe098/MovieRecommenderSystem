{
 "cells": [
  {
   "cell_type": "code",
   "execution_count": 302,
   "metadata": {
    "collapsed": true,
    "ExecuteTime": {
     "end_time": "2024-12-16T08:12:07.660608900Z",
     "start_time": "2024-12-16T08:12:07.572592800Z"
    }
   },
   "outputs": [],
   "source": [
    "import os\n",
    "import pandas as pd\n",
    "import json\n",
    "from datetime import datetime"
   ]
  },
  {
   "cell_type": "code",
   "execution_count": 303,
   "outputs": [],
   "source": [
    "movies = pd.read_csv('data/movie_data.csv')\n",
    "creds = pd.read_csv(\"data/movie_credits.csv\")"
   ],
   "metadata": {
    "collapsed": false,
    "ExecuteTime": {
     "end_time": "2024-12-16T08:12:08.233383100Z",
     "start_time": "2024-12-16T08:12:07.576121200Z"
    }
   }
  },
  {
   "cell_type": "code",
   "execution_count": 304,
   "outputs": [
    {
     "data": {
      "text/plain": "((3000, 27), (3000, 4))"
     },
     "execution_count": 304,
     "metadata": {},
     "output_type": "execute_result"
    }
   ],
   "source": [
    "movies.shape, creds.shape"
   ],
   "metadata": {
    "collapsed": false,
    "ExecuteTime": {
     "end_time": "2024-12-16T08:12:08.238036200Z",
     "start_time": "2024-12-16T08:12:08.234384100Z"
    }
   }
  },
  {
   "cell_type": "code",
   "execution_count": 305,
   "outputs": [
    {
     "data": {
      "text/plain": "   adult                     backdrop_path  \\\n0  False  /dvQj1GBZAZirz1skEEZyWH2ZqQP.jpg   \n1  False                               NaN   \n2  False  /uJlc4aNPF3Y8yAqahJTKBwgwPVW.jpg   \n3  False                               NaN   \n4  False                               NaN   \n\n                               belongs_to_collection  budget  \\\n0  {\"id\": 177062, \"name\": \"Blondie Collection\", \"...       0   \n1                                                NaN       0   \n2                                                NaN       0   \n3  {\"id\": 425256, \"name\": \"New World Disorder\", \"...       0   \n4                                                NaN       0   \n\n                                              genres                 homepage  \\\n0  [{\"id\": 35, \"name\": \"Comedy\"}, {\"id\": 10751, \"...                      NaN   \n1                  [{\"id\": 12, \"name\": \"Adventure\"}]                      NaN   \n2  [{\"id\": 18, \"name\": \"Drama\"}, {\"id\": 10749, \"n...                      NaN   \n3                                                 []  http://www.nwdfilms.com   \n4                  [{\"id\": 10751, \"name\": \"Family\"}]                      NaN   \n\n      id    imdb_id            origin_country original_language  ... revenue  \\\n0   3924  tt0029927                    [\"US\"]                en  ...       0   \n1   6124        NaN                    [\"DE\"]                de  ...       0   \n2   8773  tt0055747  [\"FR\", \"IT\", \"JP\", \"PL\"]                fr  ...       0   \n3  25449        NaN                    [\"US\"]                en  ...       0   \n4  31975  tt1656746                    [\"US\"]                en  ...       0   \n\n  runtime                                   spoken_languages    status  \\\n0      70  [{\"english_name\": \"English\", \"iso_639_1\": \"en\"...  Released   \n1     420                                                 []  Released   \n2     120  [{\"english_name\": \"French\", \"iso_639_1\": \"fr\",...  Released   \n3      69  [{\"english_name\": \"English\", \"iso_639_1\": \"en\"...  Released   \n4      46                                                 []  Released   \n\n                                             tagline  \\\n0  The favorite comic strip of millions at last o...   \n1                                                NaN   \n2               The Intimate Secrets of Young Lovers   \n3                                                NaN   \n4                                                NaN   \n\n                                title  video  vote_average  vote_count  \\\n0                             Blondie  False           7.1           8   \n1       Peter Voss, Thief of Millions  False           0.0           0   \n2                      Love at Twenty  False           6.7          48   \n3  New World Disorder 9: Never Enough  False           6.0           3   \n4      Sesame Street: Elmo Loves You!   True           0.0           0   \n\n                                            keywords  \n0  {\"keywords\": [{\"id\": 190801, \"name\": \"blondie\"}]}  \n1                                   {\"keywords\": []}  \n2                                   {\"keywords\": []}  \n3  {\"keywords\": [{\"id\": 6075, \"name\": \"sports\"}, ...  \n4                                   {\"keywords\": []}  \n\n[5 rows x 27 columns]",
      "text/html": "<div>\n<style scoped>\n    .dataframe tbody tr th:only-of-type {\n        vertical-align: middle;\n    }\n\n    .dataframe tbody tr th {\n        vertical-align: top;\n    }\n\n    .dataframe thead th {\n        text-align: right;\n    }\n</style>\n<table border=\"1\" class=\"dataframe\">\n  <thead>\n    <tr style=\"text-align: right;\">\n      <th></th>\n      <th>adult</th>\n      <th>backdrop_path</th>\n      <th>belongs_to_collection</th>\n      <th>budget</th>\n      <th>genres</th>\n      <th>homepage</th>\n      <th>id</th>\n      <th>imdb_id</th>\n      <th>origin_country</th>\n      <th>original_language</th>\n      <th>...</th>\n      <th>revenue</th>\n      <th>runtime</th>\n      <th>spoken_languages</th>\n      <th>status</th>\n      <th>tagline</th>\n      <th>title</th>\n      <th>video</th>\n      <th>vote_average</th>\n      <th>vote_count</th>\n      <th>keywords</th>\n    </tr>\n  </thead>\n  <tbody>\n    <tr>\n      <th>0</th>\n      <td>False</td>\n      <td>/dvQj1GBZAZirz1skEEZyWH2ZqQP.jpg</td>\n      <td>{\"id\": 177062, \"name\": \"Blondie Collection\", \"...</td>\n      <td>0</td>\n      <td>[{\"id\": 35, \"name\": \"Comedy\"}, {\"id\": 10751, \"...</td>\n      <td>NaN</td>\n      <td>3924</td>\n      <td>tt0029927</td>\n      <td>[\"US\"]</td>\n      <td>en</td>\n      <td>...</td>\n      <td>0</td>\n      <td>70</td>\n      <td>[{\"english_name\": \"English\", \"iso_639_1\": \"en\"...</td>\n      <td>Released</td>\n      <td>The favorite comic strip of millions at last o...</td>\n      <td>Blondie</td>\n      <td>False</td>\n      <td>7.1</td>\n      <td>8</td>\n      <td>{\"keywords\": [{\"id\": 190801, \"name\": \"blondie\"}]}</td>\n    </tr>\n    <tr>\n      <th>1</th>\n      <td>False</td>\n      <td>NaN</td>\n      <td>NaN</td>\n      <td>0</td>\n      <td>[{\"id\": 12, \"name\": \"Adventure\"}]</td>\n      <td>NaN</td>\n      <td>6124</td>\n      <td>NaN</td>\n      <td>[\"DE\"]</td>\n      <td>de</td>\n      <td>...</td>\n      <td>0</td>\n      <td>420</td>\n      <td>[]</td>\n      <td>Released</td>\n      <td>NaN</td>\n      <td>Peter Voss, Thief of Millions</td>\n      <td>False</td>\n      <td>0.0</td>\n      <td>0</td>\n      <td>{\"keywords\": []}</td>\n    </tr>\n    <tr>\n      <th>2</th>\n      <td>False</td>\n      <td>/uJlc4aNPF3Y8yAqahJTKBwgwPVW.jpg</td>\n      <td>NaN</td>\n      <td>0</td>\n      <td>[{\"id\": 18, \"name\": \"Drama\"}, {\"id\": 10749, \"n...</td>\n      <td>NaN</td>\n      <td>8773</td>\n      <td>tt0055747</td>\n      <td>[\"FR\", \"IT\", \"JP\", \"PL\"]</td>\n      <td>fr</td>\n      <td>...</td>\n      <td>0</td>\n      <td>120</td>\n      <td>[{\"english_name\": \"French\", \"iso_639_1\": \"fr\",...</td>\n      <td>Released</td>\n      <td>The Intimate Secrets of Young Lovers</td>\n      <td>Love at Twenty</td>\n      <td>False</td>\n      <td>6.7</td>\n      <td>48</td>\n      <td>{\"keywords\": []}</td>\n    </tr>\n    <tr>\n      <th>3</th>\n      <td>False</td>\n      <td>NaN</td>\n      <td>{\"id\": 425256, \"name\": \"New World Disorder\", \"...</td>\n      <td>0</td>\n      <td>[]</td>\n      <td>http://www.nwdfilms.com</td>\n      <td>25449</td>\n      <td>NaN</td>\n      <td>[\"US\"]</td>\n      <td>en</td>\n      <td>...</td>\n      <td>0</td>\n      <td>69</td>\n      <td>[{\"english_name\": \"English\", \"iso_639_1\": \"en\"...</td>\n      <td>Released</td>\n      <td>NaN</td>\n      <td>New World Disorder 9: Never Enough</td>\n      <td>False</td>\n      <td>6.0</td>\n      <td>3</td>\n      <td>{\"keywords\": [{\"id\": 6075, \"name\": \"sports\"}, ...</td>\n    </tr>\n    <tr>\n      <th>4</th>\n      <td>False</td>\n      <td>NaN</td>\n      <td>NaN</td>\n      <td>0</td>\n      <td>[{\"id\": 10751, \"name\": \"Family\"}]</td>\n      <td>NaN</td>\n      <td>31975</td>\n      <td>tt1656746</td>\n      <td>[\"US\"]</td>\n      <td>en</td>\n      <td>...</td>\n      <td>0</td>\n      <td>46</td>\n      <td>[]</td>\n      <td>Released</td>\n      <td>NaN</td>\n      <td>Sesame Street: Elmo Loves You!</td>\n      <td>True</td>\n      <td>0.0</td>\n      <td>0</td>\n      <td>{\"keywords\": []}</td>\n    </tr>\n  </tbody>\n</table>\n<p>5 rows × 27 columns</p>\n</div>"
     },
     "execution_count": 305,
     "metadata": {},
     "output_type": "execute_result"
    }
   ],
   "source": [
    "movies.head()"
   ],
   "metadata": {
    "collapsed": false,
    "ExecuteTime": {
     "end_time": "2024-12-16T08:12:08.253351900Z",
     "start_time": "2024-12-16T08:12:08.240172900Z"
    }
   }
  },
  {
   "cell_type": "code",
   "execution_count": 306,
   "outputs": [
    {
     "data": {
      "text/plain": "Index(['adult', 'backdrop_path', 'belongs_to_collection', 'budget', 'genres',\n       'homepage', 'id', 'imdb_id', 'origin_country', 'original_language',\n       'original_title', 'overview', 'popularity', 'poster_path',\n       'production_companies', 'production_countries', 'release_date',\n       'revenue', 'runtime', 'spoken_languages', 'status', 'tagline', 'title',\n       'video', 'vote_average', 'vote_count', 'keywords'],\n      dtype='object')"
     },
     "execution_count": 306,
     "metadata": {},
     "output_type": "execute_result"
    }
   ],
   "source": [
    "movies.columns"
   ],
   "metadata": {
    "collapsed": false,
    "ExecuteTime": {
     "end_time": "2024-12-16T08:12:08.303717300Z",
     "start_time": "2024-12-16T08:12:08.254359Z"
    }
   }
  },
  {
   "cell_type": "code",
   "execution_count": 307,
   "outputs": [
    {
     "data": {
      "text/plain": "adult                       0\nbackdrop_path             346\nbelongs_to_collection    2377\nbudget                      0\ngenres                      0\nhomepage                 2357\nid                          0\nimdb_id                    31\norigin_country              0\noriginal_language           0\noriginal_title              0\noverview                  135\npopularity                  0\nposter_path               114\nproduction_companies        0\nproduction_countries        0\nrelease_date                0\nrevenue                     0\nruntime                     0\nspoken_languages            0\nstatus                      0\ntagline                  1041\ntitle                       0\nvideo                       0\nvote_average                0\nvote_count                  0\nkeywords                    0\ndtype: int64"
     },
     "execution_count": 307,
     "metadata": {},
     "output_type": "execute_result"
    }
   ],
   "source": [
    "movies.isnull().sum()"
   ],
   "metadata": {
    "collapsed": false,
    "ExecuteTime": {
     "end_time": "2024-12-16T08:12:08.304898200Z",
     "start_time": "2024-12-16T08:12:08.258043700Z"
    }
   }
  },
  {
   "cell_type": "code",
   "execution_count": 308,
   "outputs": [
    {
     "data": {
      "text/plain": "(1478, 27)"
     },
     "execution_count": 308,
     "metadata": {},
     "output_type": "execute_result"
    }
   ],
   "source": [
    "movies[movies['budget']==0].shape"
   ],
   "metadata": {
    "collapsed": false,
    "ExecuteTime": {
     "end_time": "2024-12-16T08:12:08.355191100Z",
     "start_time": "2024-12-16T08:12:08.269613100Z"
    }
   }
  },
  {
   "cell_type": "code",
   "execution_count": 309,
   "outputs": [
    {
     "data": {
      "text/plain": "Index(['adult', 'backdrop_path', 'belongs_to_collection', 'budget', 'genres',\n       'homepage', 'id', 'imdb_id', 'origin_country', 'original_language',\n       'original_title', 'overview', 'popularity', 'poster_path',\n       'production_companies', 'production_countries', 'release_date',\n       'revenue', 'runtime', 'spoken_languages', 'status', 'tagline', 'title',\n       'video', 'vote_average', 'vote_count', 'keywords'],\n      dtype='object')"
     },
     "execution_count": 309,
     "metadata": {},
     "output_type": "execute_result"
    }
   ],
   "source": [
    "movies.columns"
   ],
   "metadata": {
    "collapsed": false,
    "ExecuteTime": {
     "end_time": "2024-12-16T08:12:08.356189900Z",
     "start_time": "2024-12-16T08:12:08.275846800Z"
    }
   }
  },
  {
   "cell_type": "code",
   "execution_count": 310,
   "outputs": [],
   "source": [
    "metadata_cols = ['adult', 'backdrop_path', 'belongs_to_collection', 'budget', 'homepage', 'imdb_id', 'popularity', 'poster_path', 'production_countries', 'revenue', 'runtime', 'status', 'video', 'vote_average', 'vote_count', 'spoken_languages', 'original_title']"
   ],
   "metadata": {
    "collapsed": false,
    "ExecuteTime": {
     "end_time": "2024-12-16T08:12:08.356189900Z",
     "start_time": "2024-12-16T08:12:08.282833400Z"
    }
   }
  },
  {
   "cell_type": "code",
   "execution_count": 311,
   "outputs": [],
   "source": [
    "metadata = movies[metadata_cols+['id']]\n",
    "movies = movies.drop(columns=metadata_cols)"
   ],
   "metadata": {
    "collapsed": false,
    "ExecuteTime": {
     "end_time": "2024-12-16T08:12:08.356189900Z",
     "start_time": "2024-12-16T08:12:08.286343Z"
    }
   }
  },
  {
   "cell_type": "code",
   "execution_count": 311,
   "outputs": [],
   "source": [],
   "metadata": {
    "collapsed": false,
    "ExecuteTime": {
     "end_time": "2024-12-16T08:12:08.356189900Z",
     "start_time": "2024-12-16T08:12:08.292602Z"
    }
   }
  },
  {
   "cell_type": "code",
   "execution_count": 312,
   "outputs": [
    {
     "data": {
      "text/plain": "                                                 genres     id  \\\n0     [{\"id\": 35, \"name\": \"Comedy\"}, {\"id\": 10751, \"...   3924   \n1                     [{\"id\": 12, \"name\": \"Adventure\"}]   6124   \n2     [{\"id\": 18, \"name\": \"Drama\"}, {\"id\": 10749, \"n...   8773   \n3                                                    []  25449   \n4                     [{\"id\": 10751, \"name\": \"Family\"}]  31975   \n...                                                 ...    ...   \n2995  [{\"id\": 878, \"name\": \"Science Fiction\"}, {\"id\"...   5256   \n2996  [{\"id\": 35, \"name\": \"Comedy\"}, {\"id\": 18, \"nam...   5257   \n2997                     [{\"id\": 35, \"name\": \"Comedy\"}]   5258   \n2998  [{\"id\": 35, \"name\": \"Comedy\"}, {\"id\": 18, \"nam...   5259   \n2999  [{\"id\": 53, \"name\": \"Thriller\"}, {\"id\": 18, \"n...   5261   \n\n                origin_country original_language  \\\n0                       [\"US\"]                en   \n1                       [\"DE\"]                de   \n2     [\"FR\", \"IT\", \"JP\", \"PL\"]                fr   \n3                       [\"US\"]                en   \n4                       [\"US\"]                en   \n...                        ...               ...   \n2995                    [\"US\"]                en   \n2996              [\"AU\", \"US\"]                en   \n2997                    [\"DE\"]                de   \n2998                    [\"IL\"]                he   \n2999                    [\"DE\"]                de   \n\n                                               overview  \\\n0     Blondie and Dagwood are about to celebrate the...   \n1                                                   NaN   \n2     Love at Twenty unites five directors from five...   \n3     Gee Atherton ripping the Worlds course the day...   \n4     Elmo is making a very, very super special surp...   \n...                                                 ...   \n2995  A trio of men with telekinetic powers led by A...   \n2996  A group of maverick scientists on a remote Aus...   \n2997  As a mother, wife and babysitter, Eva Maria Sp...   \n2998  A small Egyptian police band travels to Israel...   \n2999  What To Do In Case of Fire? tells the humorous...   \n\n                                   production_companies release_date  \\\n0     [{\"id\": 5, \"logo_path\": \"/71BqEFAF4V3qjjMPCpLu...   1938-11-30   \n1                                                    []   1921-01-01   \n2     [{\"id\": 38936, \"logo_path\": \"/ypvTqUeQOxORhFEF...   1962-06-22   \n3                                                    []   2008-12-08   \n4                                                    []   2010-01-05   \n...                                                 ...          ...   \n2995  [{\"id\": 21043, \"logo_path\": null, \"name\": \"Med...   2003-03-26   \n2996  [{\"id\": 13674, \"logo_path\": null, \"name\": \"Wor...   2000-10-19   \n2997  [{\"id\": 1251, \"logo_path\": \"/fc0O0mvjl8PbHgZXX...   2003-05-09   \n2998  [{\"id\": 1872, \"logo_path\": \"/559H3L3CP1dJsHLSS...   2007-09-13   \n2999  [{\"id\": 161, \"logo_path\": null, \"name\": \"Claus...   2001-11-01   \n\n                                                tagline  \\\n0     The favorite comic strip of millions at last o...   \n1                                                   NaN   \n2                  The Intimate Secrets of Young Lovers   \n3                                                   NaN   \n4                                                   NaN   \n...                                                 ...   \n2995                                                NaN   \n2996  Man's first step on the moon nearly stumbled o...   \n2997                                                NaN   \n2998                                                NaN   \n2999                                                NaN   \n\n                                   title  \\\n0                                Blondie   \n1          Peter Voss, Thief of Millions   \n2                         Love at Twenty   \n3     New World Disorder 9: Never Enough   \n4         Sesame Street: Elmo Loves You!   \n...                                  ...   \n2995                            Momentum   \n2996                            The Dish   \n2997               Mutter kommt in Fahrt   \n2998                    The Band's Visit   \n2999         What to Do in Case of Fire?   \n\n                                               keywords  \n0     {\"keywords\": [{\"id\": 190801, \"name\": \"blondie\"}]}  \n1                                      {\"keywords\": []}  \n2                                      {\"keywords\": []}  \n3     {\"keywords\": [{\"id\": 6075, \"name\": \"sports\"}, ...  \n4                                      {\"keywords\": []}  \n...                                                 ...  \n2995  {\"keywords\": [{\"id\": 1812, \"name\": \"fbi\"}, {\"i...  \n2996  {\"keywords\": [{\"id\": 5657, \"name\": \"australia\"...  \n2997                                   {\"keywords\": []}  \n2998  {\"keywords\": [{\"id\": 1160, \"name\": \"egypt\"}, {...  \n2999  {\"keywords\": [{\"id\": 220, \"name\": \"berlin, ger...  \n\n[3000 rows x 10 columns]",
      "text/html": "<div>\n<style scoped>\n    .dataframe tbody tr th:only-of-type {\n        vertical-align: middle;\n    }\n\n    .dataframe tbody tr th {\n        vertical-align: top;\n    }\n\n    .dataframe thead th {\n        text-align: right;\n    }\n</style>\n<table border=\"1\" class=\"dataframe\">\n  <thead>\n    <tr style=\"text-align: right;\">\n      <th></th>\n      <th>genres</th>\n      <th>id</th>\n      <th>origin_country</th>\n      <th>original_language</th>\n      <th>overview</th>\n      <th>production_companies</th>\n      <th>release_date</th>\n      <th>tagline</th>\n      <th>title</th>\n      <th>keywords</th>\n    </tr>\n  </thead>\n  <tbody>\n    <tr>\n      <th>0</th>\n      <td>[{\"id\": 35, \"name\": \"Comedy\"}, {\"id\": 10751, \"...</td>\n      <td>3924</td>\n      <td>[\"US\"]</td>\n      <td>en</td>\n      <td>Blondie and Dagwood are about to celebrate the...</td>\n      <td>[{\"id\": 5, \"logo_path\": \"/71BqEFAF4V3qjjMPCpLu...</td>\n      <td>1938-11-30</td>\n      <td>The favorite comic strip of millions at last o...</td>\n      <td>Blondie</td>\n      <td>{\"keywords\": [{\"id\": 190801, \"name\": \"blondie\"}]}</td>\n    </tr>\n    <tr>\n      <th>1</th>\n      <td>[{\"id\": 12, \"name\": \"Adventure\"}]</td>\n      <td>6124</td>\n      <td>[\"DE\"]</td>\n      <td>de</td>\n      <td>NaN</td>\n      <td>[]</td>\n      <td>1921-01-01</td>\n      <td>NaN</td>\n      <td>Peter Voss, Thief of Millions</td>\n      <td>{\"keywords\": []}</td>\n    </tr>\n    <tr>\n      <th>2</th>\n      <td>[{\"id\": 18, \"name\": \"Drama\"}, {\"id\": 10749, \"n...</td>\n      <td>8773</td>\n      <td>[\"FR\", \"IT\", \"JP\", \"PL\"]</td>\n      <td>fr</td>\n      <td>Love at Twenty unites five directors from five...</td>\n      <td>[{\"id\": 38936, \"logo_path\": \"/ypvTqUeQOxORhFEF...</td>\n      <td>1962-06-22</td>\n      <td>The Intimate Secrets of Young Lovers</td>\n      <td>Love at Twenty</td>\n      <td>{\"keywords\": []}</td>\n    </tr>\n    <tr>\n      <th>3</th>\n      <td>[]</td>\n      <td>25449</td>\n      <td>[\"US\"]</td>\n      <td>en</td>\n      <td>Gee Atherton ripping the Worlds course the day...</td>\n      <td>[]</td>\n      <td>2008-12-08</td>\n      <td>NaN</td>\n      <td>New World Disorder 9: Never Enough</td>\n      <td>{\"keywords\": [{\"id\": 6075, \"name\": \"sports\"}, ...</td>\n    </tr>\n    <tr>\n      <th>4</th>\n      <td>[{\"id\": 10751, \"name\": \"Family\"}]</td>\n      <td>31975</td>\n      <td>[\"US\"]</td>\n      <td>en</td>\n      <td>Elmo is making a very, very super special surp...</td>\n      <td>[]</td>\n      <td>2010-01-05</td>\n      <td>NaN</td>\n      <td>Sesame Street: Elmo Loves You!</td>\n      <td>{\"keywords\": []}</td>\n    </tr>\n    <tr>\n      <th>...</th>\n      <td>...</td>\n      <td>...</td>\n      <td>...</td>\n      <td>...</td>\n      <td>...</td>\n      <td>...</td>\n      <td>...</td>\n      <td>...</td>\n      <td>...</td>\n      <td>...</td>\n    </tr>\n    <tr>\n      <th>2995</th>\n      <td>[{\"id\": 878, \"name\": \"Science Fiction\"}, {\"id\"...</td>\n      <td>5256</td>\n      <td>[\"US\"]</td>\n      <td>en</td>\n      <td>A trio of men with telekinetic powers led by A...</td>\n      <td>[{\"id\": 21043, \"logo_path\": null, \"name\": \"Med...</td>\n      <td>2003-03-26</td>\n      <td>NaN</td>\n      <td>Momentum</td>\n      <td>{\"keywords\": [{\"id\": 1812, \"name\": \"fbi\"}, {\"i...</td>\n    </tr>\n    <tr>\n      <th>2996</th>\n      <td>[{\"id\": 35, \"name\": \"Comedy\"}, {\"id\": 18, \"nam...</td>\n      <td>5257</td>\n      <td>[\"AU\", \"US\"]</td>\n      <td>en</td>\n      <td>A group of maverick scientists on a remote Aus...</td>\n      <td>[{\"id\": 13674, \"logo_path\": null, \"name\": \"Wor...</td>\n      <td>2000-10-19</td>\n      <td>Man's first step on the moon nearly stumbled o...</td>\n      <td>The Dish</td>\n      <td>{\"keywords\": [{\"id\": 5657, \"name\": \"australia\"...</td>\n    </tr>\n    <tr>\n      <th>2997</th>\n      <td>[{\"id\": 35, \"name\": \"Comedy\"}]</td>\n      <td>5258</td>\n      <td>[\"DE\"]</td>\n      <td>de</td>\n      <td>As a mother, wife and babysitter, Eva Maria Sp...</td>\n      <td>[{\"id\": 1251, \"logo_path\": \"/fc0O0mvjl8PbHgZXX...</td>\n      <td>2003-05-09</td>\n      <td>NaN</td>\n      <td>Mutter kommt in Fahrt</td>\n      <td>{\"keywords\": []}</td>\n    </tr>\n    <tr>\n      <th>2998</th>\n      <td>[{\"id\": 35, \"name\": \"Comedy\"}, {\"id\": 18, \"nam...</td>\n      <td>5259</td>\n      <td>[\"IL\"]</td>\n      <td>he</td>\n      <td>A small Egyptian police band travels to Israel...</td>\n      <td>[{\"id\": 1872, \"logo_path\": \"/559H3L3CP1dJsHLSS...</td>\n      <td>2007-09-13</td>\n      <td>NaN</td>\n      <td>The Band's Visit</td>\n      <td>{\"keywords\": [{\"id\": 1160, \"name\": \"egypt\"}, {...</td>\n    </tr>\n    <tr>\n      <th>2999</th>\n      <td>[{\"id\": 53, \"name\": \"Thriller\"}, {\"id\": 18, \"n...</td>\n      <td>5261</td>\n      <td>[\"DE\"]</td>\n      <td>de</td>\n      <td>What To Do In Case of Fire? tells the humorous...</td>\n      <td>[{\"id\": 161, \"logo_path\": null, \"name\": \"Claus...</td>\n      <td>2001-11-01</td>\n      <td>NaN</td>\n      <td>What to Do in Case of Fire?</td>\n      <td>{\"keywords\": [{\"id\": 220, \"name\": \"berlin, ger...</td>\n    </tr>\n  </tbody>\n</table>\n<p>3000 rows × 10 columns</p>\n</div>"
     },
     "execution_count": 312,
     "metadata": {},
     "output_type": "execute_result"
    }
   ],
   "source": [
    "movies"
   ],
   "metadata": {
    "collapsed": false,
    "ExecuteTime": {
     "end_time": "2024-12-16T08:12:08.356189900Z",
     "start_time": "2024-12-16T08:12:08.295610Z"
    }
   }
  },
  {
   "cell_type": "code",
   "execution_count": 313,
   "outputs": [],
   "source": [
    "def process_list_dict(entry, jload=True):\n",
    "    entry = json.loads(entry) if jload else entry\n",
    "    res = []\n",
    "    for d in entry:\n",
    "        res.append(d['name'])\n",
    "    return \", \".join(res)\n",
    "def process_list(entry, jload=True):\n",
    "    entry = json.loads(entry) if jload else entry\n",
    "    return \", \".join(entry)\n",
    "def process_dict_list_dict(entry, jload=True):\n",
    "    entry = json.loads(entry)['keywords'] if jload else entry\n",
    "    return process_list_dict(entry, False)\n",
    "def process_date(entry):\n",
    "    return datetime.strptime(entry, \"%Y-%m-%d\")\n",
    "def process_dict(entry, jload=True):\n",
    "    if isinstance(entry, float):\n",
    "        return entry\n",
    "    entry = json.loads(entry) if jload else entry\n",
    "    return entry['name']"
   ],
   "metadata": {
    "collapsed": false,
    "ExecuteTime": {
     "end_time": "2024-12-16T08:12:08.389891600Z",
     "start_time": "2024-12-16T08:12:08.305404600Z"
    }
   }
  },
  {
   "cell_type": "code",
   "execution_count": 314,
   "outputs": [],
   "source": [
    "movies['keywords'] = movies['keywords'].apply(process_dict_list_dict)\n",
    "movies['production_companies'] = movies['production_companies'].apply(process_list_dict)\n",
    "movies['origin_country'] = movies['origin_country'].apply(process_list)\n",
    "movies['genres'] = movies['genres'].apply(process_list_dict)\n",
    "movies['release_date'] = movies['release_date'].apply(process_date)"
   ],
   "metadata": {
    "collapsed": false,
    "ExecuteTime": {
     "end_time": "2024-12-16T08:12:08.445242300Z",
     "start_time": "2024-12-16T08:12:08.314656900Z"
    }
   }
  },
  {
   "cell_type": "code",
   "execution_count": 315,
   "outputs": [],
   "source": [
    "movies['release_year'] = movies['release_date'].dt.year\n",
    "metadata['release_date'] = movies['release_date']\n",
    "movies = movies.drop(columns=['release_date'])"
   ],
   "metadata": {
    "collapsed": false,
    "ExecuteTime": {
     "end_time": "2024-12-16T08:12:08.445242300Z",
     "start_time": "2024-12-16T08:12:08.391403800Z"
    }
   }
  },
  {
   "cell_type": "code",
   "execution_count": 316,
   "outputs": [
    {
     "data": {
      "text/plain": "           genres     id  origin_country original_language  \\\n0  Comedy, Family   3924              US                en   \n1       Adventure   6124              DE                de   \n2  Drama, Romance   8773  FR, IT, JP, PL                fr   \n3                  25449              US                en   \n4          Family  31975              US                en   \n\n                                            overview  \\\n0  Blondie and Dagwood are about to celebrate the...   \n1                                                NaN   \n2  Love at Twenty unites five directors from five...   \n3  Gee Atherton ripping the Worlds course the day...   \n4  Elmo is making a very, very super special surp...   \n\n                                production_companies  \\\n0                                  Columbia Pictures   \n1                                                      \n2  Ulysse Productions, Unitec Films, Cinesecolo, ...   \n3                                                      \n4                                                      \n\n                                             tagline  \\\n0  The favorite comic strip of millions at last o...   \n1                                                NaN   \n2               The Intimate Secrets of Young Lovers   \n3                                                NaN   \n4                                                NaN   \n\n                                title                 keywords  release_year  \n0                             Blondie                  blondie          1938  \n1       Peter Voss, Thief of Millions                                   1921  \n2                      Love at Twenty                                   1962  \n3  New World Disorder 9: Never Enough  sports, mountain biking          2008  \n4      Sesame Street: Elmo Loves You!                                   2010  ",
      "text/html": "<div>\n<style scoped>\n    .dataframe tbody tr th:only-of-type {\n        vertical-align: middle;\n    }\n\n    .dataframe tbody tr th {\n        vertical-align: top;\n    }\n\n    .dataframe thead th {\n        text-align: right;\n    }\n</style>\n<table border=\"1\" class=\"dataframe\">\n  <thead>\n    <tr style=\"text-align: right;\">\n      <th></th>\n      <th>genres</th>\n      <th>id</th>\n      <th>origin_country</th>\n      <th>original_language</th>\n      <th>overview</th>\n      <th>production_companies</th>\n      <th>tagline</th>\n      <th>title</th>\n      <th>keywords</th>\n      <th>release_year</th>\n    </tr>\n  </thead>\n  <tbody>\n    <tr>\n      <th>0</th>\n      <td>Comedy, Family</td>\n      <td>3924</td>\n      <td>US</td>\n      <td>en</td>\n      <td>Blondie and Dagwood are about to celebrate the...</td>\n      <td>Columbia Pictures</td>\n      <td>The favorite comic strip of millions at last o...</td>\n      <td>Blondie</td>\n      <td>blondie</td>\n      <td>1938</td>\n    </tr>\n    <tr>\n      <th>1</th>\n      <td>Adventure</td>\n      <td>6124</td>\n      <td>DE</td>\n      <td>de</td>\n      <td>NaN</td>\n      <td></td>\n      <td>NaN</td>\n      <td>Peter Voss, Thief of Millions</td>\n      <td></td>\n      <td>1921</td>\n    </tr>\n    <tr>\n      <th>2</th>\n      <td>Drama, Romance</td>\n      <td>8773</td>\n      <td>FR, IT, JP, PL</td>\n      <td>fr</td>\n      <td>Love at Twenty unites five directors from five...</td>\n      <td>Ulysse Productions, Unitec Films, Cinesecolo, ...</td>\n      <td>The Intimate Secrets of Young Lovers</td>\n      <td>Love at Twenty</td>\n      <td></td>\n      <td>1962</td>\n    </tr>\n    <tr>\n      <th>3</th>\n      <td></td>\n      <td>25449</td>\n      <td>US</td>\n      <td>en</td>\n      <td>Gee Atherton ripping the Worlds course the day...</td>\n      <td></td>\n      <td>NaN</td>\n      <td>New World Disorder 9: Never Enough</td>\n      <td>sports, mountain biking</td>\n      <td>2008</td>\n    </tr>\n    <tr>\n      <th>4</th>\n      <td>Family</td>\n      <td>31975</td>\n      <td>US</td>\n      <td>en</td>\n      <td>Elmo is making a very, very super special surp...</td>\n      <td></td>\n      <td>NaN</td>\n      <td>Sesame Street: Elmo Loves You!</td>\n      <td></td>\n      <td>2010</td>\n    </tr>\n  </tbody>\n</table>\n</div>"
     },
     "execution_count": 316,
     "metadata": {},
     "output_type": "execute_result"
    }
   ],
   "source": [
    "movies.head()"
   ],
   "metadata": {
    "collapsed": false,
    "ExecuteTime": {
     "end_time": "2024-12-16T08:12:08.481594400Z",
     "start_time": "2024-12-16T08:12:08.403196300Z"
    }
   }
  },
  {
   "cell_type": "code",
   "execution_count": 316,
   "outputs": [],
   "source": [],
   "metadata": {
    "collapsed": false,
    "ExecuteTime": {
     "end_time": "2024-12-16T08:12:08.481594400Z",
     "start_time": "2024-12-16T08:12:08.407121400Z"
    }
   }
  },
  {
   "cell_type": "code",
   "execution_count": 316,
   "outputs": [],
   "source": [],
   "metadata": {
    "collapsed": false,
    "ExecuteTime": {
     "end_time": "2024-12-16T08:12:08.481594400Z",
     "start_time": "2024-12-16T08:12:08.411212700Z"
    }
   }
  },
  {
   "cell_type": "code",
   "execution_count": 317,
   "outputs": [],
   "source": [
    "metadata['production_countries'] = metadata['production_countries'].apply(process_list_dict)\n",
    "metadata['belongs_to_collection'] = metadata['belongs_to_collection'].apply(process_dict)\n",
    "metadata['spoken_languages'] = metadata['spoken_languages'].apply(process_list_dict)"
   ],
   "metadata": {
    "collapsed": false,
    "ExecuteTime": {
     "end_time": "2024-12-16T08:12:08.507277Z",
     "start_time": "2024-12-16T08:12:08.414217100Z"
    }
   }
  },
  {
   "cell_type": "code",
   "execution_count": 318,
   "outputs": [
    {
     "data": {
      "text/plain": "   adult                     backdrop_path belongs_to_collection  budget  \\\n0  False  /dvQj1GBZAZirz1skEEZyWH2ZqQP.jpg    Blondie Collection       0   \n1  False                               NaN                   NaN       0   \n2  False  /uJlc4aNPF3Y8yAqahJTKBwgwPVW.jpg                   NaN       0   \n3  False                               NaN    New World Disorder       0   \n4  False                               NaN                   NaN       0   \n\n                  homepage    imdb_id  popularity  \\\n0                      NaN  tt0029927       2.702   \n1                      NaN        NaN       2.275   \n2                      NaN  tt0055747       3.223   \n3  http://www.nwdfilms.com        NaN       2.102   \n4                      NaN  tt1656746       0.003   \n\n                        poster_path                   production_countries  \\\n0   /zBiHKhXklvTFwj4M1uEUcQGAVJ.jpg               United States of America   \n1  /6xUbUCvndklbGVYiljHr34NTxSl.jpg                                Germany   \n2  /aup2QCYCsyEeQfpboXy0f4uj8aE.jpg  Germany, France, Italy, Japan, Poland   \n3  /itQjoIO2e3padeLliHROJVAb7Av.jpg                                          \n4  /qKWcCmvGr4g0dgXvhqAc4BAMCtk.jpg                                          \n\n   revenue  runtime    status  video  vote_average  vote_count  \\\n0        0       70  Released  False           7.1           8   \n1        0      420  Released  False           0.0           0   \n2        0      120  Released  False           6.7          48   \n3        0       69  Released  False           6.0           3   \n4        0       46  Released   True           0.0           0   \n\n                           spoken_languages  \\\n0                                   English   \n1                                             \n2  Français, Deutsch, Italiano, 日本語, Polski   \n3                                   English   \n4                                             \n\n                       original_title     id release_date  \n0                             Blondie   3924   1938-11-30  \n1                 Der Mann ohne Namen   6124   1921-01-01  \n2                 L'Amour à vingt ans   8773   1962-06-22  \n3  New World Disorder 9: Never Enough  25449   2008-12-08  \n4      Sesame Street: Elmo Loves You!  31975   2010-01-05  ",
      "text/html": "<div>\n<style scoped>\n    .dataframe tbody tr th:only-of-type {\n        vertical-align: middle;\n    }\n\n    .dataframe tbody tr th {\n        vertical-align: top;\n    }\n\n    .dataframe thead th {\n        text-align: right;\n    }\n</style>\n<table border=\"1\" class=\"dataframe\">\n  <thead>\n    <tr style=\"text-align: right;\">\n      <th></th>\n      <th>adult</th>\n      <th>backdrop_path</th>\n      <th>belongs_to_collection</th>\n      <th>budget</th>\n      <th>homepage</th>\n      <th>imdb_id</th>\n      <th>popularity</th>\n      <th>poster_path</th>\n      <th>production_countries</th>\n      <th>revenue</th>\n      <th>runtime</th>\n      <th>status</th>\n      <th>video</th>\n      <th>vote_average</th>\n      <th>vote_count</th>\n      <th>spoken_languages</th>\n      <th>original_title</th>\n      <th>id</th>\n      <th>release_date</th>\n    </tr>\n  </thead>\n  <tbody>\n    <tr>\n      <th>0</th>\n      <td>False</td>\n      <td>/dvQj1GBZAZirz1skEEZyWH2ZqQP.jpg</td>\n      <td>Blondie Collection</td>\n      <td>0</td>\n      <td>NaN</td>\n      <td>tt0029927</td>\n      <td>2.702</td>\n      <td>/zBiHKhXklvTFwj4M1uEUcQGAVJ.jpg</td>\n      <td>United States of America</td>\n      <td>0</td>\n      <td>70</td>\n      <td>Released</td>\n      <td>False</td>\n      <td>7.1</td>\n      <td>8</td>\n      <td>English</td>\n      <td>Blondie</td>\n      <td>3924</td>\n      <td>1938-11-30</td>\n    </tr>\n    <tr>\n      <th>1</th>\n      <td>False</td>\n      <td>NaN</td>\n      <td>NaN</td>\n      <td>0</td>\n      <td>NaN</td>\n      <td>NaN</td>\n      <td>2.275</td>\n      <td>/6xUbUCvndklbGVYiljHr34NTxSl.jpg</td>\n      <td>Germany</td>\n      <td>0</td>\n      <td>420</td>\n      <td>Released</td>\n      <td>False</td>\n      <td>0.0</td>\n      <td>0</td>\n      <td></td>\n      <td>Der Mann ohne Namen</td>\n      <td>6124</td>\n      <td>1921-01-01</td>\n    </tr>\n    <tr>\n      <th>2</th>\n      <td>False</td>\n      <td>/uJlc4aNPF3Y8yAqahJTKBwgwPVW.jpg</td>\n      <td>NaN</td>\n      <td>0</td>\n      <td>NaN</td>\n      <td>tt0055747</td>\n      <td>3.223</td>\n      <td>/aup2QCYCsyEeQfpboXy0f4uj8aE.jpg</td>\n      <td>Germany, France, Italy, Japan, Poland</td>\n      <td>0</td>\n      <td>120</td>\n      <td>Released</td>\n      <td>False</td>\n      <td>6.7</td>\n      <td>48</td>\n      <td>Français, Deutsch, Italiano, 日本語, Polski</td>\n      <td>L'Amour à vingt ans</td>\n      <td>8773</td>\n      <td>1962-06-22</td>\n    </tr>\n    <tr>\n      <th>3</th>\n      <td>False</td>\n      <td>NaN</td>\n      <td>New World Disorder</td>\n      <td>0</td>\n      <td>http://www.nwdfilms.com</td>\n      <td>NaN</td>\n      <td>2.102</td>\n      <td>/itQjoIO2e3padeLliHROJVAb7Av.jpg</td>\n      <td></td>\n      <td>0</td>\n      <td>69</td>\n      <td>Released</td>\n      <td>False</td>\n      <td>6.0</td>\n      <td>3</td>\n      <td>English</td>\n      <td>New World Disorder 9: Never Enough</td>\n      <td>25449</td>\n      <td>2008-12-08</td>\n    </tr>\n    <tr>\n      <th>4</th>\n      <td>False</td>\n      <td>NaN</td>\n      <td>NaN</td>\n      <td>0</td>\n      <td>NaN</td>\n      <td>tt1656746</td>\n      <td>0.003</td>\n      <td>/qKWcCmvGr4g0dgXvhqAc4BAMCtk.jpg</td>\n      <td></td>\n      <td>0</td>\n      <td>46</td>\n      <td>Released</td>\n      <td>True</td>\n      <td>0.0</td>\n      <td>0</td>\n      <td></td>\n      <td>Sesame Street: Elmo Loves You!</td>\n      <td>31975</td>\n      <td>2010-01-05</td>\n    </tr>\n  </tbody>\n</table>\n</div>"
     },
     "execution_count": 318,
     "metadata": {},
     "output_type": "execute_result"
    }
   ],
   "source": [
    "metadata.head()"
   ],
   "metadata": {
    "collapsed": false,
    "ExecuteTime": {
     "end_time": "2024-12-16T08:12:08.539566200Z",
     "start_time": "2024-12-16T08:12:08.438837500Z"
    }
   }
  },
  {
   "cell_type": "code",
   "execution_count": 318,
   "outputs": [],
   "source": [],
   "metadata": {
    "collapsed": false,
    "ExecuteTime": {
     "end_time": "2024-12-16T08:12:08.539566200Z",
     "start_time": "2024-12-16T08:12:08.461672200Z"
    }
   }
  },
  {
   "cell_type": "code",
   "execution_count": 319,
   "outputs": [
    {
     "data": {
      "text/plain": "           genres     id  origin_country original_language  \\\n0  Comedy, Family   3924              US                en   \n1       Adventure   6124              DE                de   \n2  Drama, Romance   8773  FR, IT, JP, PL                fr   \n3                  25449              US                en   \n4          Family  31975              US                en   \n\n                                            overview  \\\n0  Blondie and Dagwood are about to celebrate the...   \n1                                                NaN   \n2  Love at Twenty unites five directors from five...   \n3  Gee Atherton ripping the Worlds course the day...   \n4  Elmo is making a very, very super special surp...   \n\n                                production_companies  \\\n0                                  Columbia Pictures   \n1                                                      \n2  Ulysse Productions, Unitec Films, Cinesecolo, ...   \n3                                                      \n4                                                      \n\n                                             tagline  \\\n0  The favorite comic strip of millions at last o...   \n1                                                NaN   \n2               The Intimate Secrets of Young Lovers   \n3                                                NaN   \n4                                                NaN   \n\n                                title                 keywords  release_year  \n0                             Blondie                  blondie          1938  \n1       Peter Voss, Thief of Millions                                   1921  \n2                      Love at Twenty                                   1962  \n3  New World Disorder 9: Never Enough  sports, mountain biking          2008  \n4      Sesame Street: Elmo Loves You!                                   2010  ",
      "text/html": "<div>\n<style scoped>\n    .dataframe tbody tr th:only-of-type {\n        vertical-align: middle;\n    }\n\n    .dataframe tbody tr th {\n        vertical-align: top;\n    }\n\n    .dataframe thead th {\n        text-align: right;\n    }\n</style>\n<table border=\"1\" class=\"dataframe\">\n  <thead>\n    <tr style=\"text-align: right;\">\n      <th></th>\n      <th>genres</th>\n      <th>id</th>\n      <th>origin_country</th>\n      <th>original_language</th>\n      <th>overview</th>\n      <th>production_companies</th>\n      <th>tagline</th>\n      <th>title</th>\n      <th>keywords</th>\n      <th>release_year</th>\n    </tr>\n  </thead>\n  <tbody>\n    <tr>\n      <th>0</th>\n      <td>Comedy, Family</td>\n      <td>3924</td>\n      <td>US</td>\n      <td>en</td>\n      <td>Blondie and Dagwood are about to celebrate the...</td>\n      <td>Columbia Pictures</td>\n      <td>The favorite comic strip of millions at last o...</td>\n      <td>Blondie</td>\n      <td>blondie</td>\n      <td>1938</td>\n    </tr>\n    <tr>\n      <th>1</th>\n      <td>Adventure</td>\n      <td>6124</td>\n      <td>DE</td>\n      <td>de</td>\n      <td>NaN</td>\n      <td></td>\n      <td>NaN</td>\n      <td>Peter Voss, Thief of Millions</td>\n      <td></td>\n      <td>1921</td>\n    </tr>\n    <tr>\n      <th>2</th>\n      <td>Drama, Romance</td>\n      <td>8773</td>\n      <td>FR, IT, JP, PL</td>\n      <td>fr</td>\n      <td>Love at Twenty unites five directors from five...</td>\n      <td>Ulysse Productions, Unitec Films, Cinesecolo, ...</td>\n      <td>The Intimate Secrets of Young Lovers</td>\n      <td>Love at Twenty</td>\n      <td></td>\n      <td>1962</td>\n    </tr>\n    <tr>\n      <th>3</th>\n      <td></td>\n      <td>25449</td>\n      <td>US</td>\n      <td>en</td>\n      <td>Gee Atherton ripping the Worlds course the day...</td>\n      <td></td>\n      <td>NaN</td>\n      <td>New World Disorder 9: Never Enough</td>\n      <td>sports, mountain biking</td>\n      <td>2008</td>\n    </tr>\n    <tr>\n      <th>4</th>\n      <td>Family</td>\n      <td>31975</td>\n      <td>US</td>\n      <td>en</td>\n      <td>Elmo is making a very, very super special surp...</td>\n      <td></td>\n      <td>NaN</td>\n      <td>Sesame Street: Elmo Loves You!</td>\n      <td></td>\n      <td>2010</td>\n    </tr>\n  </tbody>\n</table>\n</div>"
     },
     "execution_count": 319,
     "metadata": {},
     "output_type": "execute_result"
    }
   ],
   "source": [
    "movies.head()"
   ],
   "metadata": {
    "collapsed": false,
    "ExecuteTime": {
     "end_time": "2024-12-16T08:12:08.539566200Z",
     "start_time": "2024-12-16T08:12:08.461672200Z"
    }
   }
  },
  {
   "cell_type": "code",
   "execution_count": 320,
   "outputs": [
    {
     "name": "stdout",
     "output_type": "stream",
     "text": [
      "genres                     0\n",
      "id                         0\n",
      "origin_country             0\n",
      "original_language          0\n",
      "overview                 135\n",
      "production_companies       0\n",
      "tagline                 1041\n",
      "title                      0\n",
      "keywords                   0\n",
      "release_year               0\n",
      "dtype: int64\n"
     ]
    }
   ],
   "source": [
    "print(movies.isnull().sum())\n",
    "movies = movies.fillna(value=\"<MISSING>\")"
   ],
   "metadata": {
    "collapsed": false,
    "ExecuteTime": {
     "end_time": "2024-12-16T08:12:08.539566200Z",
     "start_time": "2024-12-16T08:12:08.463936400Z"
    }
   }
  },
  {
   "cell_type": "code",
   "execution_count": 321,
   "outputs": [],
   "source": [
    "def get_na(df):\n",
    "    res = {}\n",
    "    for col in df.columns:\n",
    "        if isinstance(df[col][0], str):\n",
    "            res[col] = len(df[df[col].apply(len)==0])\n",
    "    return res"
   ],
   "metadata": {
    "collapsed": false,
    "ExecuteTime": {
     "end_time": "2024-12-16T08:12:08.539566200Z",
     "start_time": "2024-12-16T08:12:08.473029900Z"
    }
   }
  },
  {
   "cell_type": "code",
   "execution_count": 322,
   "outputs": [
    {
     "name": "stdout",
     "output_type": "stream",
     "text": [
      "{'genres': 11, 'origin_country': 3, 'original_language': 0, 'overview': 0, 'production_companies': 215, 'tagline': 0, 'title': 0, 'keywords': 153}\n"
     ]
    }
   ],
   "source": [
    "print(get_na(movies))"
   ],
   "metadata": {
    "collapsed": false,
    "ExecuteTime": {
     "end_time": "2024-12-16T08:12:08.637152200Z",
     "start_time": "2024-12-16T08:12:08.477597100Z"
    }
   }
  },
  {
   "cell_type": "code",
   "execution_count": 323,
   "outputs": [],
   "source": [
    "def set_na(df):\n",
    "    for col in df.columns:\n",
    "        if isinstance(df[col][0], str):\n",
    "            df[col] = df[col].apply(lambda x: \"<MISSING>\" if len(x)==0 else x)"
   ],
   "metadata": {
    "collapsed": false,
    "ExecuteTime": {
     "end_time": "2024-12-16T08:12:08.637152200Z",
     "start_time": "2024-12-16T08:12:08.491248200Z"
    }
   }
  },
  {
   "cell_type": "code",
   "execution_count": 324,
   "outputs": [],
   "source": [
    "set_na(movies)"
   ],
   "metadata": {
    "collapsed": false,
    "ExecuteTime": {
     "end_time": "2024-12-16T08:12:08.644075200Z",
     "start_time": "2024-12-16T08:12:08.494789800Z"
    }
   }
  },
  {
   "cell_type": "code",
   "execution_count": 325,
   "outputs": [
    {
     "data": {
      "text/plain": "           genres     id  origin_country original_language  \\\n0  Comedy, Family   3924              US                en   \n1       Adventure   6124              DE                de   \n2  Drama, Romance   8773  FR, IT, JP, PL                fr   \n3       <MISSING>  25449              US                en   \n4          Family  31975              US                en   \n\n                                            overview  \\\n0  Blondie and Dagwood are about to celebrate the...   \n1                                          <MISSING>   \n2  Love at Twenty unites five directors from five...   \n3  Gee Atherton ripping the Worlds course the day...   \n4  Elmo is making a very, very super special surp...   \n\n                                production_companies  \\\n0                                  Columbia Pictures   \n1                                          <MISSING>   \n2  Ulysse Productions, Unitec Films, Cinesecolo, ...   \n3                                          <MISSING>   \n4                                          <MISSING>   \n\n                                             tagline  \\\n0  The favorite comic strip of millions at last o...   \n1                                          <MISSING>   \n2               The Intimate Secrets of Young Lovers   \n3                                          <MISSING>   \n4                                          <MISSING>   \n\n                                title                 keywords  release_year  \n0                             Blondie                  blondie          1938  \n1       Peter Voss, Thief of Millions                <MISSING>          1921  \n2                      Love at Twenty                <MISSING>          1962  \n3  New World Disorder 9: Never Enough  sports, mountain biking          2008  \n4      Sesame Street: Elmo Loves You!                <MISSING>          2010  ",
      "text/html": "<div>\n<style scoped>\n    .dataframe tbody tr th:only-of-type {\n        vertical-align: middle;\n    }\n\n    .dataframe tbody tr th {\n        vertical-align: top;\n    }\n\n    .dataframe thead th {\n        text-align: right;\n    }\n</style>\n<table border=\"1\" class=\"dataframe\">\n  <thead>\n    <tr style=\"text-align: right;\">\n      <th></th>\n      <th>genres</th>\n      <th>id</th>\n      <th>origin_country</th>\n      <th>original_language</th>\n      <th>overview</th>\n      <th>production_companies</th>\n      <th>tagline</th>\n      <th>title</th>\n      <th>keywords</th>\n      <th>release_year</th>\n    </tr>\n  </thead>\n  <tbody>\n    <tr>\n      <th>0</th>\n      <td>Comedy, Family</td>\n      <td>3924</td>\n      <td>US</td>\n      <td>en</td>\n      <td>Blondie and Dagwood are about to celebrate the...</td>\n      <td>Columbia Pictures</td>\n      <td>The favorite comic strip of millions at last o...</td>\n      <td>Blondie</td>\n      <td>blondie</td>\n      <td>1938</td>\n    </tr>\n    <tr>\n      <th>1</th>\n      <td>Adventure</td>\n      <td>6124</td>\n      <td>DE</td>\n      <td>de</td>\n      <td>&lt;MISSING&gt;</td>\n      <td>&lt;MISSING&gt;</td>\n      <td>&lt;MISSING&gt;</td>\n      <td>Peter Voss, Thief of Millions</td>\n      <td>&lt;MISSING&gt;</td>\n      <td>1921</td>\n    </tr>\n    <tr>\n      <th>2</th>\n      <td>Drama, Romance</td>\n      <td>8773</td>\n      <td>FR, IT, JP, PL</td>\n      <td>fr</td>\n      <td>Love at Twenty unites five directors from five...</td>\n      <td>Ulysse Productions, Unitec Films, Cinesecolo, ...</td>\n      <td>The Intimate Secrets of Young Lovers</td>\n      <td>Love at Twenty</td>\n      <td>&lt;MISSING&gt;</td>\n      <td>1962</td>\n    </tr>\n    <tr>\n      <th>3</th>\n      <td>&lt;MISSING&gt;</td>\n      <td>25449</td>\n      <td>US</td>\n      <td>en</td>\n      <td>Gee Atherton ripping the Worlds course the day...</td>\n      <td>&lt;MISSING&gt;</td>\n      <td>&lt;MISSING&gt;</td>\n      <td>New World Disorder 9: Never Enough</td>\n      <td>sports, mountain biking</td>\n      <td>2008</td>\n    </tr>\n    <tr>\n      <th>4</th>\n      <td>Family</td>\n      <td>31975</td>\n      <td>US</td>\n      <td>en</td>\n      <td>Elmo is making a very, very super special surp...</td>\n      <td>&lt;MISSING&gt;</td>\n      <td>&lt;MISSING&gt;</td>\n      <td>Sesame Street: Elmo Loves You!</td>\n      <td>&lt;MISSING&gt;</td>\n      <td>2010</td>\n    </tr>\n  </tbody>\n</table>\n</div>"
     },
     "execution_count": 325,
     "metadata": {},
     "output_type": "execute_result"
    }
   ],
   "source": [
    "movies.head()"
   ],
   "metadata": {
    "collapsed": false,
    "ExecuteTime": {
     "end_time": "2024-12-16T08:12:08.644075200Z",
     "start_time": "2024-12-16T08:12:08.507277Z"
    }
   }
  },
  {
   "cell_type": "code",
   "execution_count": 326,
   "outputs": [
    {
     "data": {
      "text/plain": "   adult                     backdrop_path belongs_to_collection  budget  \\\n0  False  /dvQj1GBZAZirz1skEEZyWH2ZqQP.jpg    Blondie Collection       0   \n1  False                               NaN                   NaN       0   \n2  False  /uJlc4aNPF3Y8yAqahJTKBwgwPVW.jpg                   NaN       0   \n3  False                               NaN    New World Disorder       0   \n4  False                               NaN                   NaN       0   \n\n                  homepage    imdb_id  popularity  \\\n0                      NaN  tt0029927       2.702   \n1                      NaN        NaN       2.275   \n2                      NaN  tt0055747       3.223   \n3  http://www.nwdfilms.com        NaN       2.102   \n4                      NaN  tt1656746       0.003   \n\n                        poster_path                   production_countries  \\\n0   /zBiHKhXklvTFwj4M1uEUcQGAVJ.jpg               United States of America   \n1  /6xUbUCvndklbGVYiljHr34NTxSl.jpg                                Germany   \n2  /aup2QCYCsyEeQfpboXy0f4uj8aE.jpg  Germany, France, Italy, Japan, Poland   \n3  /itQjoIO2e3padeLliHROJVAb7Av.jpg                                          \n4  /qKWcCmvGr4g0dgXvhqAc4BAMCtk.jpg                                          \n\n   revenue  runtime    status  video  vote_average  vote_count  \\\n0        0       70  Released  False           7.1           8   \n1        0      420  Released  False           0.0           0   \n2        0      120  Released  False           6.7          48   \n3        0       69  Released  False           6.0           3   \n4        0       46  Released   True           0.0           0   \n\n                           spoken_languages  \\\n0                                   English   \n1                                             \n2  Français, Deutsch, Italiano, 日本語, Polski   \n3                                   English   \n4                                             \n\n                       original_title     id release_date  \n0                             Blondie   3924   1938-11-30  \n1                 Der Mann ohne Namen   6124   1921-01-01  \n2                 L'Amour à vingt ans   8773   1962-06-22  \n3  New World Disorder 9: Never Enough  25449   2008-12-08  \n4      Sesame Street: Elmo Loves You!  31975   2010-01-05  ",
      "text/html": "<div>\n<style scoped>\n    .dataframe tbody tr th:only-of-type {\n        vertical-align: middle;\n    }\n\n    .dataframe tbody tr th {\n        vertical-align: top;\n    }\n\n    .dataframe thead th {\n        text-align: right;\n    }\n</style>\n<table border=\"1\" class=\"dataframe\">\n  <thead>\n    <tr style=\"text-align: right;\">\n      <th></th>\n      <th>adult</th>\n      <th>backdrop_path</th>\n      <th>belongs_to_collection</th>\n      <th>budget</th>\n      <th>homepage</th>\n      <th>imdb_id</th>\n      <th>popularity</th>\n      <th>poster_path</th>\n      <th>production_countries</th>\n      <th>revenue</th>\n      <th>runtime</th>\n      <th>status</th>\n      <th>video</th>\n      <th>vote_average</th>\n      <th>vote_count</th>\n      <th>spoken_languages</th>\n      <th>original_title</th>\n      <th>id</th>\n      <th>release_date</th>\n    </tr>\n  </thead>\n  <tbody>\n    <tr>\n      <th>0</th>\n      <td>False</td>\n      <td>/dvQj1GBZAZirz1skEEZyWH2ZqQP.jpg</td>\n      <td>Blondie Collection</td>\n      <td>0</td>\n      <td>NaN</td>\n      <td>tt0029927</td>\n      <td>2.702</td>\n      <td>/zBiHKhXklvTFwj4M1uEUcQGAVJ.jpg</td>\n      <td>United States of America</td>\n      <td>0</td>\n      <td>70</td>\n      <td>Released</td>\n      <td>False</td>\n      <td>7.1</td>\n      <td>8</td>\n      <td>English</td>\n      <td>Blondie</td>\n      <td>3924</td>\n      <td>1938-11-30</td>\n    </tr>\n    <tr>\n      <th>1</th>\n      <td>False</td>\n      <td>NaN</td>\n      <td>NaN</td>\n      <td>0</td>\n      <td>NaN</td>\n      <td>NaN</td>\n      <td>2.275</td>\n      <td>/6xUbUCvndklbGVYiljHr34NTxSl.jpg</td>\n      <td>Germany</td>\n      <td>0</td>\n      <td>420</td>\n      <td>Released</td>\n      <td>False</td>\n      <td>0.0</td>\n      <td>0</td>\n      <td></td>\n      <td>Der Mann ohne Namen</td>\n      <td>6124</td>\n      <td>1921-01-01</td>\n    </tr>\n    <tr>\n      <th>2</th>\n      <td>False</td>\n      <td>/uJlc4aNPF3Y8yAqahJTKBwgwPVW.jpg</td>\n      <td>NaN</td>\n      <td>0</td>\n      <td>NaN</td>\n      <td>tt0055747</td>\n      <td>3.223</td>\n      <td>/aup2QCYCsyEeQfpboXy0f4uj8aE.jpg</td>\n      <td>Germany, France, Italy, Japan, Poland</td>\n      <td>0</td>\n      <td>120</td>\n      <td>Released</td>\n      <td>False</td>\n      <td>6.7</td>\n      <td>48</td>\n      <td>Français, Deutsch, Italiano, 日本語, Polski</td>\n      <td>L'Amour à vingt ans</td>\n      <td>8773</td>\n      <td>1962-06-22</td>\n    </tr>\n    <tr>\n      <th>3</th>\n      <td>False</td>\n      <td>NaN</td>\n      <td>New World Disorder</td>\n      <td>0</td>\n      <td>http://www.nwdfilms.com</td>\n      <td>NaN</td>\n      <td>2.102</td>\n      <td>/itQjoIO2e3padeLliHROJVAb7Av.jpg</td>\n      <td></td>\n      <td>0</td>\n      <td>69</td>\n      <td>Released</td>\n      <td>False</td>\n      <td>6.0</td>\n      <td>3</td>\n      <td>English</td>\n      <td>New World Disorder 9: Never Enough</td>\n      <td>25449</td>\n      <td>2008-12-08</td>\n    </tr>\n    <tr>\n      <th>4</th>\n      <td>False</td>\n      <td>NaN</td>\n      <td>NaN</td>\n      <td>0</td>\n      <td>NaN</td>\n      <td>tt1656746</td>\n      <td>0.003</td>\n      <td>/qKWcCmvGr4g0dgXvhqAc4BAMCtk.jpg</td>\n      <td></td>\n      <td>0</td>\n      <td>46</td>\n      <td>Released</td>\n      <td>True</td>\n      <td>0.0</td>\n      <td>0</td>\n      <td></td>\n      <td>Sesame Street: Elmo Loves You!</td>\n      <td>31975</td>\n      <td>2010-01-05</td>\n    </tr>\n  </tbody>\n</table>\n</div>"
     },
     "execution_count": 326,
     "metadata": {},
     "output_type": "execute_result"
    }
   ],
   "source": [
    "metadata.head()"
   ],
   "metadata": {
    "collapsed": false,
    "ExecuteTime": {
     "end_time": "2024-12-16T08:12:08.645096400Z",
     "start_time": "2024-12-16T08:12:08.526742600Z"
    }
   }
  },
  {
   "cell_type": "code",
   "execution_count": 327,
   "outputs": [
    {
     "data": {
      "text/plain": "adult                       0\nbackdrop_path             346\nbelongs_to_collection    2377\nbudget                      0\nhomepage                 2357\nimdb_id                    31\npopularity                  0\nposter_path               114\nproduction_countries        0\nrevenue                     0\nruntime                     0\nstatus                      0\nvideo                       0\nvote_average                0\nvote_count                  0\nspoken_languages            0\noriginal_title              0\nid                          0\nrelease_date                0\ndtype: int64"
     },
     "execution_count": 327,
     "metadata": {},
     "output_type": "execute_result"
    }
   ],
   "source": [
    "metadata.isnull().sum()"
   ],
   "metadata": {
    "collapsed": false,
    "ExecuteTime": {
     "end_time": "2024-12-16T08:12:08.645096400Z",
     "start_time": "2024-12-16T08:12:08.533538600Z"
    }
   }
  },
  {
   "cell_type": "code",
   "execution_count": 328,
   "outputs": [],
   "source": [
    "metadata = metadata.fillna(value=\"<MISSING>\")"
   ],
   "metadata": {
    "collapsed": false,
    "ExecuteTime": {
     "end_time": "2024-12-16T08:12:08.661210600Z",
     "start_time": "2024-12-16T08:12:08.542938200Z"
    }
   }
  },
  {
   "cell_type": "code",
   "execution_count": 329,
   "outputs": [
    {
     "data": {
      "text/plain": "{'backdrop_path': 0,\n 'belongs_to_collection': 0,\n 'homepage': 0,\n 'imdb_id': 0,\n 'poster_path': 0,\n 'production_countries': 10,\n 'status': 0,\n 'spoken_languages': 14,\n 'original_title': 0}"
     },
     "execution_count": 329,
     "metadata": {},
     "output_type": "execute_result"
    }
   ],
   "source": [
    "get_na(metadata)"
   ],
   "metadata": {
    "collapsed": false,
    "ExecuteTime": {
     "end_time": "2024-12-16T08:12:08.720466600Z",
     "start_time": "2024-12-16T08:12:08.548830500Z"
    }
   }
  },
  {
   "cell_type": "code",
   "execution_count": 330,
   "outputs": [],
   "source": [
    "set_na(metadata)"
   ],
   "metadata": {
    "collapsed": false,
    "ExecuteTime": {
     "end_time": "2024-12-16T08:12:08.720466600Z",
     "start_time": "2024-12-16T08:12:08.564033900Z"
    }
   }
  },
  {
   "cell_type": "code",
   "execution_count": 331,
   "outputs": [
    {
     "data": {
      "text/plain": "      adult                     backdrop_path belongs_to_collection  budget  \\\n0     False  /dvQj1GBZAZirz1skEEZyWH2ZqQP.jpg    Blondie Collection       0   \n1     False                         <MISSING>             <MISSING>       0   \n2     False  /uJlc4aNPF3Y8yAqahJTKBwgwPVW.jpg             <MISSING>       0   \n3     False                         <MISSING>    New World Disorder       0   \n4     False                         <MISSING>             <MISSING>       0   \n...     ...                               ...                   ...     ...   \n2995  False  /ljnvmogaGydKjw5szgKvYO7MpC8.jpg             <MISSING>       0   \n2996  False   /rY1FcmerUUU32VcDJ4ylZrTkH6.jpg             <MISSING>       0   \n2997  False  /ayVyElr1LmiiVZjAI9fJI9pZlky.jpg             <MISSING>       0   \n2998  False  /hzcwTv5I0vBmzrs6k53e5xuCuqx.jpg             <MISSING>       0   \n2999  False  /whKiywHUvnuzJkGQDG0KlKE8mad.jpg             <MISSING>       0   \n\n                                               homepage    imdb_id  \\\n0                                             <MISSING>  tt0029927   \n1                                             <MISSING>  <MISSING>   \n2                                             <MISSING>  tt0055747   \n3                               http://www.nwdfilms.com  <MISSING>   \n4                                             <MISSING>  tt1656746   \n...                                                 ...        ...   \n2995                                          <MISSING>  tt0316272   \n2996                                          <MISSING>  tt0205873   \n2997                                          <MISSING>  tt0378405   \n2998                       http://www.thebandsvisit.com  tt1032856   \n2999  http://www.sonypictures.de/filme/was-tun-wenns...  tt0207198   \n\n      popularity                       poster_path  \\\n0          2.702   /zBiHKhXklvTFwj4M1uEUcQGAVJ.jpg   \n1          2.275  /6xUbUCvndklbGVYiljHr34NTxSl.jpg   \n2          3.223  /aup2QCYCsyEeQfpboXy0f4uj8aE.jpg   \n3          2.102  /itQjoIO2e3padeLliHROJVAb7Av.jpg   \n4          0.003  /qKWcCmvGr4g0dgXvhqAc4BAMCtk.jpg   \n...          ...                               ...   \n2995       3.947  /uCVprpm9vJJkJukEPUDtQ7vMcuu.jpg   \n2996       8.206  /zG83o1wpU3p7QTd382K4HtctLq0.jpg   \n2997       1.787  /hhIHuYqVSiIW8DBDoMGNSFJ54CA.jpg   \n2998      10.092  /gZPUNtSWnn23Zd88wxL5xzqYYqy.jpg   \n2999       7.466  /z6PHgCsUpcK2n7m577fSJdoIy7k.jpg   \n\n                          production_countries  revenue  runtime    status  \\\n0                     United States of America        0       70  Released   \n1                                      Germany        0      420  Released   \n2        Germany, France, Italy, Japan, Poland        0      120  Released   \n3                                    <MISSING>        0       69  Released   \n4                                    <MISSING>        0       46  Released   \n...                                        ...      ...      ...       ...   \n2995         Germany, United States of America        0       88  Released   \n2996                                 Australia        0      101  Released   \n2997                                   Germany        0       87  Released   \n2998  France, Israel, United States of America        0       83  Released   \n2999                                   Germany        0      101  Released   \n\n      video  vote_average  vote_count  \\\n0     False         7.100           8   \n1     False         0.000           0   \n2     False         6.700          48   \n3     False         6.000           3   \n4      True         0.000           0   \n...     ...           ...         ...   \n2995  False         4.800          12   \n2996  False         6.709         191   \n2997  False         4.000           1   \n2998  False         7.127         154   \n2999  False         6.225          51   \n\n                              spoken_languages  \\\n0                                      English   \n1                                    <MISSING>   \n2     Français, Deutsch, Italiano, 日本語, Polski   \n3                                      English   \n4                                    <MISSING>   \n...                                        ...   \n2995                                   English   \n2996                         Français, English   \n2997                                   Deutsch   \n2998                العربية, English, עִבְרִית   \n2999                          Deutsch, Español   \n\n                          original_title     id release_date  \n0                                Blondie   3924   1938-11-30  \n1                    Der Mann ohne Namen   6124   1921-01-01  \n2                    L'Amour à vingt ans   8773   1962-06-22  \n3     New World Disorder 9: Never Enough  25449   2008-12-08  \n4         Sesame Street: Elmo Loves You!  31975   2010-01-05  \n...                                  ...    ...          ...  \n2995                            Momentum   5256   2003-03-26  \n2996                            The Dish   5257   2000-10-19  \n2997               Mutter kommt in Fahrt   5258   2003-05-09  \n2998                       ביקור התזמורת   5259   2007-09-13  \n2999             Was tun, wenn's brennt?   5261   2001-11-01  \n\n[3000 rows x 19 columns]",
      "text/html": "<div>\n<style scoped>\n    .dataframe tbody tr th:only-of-type {\n        vertical-align: middle;\n    }\n\n    .dataframe tbody tr th {\n        vertical-align: top;\n    }\n\n    .dataframe thead th {\n        text-align: right;\n    }\n</style>\n<table border=\"1\" class=\"dataframe\">\n  <thead>\n    <tr style=\"text-align: right;\">\n      <th></th>\n      <th>adult</th>\n      <th>backdrop_path</th>\n      <th>belongs_to_collection</th>\n      <th>budget</th>\n      <th>homepage</th>\n      <th>imdb_id</th>\n      <th>popularity</th>\n      <th>poster_path</th>\n      <th>production_countries</th>\n      <th>revenue</th>\n      <th>runtime</th>\n      <th>status</th>\n      <th>video</th>\n      <th>vote_average</th>\n      <th>vote_count</th>\n      <th>spoken_languages</th>\n      <th>original_title</th>\n      <th>id</th>\n      <th>release_date</th>\n    </tr>\n  </thead>\n  <tbody>\n    <tr>\n      <th>0</th>\n      <td>False</td>\n      <td>/dvQj1GBZAZirz1skEEZyWH2ZqQP.jpg</td>\n      <td>Blondie Collection</td>\n      <td>0</td>\n      <td>&lt;MISSING&gt;</td>\n      <td>tt0029927</td>\n      <td>2.702</td>\n      <td>/zBiHKhXklvTFwj4M1uEUcQGAVJ.jpg</td>\n      <td>United States of America</td>\n      <td>0</td>\n      <td>70</td>\n      <td>Released</td>\n      <td>False</td>\n      <td>7.100</td>\n      <td>8</td>\n      <td>English</td>\n      <td>Blondie</td>\n      <td>3924</td>\n      <td>1938-11-30</td>\n    </tr>\n    <tr>\n      <th>1</th>\n      <td>False</td>\n      <td>&lt;MISSING&gt;</td>\n      <td>&lt;MISSING&gt;</td>\n      <td>0</td>\n      <td>&lt;MISSING&gt;</td>\n      <td>&lt;MISSING&gt;</td>\n      <td>2.275</td>\n      <td>/6xUbUCvndklbGVYiljHr34NTxSl.jpg</td>\n      <td>Germany</td>\n      <td>0</td>\n      <td>420</td>\n      <td>Released</td>\n      <td>False</td>\n      <td>0.000</td>\n      <td>0</td>\n      <td>&lt;MISSING&gt;</td>\n      <td>Der Mann ohne Namen</td>\n      <td>6124</td>\n      <td>1921-01-01</td>\n    </tr>\n    <tr>\n      <th>2</th>\n      <td>False</td>\n      <td>/uJlc4aNPF3Y8yAqahJTKBwgwPVW.jpg</td>\n      <td>&lt;MISSING&gt;</td>\n      <td>0</td>\n      <td>&lt;MISSING&gt;</td>\n      <td>tt0055747</td>\n      <td>3.223</td>\n      <td>/aup2QCYCsyEeQfpboXy0f4uj8aE.jpg</td>\n      <td>Germany, France, Italy, Japan, Poland</td>\n      <td>0</td>\n      <td>120</td>\n      <td>Released</td>\n      <td>False</td>\n      <td>6.700</td>\n      <td>48</td>\n      <td>Français, Deutsch, Italiano, 日本語, Polski</td>\n      <td>L'Amour à vingt ans</td>\n      <td>8773</td>\n      <td>1962-06-22</td>\n    </tr>\n    <tr>\n      <th>3</th>\n      <td>False</td>\n      <td>&lt;MISSING&gt;</td>\n      <td>New World Disorder</td>\n      <td>0</td>\n      <td>http://www.nwdfilms.com</td>\n      <td>&lt;MISSING&gt;</td>\n      <td>2.102</td>\n      <td>/itQjoIO2e3padeLliHROJVAb7Av.jpg</td>\n      <td>&lt;MISSING&gt;</td>\n      <td>0</td>\n      <td>69</td>\n      <td>Released</td>\n      <td>False</td>\n      <td>6.000</td>\n      <td>3</td>\n      <td>English</td>\n      <td>New World Disorder 9: Never Enough</td>\n      <td>25449</td>\n      <td>2008-12-08</td>\n    </tr>\n    <tr>\n      <th>4</th>\n      <td>False</td>\n      <td>&lt;MISSING&gt;</td>\n      <td>&lt;MISSING&gt;</td>\n      <td>0</td>\n      <td>&lt;MISSING&gt;</td>\n      <td>tt1656746</td>\n      <td>0.003</td>\n      <td>/qKWcCmvGr4g0dgXvhqAc4BAMCtk.jpg</td>\n      <td>&lt;MISSING&gt;</td>\n      <td>0</td>\n      <td>46</td>\n      <td>Released</td>\n      <td>True</td>\n      <td>0.000</td>\n      <td>0</td>\n      <td>&lt;MISSING&gt;</td>\n      <td>Sesame Street: Elmo Loves You!</td>\n      <td>31975</td>\n      <td>2010-01-05</td>\n    </tr>\n    <tr>\n      <th>...</th>\n      <td>...</td>\n      <td>...</td>\n      <td>...</td>\n      <td>...</td>\n      <td>...</td>\n      <td>...</td>\n      <td>...</td>\n      <td>...</td>\n      <td>...</td>\n      <td>...</td>\n      <td>...</td>\n      <td>...</td>\n      <td>...</td>\n      <td>...</td>\n      <td>...</td>\n      <td>...</td>\n      <td>...</td>\n      <td>...</td>\n      <td>...</td>\n    </tr>\n    <tr>\n      <th>2995</th>\n      <td>False</td>\n      <td>/ljnvmogaGydKjw5szgKvYO7MpC8.jpg</td>\n      <td>&lt;MISSING&gt;</td>\n      <td>0</td>\n      <td>&lt;MISSING&gt;</td>\n      <td>tt0316272</td>\n      <td>3.947</td>\n      <td>/uCVprpm9vJJkJukEPUDtQ7vMcuu.jpg</td>\n      <td>Germany, United States of America</td>\n      <td>0</td>\n      <td>88</td>\n      <td>Released</td>\n      <td>False</td>\n      <td>4.800</td>\n      <td>12</td>\n      <td>English</td>\n      <td>Momentum</td>\n      <td>5256</td>\n      <td>2003-03-26</td>\n    </tr>\n    <tr>\n      <th>2996</th>\n      <td>False</td>\n      <td>/rY1FcmerUUU32VcDJ4ylZrTkH6.jpg</td>\n      <td>&lt;MISSING&gt;</td>\n      <td>0</td>\n      <td>&lt;MISSING&gt;</td>\n      <td>tt0205873</td>\n      <td>8.206</td>\n      <td>/zG83o1wpU3p7QTd382K4HtctLq0.jpg</td>\n      <td>Australia</td>\n      <td>0</td>\n      <td>101</td>\n      <td>Released</td>\n      <td>False</td>\n      <td>6.709</td>\n      <td>191</td>\n      <td>Français, English</td>\n      <td>The Dish</td>\n      <td>5257</td>\n      <td>2000-10-19</td>\n    </tr>\n    <tr>\n      <th>2997</th>\n      <td>False</td>\n      <td>/ayVyElr1LmiiVZjAI9fJI9pZlky.jpg</td>\n      <td>&lt;MISSING&gt;</td>\n      <td>0</td>\n      <td>&lt;MISSING&gt;</td>\n      <td>tt0378405</td>\n      <td>1.787</td>\n      <td>/hhIHuYqVSiIW8DBDoMGNSFJ54CA.jpg</td>\n      <td>Germany</td>\n      <td>0</td>\n      <td>87</td>\n      <td>Released</td>\n      <td>False</td>\n      <td>4.000</td>\n      <td>1</td>\n      <td>Deutsch</td>\n      <td>Mutter kommt in Fahrt</td>\n      <td>5258</td>\n      <td>2003-05-09</td>\n    </tr>\n    <tr>\n      <th>2998</th>\n      <td>False</td>\n      <td>/hzcwTv5I0vBmzrs6k53e5xuCuqx.jpg</td>\n      <td>&lt;MISSING&gt;</td>\n      <td>0</td>\n      <td>http://www.thebandsvisit.com</td>\n      <td>tt1032856</td>\n      <td>10.092</td>\n      <td>/gZPUNtSWnn23Zd88wxL5xzqYYqy.jpg</td>\n      <td>France, Israel, United States of America</td>\n      <td>0</td>\n      <td>83</td>\n      <td>Released</td>\n      <td>False</td>\n      <td>7.127</td>\n      <td>154</td>\n      <td>العربية, English, עִבְרִית</td>\n      <td>ביקור התזמורת</td>\n      <td>5259</td>\n      <td>2007-09-13</td>\n    </tr>\n    <tr>\n      <th>2999</th>\n      <td>False</td>\n      <td>/whKiywHUvnuzJkGQDG0KlKE8mad.jpg</td>\n      <td>&lt;MISSING&gt;</td>\n      <td>0</td>\n      <td>http://www.sonypictures.de/filme/was-tun-wenns...</td>\n      <td>tt0207198</td>\n      <td>7.466</td>\n      <td>/z6PHgCsUpcK2n7m577fSJdoIy7k.jpg</td>\n      <td>Germany</td>\n      <td>0</td>\n      <td>101</td>\n      <td>Released</td>\n      <td>False</td>\n      <td>6.225</td>\n      <td>51</td>\n      <td>Deutsch, Español</td>\n      <td>Was tun, wenn's brennt?</td>\n      <td>5261</td>\n      <td>2001-11-01</td>\n    </tr>\n  </tbody>\n</table>\n<p>3000 rows × 19 columns</p>\n</div>"
     },
     "execution_count": 331,
     "metadata": {},
     "output_type": "execute_result"
    }
   ],
   "source": [
    "metadata"
   ],
   "metadata": {
    "collapsed": false,
    "ExecuteTime": {
     "end_time": "2024-12-16T08:12:08.720466600Z",
     "start_time": "2024-12-16T08:12:08.574170100Z"
    }
   }
  },
  {
   "cell_type": "code",
   "execution_count": 331,
   "outputs": [],
   "source": [],
   "metadata": {
    "collapsed": false,
    "ExecuteTime": {
     "end_time": "2024-12-16T08:12:08.720466600Z",
     "start_time": "2024-12-16T08:12:08.592777100Z"
    }
   }
  },
  {
   "cell_type": "code",
   "execution_count": 332,
   "outputs": [
    {
     "data": {
      "text/plain": "      movie_id                         movie_title  \\\n0         3924                             Blondie   \n1         6124       Peter Voss, Thief of Millions   \n2         8773                      Love at Twenty   \n3        25449  New World Disorder 9: Never Enough   \n4        31975      Sesame Street: Elmo Loves You!   \n...        ...                                 ...   \n2995      5256                            Momentum   \n2996      5257                            The Dish   \n2997      5258               Mutter kommt in Fahrt   \n2998      5259                    The Band's Visit   \n2999      5261         What to Do in Case of Fire?   \n\n                                                   cast  \\\n0     [{\"adult\": false, \"gender\": 1, \"id\": 34178, \"k...   \n1     [{\"adult\": false, \"gender\": 2, \"id\": 48038, \"k...   \n2     [{\"adult\": false, \"gender\": 2, \"id\": 1653, \"kn...   \n3     [{\"adult\": false, \"gender\": 2, \"id\": 84130, \"k...   \n4                                                    []   \n...                                                 ...   \n2995  [{\"adult\": false, \"gender\": 2, \"id\": 20959, \"k...   \n2996  [{\"adult\": false, \"gender\": 2, \"id\": 4783, \"kn...   \n2997  [{\"adult\": false, \"gender\": 1, \"id\": 42400, \"k...   \n2998  [{\"adult\": false, \"gender\": 2, \"id\": 16604, \"k...   \n2999  [{\"adult\": false, \"gender\": 2, \"id\": 1844, \"kn...   \n\n                                                   crew  \n0     [{\"adult\": false, \"gender\": 0, \"id\": 34170, \"k...  \n1     [{\"adult\": false, \"gender\": 2, \"id\": 2902, \"kn...  \n2     [{\"adult\": false, \"gender\": 2, \"id\": 2801, \"kn...  \n3     [{\"adult\": false, \"gender\": 0, \"id\": 112786, \"...  \n4                                                    []  \n...                                                 ...  \n2995  [{\"adult\": false, \"gender\": 2, \"id\": 42369, \"k...  \n2996  [{\"adult\": false, \"gender\": 2, \"id\": 42378, \"k...  \n2997  [{\"adult\": false, \"gender\": 1, \"id\": 42395, \"k...  \n2998  [{\"adult\": false, \"gender\": 2, \"id\": 42412, \"k...  \n2999  [{\"adult\": false, \"gender\": 2, \"id\": 36869, \"k...  \n\n[3000 rows x 4 columns]",
      "text/html": "<div>\n<style scoped>\n    .dataframe tbody tr th:only-of-type {\n        vertical-align: middle;\n    }\n\n    .dataframe tbody tr th {\n        vertical-align: top;\n    }\n\n    .dataframe thead th {\n        text-align: right;\n    }\n</style>\n<table border=\"1\" class=\"dataframe\">\n  <thead>\n    <tr style=\"text-align: right;\">\n      <th></th>\n      <th>movie_id</th>\n      <th>movie_title</th>\n      <th>cast</th>\n      <th>crew</th>\n    </tr>\n  </thead>\n  <tbody>\n    <tr>\n      <th>0</th>\n      <td>3924</td>\n      <td>Blondie</td>\n      <td>[{\"adult\": false, \"gender\": 1, \"id\": 34178, \"k...</td>\n      <td>[{\"adult\": false, \"gender\": 0, \"id\": 34170, \"k...</td>\n    </tr>\n    <tr>\n      <th>1</th>\n      <td>6124</td>\n      <td>Peter Voss, Thief of Millions</td>\n      <td>[{\"adult\": false, \"gender\": 2, \"id\": 48038, \"k...</td>\n      <td>[{\"adult\": false, \"gender\": 2, \"id\": 2902, \"kn...</td>\n    </tr>\n    <tr>\n      <th>2</th>\n      <td>8773</td>\n      <td>Love at Twenty</td>\n      <td>[{\"adult\": false, \"gender\": 2, \"id\": 1653, \"kn...</td>\n      <td>[{\"adult\": false, \"gender\": 2, \"id\": 2801, \"kn...</td>\n    </tr>\n    <tr>\n      <th>3</th>\n      <td>25449</td>\n      <td>New World Disorder 9: Never Enough</td>\n      <td>[{\"adult\": false, \"gender\": 2, \"id\": 84130, \"k...</td>\n      <td>[{\"adult\": false, \"gender\": 0, \"id\": 112786, \"...</td>\n    </tr>\n    <tr>\n      <th>4</th>\n      <td>31975</td>\n      <td>Sesame Street: Elmo Loves You!</td>\n      <td>[]</td>\n      <td>[]</td>\n    </tr>\n    <tr>\n      <th>...</th>\n      <td>...</td>\n      <td>...</td>\n      <td>...</td>\n      <td>...</td>\n    </tr>\n    <tr>\n      <th>2995</th>\n      <td>5256</td>\n      <td>Momentum</td>\n      <td>[{\"adult\": false, \"gender\": 2, \"id\": 20959, \"k...</td>\n      <td>[{\"adult\": false, \"gender\": 2, \"id\": 42369, \"k...</td>\n    </tr>\n    <tr>\n      <th>2996</th>\n      <td>5257</td>\n      <td>The Dish</td>\n      <td>[{\"adult\": false, \"gender\": 2, \"id\": 4783, \"kn...</td>\n      <td>[{\"adult\": false, \"gender\": 2, \"id\": 42378, \"k...</td>\n    </tr>\n    <tr>\n      <th>2997</th>\n      <td>5258</td>\n      <td>Mutter kommt in Fahrt</td>\n      <td>[{\"adult\": false, \"gender\": 1, \"id\": 42400, \"k...</td>\n      <td>[{\"adult\": false, \"gender\": 1, \"id\": 42395, \"k...</td>\n    </tr>\n    <tr>\n      <th>2998</th>\n      <td>5259</td>\n      <td>The Band's Visit</td>\n      <td>[{\"adult\": false, \"gender\": 2, \"id\": 16604, \"k...</td>\n      <td>[{\"adult\": false, \"gender\": 2, \"id\": 42412, \"k...</td>\n    </tr>\n    <tr>\n      <th>2999</th>\n      <td>5261</td>\n      <td>What to Do in Case of Fire?</td>\n      <td>[{\"adult\": false, \"gender\": 2, \"id\": 1844, \"kn...</td>\n      <td>[{\"adult\": false, \"gender\": 2, \"id\": 36869, \"k...</td>\n    </tr>\n  </tbody>\n</table>\n<p>3000 rows × 4 columns</p>\n</div>"
     },
     "execution_count": 332,
     "metadata": {},
     "output_type": "execute_result"
    }
   ],
   "source": [
    "creds"
   ],
   "metadata": {
    "collapsed": false,
    "ExecuteTime": {
     "end_time": "2024-12-16T08:12:08.721474Z",
     "start_time": "2024-12-16T08:12:08.593779200Z"
    }
   }
  },
  {
   "cell_type": "code",
   "execution_count": 333,
   "outputs": [],
   "source": [
    "def extract_actors(cast, jload = True):\n",
    "    cast = json.loads(cast) if jload else cast\n",
    "    res = []\n",
    "    for d in cast:\n",
    "        if d['known_for_department'] == \"Acting\":\n",
    "            res.append(d['name'])\n",
    "    res = res[:10]\n",
    "    return \", \".join(res).strip()\n",
    "def extract_director(crew, jload = True):\n",
    "    crew = json.loads(crew) if jload else crew\n",
    "    res = []\n",
    "    for d in crew:\n",
    "        if d['job'] == 'Director':\n",
    "            res.append(d['name'])\n",
    "    res = res[:10]\n",
    "    return \", \".join(res).strip()\n",
    "def extract_writer(crew, jload = True):\n",
    "    crew = json.loads(crew) if jload else crew\n",
    "    res = []\n",
    "    for d in crew:\n",
    "        if d['job'] == 'Writer':\n",
    "            res.append(d['name'])\n",
    "    res = res[:10]\n",
    "    return \", \".join(res).strip()\n",
    "def get_crew(entry, jload = True):\n",
    "    entry = json.loads(entry) if jload else entry\n",
    "    res = []\n",
    "    for d in entry:\n",
    "        res.append(f\"{d['job']}: {d['name']}\")\n",
    "    res.sort()\n",
    "    return \", \".join(res)"
   ],
   "metadata": {
    "collapsed": false,
    "ExecuteTime": {
     "end_time": "2024-12-16T08:12:08.721474Z",
     "start_time": "2024-12-16T08:12:08.599888200Z"
    }
   }
  },
  {
   "cell_type": "code",
   "execution_count": 334,
   "outputs": [],
   "source": [
    "creds['writers'] = creds['crew'].apply(extract_writer)\n",
    "creds['directors'] = creds['crew'].apply(extract_director)\n",
    "creds['actors'] = creds['cast'].apply(extract_actors)\n",
    "creds['cast'] = creds['cast'].apply(process_list_dict)\n",
    "creds['crew'] = creds['crew'].apply(get_crew)"
   ],
   "metadata": {
    "collapsed": false,
    "ExecuteTime": {
     "end_time": "2024-12-16T08:12:10.039435500Z",
     "start_time": "2024-12-16T08:12:08.607041600Z"
    }
   }
  },
  {
   "cell_type": "code",
   "execution_count": 338,
   "outputs": [],
   "source": [
    "set_na(creds)"
   ],
   "metadata": {
    "collapsed": false,
    "ExecuteTime": {
     "end_time": "2024-12-16T08:13:37.510253600Z",
     "start_time": "2024-12-16T08:13:37.484973100Z"
    }
   }
  },
  {
   "cell_type": "code",
   "execution_count": 339,
   "outputs": [
    {
     "data": {
      "text/plain": "      movie_id                         movie_title  \\\n0         3924                             Blondie   \n1         6124       Peter Voss, Thief of Millions   \n2         8773                      Love at Twenty   \n3        25449  New World Disorder 9: Never Enough   \n4        31975      Sesame Street: Elmo Loves You!   \n...        ...                                 ...   \n2995      5256                            Momentum   \n2996      5257                            The Dish   \n2997      5258               Mutter kommt in Fahrt   \n2998      5259                    The Band's Visit   \n2999      5261         What to Do in Case of Fire?   \n\n                                                   cast  \\\n0     Penny Singleton, Arthur Lake, Larry Simms, Dai...   \n1     Harry Liedtke, Georg Alexander, Mady Christian...   \n2     Jean-Pierre Léaud, Marie-France Pisier, Patric...   \n3     Darren Berrecloth, Cameron McCaul, Paul Basago...   \n4                                             <MISSING>   \n...                                                 ...   \n2995  Louis Gossett Jr., Teri Hatcher, Grayson McCou...   \n2996  Sam Neill, Patrick Warburton, Kevin Harrington...   \n2997  Gila von Weitershausen, Elmar Wepper, Jeanne T...   \n2998  Sasson Gabai, Ronit Elkabetz, Khalifa Natour, ...   \n2999  Til Schweiger, Doris Schretzmayer, Sebastian B...   \n\n                                                   crew  \\\n0     Director: Frank R. Strayer, Screenplay: Richar...   \n1     Director of Photography: Frederik Fuglsang, Di...   \n2     Assistant Camera: Charles L. Bitsch, Assistant...   \n3                            Director: Derek Westerlund   \n4                                             <MISSING>   \n...                                                 ...   \n2995  Art Direction: Dick Gardner, Assistant Costume...   \n2996  Casting: Jane Kennedy, Director of Photography...   \n2997  Director of Photography: Axel Henschel, Direct...   \n2998  Assistant Camera: Idan Or, Casting: Orit Azoul...   \n2999  Author: Anne Wild, Author: Stefan Dähnert, Dir...   \n\n                                                writers  \\\n0                                             <MISSING>   \n1                                             <MISSING>   \n2     Jerzy Stefan Stawiński, François Truffaut, Yvo...   \n3                                             <MISSING>   \n4                                             <MISSING>   \n...                                                 ...   \n2995                                          <MISSING>   \n2996                                          <MISSING>   \n2997                                          <MISSING>   \n2998                                          <MISSING>   \n2999                                          <MISSING>   \n\n                                              directors  \\\n0                                      Frank R. Strayer   \n1                                          Georg Jacoby   \n2     Andrzej Wajda, François Truffaut, Marcel Ophül...   \n3                                      Derek Westerlund   \n4                                             <MISSING>   \n...                                                 ...   \n2995                                        James Seale   \n2996                                          Rob Sitch   \n2997                                      Ariane Zeller   \n2998                                       Eran Kolirin   \n2999                                  Gregor Schnitzler   \n\n                                                 actors  \n0     Penny Singleton, Arthur Lake, Larry Simms, Dai...  \n1     Harry Liedtke, Georg Alexander, Mady Christian...  \n2     Jean-Pierre Léaud, Marie-France Pisier, Patric...  \n3     Darren Berrecloth, Cameron McCaul, Paul Basago...  \n4                                             <MISSING>  \n...                                                 ...  \n2995  Louis Gossett Jr., Teri Hatcher, Grayson McCou...  \n2996  Sam Neill, Patrick Warburton, Kevin Harrington...  \n2997  Gila von Weitershausen, Elmar Wepper, Jeanne T...  \n2998  Sasson Gabai, Ronit Elkabetz, Khalifa Natour, ...  \n2999  Til Schweiger, Doris Schretzmayer, Sebastian B...  \n\n[3000 rows x 7 columns]",
      "text/html": "<div>\n<style scoped>\n    .dataframe tbody tr th:only-of-type {\n        vertical-align: middle;\n    }\n\n    .dataframe tbody tr th {\n        vertical-align: top;\n    }\n\n    .dataframe thead th {\n        text-align: right;\n    }\n</style>\n<table border=\"1\" class=\"dataframe\">\n  <thead>\n    <tr style=\"text-align: right;\">\n      <th></th>\n      <th>movie_id</th>\n      <th>movie_title</th>\n      <th>cast</th>\n      <th>crew</th>\n      <th>writers</th>\n      <th>directors</th>\n      <th>actors</th>\n    </tr>\n  </thead>\n  <tbody>\n    <tr>\n      <th>0</th>\n      <td>3924</td>\n      <td>Blondie</td>\n      <td>Penny Singleton, Arthur Lake, Larry Simms, Dai...</td>\n      <td>Director: Frank R. Strayer, Screenplay: Richar...</td>\n      <td>&lt;MISSING&gt;</td>\n      <td>Frank R. Strayer</td>\n      <td>Penny Singleton, Arthur Lake, Larry Simms, Dai...</td>\n    </tr>\n    <tr>\n      <th>1</th>\n      <td>6124</td>\n      <td>Peter Voss, Thief of Millions</td>\n      <td>Harry Liedtke, Georg Alexander, Mady Christian...</td>\n      <td>Director of Photography: Frederik Fuglsang, Di...</td>\n      <td>&lt;MISSING&gt;</td>\n      <td>Georg Jacoby</td>\n      <td>Harry Liedtke, Georg Alexander, Mady Christian...</td>\n    </tr>\n    <tr>\n      <th>2</th>\n      <td>8773</td>\n      <td>Love at Twenty</td>\n      <td>Jean-Pierre Léaud, Marie-France Pisier, Patric...</td>\n      <td>Assistant Camera: Charles L. Bitsch, Assistant...</td>\n      <td>Jerzy Stefan Stawiński, François Truffaut, Yvo...</td>\n      <td>Andrzej Wajda, François Truffaut, Marcel Ophül...</td>\n      <td>Jean-Pierre Léaud, Marie-France Pisier, Patric...</td>\n    </tr>\n    <tr>\n      <th>3</th>\n      <td>25449</td>\n      <td>New World Disorder 9: Never Enough</td>\n      <td>Darren Berrecloth, Cameron McCaul, Paul Basago...</td>\n      <td>Director: Derek Westerlund</td>\n      <td>&lt;MISSING&gt;</td>\n      <td>Derek Westerlund</td>\n      <td>Darren Berrecloth, Cameron McCaul, Paul Basago...</td>\n    </tr>\n    <tr>\n      <th>4</th>\n      <td>31975</td>\n      <td>Sesame Street: Elmo Loves You!</td>\n      <td>&lt;MISSING&gt;</td>\n      <td>&lt;MISSING&gt;</td>\n      <td>&lt;MISSING&gt;</td>\n      <td>&lt;MISSING&gt;</td>\n      <td>&lt;MISSING&gt;</td>\n    </tr>\n    <tr>\n      <th>...</th>\n      <td>...</td>\n      <td>...</td>\n      <td>...</td>\n      <td>...</td>\n      <td>...</td>\n      <td>...</td>\n      <td>...</td>\n    </tr>\n    <tr>\n      <th>2995</th>\n      <td>5256</td>\n      <td>Momentum</td>\n      <td>Louis Gossett Jr., Teri Hatcher, Grayson McCou...</td>\n      <td>Art Direction: Dick Gardner, Assistant Costume...</td>\n      <td>&lt;MISSING&gt;</td>\n      <td>James Seale</td>\n      <td>Louis Gossett Jr., Teri Hatcher, Grayson McCou...</td>\n    </tr>\n    <tr>\n      <th>2996</th>\n      <td>5257</td>\n      <td>The Dish</td>\n      <td>Sam Neill, Patrick Warburton, Kevin Harrington...</td>\n      <td>Casting: Jane Kennedy, Director of Photography...</td>\n      <td>&lt;MISSING&gt;</td>\n      <td>Rob Sitch</td>\n      <td>Sam Neill, Patrick Warburton, Kevin Harrington...</td>\n    </tr>\n    <tr>\n      <th>2997</th>\n      <td>5258</td>\n      <td>Mutter kommt in Fahrt</td>\n      <td>Gila von Weitershausen, Elmar Wepper, Jeanne T...</td>\n      <td>Director of Photography: Axel Henschel, Direct...</td>\n      <td>&lt;MISSING&gt;</td>\n      <td>Ariane Zeller</td>\n      <td>Gila von Weitershausen, Elmar Wepper, Jeanne T...</td>\n    </tr>\n    <tr>\n      <th>2998</th>\n      <td>5259</td>\n      <td>The Band's Visit</td>\n      <td>Sasson Gabai, Ronit Elkabetz, Khalifa Natour, ...</td>\n      <td>Assistant Camera: Idan Or, Casting: Orit Azoul...</td>\n      <td>&lt;MISSING&gt;</td>\n      <td>Eran Kolirin</td>\n      <td>Sasson Gabai, Ronit Elkabetz, Khalifa Natour, ...</td>\n    </tr>\n    <tr>\n      <th>2999</th>\n      <td>5261</td>\n      <td>What to Do in Case of Fire?</td>\n      <td>Til Schweiger, Doris Schretzmayer, Sebastian B...</td>\n      <td>Author: Anne Wild, Author: Stefan Dähnert, Dir...</td>\n      <td>&lt;MISSING&gt;</td>\n      <td>Gregor Schnitzler</td>\n      <td>Til Schweiger, Doris Schretzmayer, Sebastian B...</td>\n    </tr>\n  </tbody>\n</table>\n<p>3000 rows × 7 columns</p>\n</div>"
     },
     "execution_count": 339,
     "metadata": {},
     "output_type": "execute_result"
    }
   ],
   "source": [
    "creds"
   ],
   "metadata": {
    "collapsed": false,
    "ExecuteTime": {
     "end_time": "2024-12-16T08:13:38.166725200Z",
     "start_time": "2024-12-16T08:13:38.143738600Z"
    }
   }
  },
  {
   "cell_type": "code",
   "execution_count": 341,
   "outputs": [],
   "source": [
    "metadata = pd.merge(metadata, creds[['movie_id', 'cast', 'crew']], left_on='id', right_on='movie_id', how='outer')"
   ],
   "metadata": {
    "collapsed": false,
    "ExecuteTime": {
     "end_time": "2024-12-16T08:13:54.442282900Z",
     "start_time": "2024-12-16T08:13:54.415056600Z"
    }
   }
  },
  {
   "cell_type": "code",
   "execution_count": 342,
   "outputs": [
    {
     "data": {
      "text/plain": "   adult                     backdrop_path             belongs_to_collection  \\\n0  False  /hQ4pYsIbP22TMXOUdSfC2mjWrO0.jpg  Kaurismäki's Proletariat Trilogy   \n1  False  /l94l89eMmFKh7na2a1u5q67VgNx.jpg  Kaurismäki's Proletariat Trilogy   \n2  False  /f2t4JbUvQIjUF5FstG1zZFAp02N.jpg                         <MISSING>   \n3  False  /bGMqHn0H2UY6SPZ5Vch4YJM2jDO.jpg                         <MISSING>   \n4  False                         <MISSING>                         <MISSING>   \n\n     budget                                   homepage    imdb_id  popularity  \\\n0         0                                  <MISSING>  tt0094675      11.403   \n1         0                                  <MISSING>  tt0092149       7.066   \n2   4000000  https://www.miramax.com/movie/four-rooms/  tt0113101      15.843   \n3  21000000                                  <MISSING>  tt0107286      12.929   \n4     42000                     http://lifeinloops.com  tt0825671       4.073   \n\n                        poster_path      production_countries   revenue  ...  \\\n0  /ojDg0PGvs6R9xYFodRct2kdI6wC.jpg                   Finland         0  ...   \n1  /nj01hspawPof0mJmlgfjuLyJuRN.jpg                   Finland         0  ...   \n2  /75aHn1NOYXh4M7L5shoeQ6NGykP.jpg  United States of America   4257354  ...   \n3  /3rvvpS9YPM5HB2f4HYiNiJVtdam.jpg  United States of America  12136938  ...   \n4  /7ln81BRnPR2wqxuITZxEciCe1lc.jpg                   Austria         0  ...   \n\n   video vote_average  vote_count                        spoken_languages  \\\n0  False        7.100         336                                   suomi   \n1  False        7.297         399                 suomi, English, svenska   \n2  False        5.853        2639                                 English   \n3  False        6.500         331                                 English   \n4  False        7.300          28  English, हिन्दी, 日本語, Pусский, Español   \n\n                     original_title id release_date  movie_id  \\\n0                             Ariel  2   1988-10-21         2   \n1              Varjoja paratiisissa  3   1986-10-17         3   \n2                        Four Rooms  5   1995-12-09         5   \n3                    Judgment Night  6   1993-10-15         6   \n4  Life in Loops (A Megacities RMX)  8   2006-01-01         8   \n\n                                                cast  \\\n0  Turo Pajala, Susanna Haavisto, Matti Pellonpää...   \n1  Matti Pellonpää, Kati Outinen, Sakari Kuosmane...   \n2  Tim Roth, Jennifer Beals, Antonio Banderas, Va...   \n3  Emilio Estevez, Cuba Gooding Jr., Denis Leary,...   \n4                                          <MISSING>   \n\n                                                crew  \n0  Additional Music: Dmitri Shostakovich, Additio...  \n1  Assistant Camera: Heikki Ortamo, Assistant Cam...  \n2  ADR Editor: Zack Davis, ADR Mixer: Christina T...  \n3  Art Direction: Dan Olexiewicz, Associate Produ...  \n4  Director of Photography: Wolfgang Thaler, Dire...  \n\n[5 rows x 22 columns]",
      "text/html": "<div>\n<style scoped>\n    .dataframe tbody tr th:only-of-type {\n        vertical-align: middle;\n    }\n\n    .dataframe tbody tr th {\n        vertical-align: top;\n    }\n\n    .dataframe thead th {\n        text-align: right;\n    }\n</style>\n<table border=\"1\" class=\"dataframe\">\n  <thead>\n    <tr style=\"text-align: right;\">\n      <th></th>\n      <th>adult</th>\n      <th>backdrop_path</th>\n      <th>belongs_to_collection</th>\n      <th>budget</th>\n      <th>homepage</th>\n      <th>imdb_id</th>\n      <th>popularity</th>\n      <th>poster_path</th>\n      <th>production_countries</th>\n      <th>revenue</th>\n      <th>...</th>\n      <th>video</th>\n      <th>vote_average</th>\n      <th>vote_count</th>\n      <th>spoken_languages</th>\n      <th>original_title</th>\n      <th>id</th>\n      <th>release_date</th>\n      <th>movie_id</th>\n      <th>cast</th>\n      <th>crew</th>\n    </tr>\n  </thead>\n  <tbody>\n    <tr>\n      <th>0</th>\n      <td>False</td>\n      <td>/hQ4pYsIbP22TMXOUdSfC2mjWrO0.jpg</td>\n      <td>Kaurismäki's Proletariat Trilogy</td>\n      <td>0</td>\n      <td>&lt;MISSING&gt;</td>\n      <td>tt0094675</td>\n      <td>11.403</td>\n      <td>/ojDg0PGvs6R9xYFodRct2kdI6wC.jpg</td>\n      <td>Finland</td>\n      <td>0</td>\n      <td>...</td>\n      <td>False</td>\n      <td>7.100</td>\n      <td>336</td>\n      <td>suomi</td>\n      <td>Ariel</td>\n      <td>2</td>\n      <td>1988-10-21</td>\n      <td>2</td>\n      <td>Turo Pajala, Susanna Haavisto, Matti Pellonpää...</td>\n      <td>Additional Music: Dmitri Shostakovich, Additio...</td>\n    </tr>\n    <tr>\n      <th>1</th>\n      <td>False</td>\n      <td>/l94l89eMmFKh7na2a1u5q67VgNx.jpg</td>\n      <td>Kaurismäki's Proletariat Trilogy</td>\n      <td>0</td>\n      <td>&lt;MISSING&gt;</td>\n      <td>tt0092149</td>\n      <td>7.066</td>\n      <td>/nj01hspawPof0mJmlgfjuLyJuRN.jpg</td>\n      <td>Finland</td>\n      <td>0</td>\n      <td>...</td>\n      <td>False</td>\n      <td>7.297</td>\n      <td>399</td>\n      <td>suomi, English, svenska</td>\n      <td>Varjoja paratiisissa</td>\n      <td>3</td>\n      <td>1986-10-17</td>\n      <td>3</td>\n      <td>Matti Pellonpää, Kati Outinen, Sakari Kuosmane...</td>\n      <td>Assistant Camera: Heikki Ortamo, Assistant Cam...</td>\n    </tr>\n    <tr>\n      <th>2</th>\n      <td>False</td>\n      <td>/f2t4JbUvQIjUF5FstG1zZFAp02N.jpg</td>\n      <td>&lt;MISSING&gt;</td>\n      <td>4000000</td>\n      <td>https://www.miramax.com/movie/four-rooms/</td>\n      <td>tt0113101</td>\n      <td>15.843</td>\n      <td>/75aHn1NOYXh4M7L5shoeQ6NGykP.jpg</td>\n      <td>United States of America</td>\n      <td>4257354</td>\n      <td>...</td>\n      <td>False</td>\n      <td>5.853</td>\n      <td>2639</td>\n      <td>English</td>\n      <td>Four Rooms</td>\n      <td>5</td>\n      <td>1995-12-09</td>\n      <td>5</td>\n      <td>Tim Roth, Jennifer Beals, Antonio Banderas, Va...</td>\n      <td>ADR Editor: Zack Davis, ADR Mixer: Christina T...</td>\n    </tr>\n    <tr>\n      <th>3</th>\n      <td>False</td>\n      <td>/bGMqHn0H2UY6SPZ5Vch4YJM2jDO.jpg</td>\n      <td>&lt;MISSING&gt;</td>\n      <td>21000000</td>\n      <td>&lt;MISSING&gt;</td>\n      <td>tt0107286</td>\n      <td>12.929</td>\n      <td>/3rvvpS9YPM5HB2f4HYiNiJVtdam.jpg</td>\n      <td>United States of America</td>\n      <td>12136938</td>\n      <td>...</td>\n      <td>False</td>\n      <td>6.500</td>\n      <td>331</td>\n      <td>English</td>\n      <td>Judgment Night</td>\n      <td>6</td>\n      <td>1993-10-15</td>\n      <td>6</td>\n      <td>Emilio Estevez, Cuba Gooding Jr., Denis Leary,...</td>\n      <td>Art Direction: Dan Olexiewicz, Associate Produ...</td>\n    </tr>\n    <tr>\n      <th>4</th>\n      <td>False</td>\n      <td>&lt;MISSING&gt;</td>\n      <td>&lt;MISSING&gt;</td>\n      <td>42000</td>\n      <td>http://lifeinloops.com</td>\n      <td>tt0825671</td>\n      <td>4.073</td>\n      <td>/7ln81BRnPR2wqxuITZxEciCe1lc.jpg</td>\n      <td>Austria</td>\n      <td>0</td>\n      <td>...</td>\n      <td>False</td>\n      <td>7.300</td>\n      <td>28</td>\n      <td>English, हिन्दी, 日本語, Pусский, Español</td>\n      <td>Life in Loops (A Megacities RMX)</td>\n      <td>8</td>\n      <td>2006-01-01</td>\n      <td>8</td>\n      <td>&lt;MISSING&gt;</td>\n      <td>Director of Photography: Wolfgang Thaler, Dire...</td>\n    </tr>\n  </tbody>\n</table>\n<p>5 rows × 22 columns</p>\n</div>"
     },
     "execution_count": 342,
     "metadata": {},
     "output_type": "execute_result"
    }
   ],
   "source": [
    "metadata.head()"
   ],
   "metadata": {
    "collapsed": false,
    "ExecuteTime": {
     "end_time": "2024-12-16T08:13:58.535073600Z",
     "start_time": "2024-12-16T08:13:58.486355700Z"
    }
   }
  },
  {
   "cell_type": "code",
   "execution_count": 344,
   "outputs": [
    {
     "data": {
      "text/plain": "   movie_id                         movie_title  \\\n0      3924                             Blondie   \n1      6124       Peter Voss, Thief of Millions   \n2      8773                      Love at Twenty   \n3     25449  New World Disorder 9: Never Enough   \n4     31975      Sesame Street: Elmo Loves You!   \n\n                                             writers  \\\n0                                          <MISSING>   \n1                                          <MISSING>   \n2  Jerzy Stefan Stawiński, François Truffaut, Yvo...   \n3                                          <MISSING>   \n4                                          <MISSING>   \n\n                                           directors  \\\n0                                   Frank R. Strayer   \n1                                       Georg Jacoby   \n2  Andrzej Wajda, François Truffaut, Marcel Ophül...   \n3                                   Derek Westerlund   \n4                                          <MISSING>   \n\n                                              actors  \n0  Penny Singleton, Arthur Lake, Larry Simms, Dai...  \n1  Harry Liedtke, Georg Alexander, Mady Christian...  \n2  Jean-Pierre Léaud, Marie-France Pisier, Patric...  \n3  Darren Berrecloth, Cameron McCaul, Paul Basago...  \n4                                          <MISSING>  ",
      "text/html": "<div>\n<style scoped>\n    .dataframe tbody tr th:only-of-type {\n        vertical-align: middle;\n    }\n\n    .dataframe tbody tr th {\n        vertical-align: top;\n    }\n\n    .dataframe thead th {\n        text-align: right;\n    }\n</style>\n<table border=\"1\" class=\"dataframe\">\n  <thead>\n    <tr style=\"text-align: right;\">\n      <th></th>\n      <th>movie_id</th>\n      <th>movie_title</th>\n      <th>writers</th>\n      <th>directors</th>\n      <th>actors</th>\n    </tr>\n  </thead>\n  <tbody>\n    <tr>\n      <th>0</th>\n      <td>3924</td>\n      <td>Blondie</td>\n      <td>&lt;MISSING&gt;</td>\n      <td>Frank R. Strayer</td>\n      <td>Penny Singleton, Arthur Lake, Larry Simms, Dai...</td>\n    </tr>\n    <tr>\n      <th>1</th>\n      <td>6124</td>\n      <td>Peter Voss, Thief of Millions</td>\n      <td>&lt;MISSING&gt;</td>\n      <td>Georg Jacoby</td>\n      <td>Harry Liedtke, Georg Alexander, Mady Christian...</td>\n    </tr>\n    <tr>\n      <th>2</th>\n      <td>8773</td>\n      <td>Love at Twenty</td>\n      <td>Jerzy Stefan Stawiński, François Truffaut, Yvo...</td>\n      <td>Andrzej Wajda, François Truffaut, Marcel Ophül...</td>\n      <td>Jean-Pierre Léaud, Marie-France Pisier, Patric...</td>\n    </tr>\n    <tr>\n      <th>3</th>\n      <td>25449</td>\n      <td>New World Disorder 9: Never Enough</td>\n      <td>&lt;MISSING&gt;</td>\n      <td>Derek Westerlund</td>\n      <td>Darren Berrecloth, Cameron McCaul, Paul Basago...</td>\n    </tr>\n    <tr>\n      <th>4</th>\n      <td>31975</td>\n      <td>Sesame Street: Elmo Loves You!</td>\n      <td>&lt;MISSING&gt;</td>\n      <td>&lt;MISSING&gt;</td>\n      <td>&lt;MISSING&gt;</td>\n    </tr>\n  </tbody>\n</table>\n</div>"
     },
     "execution_count": 344,
     "metadata": {},
     "output_type": "execute_result"
    }
   ],
   "source": [
    "creds = creds.drop(columns=['crew', 'cast'])\n",
    "creds.head()"
   ],
   "metadata": {
    "collapsed": false,
    "ExecuteTime": {
     "end_time": "2024-12-16T08:14:39.004709100Z",
     "start_time": "2024-12-16T08:14:38.992279700Z"
    }
   }
  },
  {
   "cell_type": "code",
   "execution_count": 346,
   "outputs": [],
   "source": [
    "movies = pd.merge(movies, creds.drop(columns=['movie_title']), left_on='id', right_on='movie_id', how='outer' ).drop(columns='movie_id')"
   ],
   "metadata": {
    "collapsed": false,
    "ExecuteTime": {
     "end_time": "2024-12-16T08:16:32.543028100Z",
     "start_time": "2024-12-16T08:16:32.526903200Z"
    }
   }
  },
  {
   "cell_type": "code",
   "execution_count": 350,
   "outputs": [
    {
     "data": {
      "text/plain": "                          genres  id origin_country original_language  \\\n0  Comedy, Drama, Romance, Crime   2             FI                fi   \n1         Comedy, Drama, Romance   3             FI                fi   \n2                         Comedy   5             US                en   \n3        Action, Crime, Thriller   6             US                en   \n4                    Documentary   8             AT                en   \n\n                                            overview  \\\n0  After the coal mine he works at closes and his...   \n1  Nikander, a rubbish collector and would-be ent...   \n2  It's Ted the Bellhop's first night on the job....   \n3  Four young friends, while taking a shortcut en...   \n4  Timo Novotny labels his new project an experim...   \n\n                           production_companies  \\\n0                     Villealfa Filmproductions   \n1                     Villealfa Filmproductions   \n2                         Miramax, A Band Apart   \n3  Largo Entertainment, JVC, Universal Pictures   \n4                                       inLoops   \n\n                                             tagline  \\\n0                                          <MISSING>   \n1                                          <MISSING>   \n2  Twelve outrageous guests. Four scandalous requ...   \n3     Don't move. Don't whisper. Don't even breathe.   \n4                                A Megacities remix.   \n\n                              title  \\\n0                             Ariel   \n1               Shadows in Paradise   \n2                        Four Rooms   \n3                    Judgment Night   \n4  Life in Loops (A Megacities RMX)   \n\n                                            keywords  release_year  \\\n0  prison, underdog, helsinki, finland, factory w...          1988   \n1             helsinki, finland, salesclerk, garbage          1986   \n2  hotel, new year's eve, witch, bet, sperm, hote...          1995   \n3  drug dealer, chicago, illinois, escape, one ni...          1993   \n4                                         megacities          2006   \n\n                                             writers  \\\n0                                     Aki Kaurismäki   \n1                                     Aki Kaurismäki   \n2  Allison Anders, Alexandre Rockwell, Robert Rod...   \n3                                          <MISSING>   \n4                                          <MISSING>   \n\n                                           directors  \\\n0                                     Aki Kaurismäki   \n1                                     Aki Kaurismäki   \n2  Allison Anders, Alexandre Rockwell, Robert Rod...   \n3                                    Stephen Hopkins   \n4                                       Timo Novotny   \n\n                                              actors  \n0  Turo Pajala, Susanna Haavisto, Matti Pellonpää...  \n1  Matti Pellonpää, Kati Outinen, Sakari Kuosmane...  \n2  Tim Roth, Jennifer Beals, Antonio Banderas, Va...  \n3  Emilio Estevez, Cuba Gooding Jr., Denis Leary,...  \n4                                          <MISSING>  ",
      "text/html": "<div>\n<style scoped>\n    .dataframe tbody tr th:only-of-type {\n        vertical-align: middle;\n    }\n\n    .dataframe tbody tr th {\n        vertical-align: top;\n    }\n\n    .dataframe thead th {\n        text-align: right;\n    }\n</style>\n<table border=\"1\" class=\"dataframe\">\n  <thead>\n    <tr style=\"text-align: right;\">\n      <th></th>\n      <th>genres</th>\n      <th>id</th>\n      <th>origin_country</th>\n      <th>original_language</th>\n      <th>overview</th>\n      <th>production_companies</th>\n      <th>tagline</th>\n      <th>title</th>\n      <th>keywords</th>\n      <th>release_year</th>\n      <th>writers</th>\n      <th>directors</th>\n      <th>actors</th>\n    </tr>\n  </thead>\n  <tbody>\n    <tr>\n      <th>0</th>\n      <td>Comedy, Drama, Romance, Crime</td>\n      <td>2</td>\n      <td>FI</td>\n      <td>fi</td>\n      <td>After the coal mine he works at closes and his...</td>\n      <td>Villealfa Filmproductions</td>\n      <td>&lt;MISSING&gt;</td>\n      <td>Ariel</td>\n      <td>prison, underdog, helsinki, finland, factory w...</td>\n      <td>1988</td>\n      <td>Aki Kaurismäki</td>\n      <td>Aki Kaurismäki</td>\n      <td>Turo Pajala, Susanna Haavisto, Matti Pellonpää...</td>\n    </tr>\n    <tr>\n      <th>1</th>\n      <td>Comedy, Drama, Romance</td>\n      <td>3</td>\n      <td>FI</td>\n      <td>fi</td>\n      <td>Nikander, a rubbish collector and would-be ent...</td>\n      <td>Villealfa Filmproductions</td>\n      <td>&lt;MISSING&gt;</td>\n      <td>Shadows in Paradise</td>\n      <td>helsinki, finland, salesclerk, garbage</td>\n      <td>1986</td>\n      <td>Aki Kaurismäki</td>\n      <td>Aki Kaurismäki</td>\n      <td>Matti Pellonpää, Kati Outinen, Sakari Kuosmane...</td>\n    </tr>\n    <tr>\n      <th>2</th>\n      <td>Comedy</td>\n      <td>5</td>\n      <td>US</td>\n      <td>en</td>\n      <td>It's Ted the Bellhop's first night on the job....</td>\n      <td>Miramax, A Band Apart</td>\n      <td>Twelve outrageous guests. Four scandalous requ...</td>\n      <td>Four Rooms</td>\n      <td>hotel, new year's eve, witch, bet, sperm, hote...</td>\n      <td>1995</td>\n      <td>Allison Anders, Alexandre Rockwell, Robert Rod...</td>\n      <td>Allison Anders, Alexandre Rockwell, Robert Rod...</td>\n      <td>Tim Roth, Jennifer Beals, Antonio Banderas, Va...</td>\n    </tr>\n    <tr>\n      <th>3</th>\n      <td>Action, Crime, Thriller</td>\n      <td>6</td>\n      <td>US</td>\n      <td>en</td>\n      <td>Four young friends, while taking a shortcut en...</td>\n      <td>Largo Entertainment, JVC, Universal Pictures</td>\n      <td>Don't move. Don't whisper. Don't even breathe.</td>\n      <td>Judgment Night</td>\n      <td>drug dealer, chicago, illinois, escape, one ni...</td>\n      <td>1993</td>\n      <td>&lt;MISSING&gt;</td>\n      <td>Stephen Hopkins</td>\n      <td>Emilio Estevez, Cuba Gooding Jr., Denis Leary,...</td>\n    </tr>\n    <tr>\n      <th>4</th>\n      <td>Documentary</td>\n      <td>8</td>\n      <td>AT</td>\n      <td>en</td>\n      <td>Timo Novotny labels his new project an experim...</td>\n      <td>inLoops</td>\n      <td>A Megacities remix.</td>\n      <td>Life in Loops (A Megacities RMX)</td>\n      <td>megacities</td>\n      <td>2006</td>\n      <td>&lt;MISSING&gt;</td>\n      <td>Timo Novotny</td>\n      <td>&lt;MISSING&gt;</td>\n    </tr>\n  </tbody>\n</table>\n</div>"
     },
     "execution_count": 350,
     "metadata": {},
     "output_type": "execute_result"
    }
   ],
   "source": [
    "movies.head()"
   ],
   "metadata": {
    "collapsed": false,
    "ExecuteTime": {
     "end_time": "2024-12-16T08:18:47.353148Z",
     "start_time": "2024-12-16T08:18:47.325956700Z"
    }
   }
  },
  {
   "cell_type": "code",
   "execution_count": 351,
   "outputs": [
    {
     "data": {
      "text/plain": "Index(['genres', 'id', 'origin_country', 'original_language', 'overview',\n       'production_companies', 'tagline', 'title', 'keywords', 'release_year',\n       'writers', 'directors', 'actors'],\n      dtype='object')"
     },
     "execution_count": 351,
     "metadata": {},
     "output_type": "execute_result"
    }
   ],
   "source": [
    "movies.columns"
   ],
   "metadata": {
    "collapsed": false,
    "ExecuteTime": {
     "end_time": "2024-12-16T08:19:15.319360200Z",
     "start_time": "2024-12-16T08:19:15.280508100Z"
    }
   }
  },
  {
   "cell_type": "code",
   "execution_count": 364,
   "outputs": [
    {
     "data": {
      "text/plain": "                          genres  id origin_country original_language  \\\n0  Comedy, Drama, Romance, Crime   2             FI                fi   \n1         Comedy, Drama, Romance   3             FI                fi   \n2                         Comedy   5             US                en   \n3        Action, Crime, Thriller   6             US                en   \n4                    Documentary   8             AT                en   \n\n                                            overview  \\\n0  After the coal mine he works at closes and his...   \n1  Nikander, a rubbish collector and would-be ent...   \n2  It's Ted the Bellhop's first night on the job....   \n3  Four young friends, while taking a shortcut en...   \n4  Timo Novotny labels his new project an experim...   \n\n                           production_companies  \\\n0                     Villealfa Filmproductions   \n1                     Villealfa Filmproductions   \n2                         Miramax, A Band Apart   \n3  Largo Entertainment, JVC, Universal Pictures   \n4                                       inLoops   \n\n                                             tagline  \\\n0                                          <MISSING>   \n1                                          <MISSING>   \n2  Twelve outrageous guests. Four scandalous requ...   \n3     Don't move. Don't whisper. Don't even breathe.   \n4                                A Megacities remix.   \n\n                              title  \\\n0                             Ariel   \n1               Shadows in Paradise   \n2                        Four Rooms   \n3                    Judgment Night   \n4  Life in Loops (A Megacities RMX)   \n\n                                            keywords  release_year  \\\n0  prison, underdog, helsinki, finland, factory w...          1988   \n1             helsinki, finland, salesclerk, garbage          1986   \n2  hotel, new year's eve, witch, bet, sperm, hote...          1995   \n3  drug dealer, chicago, illinois, escape, one ni...          1993   \n4                                         megacities          2006   \n\n                                             writers  \\\n0                                     Aki Kaurismäki   \n1                                     Aki Kaurismäki   \n2  Allison Anders, Alexandre Rockwell, Robert Rod...   \n3                                          <MISSING>   \n4                                          <MISSING>   \n\n                                           directors  \\\n0                                     Aki Kaurismäki   \n1                                     Aki Kaurismäki   \n2  Allison Anders, Alexandre Rockwell, Robert Rod...   \n3                                    Stephen Hopkins   \n4                                       Timo Novotny   \n\n                                              actors  \n0  Turo Pajala, Susanna Haavisto, Matti Pellonpää...  \n1  Matti Pellonpää, Kati Outinen, Sakari Kuosmane...  \n2  Tim Roth, Jennifer Beals, Antonio Banderas, Va...  \n3  Emilio Estevez, Cuba Gooding Jr., Denis Leary,...  \n4                                          <MISSING>  ",
      "text/html": "<div>\n<style scoped>\n    .dataframe tbody tr th:only-of-type {\n        vertical-align: middle;\n    }\n\n    .dataframe tbody tr th {\n        vertical-align: top;\n    }\n\n    .dataframe thead th {\n        text-align: right;\n    }\n</style>\n<table border=\"1\" class=\"dataframe\">\n  <thead>\n    <tr style=\"text-align: right;\">\n      <th></th>\n      <th>genres</th>\n      <th>id</th>\n      <th>origin_country</th>\n      <th>original_language</th>\n      <th>overview</th>\n      <th>production_companies</th>\n      <th>tagline</th>\n      <th>title</th>\n      <th>keywords</th>\n      <th>release_year</th>\n      <th>writers</th>\n      <th>directors</th>\n      <th>actors</th>\n    </tr>\n  </thead>\n  <tbody>\n    <tr>\n      <th>0</th>\n      <td>Comedy, Drama, Romance, Crime</td>\n      <td>2</td>\n      <td>FI</td>\n      <td>fi</td>\n      <td>After the coal mine he works at closes and his...</td>\n      <td>Villealfa Filmproductions</td>\n      <td>&lt;MISSING&gt;</td>\n      <td>Ariel</td>\n      <td>prison, underdog, helsinki, finland, factory w...</td>\n      <td>1988</td>\n      <td>Aki Kaurismäki</td>\n      <td>Aki Kaurismäki</td>\n      <td>Turo Pajala, Susanna Haavisto, Matti Pellonpää...</td>\n    </tr>\n    <tr>\n      <th>1</th>\n      <td>Comedy, Drama, Romance</td>\n      <td>3</td>\n      <td>FI</td>\n      <td>fi</td>\n      <td>Nikander, a rubbish collector and would-be ent...</td>\n      <td>Villealfa Filmproductions</td>\n      <td>&lt;MISSING&gt;</td>\n      <td>Shadows in Paradise</td>\n      <td>helsinki, finland, salesclerk, garbage</td>\n      <td>1986</td>\n      <td>Aki Kaurismäki</td>\n      <td>Aki Kaurismäki</td>\n      <td>Matti Pellonpää, Kati Outinen, Sakari Kuosmane...</td>\n    </tr>\n    <tr>\n      <th>2</th>\n      <td>Comedy</td>\n      <td>5</td>\n      <td>US</td>\n      <td>en</td>\n      <td>It's Ted the Bellhop's first night on the job....</td>\n      <td>Miramax, A Band Apart</td>\n      <td>Twelve outrageous guests. Four scandalous requ...</td>\n      <td>Four Rooms</td>\n      <td>hotel, new year's eve, witch, bet, sperm, hote...</td>\n      <td>1995</td>\n      <td>Allison Anders, Alexandre Rockwell, Robert Rod...</td>\n      <td>Allison Anders, Alexandre Rockwell, Robert Rod...</td>\n      <td>Tim Roth, Jennifer Beals, Antonio Banderas, Va...</td>\n    </tr>\n    <tr>\n      <th>3</th>\n      <td>Action, Crime, Thriller</td>\n      <td>6</td>\n      <td>US</td>\n      <td>en</td>\n      <td>Four young friends, while taking a shortcut en...</td>\n      <td>Largo Entertainment, JVC, Universal Pictures</td>\n      <td>Don't move. Don't whisper. Don't even breathe.</td>\n      <td>Judgment Night</td>\n      <td>drug dealer, chicago, illinois, escape, one ni...</td>\n      <td>1993</td>\n      <td>&lt;MISSING&gt;</td>\n      <td>Stephen Hopkins</td>\n      <td>Emilio Estevez, Cuba Gooding Jr., Denis Leary,...</td>\n    </tr>\n    <tr>\n      <th>4</th>\n      <td>Documentary</td>\n      <td>8</td>\n      <td>AT</td>\n      <td>en</td>\n      <td>Timo Novotny labels his new project an experim...</td>\n      <td>inLoops</td>\n      <td>A Megacities remix.</td>\n      <td>Life in Loops (A Megacities RMX)</td>\n      <td>megacities</td>\n      <td>2006</td>\n      <td>&lt;MISSING&gt;</td>\n      <td>Timo Novotny</td>\n      <td>&lt;MISSING&gt;</td>\n    </tr>\n  </tbody>\n</table>\n</div>"
     },
     "execution_count": 364,
     "metadata": {},
     "output_type": "execute_result"
    }
   ],
   "source": [
    "movies.head()"
   ],
   "metadata": {
    "collapsed": false,
    "ExecuteTime": {
     "end_time": "2024-12-16T08:29:46.917898200Z",
     "start_time": "2024-12-16T08:29:46.909684600Z"
    }
   }
  },
  {
   "cell_type": "code",
   "execution_count": 368,
   "outputs": [],
   "source": [
    "os.makedirs(\"data/cleaned-1\", exist_ok=True)\n",
    "movies.to_csv(path_or_buf= \"data/cleaned-1/movies.csv\")"
   ],
   "metadata": {
    "collapsed": false,
    "ExecuteTime": {
     "end_time": "2024-12-16T08:34:58.315792700Z",
     "start_time": "2024-12-16T08:34:58.015159200Z"
    }
   }
  },
  {
   "cell_type": "code",
   "execution_count": 373,
   "outputs": [],
   "source": [
    "metadata = pd.merge(metadata.drop(columns=['backdrop_path', 'production_countries', 'video', 'movie_id', 'adult', \"status\"]),\n",
    "         movies.drop(columns=['writers', 'directors', 'actors', 'release_year']), on='id', how='outer' )"
   ],
   "metadata": {
    "collapsed": false,
    "ExecuteTime": {
     "end_time": "2024-12-16T09:31:09.724548100Z",
     "start_time": "2024-12-16T09:31:09.677838200Z"
    }
   }
  },
  {
   "cell_type": "code",
   "execution_count": 374,
   "outputs": [],
   "source": [
    "metadata.to_csv(path_or_buf= \"data/cleaned-1/metadata.csv\")"
   ],
   "metadata": {
    "collapsed": false,
    "ExecuteTime": {
     "end_time": "2024-12-16T09:31:12.041159600Z",
     "start_time": "2024-12-16T09:31:10.843728700Z"
    }
   }
  },
  {
   "cell_type": "code",
   "execution_count": null,
   "outputs": [],
   "source": [],
   "metadata": {
    "collapsed": false
   }
  }
 ],
 "metadata": {
  "kernelspec": {
   "display_name": "Python 3",
   "language": "python",
   "name": "python3"
  },
  "language_info": {
   "codemirror_mode": {
    "name": "ipython",
    "version": 2
   },
   "file_extension": ".py",
   "mimetype": "text/x-python",
   "name": "python",
   "nbconvert_exporter": "python",
   "pygments_lexer": "ipython2",
   "version": "2.7.6"
  }
 },
 "nbformat": 4,
 "nbformat_minor": 0
}
